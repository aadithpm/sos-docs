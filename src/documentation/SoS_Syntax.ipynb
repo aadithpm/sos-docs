{
 "cells": [
  {
   "cell_type": "markdown",
   "metadata": {},
   "source": [
    "# SoS Syntax"
   ]
  },
  {
   "cell_type": "markdown",
   "metadata": {
    "workflow_cell": true
   },
   "source": [
    "## Terminology & Grammar <a id=\"Terminology_Grammar\"></a>"
   ]
  },
  {
   "cell_type": "markdown",
   "metadata": {},
   "source": [
    "A SoS **script** defines one or more **workflows**, and each workflow consists of one or more **steps**. \n",
    "\n",
    "SoS steps are defined by SoS **sections**. A SoS **section** consists of a **header** with one or more step names and optional options. The body of a SoS section consists of optional **comments**, **statements**, **input**, **output**, **depends** directives, **parameter** definitions, and external **task** definition. \n"
   ]
  },
  {
   "cell_type": "markdown",
   "metadata": {
    "workflow_cell": true
   },
   "source": [
    "The following terms will be used throughout this documentation:\n",
    "\n",
    "* **Script**: A SoS script that defines one or more workflows.\n",
    "* **section**: A group of statements with a header that defines one or more SoS steps.\n",
    "* **Workflow**: A sequence of steps that can be executed to complete certain task.\n",
    "* **Step**: A step of a workflow that performs one piece of the workflow.\n",
    "* **Target**: Objects that are input or result of a SoS step, which are usually files, but can also be objects such as executable commands and SoS variables.\n",
    "* **Step options**: Options of the step that assist the definition of the workflow.\n",
    "* **Step input**: Specifies the input files of the step.\n",
    "* **Step output**: Specifies the output files and targets of the step.\n",
    "* **Step dependencies**: Specifies the files and targets that are required by the step.\n",
    "* **Step process**: The process that a step executes to complete specified work, specified as one or more Python statements. It consists of all statements after step input specification, or all statements in a step if no input is specified, excluding other SoS directives such as step output and dependencies.\n",
    "* **Task**: Part or all step processes that will be executed outside of SoS, and potentially on a different server. These are usually resource intensive jobs that will take a long time to complete.\n",
    "* **Action**: SoS or user-defined Python functions. They differ from regular Python functions in that they may behave differently in different running mode of SoS (e.g. ignore when executed in dryrun mode)."
   ]
  },
  {
   "cell_type": "markdown",
   "metadata": {
    "workflow_cell": true
   },
   "source": [
    "More formally defined, the SoS syntax obeys the following grammar, given in extended Backus-Naur form (EBNF):\n",
    "\n",
    "```\n",
    "Script         = {comment}, {step};\n",
    "comment        = \"#\", text, NEWLINE\n",
    "assignment     = name, \"=\", expression, NEWLINE\n",
    "```\n",
    "\n",
    "with SoS steps defined as\n",
    "\n",
    "```\n",
    "step           = [step_header],\n",
    "                 {comment}, {{statement}, [input | output | depends ]},\n",
    "                 [process, NEWLINE, {script} ]\n",
    "step_header    = \"[\", step_names, [\":\", names | options], \"]\", NEWLINE\n",
    "parameter      = \"parameter\", \":\", assignment\n",
    "input          = \"input\", \":\", [expressions], [\",\", options], NEWLINE\n",
    "output         = \"output\", \":\", [expressions], [\",\", options], NEWLINE\n",
    "depends        = \"depends\", \":\", [expressions], [\",\", options], NEWLINE\n",
    "task           = \"task\", \":\",  [options]\n",
    "action         = func_format | script_format\n",
    "func_format    = name, \"(\", [options], \")\"\n",
    "script_format  = name, \":\", [options], NEWLINE, script \n",
    "step_names     = step_name | step_pattern, [\"(\", text, \")\"],\n",
    "                 {\",\", step_name | steo_pattern, [\"(\", text, \")\"]}\n",
    "names          = name, {\",\", name}\n",
    "workflow       = name, ['_', steps], {\"+\", name, ['_', steps}\n",
    "assignment     = name, \"=\", expression, NEWLINW\n",
    "expressions    = expression, {\",\", expression}\n",
    "options        = option, {\",\" option}\n",
    "option         = name, \"=\", expression\n",
    "step_name      = letter, { letter | digit | \"-\" | \"_\" }\n",
    "step_pattern   = {letter | digit | \"*\" | \"?\" | \"-\" | \"_\"}\n",
    "```\n",
    "\n",
    "Here `name`, `expression` and `statement` are arbitrary [Python 3](http://www.python.org) names, expression and statements with added SoS features."
   ]
  },
  {
   "cell_type": "markdown",
   "metadata": {},
   "source": [
    "**SoS is based on the Python 3 (3.6 and above) programming language**. If you are unfamiliar with Python, you can learn some basics of Python, usually in less than half a day, by reading some Python tutorials (e.g. [the official python tutorial](https://docs.python.org/3/tutorial/)). This [short introduction](https://docs.python.org/3/tutorial/introduction.html) is good enough for you to get started with SoS.\n",
    "\n",
    "SoS adds the following syntax to standard Python syntax: \n",
    "\n",
    "| syntax | Example | Main Usage |\n",
    "|--------|---------|-------|\n",
    "|**Script format of function call**| `R: expand=True`<br>`  data <- read.csv(\"{_input}\")`| Verbatim inclusion of scripts with optional indentation and string interpolation |\n",
    "|**Section specification**| `[align_20]` | Define steps of workflows |\n",
    "|**SoS statements**||Direct execution of steps|\n",
    "|| **`parameter`**`: cutoff=10` | Obtain option from command line or workflow caller |\n",
    "|| **`input`**`: fastq_files` | Specify input files of a step |\n",
    "|| **`output`**`: f\"{_input}.idx\"` | Specify output files of a step |\n",
    "|| **`depends`**`: hg19_fa` | Specify step dependencies |\n",
    "|| **`task`**`: queue='cluster'` | Specify external tasks |\n",
    "\n",
    "\n",
    "This chapter demonstrates general features such as string interpolation, section specification, parameter specification, and specification of workflows. Please refer to chapters [SoS Step](SoS_Step.html) and [Remote Exection](Remote_Execution.html) for more details on `input`, `output`, `depends`, and `task` statements."
   ]
  },
  {
   "cell_type": "markdown",
   "metadata": {},
   "source": [
    "##  SoS Targets <a id=\"SoS_Targets\"></a>"
   ]
  },
  {
   "cell_type": "markdown",
   "metadata": {},
   "source": [
    "A **target** is an object that can be created and detected. A SoS step can take a list of targets as input, check the existence of a list of dependent targets, and produce a list of targets as output. Targets can be created, removed, and their contents are tracked by SoS with **signatures**. For example, SoS can skip a workflow step if its output targets have been created, but will still rerun the step if the input or ouptut targets have been changed. A target can also be **zapped**, which is a special action to replace content of large files wit their signature, so a target can be considered \"exist\" for signature validation, but in the meantime \"non-exist\" if the actual content is needed.\n",
    "\n",
    "SoS provides a very flexible and intuitive set of methods to work with files and list of files, gearing towards converting and using different formats of filenames in different scripts. **You do not have to understand the technical details of SoS variables such as `step_input` and `_input` in a majority of the cases** but understanding what these variables are and how to use then would greatly facilitate the use of filenames in more complex scenarios.\n",
    "\n",
    "In addition to `file_target`, SoS provides a number of built-in targets such as `file_target`, `sos_variable`, and `executable`, and targets defined by language modules such as `R_Library` for `R`. This section describes general usages of targets and syntax for the most frequently used target `file_target`. Please refer to Chapter [Targets and Actions](Targets_and_Actions.html) for descriptions of other target types."
   ]
  },
  {
   "cell_type": "markdown",
   "metadata": {},
   "source": [
    "![sos_step](../media/target_classes.png)"
   ]
  },
  {
   "cell_type": "markdown",
   "metadata": {},
   "source": [
    "<small>Class hierachy for all target related classes. Basically, all targets are derived from a virtual `BaseTarget` class. A `file_target` stands for a disk file and is presented by a `path` object, which is an extension of `Path` object from `pathlib`. A `sos_targets` object is a collection of `BaseTargets`, which can be created from individual or lists of `BaseTarget` and `path` (class `paths`).<small>"
   ]
  },
  {
   "cell_type": "markdown",
   "metadata": {},
   "source": [
    "### File and directory names (`path`) <a id=\"File_and_directory_names_path\"></a>"
   ]
  },
  {
   "cell_type": "markdown",
   "metadata": {},
   "source": [
    "The `path` type handles the manipulation of file and directory names. It is derived from Python [pathlib.Path](https://docs.python.org/3/library/pathlib.html) but it\n",
    "\n",
    "1. automatically expands user from path starting with `~`\n",
    "2. allows you to extend `path` with a `+` operation\n",
    "3. has a special `zap` operation to replace (large) files with their signatures\n",
    "4. accepts a list of format options to easily format path in different formats\n",
    "\n",
    "Let us start from the first feature:"
   ]
  },
  {
   "cell_type": "code",
   "execution_count": 1,
   "metadata": {
    "kernel": "SoS"
   },
   "outputs": [],
   "source": [
    "p = path('~/sos-docs/src/documentation/SoS_Syntax.ipynb')"
   ]
  },
  {
   "cell_type": "code",
   "execution_count": 2,
   "metadata": {
    "kernel": "SoS"
   },
   "outputs": [
    {
     "data": {
      "text/plain": [
       "path('/Users/bpeng1/sos-docs/src/documentation/SoS_Syntax.ipynb')"
      ]
     },
     "execution_count": 2,
     "metadata": {},
     "output_type": "execute_result"
    }
   ],
   "source": [
    "p"
   ]
  },
  {
   "cell_type": "code",
   "execution_count": 3,
   "metadata": {
    "kernel": "SoS"
   },
   "outputs": [
    {
     "data": {
      "text/plain": [
       "'SoS_Syntax.ipynb'"
      ]
     },
     "execution_count": 3,
     "metadata": {},
     "output_type": "execute_result"
    }
   ],
   "source": [
    "p.name"
   ]
  },
  {
   "cell_type": "code",
   "execution_count": 4,
   "metadata": {
    "kernel": "SoS"
   },
   "outputs": [
    {
     "data": {
      "text/plain": [
       "path('/Users/bpeng1/sos-docs/src/documentation')"
      ]
     },
     "execution_count": 4,
     "metadata": {},
     "output_type": "execute_result"
    }
   ],
   "source": [
    "p.parent"
   ]
  },
  {
   "cell_type": "code",
   "execution_count": 5,
   "metadata": {
    "kernel": "SoS"
   },
   "outputs": [
    {
     "data": {
      "text/plain": [
       "path('/Users/bpeng1/sos-docs/src/documentation/something.txt')"
      ]
     },
     "execution_count": 5,
     "metadata": {},
     "output_type": "execute_result"
    }
   ],
   "source": [
    "p.parent / 'something.txt'"
   ]
  },
  {
   "cell_type": "code",
   "execution_count": 6,
   "metadata": {
    "kernel": "SoS"
   },
   "outputs": [
    {
     "data": {
      "text/plain": [
       "'.ipynb'"
      ]
     },
     "execution_count": 6,
     "metadata": {},
     "output_type": "execute_result"
    }
   ],
   "source": [
    "p.suffix"
   ]
  },
  {
   "cell_type": "code",
   "execution_count": 7,
   "metadata": {
    "kernel": "SoS"
   },
   "outputs": [
    {
     "data": {
      "text/plain": [
       "('/',\n",
       " 'Users',\n",
       " 'bpeng1',\n",
       " 'sos-docs',\n",
       " 'src',\n",
       " 'documentation',\n",
       " 'SoS_Syntax.ipynb')"
      ]
     },
     "execution_count": 7,
     "metadata": {},
     "output_type": "execute_result"
    }
   ],
   "source": [
    "p.parts"
   ]
  },
  {
   "cell_type": "code",
   "execution_count": 8,
   "metadata": {
    "kernel": "SoS"
   },
   "outputs": [
    {
     "data": {
      "text/plain": [
       "True"
      ]
     },
     "execution_count": 8,
     "metadata": {},
     "output_type": "execute_result"
    }
   ],
   "source": [
    "p.exists()"
   ]
  },
  {
   "cell_type": "code",
   "execution_count": 9,
   "metadata": {
    "kernel": "SoS"
   },
   "outputs": [
    {
     "data": {
      "text/plain": [
       "False"
      ]
     },
     "execution_count": 9,
     "metadata": {},
     "output_type": "execute_result"
    }
   ],
   "source": [
    "p.is_dir()"
   ]
  },
  {
   "cell_type": "code",
   "execution_count": 10,
   "metadata": {
    "kernel": "SoS"
   },
   "outputs": [
    {
     "data": {
      "text/plain": [
       "path('/Users/bpeng1/sos-docs/src/documentation/SoS_Syntax.html')"
      ]
     },
     "execution_count": 10,
     "metadata": {},
     "output_type": "execute_result"
    }
   ],
   "source": [
    "p.with_name('SoS_Syntax.html')"
   ]
  },
  {
   "cell_type": "code",
   "execution_count": 11,
   "metadata": {
    "kernel": "SoS"
   },
   "outputs": [
    {
     "data": {
      "text/plain": [
       "path('/Users/bpeng1/sos-docs/src/documentation/SoS_Syntax.html')"
      ]
     },
     "execution_count": 11,
     "metadata": {},
     "output_type": "execute_result"
    }
   ],
   "source": [
    "p.with_suffix('.html')"
   ]
  },
  {
   "cell_type": "markdown",
   "metadata": {},
   "source": [
    "and you can evaluate `path` in format strings as"
   ]
  },
  {
   "cell_type": "code",
   "execution_count": 12,
   "metadata": {
    "kernel": "SoS"
   },
   "outputs": [
    {
     "data": {
      "text/plain": [
       "'Hello My name is SoS_Syntax.ipynb'"
      ]
     },
     "execution_count": 12,
     "metadata": {},
     "output_type": "execute_result"
    }
   ],
   "source": [
    "f\"Hello My name is {p.name}\""
   ]
  },
  {
   "cell_type": "markdown",
   "metadata": {},
   "source": [
    "Note that `path` offers a [`os.PathLike`](https://docs.python.org/3/library/os.html#os.PathLike) interface and can be used directly with `os.path` functions such as"
   ]
  },
  {
   "cell_type": "code",
   "execution_count": 13,
   "metadata": {
    "kernel": "SoS"
   },
   "outputs": [
    {
     "data": {
      "text/plain": [
       "165554"
      ]
     },
     "execution_count": 13,
     "metadata": {},
     "output_type": "execute_result"
    }
   ],
   "source": [
    "os.path.getsize(p)"
   ]
  },
  {
   "cell_type": "markdown",
   "metadata": {},
   "source": [
    "Secondly, **`path` allows you to extend `path` with a `str` or `path` with a `+` operation**. For example, with"
   ]
  },
  {
   "cell_type": "code",
   "execution_count": 14,
   "metadata": {
    "kernel": "SoS"
   },
   "outputs": [],
   "source": [
    "p = path('test.txt')"
   ]
  },
  {
   "cell_type": "markdown",
   "metadata": {},
   "source": [
    "`p + '.tmp'` returns a `path` with `.tmp` appended to the path"
   ]
  },
  {
   "cell_type": "code",
   "execution_count": 15,
   "metadata": {
    "kernel": "SoS"
   },
   "outputs": [
    {
     "data": {
      "text/plain": [
       "path('test.txt.tmp')"
      ]
     },
     "execution_count": 15,
     "metadata": {},
     "output_type": "execute_result"
    }
   ],
   "source": [
    "p + '.tmp'"
   ]
  },
  {
   "cell_type": "markdown",
   "metadata": {},
   "source": [
    "which is different from the `/` operator that join the operant as another piece of the path"
   ]
  },
  {
   "cell_type": "code",
   "execution_count": 16,
   "metadata": {
    "kernel": "SoS"
   },
   "outputs": [
    {
     "data": {
      "text/plain": [
       "path('test.txt/.tmp')"
      ]
     },
     "execution_count": 16,
     "metadata": {},
     "output_type": "execute_result"
    }
   ],
   "source": [
    "p / '.tmp'"
   ]
  },
  {
   "cell_type": "markdown",
   "metadata": {
    "kernel": "SoS"
   },
   "source": [
    "A note of caution, however, is that because `path` strips ending slash from an input path"
   ]
  },
  {
   "cell_type": "code",
   "execution_count": 17,
   "metadata": {
    "kernel": "SoS"
   },
   "outputs": [
    {
     "data": {
      "text/plain": [
       "path('/path/to')"
      ]
     },
     "execution_count": 17,
     "metadata": {},
     "output_type": "execute_result"
    }
   ],
   "source": [
    "path('/path/to/')"
   ]
  },
  {
   "cell_type": "markdown",
   "metadata": {},
   "source": [
    "The result of the following can be surprising"
   ]
  },
  {
   "cell_type": "code",
   "execution_count": 18,
   "metadata": {
    "kernel": "SoS"
   },
   "outputs": [
    {
     "data": {
      "text/plain": [
       "path('/path/toa.txt')"
      ]
     },
     "execution_count": 18,
     "metadata": {},
     "output_type": "execute_result"
    }
   ],
   "source": [
    "path('/path/to/') + 'a.txt'"
   ]
  },
  {
   "cell_type": "markdown",
   "metadata": {},
   "source": [
    "so the rule of thumb is that you should use `/` to extend path and `+` to extend name, as in"
   ]
  },
  {
   "cell_type": "code",
   "execution_count": 19,
   "metadata": {
    "kernel": "SoS"
   },
   "outputs": [
    {
     "data": {
      "text/plain": [
       "path('/path/to/dir/filename.ext')"
      ]
     },
     "execution_count": 19,
     "metadata": {},
     "output_type": "execute_result"
    }
   ],
   "source": [
    "path('/path/to') / \"dir\" / \"filename\" + \".ext\""
   ]
  },
  {
   "cell_type": "markdown",
   "metadata": {},
   "source": [
    "The third addition of the `path` type is **a `zap()` function that removes the file and creates a `{filename}.zapped` file with file signatures**. This `.zapped` file is considered to be \"existent\" by the runtime signature system so that a workflow step will not be repeated of some of its input or output files are zapped, unless the actually files are needed. An example of this usage will be given later."
   ]
  },
  {
   "cell_type": "markdown",
   "metadata": {},
   "source": [
    "The last difference is that `path` **accepts a list of format options to easily format path in different formats**:"
   ]
  },
  {
   "cell_type": "markdown",
   "metadata": {},
   "source": [
    "\n",
    "| convertor |operation| effect | operant | output |\n",
    "| :----------|:----| :----- | :----- | :-------|\n",
    "| `a`       | absolute path  | `abspath()` |  `test.sos` | `/path/to/test.sos` |\n",
    "| `b`       | base filename  | `basename())` |  `{home}/SoS/test.sos` | `test.sos` |\n",
    "| `e`       | escape  | `replace(' ', '\\\\ ')` | `file 1.txt` | `file\\ 1.txt`|\n",
    "| `d`       | directory name  | `dirname()` or `'.'` |  `/path/to/test.sos` | `/path/to` |\n",
    "| `l`      | expand link   | `realpath()` | `test.sos` | `/realpath/to/test.sos` |\n",
    "| `n`      | remove extension   | `splitext()[0]` | `/path/to/test.sos` | `/path/to/test` |\n",
    "| `p`     | posix name    | `replace('\\\\', '/')...` | `c:\\\\Users` | `/c/Users` | \n",
    "| `q`     |quote    | `quoted()` | `file 1.txt` | `'file 1.txt'`|\n",
    "| `r`     | repr | `repr()` | `file.txt` | `'file.txt'` |\n",
    "| `s`    | str | `str()` | `file.txt` | `file.txt` |\n",
    "| `R`   | resolve remote and other targets | `.resolve()`| `remote('a.txt')` | `a.txt`|\n",
    "| `U`   | undo expanduser | `replace(expanduser('~'), '~')` | `/home/user/test.sos` | `~/test.sos` |\n",
    "| `x`      | file extension   | `splitext()[1]` | `~/SoS/test.sos` | `.sos` |\n",
    "| `,`   | join with comma      | `','.join()` | `['a.txt', 'b.txt']` | `a.txt,b.txt`|\n"
   ]
  },
  {
   "cell_type": "markdown",
   "metadata": {},
   "source": [
    "These format options allow you to pass filenames to scripts in different formats. For example, it would be perfectly OK to pass `~/a.txt` to a shell script, but a `u` formatter should be added if you are passing the filename to a script that does not understand `~` in filenames. For example,"
   ]
  },
  {
   "cell_type": "code",
   "execution_count": 20,
   "metadata": {
    "kernel": "SoS",
    "output_cache": "[]"
   },
   "outputs": [
    {
     "data": {
      "text/html": [
       "<div class=\"sos_hint\">> name: str of length 37</div>"
      ],
      "text/plain": [
       ">>> name:\n"
      ]
     },
     "metadata": {},
     "output_type": "display_data"
    },
    {
     "data": {
      "text/plain": [
       "'/Users/bpeng1/sos/examples/update_toc'"
      ]
     },
     "metadata": {},
     "output_type": "display_data"
    },
    {
     "data": {
      "text/html": [
       "<div class=\"sos_hint\">> filename: str of length 14</div>"
      ],
      "text/plain": [
       ">>> filename:\n"
      ]
     },
     "metadata": {},
     "output_type": "display_data"
    },
    {
     "data": {
      "text/plain": [
       "'update_toc.sos'"
      ]
     },
     "metadata": {},
     "output_type": "display_data"
    },
    {
     "data": {
      "text/html": [
       "<div class=\"sos_hint\">> basefilename: str of length 10</div>"
      ],
      "text/plain": [
       ">>> basefilename:\n"
      ]
     },
     "metadata": {},
     "output_type": "display_data"
    },
    {
     "data": {
      "text/plain": [
       "'update_toc'"
      ]
     },
     "metadata": {},
     "output_type": "display_data"
    },
    {
     "data": {
      "text/html": [
       "<div class=\"sos_hint\">> expanded: str of length 41</div>"
      ],
      "text/plain": [
       ">>> expanded:\n"
      ]
     },
     "metadata": {},
     "output_type": "display_data"
    },
    {
     "data": {
      "text/plain": [
       "'/Users/bpeng1/sos/examples/update_toc.sos'"
      ]
     },
     "metadata": {},
     "output_type": "display_data"
    },
    {
     "data": {
      "text/html": [
       "<div class=\"sos_hint\">> parparname: str of length 3</div>"
      ],
      "text/plain": [
       ">>> parparname:\n"
      ]
     },
     "metadata": {},
     "output_type": "display_data"
    },
    {
     "data": {
      "text/plain": [
       "'sos'"
      ]
     },
     "metadata": {},
     "output_type": "display_data"
    },
    {
     "data": {
      "text/html": [
       "<div class=\"sos_hint\">> shortname: str of length 29</div>"
      ],
      "text/plain": [
       ">>> shortname:\n"
      ]
     },
     "metadata": {},
     "output_type": "display_data"
    },
    {
     "data": {
      "text/plain": [
       "'~/sos/examples/update_toc.sos'"
      ]
     },
     "metadata": {},
     "output_type": "display_data"
    }
   ],
   "source": [
    "%preview -n name filename basefilename expanded parparname shortname\n",
    "file = path('~/sos/examples/update_toc.sos')\n",
    "name = f\"{file:n}\"\n",
    "filename = f\"{file:b}\"\n",
    "basefilename = f\"{file:bn}\"\n",
    "expanded = f\"{file:u}\"\n",
    "parparname = f\"{file:ddb}\"\n",
    "shortname = f\"{file:U}\""
   ]
  },
  {
   "cell_type": "markdown",
   "metadata": {},
   "source": [
    "The last example is pretty interesting because it applies three converters and gets the name of grand-parent directory using an equivalence of `basename(dirname(dirname(file)))`."
   ]
  },
  {
   "cell_type": "markdown",
   "metadata": {},
   "source": [
    "Note that, for completeness, we list the `R` formatter here although this formatter is used to resolve special targets, for example a `remote` target `remote(target)`, to a regular `BaseTarget`. For example,"
   ]
  },
  {
   "cell_type": "code",
   "execution_count": 21,
   "metadata": {
    "kernel": "SoS"
   },
   "outputs": [],
   "source": [
    "a = sos_targets(remote('file.txt'), sos_variable('some'))"
   ]
  },
  {
   "cell_type": "code",
   "execution_count": 22,
   "metadata": {
    "kernel": "SoS"
   },
   "outputs": [
    {
     "data": {
      "text/plain": [
       "'remote(\"file.txt\") sos_variable(\"some\")'"
      ]
     },
     "execution_count": 22,
     "metadata": {},
     "output_type": "execute_result"
    }
   ],
   "source": [
    "f\"{a}\""
   ]
  },
  {
   "cell_type": "code",
   "execution_count": 23,
   "metadata": {
    "kernel": "SoS"
   },
   "outputs": [
    {
     "data": {
      "text/plain": [
       "'file.txt,some'"
      ]
     },
     "execution_count": 23,
     "metadata": {},
     "output_type": "execute_result"
    }
   ],
   "source": [
    "f\"{a:R,}\""
   ]
  },
  {
   "cell_type": "markdown",
   "metadata": {},
   "source": [
    "Finally, `path` formats the object with these format operators and then the resulting string with additional formatters. For example, you can format the `path` object as a regular string"
   ]
  },
  {
   "cell_type": "code",
   "execution_count": 24,
   "metadata": {
    "kernel": "SoS"
   },
   "outputs": [
    {
     "data": {
      "text/plain": [
       "'         /Users/bpeng1/sos/examples/update_toc.sos'"
      ]
     },
     "execution_count": 24,
     "metadata": {},
     "output_type": "execute_result"
    }
   ],
   "source": [
    "f\"{file:>50}\""
   ]
  },
  {
   "cell_type": "markdown",
   "metadata": {},
   "source": [
    "or apply `path` formatter (`bn` for base name of filename) and then as a regular string."
   ]
  },
  {
   "cell_type": "code",
   "execution_count": 25,
   "metadata": {
    "kernel": "SoS",
    "scrolled": true
   },
   "outputs": [
    {
     "data": {
      "text/plain": [
       "'                                        update_toc'"
      ]
     },
     "execution_count": 25,
     "metadata": {},
     "output_type": "execute_result"
    }
   ],
   "source": [
    "f\"{file:bn>50}\""
   ]
  },
  {
   "cell_type": "markdown",
   "metadata": {},
   "source": [
    "### Path list (`paths`) <a id=\"Path_list_paths\"></a>"
   ]
  },
  {
   "cell_type": "markdown",
   "metadata": {},
   "source": [
    "The `paths` type keeps a list of `path` objects. It can be initialized from one or more `str`, `path` or lists of `path`. Lists of paths will be flattened and concatenated so the end result will always be an one-dimensional list. The variables appear to be a sequence that can be sliced and iterated. For example, the following statement creates a `paths` object with three filenames from a single filename and a list of two filenames:"
   ]
  },
  {
   "cell_type": "code",
   "execution_count": 26,
   "metadata": {
    "kernel": "SoS"
   },
   "outputs": [
    {
     "data": {
      "text/plain": [
       "[path('a.txt'), path('b.txt'), path('c.txt')]"
      ]
     },
     "execution_count": 26,
     "metadata": {},
     "output_type": "execute_result"
    }
   ],
   "source": [
    "targets = paths('a.txt', ['b.txt', 'c.txt'])\n",
    "targets"
   ]
  },
  {
   "cell_type": "markdown",
   "metadata": {},
   "source": [
    "You can access one or more elements of a `paths` or iterate through it"
   ]
  },
  {
   "cell_type": "code",
   "execution_count": 27,
   "metadata": {
    "kernel": "SoS"
   },
   "outputs": [
    {
     "data": {
      "text/plain": [
       "path('c.txt')"
      ]
     },
     "execution_count": 27,
     "metadata": {},
     "output_type": "execute_result"
    }
   ],
   "source": [
    "targets[2]"
   ]
  },
  {
   "cell_type": "code",
   "execution_count": 28,
   "metadata": {
    "kernel": "SoS"
   },
   "outputs": [
    {
     "data": {
      "text/plain": [
       "[path('b.txt'), path('c.txt')]"
      ]
     },
     "execution_count": 28,
     "metadata": {},
     "output_type": "execute_result"
    }
   ],
   "source": [
    "targets[1:]"
   ]
  },
  {
   "cell_type": "code",
   "execution_count": 29,
   "metadata": {
    "kernel": "SoS"
   },
   "outputs": [
    {
     "name": "stdout",
     "output_type": "stream",
     "text": [
      "a.txt\n",
      "b.txt\n",
      "c.txt\n"
     ]
    }
   ],
   "source": [
    "for t in targets:\n",
    "   print(t)"
   ]
  },
  {
   "cell_type": "markdown",
   "metadata": {},
   "source": [
    "To convert a `paths` object to a regular list, you can use function `list`"
   ]
  },
  {
   "cell_type": "code",
   "execution_count": 30,
   "metadata": {
    "kernel": "SoS"
   },
   "outputs": [
    {
     "data": {
      "text/plain": [
       "[path('a.txt'), path('b.txt'), path('c.txt')]"
      ]
     },
     "execution_count": 30,
     "metadata": {},
     "output_type": "execute_result"
    }
   ],
   "source": [
    "list(targets)"
   ]
  },
  {
   "cell_type": "markdown",
   "metadata": {},
   "source": [
    "or slice part of the `paths` using slices"
   ]
  },
  {
   "cell_type": "code",
   "execution_count": 31,
   "metadata": {
    "kernel": "SoS",
    "scrolled": true
   },
   "outputs": [
    {
     "data": {
      "text/plain": [
       "list"
      ]
     },
     "execution_count": 31,
     "metadata": {},
     "output_type": "execute_result"
    }
   ],
   "source": [
    "type(targets[1:])"
   ]
  },
  {
   "cell_type": "markdown",
   "metadata": {},
   "source": [
    "The first big difference between the formatting of `paths` and regular lists of `path` is that **formatting are applied to each item and joint by space or comma**. For example, whereas a regular list is formatted as a list"
   ]
  },
  {
   "cell_type": "code",
   "execution_count": 32,
   "metadata": {
    "kernel": "SoS"
   },
   "outputs": [
    {
     "data": {
      "text/plain": [
       "\"['a.txt', 'b.txt', 'c.txt']\""
      ]
     },
     "execution_count": 32,
     "metadata": {},
     "output_type": "execute_result"
    }
   ],
   "source": [
    "target_list = ['a.txt', 'b.txt', 'c.txt']\n",
    "f\"{target_list}\""
   ]
  },
  {
   "cell_type": "markdown",
   "metadata": {},
   "source": [
    "A `paths` is formatted as"
   ]
  },
  {
   "cell_type": "code",
   "execution_count": 33,
   "metadata": {
    "kernel": "SoS"
   },
   "outputs": [
    {
     "data": {
      "text/plain": [
       "'a.txt b.txt c.txt'"
      ]
     },
     "execution_count": 33,
     "metadata": {},
     "output_type": "execute_result"
    }
   ],
   "source": [
    "f\"{targets}\""
   ]
  },
  {
   "cell_type": "markdown",
   "metadata": {},
   "source": [
    "or separated by `,` with format option `\",\"` "
   ]
  },
  {
   "cell_type": "code",
   "execution_count": 34,
   "metadata": {
    "kernel": "SoS"
   },
   "outputs": [
    {
     "data": {
      "text/plain": [
       "'a.txt,b.txt,c.txt'"
      ]
     },
     "execution_count": 34,
     "metadata": {},
     "output_type": "execute_result"
    }
   ],
   "source": [
    "f\"{targets:,}\""
   ]
  },
  {
   "cell_type": "markdown",
   "metadata": {},
   "source": [
    "or after formatting each element with specified formatter"
   ]
  },
  {
   "cell_type": "code",
   "execution_count": 35,
   "metadata": {
    "kernel": "SoS"
   },
   "outputs": [
    {
     "data": {
      "text/plain": [
       "\"'a.txt','b.txt','c.txt'\""
      ]
     },
     "execution_count": 35,
     "metadata": {},
     "output_type": "execute_result"
    }
   ],
   "source": [
    "f\"{targets:r,}\""
   ]
  },
  {
   "cell_type": "markdown",
   "metadata": {},
   "source": [
    "One particular consequence of this format rule is that a `paths` with only one element will behave exactly like a single path so you can use `input` (a `paths`) in place of `input[0]` (a `path`) if you know there is only one target inside `input`:"
   ]
  },
  {
   "cell_type": "code",
   "execution_count": 36,
   "metadata": {
    "kernel": "SoS"
   },
   "outputs": [
    {
     "data": {
      "text/plain": [
       "'SoS_Syntax.ipynb is the same as SoS_Syntax.ipynb'"
      ]
     },
     "execution_count": 36,
     "metadata": {},
     "output_type": "execute_result"
    }
   ],
   "source": [
    "single = paths('SoS_Syntax.ipynb')\n",
    "f\"{single[0]} is the same as {single}\""
   ]
  },
  {
   "cell_type": "code",
   "execution_count": 37,
   "metadata": {
    "kernel": "SoS"
   },
   "outputs": [
    {
     "data": {
      "text/plain": [
       "'.ipynb'"
      ]
     },
     "execution_count": 37,
     "metadata": {},
     "output_type": "execute_result"
    }
   ],
   "source": [
    "single.suffix"
   ]
  },
  {
   "cell_type": "code",
   "execution_count": 38,
   "metadata": {
    "kernel": "SoS"
   },
   "outputs": [
    {
     "data": {
      "text/plain": [
       "path('/Users/bpeng1/sos-docs/src/documentation/SoS_Syntax.ipynb')"
      ]
     },
     "execution_count": 38,
     "metadata": {},
     "output_type": "execute_result"
    }
   ],
   "source": [
    "single.resolve()"
   ]
  },
  {
   "cell_type": "code",
   "execution_count": 39,
   "metadata": {
    "kernel": "SoS"
   },
   "outputs": [
    {
     "data": {
      "text/plain": [
       "165554"
      ]
     },
     "execution_count": 39,
     "metadata": {},
     "output_type": "execute_result"
    }
   ],
   "source": [
    "os.path.getsize(single)"
   ]
  },
  {
   "cell_type": "markdown",
   "metadata": {},
   "source": [
    "Finally, although `paths` usually contains file or directory names, the fact that it formats as space separated items is very useful for passing lists of strings to command lines and SoS magics, so you will see the following usage pattern from time to time:"
   ]
  },
  {
   "cell_type": "code",
   "execution_count": 40,
   "metadata": {
    "kernel": "SoS"
   },
   "outputs": [],
   "source": [
    "samples = ['sample_A', 'sample_B', 'sample_C']"
   ]
  },
  {
   "cell_type": "code",
   "execution_count": 41,
   "metadata": {
    "kernel": "SoS"
   },
   "outputs": [
    {
     "data": {
      "text/html": [
       "<div class=\"sos_hint\">> !echo sample_A sample_B sample_C<br></div>"
      ]
     },
     "metadata": {},
     "output_type": "display_data"
    },
    {
     "name": "stdout",
     "output_type": "stream",
     "text": [
      "sample_A sample_B sample_C\r\n"
     ]
    }
   ],
   "source": [
    "!echo {paths(samples)}"
   ]
  },
  {
   "cell_type": "markdown",
   "metadata": {},
   "source": [
    "Here a list of strings to converted to `paths` just to be formatted as command line options, which is equivalent to the following but avoids problems when `samples` is a single string such as `'sample_A'`"
   ]
  },
  {
   "cell_type": "code",
   "execution_count": 42,
   "metadata": {
    "kernel": "SoS"
   },
   "outputs": [
    {
     "data": {
      "text/html": [
       "<div class=\"sos_hint\">> !echo sample_A sample_B sample_C<br></div>"
      ]
     },
     "metadata": {},
     "output_type": "display_data"
    },
    {
     "name": "stdout",
     "output_type": "stream",
     "text": [
      "sample_A sample_B sample_C\r\n"
     ]
    }
   ],
   "source": [
    "!echo {' '.join(samples)}"
   ]
  },
  {
   "cell_type": "markdown",
   "metadata": {},
   "source": [
    "`paths` has a `zap()` function and will zap all files in `paths`."
   ]
  },
  {
   "cell_type": "markdown",
   "metadata": {},
   "source": [
    "### File target (`file_target`) <a id=\"File_target_file_target\"></a>"
   ]
  },
  {
   "cell_type": "markdown",
   "metadata": {},
   "source": [
    "A `file_target` is `path` with additional `BaseTarget` interface. A `file_target` object can be created from a string or a `path` and it behaves exactly like a `path` object from an user point of view. For this reason, `file_target` is rarely used explicitly in SoS scripts."
   ]
  },
  {
   "cell_type": "markdown",
   "metadata": {},
   "source": [
    "### Target list (`sos_targets`) <a id=\"Target_list_sos_targets\"></a>"
   ]
  },
  {
   "cell_type": "markdown",
   "metadata": {},
   "source": [
    "`sos_targets` is the type for all SoS system variables such as `step_input`, `_input`, `step_output`, `_output`, `step_depends`, `_depends`. These variables are created by SoS from `input:`, `output:` and `depends:` statements and are used to, for example, compose scripts in different languages.\n",
    "\n",
    "`sos_targets` shares the same design as `paths` although its content is a list of `BaseTargets`. it can be created from `str`, `list`, `path`, `paths`, `file_targets`, and many other `BaseTarget` types. Although this type is very flexible, it closely resembles `paths` and share all its features.\n",
    "\n",
    "For example, variable `_input` of the following step is a `sos_targets` object with a single `file_target` object, so it will be interpolated as a `file_target` object (without `[ ]` for a normal list):"
   ]
  },
  {
   "cell_type": "code",
   "execution_count": 43,
   "metadata": {
    "kernel": "SoS"
   },
   "outputs": [
    {
     "name": "stdout",
     "output_type": "stream",
     "text": [
      "input='SoS_Syntax.ipynb'\n",
      "_input='SoS_Syntax.ipynb'\n",
      "    3584 SoS_Syntax.ipynb\n"
     ]
    }
   ],
   "source": [
    "input: 'SoS_Syntax.ipynb'\n",
    "print(f\"input={input:r}\")\n",
    "print(f\"_input={_input:r}\")\n",
    "sh: expand=True\n",
    "    wc -l {_input}"
   ]
  },
  {
   "cell_type": "markdown",
   "metadata": {},
   "source": [
    "and if you have multiple input files, you can pass them altogether as a `sos_targets` with two `file_target` "
   ]
  },
  {
   "cell_type": "code",
   "execution_count": 44,
   "metadata": {
    "kernel": "SoS"
   },
   "outputs": [
    {
     "name": "stdout",
     "output_type": "stream",
     "text": [
      "step_input='SoS_Syntax.ipynb' 'SoS_Magics.ipynb'\n",
      "_input='SoS_Syntax.ipynb' 'SoS_Magics.ipynb'\n",
      "    3584 SoS_Syntax.ipynb\n",
      "    3043 SoS_Magics.ipynb\n"
     ]
    }
   ],
   "source": [
    "input: 'SoS_Syntax.ipynb', 'SoS_Magics.ipynb'\n",
    "print(f\"step_input={step_input:r}\")\n",
    "print(f\"_input={_input:r}\")\n",
    "sh: expand=True\n",
    "    wc -l {input[0]}\n",
    "    wc -l {input[1]}"
   ]
  },
  {
   "cell_type": "markdown",
   "metadata": {},
   "source": [
    "or separately as two groups of inputs:"
   ]
  },
  {
   "cell_type": "code",
   "execution_count": 45,
   "metadata": {
    "kernel": "SoS"
   },
   "outputs": [
    {
     "name": "stdout",
     "output_type": "stream",
     "text": [
      "step_input='SoS_Syntax.ipynb' 'SoS_Magics.ipynb'\n",
      "_input='SoS_Syntax.ipynb'\n",
      "    3584 SoS_Syntax.ipynb\n",
      "step_input='SoS_Syntax.ipynb' 'SoS_Magics.ipynb'\n",
      "_input='SoS_Magics.ipynb'\n",
      "    3043 SoS_Magics.ipynb\n"
     ]
    }
   ],
   "source": [
    "input: 'SoS_Syntax.ipynb', 'SoS_Magics.ipynb', group_by=1\n",
    "print(f\"step_input={step_input:r}\")\n",
    "print(f\"_input={_input:r}\")\n",
    "sh: expand=True\n",
    "    wc -l {_input}"
   ]
  },
  {
   "cell_type": "markdown",
   "metadata": {},
   "source": [
    "In this case, the step input contains two `file_target` (\n",
    "```\n",
    "step_input = sos_targets('SoS_Syntax.ipynb', 'SoS_Magics.ipynb')`\n",
    "```\n",
    "but the step process is executed twice, with \n",
    "```\n",
    "_input = sos_targets('SoS_Syntax.ipynb')\n",
    "_input = sos_targets('SoS_Magics.ipynb')\n",
    "```\n",
    "respectively. Because `_input` contains only one element, it is not necessary to use `_input[0]` in the script."
   ]
  },
  {
   "cell_type": "markdown",
   "metadata": {},
   "source": [
    "`sos_targets` accepts the `zap()` function which simply zap all file targets in ths list. This technique is usually used to remove large intermediate files during the execution of the workflow. For example, if you have a workflow that downloads and processs large files, you can do something like\n",
    "\n",
    "```\n",
    "[download: provides='{file}.fastq']\n",
    "download: expand=True\n",
    "    http://some_url/{file}.fastq\n",
    "\n",
    "[default]\n",
    "input: [f'{x}.fastq' for x in range(1000)], group_by=1\n",
    "output: _input.with_suffix('.bam')\n",
    "sh: expand=True\n",
    "   process _input to _output\n",
    "  \n",
    "_input.zap()\n",
    "```\n",
    "\n",
    "In this example, 1000 `fastq` files are downloaded and processed, but the input files are zapped  after they are processed. Although the files have been removed, re-running the workflow will not download and process the files again because the downloaded files still considered to exist by SoS."
   ]
  },
  {
   "cell_type": "markdown",
   "metadata": {},
   "source": [
    "Whereas you can always use `step_input`, `_input` etc in scripts (format-string) easily, using them outside of scripts is a bit tricker. Let us check a few common usages and see how to use `sos_targets` in SoS."
   ]
  },
  {
   "cell_type": "markdown",
   "metadata": {},
   "source": [
    "First, it is a common practice to generate another file with a slightly different name. For example, in the following script, `step_input` is a `sos_targets` with two filenames, `_input` is a `sos_targets` with one filename, and we need to generate `test.bam.bai` from input file `test.bam`. In this particular case, you can append the `.bai` extension directly to `_input` using the `+` operator, by passing the `+` operation to the first `file_target` of `_input`:"
   ]
  },
  {
   "cell_type": "code",
   "execution_count": 46,
   "metadata": {
    "kernel": "SoS"
   },
   "outputs": [
    {
     "name": "stdout",
     "output_type": "stream",
     "text": [
      "Generating /private/var/folders/ys/gnzk0qbx5wbdgm531v82xxljv5yqy8/T/tmp9nun7s4c/test1.bam.bai from test1.bam\n",
      "Generating /private/var/folders/ys/gnzk0qbx5wbdgm531v82xxljv5yqy8/T/tmp9nun7s4c/test2.bam.bai from test2.bam\n"
     ]
    }
   ],
   "source": [
    "%sandbox\n",
    "!touch test1.bam test2.bam\n",
    "\n",
    "input_files = ['test1.bam', 'test2.bam']\n",
    "input: input_files, group_by=1\n",
    "output: _input + '.bai'\n",
    "\n",
    "print(f\"Generating {_output} from {_input}\")\n",
    "_output.touch()"
   ]
  },
  {
   "cell_type": "markdown",
   "metadata": {},
   "source": [
    "If the extensions are different, you can use the `with_suffix` function of `pathlib.Path`, again by calling the `with_suffix` function of its only element `_input[0]`:"
   ]
  },
  {
   "cell_type": "code",
   "execution_count": 47,
   "metadata": {
    "kernel": "SoS"
   },
   "outputs": [
    {
     "name": "stdout",
     "output_type": "stream",
     "text": [
      "Generating test1.bai from test1.bam\n",
      "Generating test2.bai from test2.bam\n"
     ]
    }
   ],
   "source": [
    "%sandbox\n",
    "!touch test1.bam test2.bam\n",
    "\n",
    "input_files = ['test1.bam', 'test2.bam']\n",
    "input: input_files, group_by=1\n",
    "output: _input.with_suffix('.bai')\n",
    "\n",
    "print(f\"Generating {_output} from {_input}\")\n",
    "_output.touch()"
   ]
  },
  {
   "cell_type": "markdown",
   "metadata": {},
   "source": [
    "You can also use the `:n` formatter to retrieve the part of `_input` without extension, and add `.bam.bai` to it as follows:"
   ]
  },
  {
   "cell_type": "code",
   "execution_count": 48,
   "metadata": {
    "kernel": "SoS"
   },
   "outputs": [
    {
     "name": "stdout",
     "output_type": "stream",
     "text": [
      "Generating test1.bam.bai from test1.bam\n",
      "Generating test2.bam.bai from test2.bam\n"
     ]
    }
   ],
   "source": [
    "%sandbox\n",
    "!touch test1.bam test2.bam\n",
    "\n",
    "input_files = ['test1.bam', 'test2.bam']\n",
    "input: input_files, group_by=1\n",
    "output: f\"{_input:n}.bam.bai\"\n",
    "\n",
    "print(f\"Generating {_output} from {_input}\")\n",
    "_output.touch()"
   ]
  },
  {
   "cell_type": "markdown",
   "metadata": {},
   "source": [
    "Note that the result of `_input + '.bai'` is a `path` and `f'{_input:n}.bam.bai'` is a `str` but both will be converted to `_output` with type `sos_targets`. You can use either style although `:u`, `:b` etc can be shorter than `expanduser()` and `.name`, especially when you combine multiple formatters to extract certain parts of a `path`."
   ]
  },
  {
   "cell_type": "markdown",
   "metadata": {},
   "source": [
    "Second, because `path`, `path`, and even `sos_targets` supports the `os.PathLike` interface, you can use them as filenames directly in SoS (Python). For example, you can pass `sos_targets` with one element to usual `os.path` functions such as `getsize` and open it directly with the `open` function:"
   ]
  },
  {
   "cell_type": "code",
   "execution_count": 49,
   "metadata": {
    "kernel": "SoS"
   },
   "outputs": [
    {
     "name": "stdout",
     "output_type": "stream",
     "text": [
      "Size of [file_target('SoS_Syntax.ipynb')] is 0.\n",
      "The first two lines of [file_target('SoS_Syntax.ipynb')] are:\n",
      "\n",
      "\n"
     ]
    }
   ],
   "source": [
    "input: \"SoS_Syntax.ipynb\"\n",
    "print(f\"Size of {repr(_input)} is {os.path.getsize(_input)}.\")\n",
    "print(f\"The first two lines of {repr(_input)} are:\")\n",
    "\n",
    "with open(input, 'r') as myself:\n",
    "    print(myself.readline())\n",
    "    print(myself.readline())"
   ]
  },
  {
   "cell_type": "markdown",
   "metadata": {},
   "source": [
    "However, although Python standard libraries supports `os.PathLike` interface, third party modules might or might not work correctly in this day so it can be safer to use `str(input)` to convert the paths to `str` before passing them to these functions."
   ]
  },
  {
   "cell_type": "markdown",
   "metadata": {},
   "source": [
    "## Script style function call <a id=\"Script_style_function_call\"></a>"
   ]
  },
  {
   "cell_type": "markdown",
   "metadata": {
    "workflow_cell": true
   },
   "source": [
    "SoS allows you to write Python functions that accept a script (string) as the first parameter in a special script format. For example, an SoS function `R` that executes a script\n",
    "\n",
    "```sos\n",
    "R(\"\"\"\n",
    "pdf('output.pdf')\n",
    "plot(0, 0)\n",
    "dev.off()\n",
    "\"\"\", workdir='result')\n",
    "```\n",
    "\n",
    "can be written as\n",
    "\n",
    "```sos\n",
    "R:  workdir='result'\n",
    "pdf('output.pdf')\n",
    "plot(0, 0)\n",
    "dev.off()\n",
    "```"
   ]
  },
  {
   "cell_type": "markdown",
   "metadata": {
    "workflow_cell": true
   },
   "source": [
    "SoS **automatically dedents scripts in script format** so that you can indent the scripts (add equal amount of leading white spaces to all lines) and write the above example as\n",
    "\n",
    "```sos\n",
    "R:  workdir='result'\n",
    "   pdf('output.pdf')\n",
    "   plot(0, 0)\n",
    "   dev.off()\n",
    "```\n",
    "\n",
    "The latter is much preferred because it avoids trouble if the script contains SoS-like syntax such as `[1]` and `option:` and be treated as SoS directives, and more importantly, allows starting a new statement from a non-indented line. For example, `print('Hello world')` would be considered part of a R script in\n",
    "\n",
    "```sos\n",
    "R:  workdir='result'\n",
    "pdf('output.pdf')\n",
    "plot(0, 0)\n",
    "dev.off()\n",
    "\n",
    "print('Hello world')\n",
    "```\n",
    "\n",
    "but a separate statement in \n",
    "\n",
    "```sos\n",
    "R:  workdir='result'\n",
    "   pdf('output.pdf')\n",
    "   plot(0, 0)\n",
    "   dev.off()\n",
    "\n",
    "print('Hello world')\n",
    "```"
   ]
  },
  {
   "cell_type": "markdown",
   "metadata": {},
   "source": [
    "The script format also accepts an option `expand` that **expands expressions enclosed in specified sigils** ([literal string interpolation](https://www.python.org/dev/peps/pep-0498/)). Using `expand=True`, the included script is converted to a Python f-string so that the string will be interpolated when it is executed. For example,\n",
    "\n",
    "```\n",
    "output = 'output.pdf'\n",
    "R: workdir='result', expand=True\n",
    "   pdf('{output}')\n",
    "   plot(0, 0)\n",
    "   dev.off()\n",
    "```\n",
    "\n",
    "will be translated to\n",
    "\n",
    "```\n",
    "output = 'output.pdf'\n",
    "R(f'''\\\n",
    "pdf('{output}')\n",
    "plot(0, 0)\n",
    "dev.off()\n",
    "''', workdir='result')\n",
    "```\n",
    "which will be expanded to\n",
    "\n",
    "```\n",
    "R('''\\\n",
    "pdf('output.pdf')\n",
    "plot(0, 0)\n",
    "dev.off()\n",
    "''', workdir='result')\n",
    "```\n",
    "when the action is executed."
   ]
  },
  {
   "cell_type": "markdown",
   "metadata": {},
   "source": [
    "Although the use of expressions in literal string (`{ }` parts) is very convenient, the braces might conflict with the braces in languages such as R for which braces are widely used. The official method to include braces in such literal strings is to double the braces (`{{ }}`)  as in the following example"
   ]
  },
  {
   "cell_type": "code",
   "execution_count": 50,
   "metadata": {
    "kernel": "SoS"
   },
   "outputs": [
    {
     "name": "stdout",
     "output_type": "stream",
     "text": [
      "This is 1\r\n"
     ]
    }
   ],
   "source": [
    "a = 1\n",
    "R: expand=True\n",
    "    if ({a} == 1) {{\n",
    "      cat(\"This is 1\\n\");\n",
    "    }} else {{\n",
    "      cat(\"This is not 1\\n\");\n",
    "    }}"
   ]
  },
  {
   "cell_type": "markdown",
   "metadata": {},
   "source": [
    "However, as you can imagine, inclusion of long scripts with lots of braces like this could be tedious and error-prone. For this reason, SoS allows you to use an alternative sigil for the format string. For example, using `expand='${ }'`, you can expand expressions inside `${ }` instead of `{ }` for string interpolation and do not have to double the braces."
   ]
  },
  {
   "cell_type": "code",
   "execution_count": 51,
   "metadata": {
    "kernel": "SoS"
   },
   "outputs": [
    {
     "name": "stdout",
     "output_type": "stream",
     "text": [
      "This is 1\r\n"
     ]
    }
   ],
   "source": [
    "a = 1\n",
    "R: expand='${ }'\n",
    "    if (${a} == 1) {\n",
    "      cat(\"This is 1\\n\");\n",
    "    } else {\n",
    "      cat(\"This is not 1\\n\");\n",
    "    }"
   ]
  },
  {
   "cell_type": "markdown",
   "metadata": {},
   "source": [
    "The sigil specified by parameter `expand` should be a string with a single space separating left and right sigils (e.g. `\"[ ]\"`, `\"s( )\"`, `\"< >\"`). Note that the use of alternative sigils is just a convenient way for you to include large trunks of scripts with braces. Under the hood SoS will convert the string to properly formatted f-strings with doubled braces and `{ }` sigils."
   ]
  },
  {
   "cell_type": "markdown",
   "metadata": {},
   "source": [
    "As a final note, the SoS script format could be confused with Python's type hint syntax but SoS is able to tell the differences and treat them correctly:"
   ]
  },
  {
   "cell_type": "code",
   "execution_count": 52,
   "metadata": {
    "kernel": "SoS",
    "scrolled": true
   },
   "outputs": [
    {
     "data": {
      "text/plain": [
       "5"
      ]
     },
     "execution_count": 52,
     "metadata": {},
     "output_type": "execute_result"
    }
   ],
   "source": [
    "var : str = 5\n",
    "var"
   ]
  },
  {
   "cell_type": "markdown",
   "metadata": {},
   "source": [
    "## Parameter and environment specification <a id=\"Parameter_and_environment_specification\"></a>"
   ]
  },
  {
   "cell_type": "markdown",
   "metadata": {},
   "source": [
    "### Command line options <a id=\"Command_line_options\"></a>"
   ]
  },
  {
   "cell_type": "markdown",
   "metadata": {},
   "source": [
    "SoS allows you to define parameters that accept values from command line options easily. "
   ]
  },
  {
   "cell_type": "markdown",
   "metadata": {},
   "source": [
    "#### Optional arguments <a id=\"Optional_arguments\"></a>"
   ]
  },
  {
   "cell_type": "markdown",
   "metadata": {},
   "source": [
    "Any variable assignment prefixed with `parameter:` can accept values from command  line. The format of such lines are\n",
    "\n",
    "```\n",
    "# comment\n",
    "parameter: var_name = default_value\n",
    "```\n",
    "\n",
    "The default value can be integer, float, boolean, string, list of string, or expressions that return values of these types. Other types can be used as long as they can be converted to these types from user-provided values. For example"
   ]
  },
  {
   "cell_type": "code",
   "execution_count": 53,
   "metadata": {
    "kernel": "SoS"
   },
   "outputs": [],
   "source": [
    "# path to tool gatk\n",
    "parameter: gatk_path = '~/bin/GATK'"
   ]
  },
  {
   "cell_type": "markdown",
   "metadata": {},
   "source": [
    "defines a variable `gatk_path` with default value `'~/bin/GATK'`."
   ]
  },
  {
   "cell_type": "markdown",
   "metadata": {},
   "source": [
    "If you execute a workflow without defining `gatk_path`, the default value will be used"
   ]
  },
  {
   "cell_type": "code",
   "execution_count": 54,
   "metadata": {
    "kernel": "SoS"
   },
   "outputs": [
    {
     "name": "stdout",
     "output_type": "stream",
     "text": [
      "~/bin/GATK\n"
     ]
    }
   ],
   "source": [
    "%run\n",
    "parameter: gatk_path = '~/bin/GATK'\n",
    "print(gatk_path)"
   ]
  },
  {
   "cell_type": "markdown",
   "metadata": {},
   "source": [
    "You can set this parameter from command line using option `--gatk_path`"
   ]
  },
  {
   "cell_type": "code",
   "execution_count": 55,
   "metadata": {
    "kernel": "SoS"
   },
   "outputs": [
    {
     "name": "stdout",
     "output_type": "stream",
     "text": [
      "/my/GATK\n"
     ]
    }
   ],
   "source": [
    "%run --gatk_path /my/GATK\n",
    "parameter: gatk_path = '~/bin/GATK'\n",
    "print(gatk_path)"
   ]
  },
  {
   "cell_type": "markdown",
   "metadata": {},
   "source": [
    "You can also use `-` in place of `_` in command line, although the variable name cannot have `-` in it."
   ]
  },
  {
   "cell_type": "code",
   "execution_count": 56,
   "metadata": {
    "kernel": "SoS"
   },
   "outputs": [
    {
     "name": "stdout",
     "output_type": "stream",
     "text": [
      "/my/GATK\n"
     ]
    }
   ],
   "source": [
    "%run --gatk-path /my/GATK\n",
    "parameter: gatk_path = '~/bin/GATK'\n",
    "print(gatk_path)"
   ]
  },
  {
   "cell_type": "markdown",
   "metadata": {},
   "source": [
    "Actually, because the input is a path, it can be more convenient to create a `path` object"
   ]
  },
  {
   "cell_type": "code",
   "execution_count": 57,
   "metadata": {
    "kernel": "SoS"
   },
   "outputs": [
    {
     "name": "stdout",
     "output_type": "stream",
     "text": [
      "gatk_path=path('/my/GATK')\n"
     ]
    }
   ],
   "source": [
    "%run --gatk-path /my/GATK\n",
    "parameter: gatk_path = path('~/bin/GATK')\n",
    "print(f\"gatk_path={gatk_path!r}\")"
   ]
  },
  {
   "cell_type": "markdown",
   "metadata": {},
   "source": [
    "The default value of the parameter determines the type of values it accepts. For example, the following command yields an error because the parameter expects an integer (from default value `0`) but a string is passed."
   ]
  },
  {
   "cell_type": "code",
   "execution_count": 58,
   "metadata": {},
   "outputs": [
    {
     "name": "stderr",
     "output_type": "stream",
     "text": [
      "\n",
      "---------------------------------------------------------------------------\n",
      "ArgumentError                             Traceback (most recent call last)\n",
      "script_1781372598174542987 in <module>\n",
      "      if \"sos_handle_parameter_\" in globals():\n",
      "---->     cutoff = sos_handle_parameter_('cutoff',  0\n",
      "      )\n",
      "\n",
      "ArgumentError: argument --cutoff: invalid int value: 'zero'\n"
     ]
    }
   ],
   "source": [
    "%sandbox --expect-error\n",
    "\n",
    "%run --cutoff zero\n",
    "parameter: cutoff = 0"
   ]
  },
  {
   "cell_type": "markdown",
   "metadata": {},
   "source": [
    "Simiarly, a list would be created if the parameter has a default value of type list"
   ]
  },
  {
   "cell_type": "code",
   "execution_count": 59,
   "metadata": {
    "kernel": "SoS",
    "scrolled": true
   },
   "outputs": [
    {
     "name": "stdout",
     "output_type": "stream",
     "text": [
      "['A']\n"
     ]
    }
   ],
   "source": [
    "%run --sample-names A\n",
    "parameter: sample_names = []\n",
    "print(sample_names)"
   ]
  },
  {
   "cell_type": "markdown",
   "metadata": {},
   "source": [
    "and you can specify default values of type `paths` if you are expecting multiple filenames:"
   ]
  },
  {
   "cell_type": "code",
   "execution_count": 60,
   "metadata": {
    "kernel": "SoS"
   },
   "outputs": [
    {
     "name": "stdout",
     "output_type": "stream",
     "text": [
      "input_files=[path('a.txt'), path('b.txt')]\n"
     ]
    }
   ],
   "source": [
    "%run --input-files a.txt b.txt\n",
    "parameter: input_files = paths('a.txt')\n",
    "print(f\"input_files={input_files!r}\")"
   ]
  },
  {
   "cell_type": "markdown",
   "metadata": {},
   "source": [
    "#### Required arguments <a id=\"Required_arguments\"></a>"
   ]
  },
  {
   "cell_type": "markdown",
   "metadata": {},
   "source": [
    "In cases where there is no suitable default values and/or command line arguments are mandatory, you can specify a parameter without initial value, and the parameter will be considered required. By default, the parameter will be considered to be of a single value with `str` type."
   ]
  },
  {
   "cell_type": "code",
   "execution_count": 61,
   "metadata": {
    "scrolled": false
   },
   "outputs": [
    {
     "name": "stderr",
     "output_type": "stream",
     "text": [
      "\n",
      "---------------------------------------------------------------------------\n",
      "ArgumentError                             Traceback (most recent call last)\n",
      "script_6907046681220688790 in <module>\n",
      "      if \"sos_handle_parameter_\" in globals():\n",
      "---->     cutoff = sos_handle_parameter_('cutoff', str)\n",
      "      print(f\"cutoff = {cutoff} of type {type(cutoff).__name__}\")\n",
      "\n",
      "ArgumentError: Argument cutoff of type str is required\n"
     ]
    }
   ],
   "source": [
    "%sandbox --expect-error\n",
    "\n",
    "parameter: cutoff \n",
    "print(f\"cutoff = {cutoff} of type {type(cutoff).__name__}\")"
   ]
  },
  {
   "cell_type": "code",
   "execution_count": 62,
   "metadata": {
    "kernel": "SoS"
   },
   "outputs": [
    {
     "name": "stdout",
     "output_type": "stream",
     "text": [
      "cutoff = 100 of type str\n"
     ]
    }
   ],
   "source": [
    "%run --cutoff 100\n",
    "parameter: cutoff \n",
    "print(f\"cutoff = {cutoff} of type {type(cutoff).__name__}\")"
   ]
  },
  {
   "cell_type": "markdown",
   "metadata": {},
   "source": [
    "If you would like to specify a type, you can use the Python type hint to annotate the variable with a type"
   ]
  },
  {
   "cell_type": "code",
   "execution_count": 63,
   "metadata": {
    "kernel": "SoS"
   },
   "outputs": [
    {
     "name": "stdout",
     "output_type": "stream",
     "text": [
      "cutoff = 100 of type int\n"
     ]
    }
   ],
   "source": [
    "%run --cutoff 100\n",
    "parameter: cutoff : int\n",
    "print(f\"cutoff = {cutoff} of type {type(cutoff).__name__}\")"
   ]
  },
  {
   "cell_type": "markdown",
   "metadata": {},
   "source": [
    "Currently SoS only accepts simple type hints such as `int`, `str`, `float`, `list` (only list of strings are supported), and target types such as `path`, `paths`, `file_target`, and `sos_targets`. For example"
   ]
  },
  {
   "cell_type": "code",
   "execution_count": 64,
   "metadata": {
    "kernel": "SoS"
   },
   "outputs": [
    {
     "name": "stdout",
     "output_type": "stream",
     "text": [
      "A.bam B.bam\n"
     ]
    }
   ],
   "source": [
    "%run --bam-files A.bam B.bam\n",
    "# input bam files\n",
    "parameter: bam_files : paths\n",
    "print(bam_files)"
   ]
  },
  {
   "cell_type": "markdown",
   "metadata": {},
   "source": [
    "It is worth noting that you can specify type hint also for parameters with initial values but SoS will use type of the default values and ignore type hints in this case. For example, in the following case when a parameter with default value 10 are given a type hint of `list`, it will accept input as integers."
   ]
  },
  {
   "cell_type": "code",
   "execution_count": 65,
   "metadata": {
    "kernel": "SoS"
   },
   "outputs": [
    {
     "name": "stdout",
     "output_type": "stream",
     "text": [
      "cutoff = 100 of type int\n"
     ]
    }
   ],
   "source": [
    "%run --cutoff 100\n",
    "parameter: cutoff : list = 10\n",
    "print(f\"cutoff = {cutoff} of type {type(cutoff).__name__}\")"
   ]
  },
  {
   "cell_type": "markdown",
   "metadata": {},
   "source": [
    "### Configuration files <a id=\"Configuration_files\"></a>"
   ]
  },
  {
   "cell_type": "markdown",
   "metadata": {},
   "source": [
    "SoS reads configurations from \n",
    "* A site configuration file `site_config.yml` under the sos package directory\n",
    "* A host configuration file `~/.sos/hosts.yml`\n",
    "* A global sos configuration file `~/.sos/config.yml`\n",
    "* And a configuration file specified by command line option `-c`.\n",
    "\n",
    "The configuration files should be in [YAML format](http://www.yaml.org/start.html). Dictionaries defined in all these configuration files are merged to form a single dictionary that is available to SoS as a dictionary named `CONFIG`.\n",
    "\n",
    "Note that:\n",
    "* All configurations from the aforementioned files are merged to a single dictionary. A dictionary could therefore contain keys defined in different configuration files and a latter file could overwrite keys defined in a previous file. For example, if \n",
    "  * `{'A': {'B': 'old', 'C': 'old'}` is defined in `~/.sos/config.yml` and\n",
    "  * `{'A': {'B': 'new', 'D': 'new'}` is defined in `my_config.yml`, then\n",
    "  * dictionary `A` in `CONFIG` would have value `{'B': 'new', 'C': 'old', 'D': 'new'}`. \n",
    "* SoS interpolate string values in `CONFIG` if they contain `{ }`. The expressions enclosed by `{ }` would be evaluated with a local namespace that is the dictionary in which the key exists, and a global namespace that is the complete `CONFIG` dictionary. That is to say, if a configuration file contains\n",
    "  ```\n",
    "  user_name: user\n",
    "  hosts:\n",
    "    cluster:\n",
    "      address: \"{user_name}@domain.com:{port}\"\n",
    "      port: 123\n",
    "   ```\n",
    "  `CONFIG['hosts']['cluster']['address']` would be interpolated with `port` from the `CONFIG['host']['cluster']` and `user_name` from the top level `CONFIG['user_name']`. You will need to double the braces (`{{ }}` to include `{ }` in the config file.\n",
    "* Because key `user_name` is frequently used in `hosts.yml`, SoS automatically defines `user_name` as the local user ID (all lower case) in `CONFIG` if it is not defined in any of the configuration files.\n",
    "* A special key `based_on` will be processed after all configuration files are loaded. The value of `based_on` should be one or more keys to other dictionaries in the configuration (e.g. `hosts.cluster`. The consequence of this key is that the items from the referred dictionaries would be merged to the present dictionary if they do not exist in the present dictionary. This allows you to derive a dictionary from an existing one. For example, \n",
    "  ```\n",
    "  hosts:\n",
    "    head_node:\n",
    "      description: head_node of cluster\n",
    "      address: \"{user_name}@domain.com:{port}\"\n",
    "      port: 123\n",
    "      paths:\n",
    "          home:   \"/home/{user_name}\"\n",
    "    cluster:\n",
    "      description: Cluster\n",
    "      based_on: hosts.head_node\n",
    "      queue_type: pbs\n",
    "   ```\n",
    "   allows `hosts[\"cluster\"]` to be derived from `hosts[\"head_node\"]`."
   ]
  },
  {
   "cell_type": "markdown",
   "metadata": {},
   "source": [
    "## Native SoS file format <a id=\"Native_SoS_file_format\"></a>"
   ]
  },
  {
   "cell_type": "markdown",
   "metadata": {},
   "source": [
    "A sos script can be defined in a plain text file. A `.sos` suffix is recommended but not required. A SoS script consists of **sections** that define **steps** of one or more **workflows**."
   ]
  },
  {
   "cell_type": "markdown",
   "metadata": {},
   "source": [
    "A SoS script usually starts with lines\n",
    "\n",
    "```python\n",
    "#!/usr/bin/env sos-runner\n",
    "#fileformat=SOS1.0\n",
    "```\n",
    "\n",
    "The first line allows the script to be executed by command `sos-runner` if it is executed as an executable script. The second line tells SoS the format of the script. The `#fileformat` line does not have to be the first or second line but should be in the first comment block. The latest version of SOS format is assumed if no format line is present so it is a good practice to specify version of file format to make sure the script is interpreted correctly."
   ]
  },
  {
   "cell_type": "markdown",
   "metadata": {},
   "source": [
    "### Global sections and default variables <a id=\"Global_sections_and_default_variables\"></a>"
   ]
  },
  {
   "cell_type": "markdown",
   "metadata": {},
   "source": [
    "Global sections can be defined without section header in a `.sos` file as statements before any other section, and as a regular section with header `[global]`. The global sections are the only section that appear multiple times in a SoS script."
   ]
  },
  {
   "cell_type": "markdown",
   "metadata": {},
   "source": [
    "Definitions in the global section are shared by all sections so it is usually used to define global variables and parameters. SoS implicitly defines the following variables in the global section:\n",
    "\n",
    "* **`SOS_VERSION`**: version of SoS interpreter.\n",
    "* **`CONFIG`**: configurations read from site, hosts, global, local and user specific configuration files."
   ]
  },
  {
   "cell_type": "markdown",
   "metadata": {},
   "source": [
    "### SoS Sections <a id=\"SoS_Sections\"></a>"
   ]
  },
  {
   "cell_type": "markdown",
   "metadata": {},
   "source": [
    "A SoS section is marked by a section header in the format of\n",
    "\n",
    "```\n",
    "[names: options]\n",
    "```\n",
    "\n",
    "The header should start with a `[` from the beginning of a line and end with a `]`. It can contain one or more names with optional description (for each step) and section options (for all steps defined in the section)."
   ]
  },
  {
   "cell_type": "markdown",
   "metadata": {},
   "source": [
    "Section names of a section follow the following rules:\n",
    "\n",
    "| Format | Example | Usage |\n",
    "|--------|---| -------|\n",
    "| **`name_index`** |`human_10`|Defines step `index` of workflow `name`. Here `name` can be any name with alpha-numeric characters and `-` and `_`. `index` should be a non-negative number.|\n",
    "| **`name`** |`update-website`| Section name without index is equivalent to `name_0` |\n",
    "| **`index`** |`10`| Section name without workflow name is equivalent to `default_index`|\n",
    "| **`pattern_index`** |`*_0`, `human*_10`| Equivalent to step `index` of all matching workflows defined in the script. The `pattern` should follow [Unix filename matching](https://docs.python.org/2/library/fnmatch.html)|\n",
    "| **`stepname (desc)`**| `10 (align)`| Optional short description can be used to describe the goal of the step|\n",
    "| **`name1,name2,...`** |`human_10,mouse_10`| Comma separated names define multiple steps for one or more workflows|"
   ]
  },
  {
   "cell_type": "markdown",
   "metadata": {},
   "source": [
    "A SoS step accepts the following options:\n",
    "\n",
    "| Name | Example | Usage |\n",
    "|------|--------|---------|\n",
    "|**`skip`** | `skip`<br>`skip=False` | Always or conditionally skip a step, `expr` should be evaluated as `True` or `False`|\n",
    "|**`shared`**|`shared='K'`<br>`shared={'K': 'output[0]'}`  | Variable that will be made available to the workflow after completion of the step |\n",
    "|**`provides`**|`provides='filename'`<br>`provides=executable('fastqc')`<br>`provides='{filename}.bam.gz'`<br>`provides=['A1.txt', 'A2.txt']`| Targets that will be generated after the completion of the step. This option turns the step to an auxiliary step that will be executed when the provided target is needed. |\n",
    "\n",
    "Please refer to section [SoS Step](SoS_Step.html) for more details on these options. "
   ]
  },
  {
   "cell_type": "markdown",
   "metadata": {},
   "source": [
    "A section can have arbitrary Python statements and SoS-specific statements that define the input, output, and dependent targets, and external tasks of the step.\n",
    "\n",
    "|Keyword|Examples|Usage|\n",
    "|-------|-------|-----|\n",
    "|**`input`**| (unspecified)<br> `input: 'test1.txt', 'text2.txt'`<br>`input: '*.txt'` <br> `input: dynamic('*.txt')`| Input targets of the step, which can be derived from previous step (if unspecified), determined in advanced or only before the step is executed. |\n",
    "|**`depends`**| `depends: 'hg19.fa'`<br>`depends: f\"{_input}.idx\"`<br>`depends: R_library('ggplot2')`| Step depends on a specified files or targets to execute |\n",
    "|**`output`**| (unspecified) <br>`output: 'output.bam'`<br>`output: f'{_input}.idx'`| Step has no or specified defined output that can be derived from input files |\n",
    "|**`task`**|`task:`| Statements following the statement will be executed as an external task|\n",
    "\n",
    "These statements accept a large number of options to specify how input, output targets are processed and how external tasks are executed. Please refer to section [SoS step](SoS_Step.html) for more details about different types of steps and step options, and section [Remote Exection](Remote_Execution.html) on topics related to external tasks."
   ]
  },
  {
   "cell_type": "markdown",
   "metadata": {},
   "source": [
    "As an example for a complete script, the following script defines a workflow with a global section without header, and a workflow `gff` with two steps\n",
    "\n",
    "```sos\n",
    "#!/usr/bin/env sos-runner\n",
    "#fileformat=SOS1.0\n",
    "\n",
    "local_resource = '~/Resource/'\n",
    "data_dir       = '~/Data/bams/'\n",
    "resource_dir   = f'{local_resource}/resources/hg19/Ensembl/Genes'\n",
    "\n",
    "# samples to be processed\n",
    "parameter: samples = ['s312', 's315', 's312a', 's315a']\n",
    "\n",
    "[gff_0]\n",
    "# download gene models from the MISO website\n",
    "output: f'{resource_dir}/Home_sapiens.GRCh37.65.gff.zip'\n",
    "download: dest_dir=resource_dir, decompress=True\n",
    "    http://genes.mit.edu/burgelab/miso/annotations/gene-models/Homo_sapiens.GRCh37.65.gff.zip\n",
    "\n",
    "[gff_1]\n",
    "# Index gtf file using index_gff\n",
    "output: f'{resource_dir}/{hg19_gff_index}/genes.gff'\n",
    "task:   working_dir=resource_dir\n",
    "run:    docker_image='mdabioinfo/miso:latest'\n",
    "    rm -rf {hg19_gff_index}\n",
    "    index_gff --index {hg19_gff_file} {hg19_gff_index}\n",
    "```"
   ]
  },
  {
   "cell_type": "markdown",
   "metadata": {},
   "source": [
    "## Jupyter notebook format <a id=\"Jupyter_notebook_format\"></a>"
   ]
  },
  {
   "cell_type": "markdown",
   "metadata": {},
   "source": [
    "SoS provides a Jupyter frontend in which you can execute sos steps and workflows interactively or in batch mode. The Jupyter notebook format `.ipynb` can contain **markdown cells** and **code cells** with statements in SoS and any other supported languages (e.g. `R`)."
   ]
  },
  {
   "cell_type": "markdown",
   "metadata": {},
   "source": [
    "One or more SoS workflows can be defined in a `.ipynb` file from **code cells in SoS kernel that start with section headers**. For example, the same workflow defined in the `.sos` file could be defined in a Jupyter notebook, with cells starting with section headers as follows: "
   ]
  },
  {
   "cell_type": "code",
   "execution_count": 66,
   "metadata": {
    "kernel": "SoS"
   },
   "outputs": [],
   "source": [
    "[global]\n",
    "local_resource = '~/Resource/'\n",
    "data_dir       = '~/Data/bams/'\n",
    "resource_dir   = f'{local_resource}/resources/hg19/Ensembl/Genes'\n",
    "\n",
    "# samples to be processed\n",
    "parameter: samples = ['s312', 's315', 's312a', 's315a']"
   ]
  },
  {
   "cell_type": "code",
   "execution_count": 67,
   "metadata": {
    "kernel": "SoS"
   },
   "outputs": [],
   "source": [
    "[gff_0]\n",
    "# download gene models from the MISO website\n",
    "output: f'{resource_dir}/Home_sapiens.GRCh37.65.gff.zip'\n",
    "download: dest_dir=resource_dir, decompress=True\n",
    "    http://genes.mit.edu/burgelab/miso/annotations/gene-models/Homo_sapiens.GRCh37.65.gff.zip"
   ]
  },
  {
   "cell_type": "code",
   "execution_count": 68,
   "metadata": {
    "kernel": "SoS"
   },
   "outputs": [],
   "source": [
    "# This is step 1 of the gff workflow\n",
    "[gff_1]\n",
    "# Index gtf file using index_gff\n",
    "output: f'{resource_dir}/{hg19_gff_index}/genes.gff'\n",
    "task:   working_dir=resource_dir\n",
    "run:    docker_image='mdabioinfo/miso:latest', expand=True\n",
    "    rm -rf {hg19_gff_index}\n",
    "    index_gff --index {hg19_gff_file} {hg19_gff_index}"
   ]
  },
  {
   "cell_type": "markdown",
   "metadata": {},
   "source": [
    "Note that\n",
    "\n",
    "* SoS cells that start with section header (after optional comments, empty lines, and magics) are **workflow cells**. These cells are excluded from usual cell evaluation but can be executed using magics `%run` and `%sosrun`.  \n",
    "* The `[global]` section header is needed for the global section to be recognized as part of a workflow.\n",
    "* A cell can define one or more steps, even a complete workflow.\n",
    "\n",
    "SoS commands such as `sos run` and `sos-runner` can execute workflows defined in `.ipynb` files directly."
   ]
  },
  {
   "cell_type": "markdown",
   "metadata": {},
   "source": [
    "## Workflow Specification <a id=\"Workflow_Specification\"></a>"
   ]
  },
  {
   "cell_type": "markdown",
   "metadata": {},
   "source": [
    "### Forward-style workflows <a id=\"Forward-style_workflows\"></a>"
   ]
  },
  {
   "cell_type": "markdown",
   "metadata": {},
   "source": [
    "A SoS forward-style workflow has a name and one or more numbered steps. The workflows are defined from sections in a SoS script. \n",
    "\n",
    "For example, the following sections specify a workflow with four steps `5`, `10`, `20`, and `100`. The workflow steps can be specified in any order and do not have to be consecutive."
   ]
  },
  {
   "cell_type": "code",
   "execution_count": 69,
   "metadata": {
    "kernel": "SoS"
   },
   "outputs": [],
   "source": [
    "[5]\n",
    "[20]\n",
    "[10]\n",
    "[100]"
   ]
  },
  {
   "cell_type": "markdown",
   "metadata": {},
   "source": [
    "A workflow specified in this way is the **`default`** workflow and is actually called `default` in SoS output. You can specify a workflow with name and give each step a short description as follows:"
   ]
  },
  {
   "cell_type": "code",
   "execution_count": 70,
   "metadata": {
    "kernel": "SoS"
   },
   "outputs": [],
   "source": [
    "[mapping_5 (get data)]\n",
    "[mapping_20 (align)]\n",
    "[mapping_10 (quality control)]\n",
    "[mapping_100 (generate report)]"
   ]
  },
  {
   "cell_type": "markdown",
   "metadata": {},
   "source": [
    "A SoS script can define multiple workflows. For example, the following sections of SoS script defines two workflows named ``mouse`` and ``human``. "
   ]
  },
  {
   "cell_type": "code",
   "execution_count": 71,
   "metadata": {
    "kernel": "SoS"
   },
   "outputs": [],
   "source": [
    "[mouse_10]\n",
    "[mouse_20]\n",
    "[mouse_30]\n",
    "[human_10]\n",
    "[human_20]\n",
    "[human_30]"
   ]
  },
  {
   "cell_type": "markdown",
   "metadata": {},
   "source": [
    "In this case, a command line option is needed to specify workflow name. This can be done by magic `%run` in Jupyter notebook, or a positional argument from the command line, e.g.\n",
    "\n",
    "```\n",
    "    % sos run myscript mouse\n",
    "```"
   ]
  },
  {
   "cell_type": "markdown",
   "metadata": {},
   "source": [
    "Note that the workflow argument is not needed if a `default` workflow is defined in the script like the following example"
   ]
  },
  {
   "cell_type": "code",
   "execution_count": 72,
   "metadata": {
    "kernel": "SoS"
   },
   "outputs": [],
   "source": [
    "[10]\n",
    "[20]\n",
    "[30]\n",
    "[test_10]\n",
    "[test_20]\n",
    "[test_30]"
   ]
  },
  {
   "cell_type": "markdown",
   "metadata": {
    "collapsed": true
   },
   "source": [
    "Multiple steps can share a single step as follows"
   ]
  },
  {
   "cell_type": "code",
   "execution_count": 73,
   "metadata": {
    "kernel": "SoS"
   },
   "outputs": [],
   "source": [
    "[mouse_10,human_10]\n",
    "[mouse_20]\n",
    "[human_20]\n",
    "[mouse_30,human_30]"
   ]
  },
  {
   "cell_type": "markdown",
   "metadata": {},
   "source": [
    "and wildcard steps can be used to define a step for multiple workflows:"
   ]
  },
  {
   "cell_type": "code",
   "execution_count": 74,
   "metadata": {
    "kernel": "SoS"
   },
   "outputs": [],
   "source": [
    "%run mouse\n",
    "[*_10]\n",
    "[mouse_20]\n",
    "[human_20]\n",
    "[*_30]"
   ]
  },
  {
   "cell_type": "markdown",
   "metadata": {},
   "source": [
    "If the steps defined in a shared section is similar but not identical, it can use step variable (discussed elsewhere) `step_name` to behave differently in different workflows. In the following example, the variable `step_name` will be `mouse_20` or `human_20` depending on the workflow being executed, and is used to determine the correct reference genome for different workflows."
   ]
  },
  {
   "cell_type": "code",
   "execution_count": 75,
   "metadata": {
    "kernel": "SoS"
   },
   "outputs": [],
   "source": [
    "[mouse_20,human_20]\n",
    "reference = \"/path/to/mouse/reference\" if \\\n",
    "  step_name.startswith('mouse') else \"/path/to/human/reference\"\n",
    "\n",
    "print(f\"Reference genome {reference} is used\")"
   ]
  },
  {
   "cell_type": "markdown",
   "metadata": {},
   "source": [
    "### Sub- and combined workflows <a id=\"Sub_and_combined_workflows\"></a>"
   ]
  },
  {
   "cell_type": "markdown",
   "metadata": {},
   "source": [
    "Although workflows are defined separately with all their steps, they do not have to be executed in their entirety. A `subworkflow` refers to a workflow that is defined from one or more steps of an existing workflows. It is specified using syntax `workflow:[from-to]` where `from-to` can be `n` (step `n`), `-n` (up to `n`), `n-m` (step `n` to `m`) and `m-` (from `m`). For example"
   ]
  },
  {
   "cell_type": "markdown",
   "metadata": {},
   "source": [
    "```python\n",
    "A              # complete workflow A\n",
    "A:5-10         # step 5 to 10 of A\n",
    "A:50-          # step 50 up\n",
    "A:-10          # up to step 10 of A\n",
    "A:10           # step 10 of workflow A\n",
    "```"
   ]
  },
  {
   "cell_type": "markdown",
   "metadata": {},
   "source": [
    "In practice, the `-n` format is frequently used to execute part of the workflow for debudding purposes, for example:"
   ]
  },
  {
   "cell_type": "code",
   "execution_count": 76,
   "metadata": {
    "kernel": "SoS"
   },
   "outputs": [
    {
     "name": "stdout",
     "output_type": "stream",
     "text": [
      "default_10\n",
      "default_20\n"
     ]
    }
   ],
   "source": [
    "%run default:-20\n",
    "[10]\n",
    "print(step_name)\n",
    "[20]\n",
    "print(step_name)\n",
    "[30]\n",
    "print(step_name)"
   ]
  },
  {
   "cell_type": "markdown",
   "metadata": {},
   "source": [
    "You can also combine subworkflows to execute multiple workflows one after another. For example,"
   ]
  },
  {
   "cell_type": "markdown",
   "metadata": {},
   "source": [
    "```python\n",
    "A + B          # workflow A, followed by B\n",
    "A:0 + B        # step 0 of A, followed by B\n",
    "A:-50 + B + C  # up to step 50 of workflow A, followed by B, and C\n",
    "```"
   ]
  },
  {
   "cell_type": "markdown",
   "metadata": {},
   "source": [
    "This syntax can be used from the command line, e.g.\n",
    "\n",
    "```bash\n",
    "sos-runner myscript align+call\n",
    "```\n",
    "\n",
    "or from the `%run` magic of Jupyter notebook"
   ]
  },
  {
   "cell_type": "code",
   "execution_count": 77,
   "metadata": {
    "kernel": "SoS"
   },
   "outputs": [
    {
     "name": "stdout",
     "output_type": "stream",
     "text": [
      "check_10\n",
      "align_10\n",
      "align_20\n",
      "call_10\n",
      "call_20\n"
     ]
    }
   ],
   "source": [
    "#local run\n",
    "%run check+align+call\n",
    "[check_10]\n",
    "print(step_name)\n",
    "[align_10]\n",
    "print(step_name)\n",
    "[align_20]\n",
    "print(step_name)\n",
    "[call_10]\n",
    "print(step_name)\n",
    "[call_20]\n",
    "print(step_name)"
   ]
  },
  {
   "cell_type": "markdown",
   "metadata": {},
   "source": [
    "### Nested workflow (`sos_run`) <a id=\"Nested_workflow_sos_run\"></a>"
   ]
  },
  {
   "cell_type": "markdown",
   "metadata": {},
   "source": [
    "SoS also supports nested workflow in which a complete workflow is treated as part of a step process.\n",
    "The workflow is execute by SoS action `sos_run`, e.g.\n",
    "\n",
    "```python\n",
    "sos_run('A')            # execute workflow A\n",
    "sos_run('A + B')        # execute workflow B after A\n",
    "sos_run('D:-10 + C')    # execute up to step 10 of D and workflow C\n",
    "\n",
    "# execute user-specified aligner and caller workflows\n",
    "sos_run(f'{aligner} + {caller}')  \n",
    "```"
   ]
  },
  {
   "cell_type": "markdown",
   "metadata": {},
   "source": [
    "In its simplest form, nested workflow allows you to define another workflow from existing ones. For example,"
   ]
  },
  {
   "cell_type": "code",
   "execution_count": 78,
   "metadata": {
    "kernel": "SoS"
   },
   "outputs": [
    {
     "name": "stdout",
     "output_type": "stream",
     "text": [
      "align_10\n",
      "align_20\n",
      "call_10\n",
      "call_20\n"
     ]
    },
    {
     "data": {
      "text/html": [
       "<div class=\"sos_hint\">> forward.dot (121 B):</div>"
      ],
      "text/plain": [
       "\n",
       "> forward.dot (121 B):"
      ]
     },
     "metadata": {},
     "output_type": "display_data"
    },
    {
     "data": {
      "image/png": "[encoded data removed]"
     },
     "metadata": {},
     "output_type": "display_data"
    }
   ],
   "source": [
    "%preview -n forward.dot\n",
    "%run -d forward\n",
    "[align_10]\n",
    "print(step_name)\n",
    "[align_20]\n",
    "print(step_name)\n",
    "[call_10]\n",
    "print(step_name)\n",
    "[call_20]\n",
    "print(step_name)\n",
    "[default]\n",
    "sos_run('align+call')"
   ]
  },
  {
   "cell_type": "markdown",
   "metadata": {},
   "source": [
    "defines a nested workflow that combines workflows `align` and `call` so that the workflow will by default execute two workflows, but can also execute one of them as separate workflows `align` and `call`. This example also uses option `-d` to output the execution path of the workflow to a file, and magic `%preview` to preview the path."
   ]
  },
  {
   "cell_type": "markdown",
   "metadata": {},
   "source": [
    "Nested workflow also allows you to define multiple mini-workflows and connect them freely. For example\n",
    "\n",
    "```python\n",
    "[a_1]\n",
    "[a_2]\n",
    "[b]\n",
    "[c]\n",
    "[d_1]\n",
    "sos_run('a+b')\n",
    "[d_2]\n",
    "sos_run('a+c')\n",
    "```\n",
    "\n",
    "defines workflows `d` that will execute steps `d_1`, `a_1`, `a_2`, `b_0`, `d_2`,  `a_1`, `a_2`, and `c_0`. "
   ]
  },
  {
   "cell_type": "markdown",
   "metadata": {},
   "source": [
    "A `parameter` statement usually gets its value from command line. However, when a workflow is executed as a subworkflow by action `sos_run`, the `parameter` statement can get its value from the `args` or `**kwargs` parameters of `sos_run`.\n",
    "\n",
    "For example, when the `default` workflow of the following script is executed, `cutoff` takes its default value of `10`. "
   ]
  },
  {
   "cell_type": "code",
   "execution_count": 79,
   "metadata": {
    "kernel": "SoS"
   },
   "outputs": [
    {
     "name": "stdout",
     "output_type": "stream",
     "text": [
      "echo 10\n",
      "10\n",
      "\n"
     ]
    }
   ],
   "source": [
    "%run\n",
    "[default_1]\n",
    "parameter: cutoff=10\n",
    "run: expand=True\n",
    "  echo {cutoff}\n",
    "\n",
    "[batch]\n",
    "for cutoff in range(3):\n",
    "    sos_run('default', cutoff=cutoff)"
   ]
  },
  {
   "cell_type": "markdown",
   "metadata": {},
   "source": [
    "A command line argument can be used to set this parameter to `8`,"
   ]
  },
  {
   "cell_type": "code",
   "execution_count": 80,
   "metadata": {
    "kernel": "SoS",
    "scrolled": true
   },
   "outputs": [
    {
     "name": "stdout",
     "output_type": "stream",
     "text": [
      "echo 8\n",
      "8\n",
      "\n"
     ]
    }
   ],
   "source": [
    "%rerun --cutoff 8"
   ]
  },
  {
   "cell_type": "markdown",
   "metadata": {},
   "source": [
    "Now, if the workflow is called as a subworkflow of step `batch`, `sos_run` set up the environment so that the statement `parameter: cutoff=10` gets a different cutoff value pass by  `sos_run`."
   ]
  },
  {
   "cell_type": "code",
   "execution_count": 81,
   "metadata": {
    "kernel": "SoS",
    "scrolled": false
   },
   "outputs": [
    {
     "name": "stdout",
     "output_type": "stream",
     "text": [
      "echo 0\n",
      "0\n",
      "\n",
      "echo 1\n",
      "1\n",
      "\n",
      "echo 2\n",
      "2\n",
      "\n"
     ]
    }
   ],
   "source": [
    "%rerun batch "
   ]
  },
  {
   "cell_type": "markdown",
   "metadata": {},
   "source": [
    "Because `sos_run` is simply a SoS action and takes a string as its parameter, it allows very flexible ways to compose (e.g. determine workflow from command line arguments) and execute (e.g. repeated execution of workflows with different options or input files) complex workflows. Furthermore, the workflows can be defined in another file so you can organize your workflow as a master workflow that calls nested workflows defined in other files.\n",
    "\n",
    "For example, suppose we create a workflow with two steps:"
   ]
  },
  {
   "cell_type": "code",
   "execution_count": 82,
   "metadata": {
    "kernel": "SoS"
   },
   "outputs": [
    {
     "data": {
      "text/html": [
       "<div class=\"sos_hint\">> nested.sos (128 B):</div>"
      ],
      "text/plain": [
       "\n",
       "> nested.sos (128 B):"
      ]
     },
     "metadata": {},
     "output_type": "display_data"
    },
    {
     "name": "stdout",
     "output_type": "stream",
     "text": [
      "[nested_20]\n",
      "print(f\"This is {step_name} of a nested workflow\")\n",
      "\n",
      "[nested_30]\n",
      "print(f\"This is {step_name} of a nested workflow\")\n"
     ]
    }
   ],
   "source": [
    "%preview -n nested.sos\n",
    "%run\n",
    "\n",
    "[10]\n",
    "report: output='nested.sos'\n",
    "  [nested_20]\n",
    "  print(f\"This is {step_name} of a nested workflow\")\n",
    "  \n",
    "  [nested_30]\n",
    "  print(f\"This is {step_name} of a nested workflow\")\n"
   ]
  },
  {
   "cell_type": "markdown",
   "metadata": {},
   "source": [
    "Then, we can execute this workflow with a `sos_run` action as follows"
   ]
  },
  {
   "cell_type": "code",
   "execution_count": 83,
   "metadata": {
    "kernel": "SoS"
   },
   "outputs": [
    {
     "name": "stdout",
     "output_type": "stream",
     "text": [
      "This is nested_20 of a nested workflow\n",
      "This is nested_30 of a nested workflow\n"
     ]
    }
   ],
   "source": [
    "sos_run('nested', source='nested.sos')"
   ]
  },
  {
   "cell_type": "markdown",
   "metadata": {},
   "source": [
    "### Makefile-style workflow <a id=\"Makefile-style_workflow\"></a>"
   ]
  },
  {
   "cell_type": "markdown",
   "metadata": {},
   "source": [
    "Using **auxiliary steps** that are only executed to provide desired output, a SoS workflow can be constructed dynamically to produce the specified target. For example, the following pipeline does not have any numbered steps and is triggered by option `-t test.vcf` (target)."
   ]
  },
  {
   "cell_type": "code",
   "execution_count": 84,
   "metadata": {
    "kernel": "SoS",
    "scrolled": true
   },
   "outputs": [
    {
     "name": "stderr",
     "output_type": "stream",
     "text": [
      "INFO: Target unavailable: test.bam.bai\n"
     ]
    },
    {
     "name": "stdout",
     "output_type": "stream",
     "text": [
      "echo \"Generating test.bam.bai\"\n",
      "Generating test.bam.bai\n",
      "touch test.bam.bai\n",
      "\n",
      "echo \"Calling variants from test.bam with test.bam.bai to test.vcf\"\n",
      "Calling variants from test.bam with test.bam.bai to test.vcf\n",
      "touch test.vcf\n"
     ]
    },
    {
     "data": {
      "text/html": [
       "<div class=\"sos_hint\">> target.dot (1011 B):</div>"
      ],
      "text/plain": [
       "\n",
       "> target.dot (1011 B):"
      ]
     },
     "metadata": {},
     "output_type": "display_data"
    },
    {
     "data": {
      "image/png": "[encoded data removed]"
     },
     "metadata": {},
     "output_type": "display_data"
    }
   ],
   "source": [
    "%sandbox\n",
    "# preview multiple DAG\n",
    "%preview -n target.dot\n",
    "!touch test.bam\n",
    "\n",
    "%run -t test.vcf -d target.dot\n",
    "\n",
    "# this step provides variable `var`\n",
    "[index: provides='{filename}.bam.bai']\n",
    "input: f\"{filename}.bam\"\n",
    "run: expand=True\n",
    "   echo \"Generating {_output}\"\n",
    "   touch {_output}\n",
    "\n",
    "[call: provides='{filename}.vcf']\n",
    "input:   f\"{filename}.bam\"\n",
    "depends: f\"{_input}.bai\"\n",
    "run: expand=True\n",
    "   echo \"Calling variants from {_input} with {_depends} to {_output}\"\n",
    "   touch {_output}"
   ]
  },
  {
   "cell_type": "markdown",
   "metadata": {},
   "source": [
    "In this example, SoS first look for a step that can produce `test.vcf` and found the `call` step through pattern `{filename}.vcf`. It turns out that this step requires an existing input file `test.bam` but a missing dependent file `test.bam.bai`, so it continues to check the workflow to identify step `index` that generates `test.bam.bai` from `test.bam`. With all dependencies met, as illustrated by the DAG (Direct Acyclic Graph) of this workflow, two steps, `index` and `call` are executed to produce the output `test.vcf`."
   ]
  },
  {
   "cell_type": "markdown",
   "metadata": {},
   "source": [
    "As a convenience feature, any workflow step with explicit simple `output` statement can be used as an auxiliary step so that the step can be triggered from its output. Here **simple output statement** means output statements like `output: 'file.txt'` and `output: 'file1.txt', 'file2.txt'` that does not rely on external variables (e.g. not derived from `_input`) and without any option.\n",
    "\n",
    "For example, the following simple workflow can be executed with workflow name `step`,"
   ]
  },
  {
   "cell_type": "code",
   "execution_count": 85,
   "metadata": {
    "kernel": "SoS"
   },
   "outputs": [
    {
     "data": {
      "text/html": [
       "<div class=\"sos_hint\">> a.txt (10 B):</div>"
      ],
      "text/plain": [
       "\n",
       "> a.txt (10 B):"
      ]
     },
     "metadata": {},
     "output_type": "display_data"
    },
    {
     "name": "stdout",
     "output_type": "stream",
     "text": [
      "SOMETHING\n"
     ]
    }
   ],
   "source": [
    "%sandbox\n",
    "%preview -n a.txt\n",
    "%run step\n",
    "\n",
    "[step]\n",
    "output: 'a.txt'\n",
    "\n",
    "sh: expand=True\n",
    "  echo \"SOMETHING\" > {_output}"
   ]
  },
  {
   "cell_type": "markdown",
   "metadata": {},
   "source": [
    "and it can also be executed with expected target `-t a.txt`, because the `step` automatically `provides` `a.txt` because `output: 'a.txt'` is a simple output statement."
   ]
  },
  {
   "cell_type": "code",
   "execution_count": 86,
   "metadata": {
    "kernel": "SoS"
   },
   "outputs": [
    {
     "data": {
      "text/html": [
       "<div class=\"sos_hint\">> a.txt (10 B):</div>"
      ],
      "text/plain": [
       "\n",
       "> a.txt (10 B):"
      ]
     },
     "metadata": {},
     "output_type": "display_data"
    },
    {
     "name": "stdout",
     "output_type": "stream",
     "text": [
      "SOMETHING\n"
     ]
    }
   ],
   "source": [
    "%sandbox\n",
    "%preview -n a.txt\n",
    "\n",
    "%run -t a.txt\n",
    "\n",
    "[step]\n",
    "output: 'a.txt'\n",
    "\n",
    "sh: expand=True\n",
    "  echo \"SOMETHING\" > {_output}"
   ]
  },
  {
   "cell_type": "markdown",
   "metadata": {},
   "source": [
    "Makefile-style workflow can be used to construct very complex workflows. Please refer to a [tutorial on auxiliary steps](../tutorials/Auxiliary_Steps.ipynb) for details."
   ]
  },
  {
   "cell_type": "markdown",
   "metadata": {},
   "source": [
    "### Mixed style workflows <a id=\"Mixed_style_workflows\"></a>"
   ]
  },
  {
   "cell_type": "markdown",
   "metadata": {},
   "source": [
    "Auxiliary steps provide a mechanism to produce missing targets and can also be used in forward-time workflows. The resulting workflows have a numbered \"stem\" steps and an arbitrary number of auxiliary steps that provide required input and dependent files for these steps. For example, the following example demonstrates the use of a nested workflow with two forward-style workflows with assistance from two auxiliary steps."
   ]
  },
  {
   "cell_type": "code",
   "execution_count": 87,
   "metadata": {
    "kernel": "SoS",
    "scrolled": true
   },
   "outputs": [
    {
     "name": "stdout",
     "output_type": "stream",
     "text": [
      "# a real step would download a fasta file for hg19\n",
      "touch hg19.fa\n",
      "\n",
      "align_10\n",
      "align_20\n",
      "touch dbsnp.vcf\n",
      "call_10\n",
      "call_20\n"
     ]
    },
    {
     "data": {
      "text/html": [
       "<div class=\"sos_hint\">> mixed.dot (4.2 KiB):</div>"
      ],
      "text/plain": [
       "\n",
       "> mixed.dot (4.2 KiB):"
      ]
     },
     "metadata": {},
     "output_type": "display_data"
    },
    {
     "data": {
      "image/png": "[encoded data removed]"
     },
     "metadata": {},
     "output_type": "display_data"
    }
   ],
   "source": [
    "%sandbox\n",
    "\n",
    "%preview -n mixed.dot\n",
    "%run -d mixed.dot\n",
    "\n",
    "[align_10]\n",
    "depends: 'hg19.fa'\n",
    "print(step_name)\n",
    "[align_20]\n",
    "print(step_name)\n",
    "[call_10]\n",
    "depends: 'dbsnp.vcf', 'hg19.fa'\n",
    "print(step_name)\n",
    "[call_20]\n",
    "print(step_name)\n",
    "[default]\n",
    "sos_run('align+call')\n",
    "\n",
    "[refseq: provides='hg19.fa']\n",
    "run:\n",
    "    # a real step would download a fasta file for hg19\n",
    "    touch hg19.fa\n",
    "\n",
    "[dbsnp: provides='dbsnp.vcf']\n",
    "run:\n",
    "    touch dbsnp.vcf\n"
   ]
  },
  {
   "cell_type": "markdown",
   "metadata": {},
   "source": [
    "## Modularize SoS Workflow <a id=\"Modularize_SoS_Workflow\"></a>"
   ]
  },
  {
   "cell_type": "markdown",
   "metadata": {},
   "source": [
    "SoS encourages verbatim inclusion of scripts in a single SoS Script (or Notebook) so that the entire workflow can be self-contained, easily readable and modifiable, can be easily versioned, archived and shared. Such workflows are robust to changes in dependent scripts or modulars and therefore more reproducible.\n",
    "\n",
    "However, there are certainly cases when it makes more sense to keep parts of the workflow outside of a SoS script, user cases include but not limited to\n",
    "\n",
    "1. Parts of workflow that are meant to be the same across multiple workflows (e.g. a workflow to deliver and archive results).\n",
    "2. Scripts that are long, or multi-file in nature, or functions that are designed to be reused by multiple scripts in the same or across SoS workflows."
   ]
  },
  {
   "cell_type": "markdown",
   "metadata": {},
   "source": [
    "SoS provides a number of features that allow the inclusion, importing, or execution of external functions, scripts, or workflows. They are scattered around the documentation so here is a summary of what you can do to modularize your SoS workflow:\n",
    "\n",
    "|Method | Example | Pros | Cons | Comment|\n",
    "|---|---|---|---|--|\n",
    "|**utility modules and libraries** | `import my_module` in Python, `library(my_library)` in R etc | Most clean, and can be used for highly reusable components that worth the effort to formalize and maintain them. | It can be difficult to keep the modules backward compatible so changes in such modules might make a previous workflow non-reproducible. | It is usually not practical to rerun archived projects just to test compatibility of these modules. |\n",
    "|**include shared configurations or functions** | `python: input='utility.py'` | Easier to maintain than modules, include the same scripts across actions or workflows | Without proper wrapping and testing, such functions tend to be changed easily and break previous workflow | Suitable only for configuration and functions that do not need to be changed. |\n",
    "|**nested workflow**| `sos_run(source=\"file.sos\")`| Allows the separation of a big workflow to multiple smaller workflows maintained in different SoS workflows. Very flexible because the workflows and sources can be determined programmatically.| The workflows should be logically and functionally separated so that changes in one workflow will not break the entire workflow. | Suitable for the creation of large workflows. |\n",
    "|**external commands**| `sh(\"sos run workflow\")` in SoS or `!sos run workflow` in SoS Notebook | Similar to `sos_run` in SoS | Similar to `sos_run` in SoS | Useful for SoS notebooks with standardized sub-workflows |"
   ]
  }
 ],
 "metadata": {
  "anaconda-cloud": {},
  "kernelspec": {
   "display_name": "SoS",
   "language": "sos",
   "name": "sos"
  },
  "language_info": {
   "codemirror_mode": "sos",
   "file_extension": ".sos",
   "mimetype": "text/x-sos",
   "name": "sos",
   "nbconvert_exporter": "sos_notebook.converter.SoS_Exporter",
   "pygments_lexer": "sos"
  },
  "sos": {
   "celltoolbar": true,
   "default_kernel": "SoS",
   "kernels": [
    [
     "SoS",
     "sos",
     "",
     ""
    ]
   ],
   "panel": {
    "displayed": true,
    "height": 0,
    "style": "side"
   },
   "version": "0.9.13.0"
  },
  "toc": {
   "nav_menu": {
    "height": "386px",
    "width": "254px"
   },
   "navigate_menu": true,
   "number_sections": true,
   "sideBar": true,
   "threshold": 4,
   "toc_cell": false,
   "toc_section_display": "block",
   "toc_window_display": true
  }
 },
 "nbformat": 4,
 "nbformat_minor": 1
}

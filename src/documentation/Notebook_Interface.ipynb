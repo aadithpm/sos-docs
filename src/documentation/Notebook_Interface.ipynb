{
 "cells": [
  {
   "cell_type": "markdown",
   "metadata": {},
   "source": [
    "# SoS Notebook"
   ]
  },
  {
   "cell_type": "markdown",
   "metadata": {
    "workflow_cell": true
   },
   "source": [
    "SoS Notebook is a **multi-language notebook** that allows the use of multiple kernels in a single notebook with data exchange among live kernels, a **Jupyter frontend to the SoS workflow engine** to allows local and remote analysis of large datasets, with an **enhanced Jupyter frontend** that provides features such as line by line execution of cell contents. The unique combination of a multi-language kernel and a workflow engine allows easy transition from interactive data analysis to batch data processing workflows."
   ]
  },
  {
   "cell_type": "markdown",
   "metadata": {
    "workflow_cell": true
   },
   "source": [
    "## Installing the SoS kernel <a id=\"Installing_the_SoS_kernel\"></a>"
   ]
  },
  {
   "cell_type": "markdown",
   "metadata": {},
   "source": [
    "Please follow the instructions in [Running SoS](https://vatlab.github.io/sos-docs/#runningsos) to install `sos`, `sos-notebook`, and relevant language modules. After the installation of `sos-notebook`, you should be able to see `sos` from the output of:"
   ]
  },
  {
   "cell_type": "code",
   "execution_count": 1,
   "metadata": {
    "kernel": "SoS"
   },
   "outputs": [
    {
     "name": "stdout",
     "output_type": "stream",
     "text": [
      "Available kernels:\n",
      "  bash         /Users/bpeng1/Library/Jupyter/kernels/bash\n",
      "  imatlab      /Users/bpeng1/Library/Jupyter/kernels/imatlab\n",
      "  ir           /Users/bpeng1/Library/Jupyter/kernels/ir\n",
      "  julia-0.6    /Users/bpeng1/Library/Jupyter/kernels/julia-0.6\n",
      "  python3      /Users/bpeng1/anaconda3/share/jupyter/kernels/python3\n",
      "  sos          /Users/bpeng1/anaconda3/share/jupyter/kernels/sos\n"
     ]
    }
   ],
   "source": [
    "!jupyter kernelspec list"
   ]
  },
  {
   "cell_type": "markdown",
   "metadata": {},
   "source": [
    "To create a SoS notebook, start a Jupyter server using command\n",
    "```\n",
    "$ jupyter notebook\n",
    "```\n",
    "and select a `SoS` kernel for your new notebook."
   ]
  },
  {
   "cell_type": "markdown",
   "metadata": {},
   "source": [
    "SoS by default records runtime signatures and skip commands that have been executed successfully. Here we change the default signature mode to disallow this feature."
   ]
  },
  {
   "cell_type": "code",
   "execution_count": 2,
   "metadata": {
    "kernel": "R"
   },
   "outputs": [
    {
     "name": "stdout",
     "output_type": "stream",
     "text": [
      "Set sos options to \"-s ignore\"\n"
     ]
    }
   ],
   "source": [
    "%set -s ignore"
   ]
  },
  {
   "cell_type": "markdown",
   "metadata": {},
   "source": [
    "## User Interface <a id=\"User_Interface\"></a>"
   ]
  },
  {
   "cell_type": "markdown",
   "metadata": {
    "kernel": "sos"
   },
   "source": [
    "![user_interface](../media/JupyterNotebook.png)"
   ]
  },
  {
   "cell_type": "markdown",
   "metadata": {},
   "source": [
    "The SoS frontend is based on the Jupyter notebook frontend but adds a dropdown list and a button to the menu bar, a side panel, and dropdown lists for all code cell."
   ]
  },
  {
   "cell_type": "markdown",
   "metadata": {},
   "source": [
    "### cell content <a id=\"cell_content\"></a>"
   ]
  },
  {
   "cell_type": "markdown",
   "metadata": {},
   "source": [
    "A SoS Jupyter notebook accepts the following types of cells:\n",
    "\n",
    "|Cell type | Content |Interpreted by| Behavior |\n",
    "|----------|-----------------|----------|\n",
    "|**Markdown**| Markdown text |Jupyter| can be evaluated to have title, table etc|\n",
    "|**Subkernel**| Statements in other languages with optional SoS magics| Subkernels| SoS prepares statements and evaluate them in subkernels such as R. |\n",
    "|**SoS**| SoS statements without section header| SoS | Evaluate the cell as a SoS step in a persistent SoS dictionary.|\n",
    "|**Workflow**| SoS statements with section header | SoS | Can only be executed by magic `%run` (workflow in the current cell) or `%sosrun` (workflow in the entire notebook).|"
   ]
  },
  {
   "cell_type": "markdown",
   "metadata": {},
   "source": [
    "The **markdown cells** contains Markdown text and are rendered by Jupyter. These cells are used for displaying rich-format texts such as title and table. Most of the content of this documentation is written in such cells."
   ]
  },
  {
   "cell_type": "markdown",
   "metadata": {},
   "source": [
    "The kernel of each **code cell** is marked by the language selector at the top-right corner of each code cell, and by the color of the prompt area of the cell. For example, the following cell is a code cell with kernel `R`."
   ]
  },
  {
   "cell_type": "code",
   "execution_count": 3,
   "metadata": {
    "kernel": "R"
   },
   "outputs": [
    {
     "data": {
      "text/html": [
       "'This is cool !'"
      ],
      "text/latex": [
       "'This is cool !'"
      ],
      "text/markdown": [
       "'This is cool !'"
      ],
      "text/plain": [
       "[1] \"This is cool !\""
      ]
     },
     "metadata": {},
     "output_type": "display_data"
    }
   ],
   "source": [
    "paste('This', 'is', 'cool', '!')"
   ]
  },
  {
   "cell_type": "markdown",
   "metadata": {},
   "source": [
    "A cell with a SoS kernel can be either a **SoS cell** or a **Workflow cell**, with the latter containing **section headers**. A scratch cell is executed immediately with a persistent SoS dictionary so that you can execute arbitrary SoS (Python) statements,"
   ]
  },
  {
   "cell_type": "code",
   "execution_count": 4,
   "metadata": {
    "kernel": "SoS",
    "workflow_cell": false
   },
   "outputs": [
    {
     "name": "stdout",
     "output_type": "stream",
     "text": [
      "This is a scratch cell\n"
     ]
    }
   ],
   "source": [
    "print('This is a scratch cell')"
   ]
  },
  {
   "cell_type": "markdown",
   "metadata": {},
   "source": [
    "or a single SoS step without header"
   ]
  },
  {
   "cell_type": "code",
   "execution_count": 5,
   "metadata": {
    "kernel": "SoS",
    "workflow_cell": false
   },
   "outputs": [
    {
     "data": {
      "text/html": [
       "<div class=\"sos_hint\">> rand.txt (49 B):</div>"
      ],
      "text/plain": [
       "\n",
       "> rand.txt (49 B):"
      ]
     },
     "metadata": {},
     "output_type": "display_data"
    },
    {
     "name": "stdout",
     "output_type": "stream",
     "text": [
      "1.486479 -0.9230241 0.3021701 -0.1997381 2.336216"
     ]
    }
   ],
   "source": [
    "%preview -n rand.txt\n",
    "output: 'rand.txt'\n",
    "R: expand=True\n",
    "    cat(rnorm(5), file='{_output}')"
   ]
  },
  {
   "cell_type": "markdown",
   "metadata": {},
   "source": [
    "The last type of SoS cell contains formal definition of SoS steps. These cells define complete SoS workflows and can only be executed by SoS magics (with magics `%run` or `%sosrun`) in Jupyter or by SoS commands from command line. For example, executing the following cell would not execute any statement."
   ]
  },
  {
   "cell_type": "code",
   "execution_count": 6,
   "metadata": {
    "kernel": "SoS",
    "workflow_cell": true
   },
   "outputs": [],
   "source": [
    "[test_20]\n",
    "print(f\"This is step {step_name} of a workflow\")"
   ]
  },
  {
   "cell_type": "markdown",
   "metadata": {
    "collapsed": true
   },
   "source": [
    "and you can execute the cell with a SoS magic `%run`."
   ]
  },
  {
   "cell_type": "code",
   "execution_count": 7,
   "metadata": {
    "kernel": "SoS",
    "workflow_cell": false
   },
   "outputs": [
    {
     "name": "stdout",
     "output_type": "stream",
     "text": [
      "This is step wf_20 of a workflow\n"
     ]
    }
   ],
   "source": [
    "%run wf\n",
    "[wf_20]\n",
    "print(f\"This is step {step_name} of a workflow\")"
   ]
  },
  {
   "cell_type": "markdown",
   "metadata": {},
   "source": [
    "What is even more magical about these cells is that they form **notebook workflows** that consist of all sections defined in the Jupyter notebook. A `%sosrun` magic would collect all workflow stepss in a notebook and execute them."
   ]
  },
  {
   "cell_type": "code",
   "execution_count": 8,
   "metadata": {
    "kernel": "SoS",
    "workflow_cell": false
   },
   "outputs": [
    {
     "name": "stdout",
     "output_type": "stream",
     "text": [
      "This is step wf_20 of a workflow\n",
      "This is step wf_30 of a workflow\n"
     ]
    }
   ],
   "source": [
    "%sosrun wf\n",
    "[wf_30]\n",
    "print(f\"This is step {step_name} of a workflow\")"
   ]
  },
  {
   "cell_type": "markdown",
   "metadata": {},
   "source": [
    "SoS provides a rich environment for you to analyze data in different languages. Generally speaking, you can\n",
    "\n",
    "* Use subkernels to analyze data interactively using different languages.\n",
    "* Use SoS cells to execute complete (and separate) scripts to analyze data or test steps of workflows, and\n",
    "* If needed, convert SoS cells to workflow cells to create complete workflows to analyze data in batch mode."
   ]
  },
  {
   "cell_type": "markdown",
   "metadata": {},
   "source": [
    "### Switch between kernels <a id=\"Switch_between_kernels\"></a>"
   ]
  },
  {
   "cell_type": "markdown",
   "metadata": {},
   "source": [
    "You can also enter any statement for any other (installed) kernel after you switch to the subkernel. The switch can be down either programmatically using magics `%with` or `%use`, or interactively using the language selection drop downs."
   ]
  },
  {
   "cell_type": "markdown",
   "metadata": {},
   "source": [
    "1. A dropdown list at the top right corner of each cell displays the current kernel for the cell. You can change the kernel used for the cell by selecting another kernel from the list. This will start the cell with the specified kernel, although another kernel can still be used if the cell contains kernel switching magics `%use` or `%with`.\n",
    "\n",
    "2. A dropbown list in the notebook toolbar lists the global default kernel that would be used for new cell. Changing the kernel from the tool bar effectively executes a `%use KERNEL` command. It will also change the kernel of any new cell to that kernel."
   ]
  },
  {
   "cell_type": "markdown",
   "metadata": {},
   "source": [
    "### Side panel <a id=\"Side_panel\"></a>"
   ]
  },
  {
   "cell_type": "markdown",
   "metadata": {},
   "source": [
    "SoS provides a side panel that can be toggled by a cube icon next to the language selection dropdown. The side panel contains a special cell that is used for two purposes:\n",
    "\n",
    "1. A scratch cell using which you can evaluate any expression and check its results. \n",
    "2. A preview cell in which the `%preview` magic of any cell would be executed if the side panel is open.\n",
    "\n",
    "The input area of the panel cell has a dropdown button that allows you to execute a few frequently executed magics and previous executed statements.\n",
    "\n",
    "Because this cell is not part of the main notebook, its output will not be saved with the notebook. This allows you to test commands, check environment, values of variables and content of files without affecting the content of the notebook.\n"
   ]
  },
  {
   "cell_type": "markdown",
   "metadata": {},
   "source": [
    "### Keyboard Shortcuts <a id=\"Keyboard_Shortcuts\"></a>"
   ]
  },
  {
   "cell_type": "markdown",
   "metadata": {},
   "source": [
    "In addition to shortcuts defined by Jupyter (e.g. `Ctrl-Enter` to evaluate a cell and `Shift-Enter` to evaluate a cell and move next), the SoS kernel defines the following shortcuts\n",
    "\n",
    "1. `Ctrl-Shift-Enter` This shortcut **send selected text or current line if there is no selection to the panel cell for evaluation**, using the kernel of the current cell. This effectively allows you to evaluate content of a cell line by line.\n",
    "2. `Ctrl-Shift-t` executes magic `%toc` that **displays the table of content of the current notebook** in the side panel, allowing you to easily navigate within a (long) notebook.\n",
    "3. `Ctrl-Shift-O` (output) **toggles a code cell tag `show_output`** and mark the output with a gray bar to the right of the output area, or toggle a markdown cell tag `hide_output`. The tags will be rendered accordingly in HTML reports generated using sos templates.\n",
    "4. `Ctrl-Shift-v` (paste-table) If you have a table copied from external sources such as HTML page or excel file and if you are inside of a markdown cell, this shortcut **pastes table as markdown code to the current cell**. This allows easy copy of tables to SoS notebook.\n",
    "5. `Ctrl-Shift-m` (markdown) **toggle a cell between markdown and code type**, which can be easier to use than select code or markdown cell type from tool bar.\n",
    "6. `Ctrl-B` toggles side-panel. This is for compatibility with the toc2 extension of Jupyter notebook."
   ]
  },
  {
   "cell_type": "markdown",
   "metadata": {},
   "source": [
    "### Other usage hints <a id=\"Other_usage_hints\"></a>"
   ]
  },
  {
   "cell_type": "markdown",
   "metadata": {},
   "source": [
    "1. **Paste pictures from clipboard**: You can paste image from clipboard directly to a markdown cell of the Jupyter notebook using `Ctrl-V` (or `Cmd-V` under Mac OS X). The key here is that you should select a markdown cell before pasting.\n",
    "2. **Drag and drop figures**: You can drag a picture and drop it to a markdown cell of the Jupyter notebook.\n",
    "3. **Tab completion**: You can use tab to complete keyword, magics (enter `%` and press `TAB` to get a list of magics), variable name, function name, file name etc.\n",
    "4. **Inspect name**: You can place your cursor inside a keyword, function name, magic etc, and press `CTRL-TAB` to inspect it. SoS will show variable name,, help message etc depending on the keyword that is being inspected."
   ]
  },
  {
   "cell_type": "markdown",
   "metadata": {},
   "source": [
    "### How to get help <a id=\"How_to_get_help\"></a>"
   ]
  },
  {
   "cell_type": "markdown",
   "metadata": {},
   "source": [
    "It is recommended that you go through this document and understand how SoS Notebook works, but it is of course not possible for you to memorize all the magics, SoS actions and their options. To get help, you can\n",
    "\n",
    "1. For a complete reference, visit the [documentation page of SoS](https://vatlab.github.io/SoS/#documentation).\n",
    "2. For a list of available magics, type `%` and `TAB` (completion).\n",
    "3. For help on a particular magic, execute the magic with option `-h` (e.g. `%run -h`) in the side panel. Alternatively, you can place your cursor on `%run` and press `CTRL-TAB` to get a short description of magic.\n",
    "4. For help on a SoS action (e.g. `python`), place your cursor on the action name (e.g. before `:` on `python:`), press `CTRL-TAB` to get the help message of the action."
   ]
  },
  {
   "cell_type": "markdown",
   "metadata": {},
   "source": [
    "## Preview of results <a id=\"Preview_of_results\"></a>"
   ]
  },
  {
   "cell_type": "markdown",
   "metadata": {},
   "source": [
    "Instant preview of intermediate results is extrmely useful for interactive data analysis. SoS provides rich and extensible preview features to\n",
    "\n",
    "* preview files in many different formats, \n",
    "* preview variables and expressions in SoS and subkernels,\n",
    "* show preview results temporarily in the side panel or permanently in the main notebook, and\n",
    "* generate interactive tables and plots for better presentation of data both in Jupyter notebook and in converted HTML reports."
   ]
  },
  {
   "cell_type": "markdown",
   "metadata": {},
   "source": [
    "### Magic `%preview`  <a id=\"Magic_preview\"></a>"
   ]
  },
  {
   "cell_type": "markdown",
   "metadata": {},
   "source": [
    "SoS provides a `%preview` magic to preview files and variables (and their expressions) after the completion of a cell. By default, `%preview` displays results in the side panel if the side panel is open, and otherwise in the main notebook. You can override this behavior with options `-p` (`--panel`) or `-n` (`--notebook`) to always display results in the side panel or notebook.\n",
    "\n",
    "For example, in a subkernel R, you can do"
   ]
  },
  {
   "cell_type": "code",
   "execution_count": 9,
   "metadata": {
    "kernel": "R",
    "scrolled": true
   },
   "outputs": [
    {
     "data": {
      "text/html": [
       "<strong>pdf:</strong> 2"
      ],
      "text/latex": [
       "\\textbf{pdf:} 2"
      ],
      "text/markdown": [
       "**pdf:** 2"
      ],
      "text/plain": [
       "pdf \n",
       "  2 "
      ]
     },
     "metadata": {},
     "output_type": "display_data"
    }
   ],
   "source": [
    "%preview a.png\n",
    "%use R\n",
    "png(\"a.png\")\n",
    "plot(seq(1,10, 0.1), sin(seq(1,10, 0.1)))\n",
    "dev.off()"
   ]
  },
  {
   "cell_type": "markdown",
   "metadata": {},
   "source": [
    "to preview `a.png` generated by this cell. The figure will be displayed in the side panel if the side panel is open, or otherwise in the main notebook."
   ]
  },
  {
   "cell_type": "markdown",
   "metadata": {},
   "source": [
    "The `%preview` magic also accept sos variable and expressions. For example, the following example previes variable `mtcars` in a R kernel. "
   ]
  },
  {
   "cell_type": "code",
   "execution_count": 10,
   "metadata": {
    "kernel": "R",
    "workflow_cell": false
   },
   "outputs": [
    {
     "data": {
      "text/html": [
       "<div class=\"sos_hint\">> mtcars:</div>"
      ],
      "text/plain": [
       ">>> mtcars:\n"
      ]
     },
     "metadata": {},
     "output_type": "display_data"
    },
    {
     "data": {
      "text/html": [
       "<table>\n",
       "<thead><tr><th></th><th scope=col>mpg</th><th scope=col>cyl</th><th scope=col>disp</th><th scope=col>hp</th><th scope=col>drat</th><th scope=col>wt</th><th scope=col>qsec</th><th scope=col>vs</th><th scope=col>am</th><th scope=col>gear</th><th scope=col>carb</th></tr></thead>\n",
       "<tbody>\n",
       "\t<tr><th scope=row>Mazda RX4</th><td>21.0 </td><td>6    </td><td>160.0</td><td>110  </td><td>3.90 </td><td>2.620</td><td>16.46</td><td>0    </td><td>1    </td><td>4    </td><td>4    </td></tr>\n",
       "\t<tr><th scope=row>Mazda RX4 Wag</th><td>21.0 </td><td>6    </td><td>160.0</td><td>110  </td><td>3.90 </td><td>2.875</td><td>17.02</td><td>0    </td><td>1    </td><td>4    </td><td>4    </td></tr>\n",
       "\t<tr><th scope=row>Datsun 710</th><td>22.8 </td><td>4    </td><td>108.0</td><td> 93  </td><td>3.85 </td><td>2.320</td><td>18.61</td><td>1    </td><td>1    </td><td>4    </td><td>1    </td></tr>\n",
       "\t<tr><th scope=row>Hornet 4 Drive</th><td>21.4 </td><td>6    </td><td>258.0</td><td>110  </td><td>3.08 </td><td>3.215</td><td>19.44</td><td>1    </td><td>0    </td><td>3    </td><td>1    </td></tr>\n",
       "\t<tr><th scope=row>Hornet Sportabout</th><td>18.7 </td><td>8    </td><td>360.0</td><td>175  </td><td>3.15 </td><td>3.440</td><td>17.02</td><td>0    </td><td>0    </td><td>3    </td><td>2    </td></tr>\n",
       "\t<tr><th scope=row>Valiant</th><td>18.1 </td><td>6    </td><td>225.0</td><td>105  </td><td>2.76 </td><td>3.460</td><td>20.22</td><td>1    </td><td>0    </td><td>3    </td><td>1    </td></tr>\n",
       "\t<tr><th scope=row>Duster 360</th><td>14.3 </td><td>8    </td><td>360.0</td><td>245  </td><td>3.21 </td><td>3.570</td><td>15.84</td><td>0    </td><td>0    </td><td>3    </td><td>4    </td></tr>\n",
       "\t<tr><th scope=row>Merc 240D</th><td>24.4 </td><td>4    </td><td>146.7</td><td> 62  </td><td>3.69 </td><td>3.190</td><td>20.00</td><td>1    </td><td>0    </td><td>4    </td><td>2    </td></tr>\n",
       "\t<tr><th scope=row>Merc 230</th><td>22.8 </td><td>4    </td><td>140.8</td><td> 95  </td><td>3.92 </td><td>3.150</td><td>22.90</td><td>1    </td><td>0    </td><td>4    </td><td>2    </td></tr>\n",
       "\t<tr><th scope=row>Merc 280</th><td>19.2 </td><td>6    </td><td>167.6</td><td>123  </td><td>3.92 </td><td>3.440</td><td>18.30</td><td>1    </td><td>0    </td><td>4    </td><td>4    </td></tr>\n",
       "\t<tr><th scope=row>Merc 280C</th><td>17.8 </td><td>6    </td><td>167.6</td><td>123  </td><td>3.92 </td><td>3.440</td><td>18.90</td><td>1    </td><td>0    </td><td>4    </td><td>4    </td></tr>\n",
       "\t<tr><th scope=row>Merc 450SE</th><td>16.4 </td><td>8    </td><td>275.8</td><td>180  </td><td>3.07 </td><td>4.070</td><td>17.40</td><td>0    </td><td>0    </td><td>3    </td><td>3    </td></tr>\n",
       "\t<tr><th scope=row>Merc 450SL</th><td>17.3 </td><td>8    </td><td>275.8</td><td>180  </td><td>3.07 </td><td>3.730</td><td>17.60</td><td>0    </td><td>0    </td><td>3    </td><td>3    </td></tr>\n",
       "\t<tr><th scope=row>Merc 450SLC</th><td>15.2 </td><td>8    </td><td>275.8</td><td>180  </td><td>3.07 </td><td>3.780</td><td>18.00</td><td>0    </td><td>0    </td><td>3    </td><td>3    </td></tr>\n",
       "\t<tr><th scope=row>Cadillac Fleetwood</th><td>10.4 </td><td>8    </td><td>472.0</td><td>205  </td><td>2.93 </td><td>5.250</td><td>17.98</td><td>0    </td><td>0    </td><td>3    </td><td>4    </td></tr>\n",
       "\t<tr><th scope=row>Lincoln Continental</th><td>10.4 </td><td>8    </td><td>460.0</td><td>215  </td><td>3.00 </td><td>5.424</td><td>17.82</td><td>0    </td><td>0    </td><td>3    </td><td>4    </td></tr>\n",
       "\t<tr><th scope=row>Chrysler Imperial</th><td>14.7 </td><td>8    </td><td>440.0</td><td>230  </td><td>3.23 </td><td>5.345</td><td>17.42</td><td>0    </td><td>0    </td><td>3    </td><td>4    </td></tr>\n",
       "\t<tr><th scope=row>Fiat 128</th><td>32.4 </td><td>4    </td><td> 78.7</td><td> 66  </td><td>4.08 </td><td>2.200</td><td>19.47</td><td>1    </td><td>1    </td><td>4    </td><td>1    </td></tr>\n",
       "\t<tr><th scope=row>Honda Civic</th><td>30.4 </td><td>4    </td><td> 75.7</td><td> 52  </td><td>4.93 </td><td>1.615</td><td>18.52</td><td>1    </td><td>1    </td><td>4    </td><td>2    </td></tr>\n",
       "\t<tr><th scope=row>Toyota Corolla</th><td>33.9 </td><td>4    </td><td> 71.1</td><td> 65  </td><td>4.22 </td><td>1.835</td><td>19.90</td><td>1    </td><td>1    </td><td>4    </td><td>1    </td></tr>\n",
       "\t<tr><th scope=row>Toyota Corona</th><td>21.5 </td><td>4    </td><td>120.1</td><td> 97  </td><td>3.70 </td><td>2.465</td><td>20.01</td><td>1    </td><td>0    </td><td>3    </td><td>1    </td></tr>\n",
       "\t<tr><th scope=row>Dodge Challenger</th><td>15.5 </td><td>8    </td><td>318.0</td><td>150  </td><td>2.76 </td><td>3.520</td><td>16.87</td><td>0    </td><td>0    </td><td>3    </td><td>2    </td></tr>\n",
       "\t<tr><th scope=row>AMC Javelin</th><td>15.2 </td><td>8    </td><td>304.0</td><td>150  </td><td>3.15 </td><td>3.435</td><td>17.30</td><td>0    </td><td>0    </td><td>3    </td><td>2    </td></tr>\n",
       "\t<tr><th scope=row>Camaro Z28</th><td>13.3 </td><td>8    </td><td>350.0</td><td>245  </td><td>3.73 </td><td>3.840</td><td>15.41</td><td>0    </td><td>0    </td><td>3    </td><td>4    </td></tr>\n",
       "\t<tr><th scope=row>Pontiac Firebird</th><td>19.2 </td><td>8    </td><td>400.0</td><td>175  </td><td>3.08 </td><td>3.845</td><td>17.05</td><td>0    </td><td>0    </td><td>3    </td><td>2    </td></tr>\n",
       "\t<tr><th scope=row>Fiat X1-9</th><td>27.3 </td><td>4    </td><td> 79.0</td><td> 66  </td><td>4.08 </td><td>1.935</td><td>18.90</td><td>1    </td><td>1    </td><td>4    </td><td>1    </td></tr>\n",
       "\t<tr><th scope=row>Porsche 914-2</th><td>26.0 </td><td>4    </td><td>120.3</td><td> 91  </td><td>4.43 </td><td>2.140</td><td>16.70</td><td>0    </td><td>1    </td><td>5    </td><td>2    </td></tr>\n",
       "\t<tr><th scope=row>Lotus Europa</th><td>30.4 </td><td>4    </td><td> 95.1</td><td>113  </td><td>3.77 </td><td>1.513</td><td>16.90</td><td>1    </td><td>1    </td><td>5    </td><td>2    </td></tr>\n",
       "\t<tr><th scope=row>Ford Pantera L</th><td>15.8 </td><td>8    </td><td>351.0</td><td>264  </td><td>4.22 </td><td>3.170</td><td>14.50</td><td>0    </td><td>1    </td><td>5    </td><td>4    </td></tr>\n",
       "\t<tr><th scope=row>Ferrari Dino</th><td>19.7 </td><td>6    </td><td>145.0</td><td>175  </td><td>3.62 </td><td>2.770</td><td>15.50</td><td>0    </td><td>1    </td><td>5    </td><td>6    </td></tr>\n",
       "\t<tr><th scope=row>Maserati Bora</th><td>15.0 </td><td>8    </td><td>301.0</td><td>335  </td><td>3.54 </td><td>3.570</td><td>14.60</td><td>0    </td><td>1    </td><td>5    </td><td>8    </td></tr>\n",
       "\t<tr><th scope=row>Volvo 142E</th><td>21.4 </td><td>4    </td><td>121.0</td><td>109  </td><td>4.11 </td><td>2.780</td><td>18.60</td><td>1    </td><td>1    </td><td>4    </td><td>2    </td></tr>\n",
       "</tbody>\n",
       "</table>\n"
      ],
      "text/latex": [
       "\\begin{tabular}{r|lllllllllll}\n",
       "  & mpg & cyl & disp & hp & drat & wt & qsec & vs & am & gear & carb\\\\\n",
       "\\hline\n",
       "\tMazda RX4 & 21.0  & 6     & 160.0 & 110   & 3.90  & 2.620 & 16.46 & 0     & 1     & 4     & 4    \\\\\n",
       "\tMazda RX4 Wag & 21.0  & 6     & 160.0 & 110   & 3.90  & 2.875 & 17.02 & 0     & 1     & 4     & 4    \\\\\n",
       "\tDatsun 710 & 22.8  & 4     & 108.0 &  93   & 3.85  & 2.320 & 18.61 & 1     & 1     & 4     & 1    \\\\\n",
       "\tHornet 4 Drive & 21.4  & 6     & 258.0 & 110   & 3.08  & 3.215 & 19.44 & 1     & 0     & 3     & 1    \\\\\n",
       "\tHornet Sportabout & 18.7  & 8     & 360.0 & 175   & 3.15  & 3.440 & 17.02 & 0     & 0     & 3     & 2    \\\\\n",
       "\tValiant & 18.1  & 6     & 225.0 & 105   & 2.76  & 3.460 & 20.22 & 1     & 0     & 3     & 1    \\\\\n",
       "\tDuster 360 & 14.3  & 8     & 360.0 & 245   & 3.21  & 3.570 & 15.84 & 0     & 0     & 3     & 4    \\\\\n",
       "\tMerc 240D & 24.4  & 4     & 146.7 &  62   & 3.69  & 3.190 & 20.00 & 1     & 0     & 4     & 2    \\\\\n",
       "\tMerc 230 & 22.8  & 4     & 140.8 &  95   & 3.92  & 3.150 & 22.90 & 1     & 0     & 4     & 2    \\\\\n",
       "\tMerc 280 & 19.2  & 6     & 167.6 & 123   & 3.92  & 3.440 & 18.30 & 1     & 0     & 4     & 4    \\\\\n",
       "\tMerc 280C & 17.8  & 6     & 167.6 & 123   & 3.92  & 3.440 & 18.90 & 1     & 0     & 4     & 4    \\\\\n",
       "\tMerc 450SE & 16.4  & 8     & 275.8 & 180   & 3.07  & 4.070 & 17.40 & 0     & 0     & 3     & 3    \\\\\n",
       "\tMerc 450SL & 17.3  & 8     & 275.8 & 180   & 3.07  & 3.730 & 17.60 & 0     & 0     & 3     & 3    \\\\\n",
       "\tMerc 450SLC & 15.2  & 8     & 275.8 & 180   & 3.07  & 3.780 & 18.00 & 0     & 0     & 3     & 3    \\\\\n",
       "\tCadillac Fleetwood & 10.4  & 8     & 472.0 & 205   & 2.93  & 5.250 & 17.98 & 0     & 0     & 3     & 4    \\\\\n",
       "\tLincoln Continental & 10.4  & 8     & 460.0 & 215   & 3.00  & 5.424 & 17.82 & 0     & 0     & 3     & 4    \\\\\n",
       "\tChrysler Imperial & 14.7  & 8     & 440.0 & 230   & 3.23  & 5.345 & 17.42 & 0     & 0     & 3     & 4    \\\\\n",
       "\tFiat 128 & 32.4  & 4     &  78.7 &  66   & 4.08  & 2.200 & 19.47 & 1     & 1     & 4     & 1    \\\\\n",
       "\tHonda Civic & 30.4  & 4     &  75.7 &  52   & 4.93  & 1.615 & 18.52 & 1     & 1     & 4     & 2    \\\\\n",
       "\tToyota Corolla & 33.9  & 4     &  71.1 &  65   & 4.22  & 1.835 & 19.90 & 1     & 1     & 4     & 1    \\\\\n",
       "\tToyota Corona & 21.5  & 4     & 120.1 &  97   & 3.70  & 2.465 & 20.01 & 1     & 0     & 3     & 1    \\\\\n",
       "\tDodge Challenger & 15.5  & 8     & 318.0 & 150   & 2.76  & 3.520 & 16.87 & 0     & 0     & 3     & 2    \\\\\n",
       "\tAMC Javelin & 15.2  & 8     & 304.0 & 150   & 3.15  & 3.435 & 17.30 & 0     & 0     & 3     & 2    \\\\\n",
       "\tCamaro Z28 & 13.3  & 8     & 350.0 & 245   & 3.73  & 3.840 & 15.41 & 0     & 0     & 3     & 4    \\\\\n",
       "\tPontiac Firebird & 19.2  & 8     & 400.0 & 175   & 3.08  & 3.845 & 17.05 & 0     & 0     & 3     & 2    \\\\\n",
       "\tFiat X1-9 & 27.3  & 4     &  79.0 &  66   & 4.08  & 1.935 & 18.90 & 1     & 1     & 4     & 1    \\\\\n",
       "\tPorsche 914-2 & 26.0  & 4     & 120.3 &  91   & 4.43  & 2.140 & 16.70 & 0     & 1     & 5     & 2    \\\\\n",
       "\tLotus Europa & 30.4  & 4     &  95.1 & 113   & 3.77  & 1.513 & 16.90 & 1     & 1     & 5     & 2    \\\\\n",
       "\tFord Pantera L & 15.8  & 8     & 351.0 & 264   & 4.22  & 3.170 & 14.50 & 0     & 1     & 5     & 4    \\\\\n",
       "\tFerrari Dino & 19.7  & 6     & 145.0 & 175   & 3.62  & 2.770 & 15.50 & 0     & 1     & 5     & 6    \\\\\n",
       "\tMaserati Bora & 15.0  & 8     & 301.0 & 335   & 3.54  & 3.570 & 14.60 & 0     & 1     & 5     & 8    \\\\\n",
       "\tVolvo 142E & 21.4  & 4     & 121.0 & 109   & 4.11  & 2.780 & 18.60 & 1     & 1     & 4     & 2    \\\\\n",
       "\\end{tabular}\n"
      ],
      "text/markdown": [
       "\n",
       "| <!--/--> | mpg | cyl | disp | hp | drat | wt | qsec | vs | am | gear | carb | \n",
       "|---|---|---|---|---|---|---|---|---|---|---|---|---|---|---|---|---|---|---|---|---|---|---|---|---|---|---|---|---|---|---|---|\n",
       "| Mazda RX4 | 21.0  | 6     | 160.0 | 110   | 3.90  | 2.620 | 16.46 | 0     | 1     | 4     | 4     | \n",
       "| Mazda RX4 Wag | 21.0  | 6     | 160.0 | 110   | 3.90  | 2.875 | 17.02 | 0     | 1     | 4     | 4     | \n",
       "| Datsun 710 | 22.8  | 4     | 108.0 |  93   | 3.85  | 2.320 | 18.61 | 1     | 1     | 4     | 1     | \n",
       "| Hornet 4 Drive | 21.4  | 6     | 258.0 | 110   | 3.08  | 3.215 | 19.44 | 1     | 0     | 3     | 1     | \n",
       "| Hornet Sportabout | 18.7  | 8     | 360.0 | 175   | 3.15  | 3.440 | 17.02 | 0     | 0     | 3     | 2     | \n",
       "| Valiant | 18.1  | 6     | 225.0 | 105   | 2.76  | 3.460 | 20.22 | 1     | 0     | 3     | 1     | \n",
       "| Duster 360 | 14.3  | 8     | 360.0 | 245   | 3.21  | 3.570 | 15.84 | 0     | 0     | 3     | 4     | \n",
       "| Merc 240D | 24.4  | 4     | 146.7 |  62   | 3.69  | 3.190 | 20.00 | 1     | 0     | 4     | 2     | \n",
       "| Merc 230 | 22.8  | 4     | 140.8 |  95   | 3.92  | 3.150 | 22.90 | 1     | 0     | 4     | 2     | \n",
       "| Merc 280 | 19.2  | 6     | 167.6 | 123   | 3.92  | 3.440 | 18.30 | 1     | 0     | 4     | 4     | \n",
       "| Merc 280C | 17.8  | 6     | 167.6 | 123   | 3.92  | 3.440 | 18.90 | 1     | 0     | 4     | 4     | \n",
       "| Merc 450SE | 16.4  | 8     | 275.8 | 180   | 3.07  | 4.070 | 17.40 | 0     | 0     | 3     | 3     | \n",
       "| Merc 450SL | 17.3  | 8     | 275.8 | 180   | 3.07  | 3.730 | 17.60 | 0     | 0     | 3     | 3     | \n",
       "| Merc 450SLC | 15.2  | 8     | 275.8 | 180   | 3.07  | 3.780 | 18.00 | 0     | 0     | 3     | 3     | \n",
       "| Cadillac Fleetwood | 10.4  | 8     | 472.0 | 205   | 2.93  | 5.250 | 17.98 | 0     | 0     | 3     | 4     | \n",
       "| Lincoln Continental | 10.4  | 8     | 460.0 | 215   | 3.00  | 5.424 | 17.82 | 0     | 0     | 3     | 4     | \n",
       "| Chrysler Imperial | 14.7  | 8     | 440.0 | 230   | 3.23  | 5.345 | 17.42 | 0     | 0     | 3     | 4     | \n",
       "| Fiat 128 | 32.4  | 4     |  78.7 |  66   | 4.08  | 2.200 | 19.47 | 1     | 1     | 4     | 1     | \n",
       "| Honda Civic | 30.4  | 4     |  75.7 |  52   | 4.93  | 1.615 | 18.52 | 1     | 1     | 4     | 2     | \n",
       "| Toyota Corolla | 33.9  | 4     |  71.1 |  65   | 4.22  | 1.835 | 19.90 | 1     | 1     | 4     | 1     | \n",
       "| Toyota Corona | 21.5  | 4     | 120.1 |  97   | 3.70  | 2.465 | 20.01 | 1     | 0     | 3     | 1     | \n",
       "| Dodge Challenger | 15.5  | 8     | 318.0 | 150   | 2.76  | 3.520 | 16.87 | 0     | 0     | 3     | 2     | \n",
       "| AMC Javelin | 15.2  | 8     | 304.0 | 150   | 3.15  | 3.435 | 17.30 | 0     | 0     | 3     | 2     | \n",
       "| Camaro Z28 | 13.3  | 8     | 350.0 | 245   | 3.73  | 3.840 | 15.41 | 0     | 0     | 3     | 4     | \n",
       "| Pontiac Firebird | 19.2  | 8     | 400.0 | 175   | 3.08  | 3.845 | 17.05 | 0     | 0     | 3     | 2     | \n",
       "| Fiat X1-9 | 27.3  | 4     |  79.0 |  66   | 4.08  | 1.935 | 18.90 | 1     | 1     | 4     | 1     | \n",
       "| Porsche 914-2 | 26.0  | 4     | 120.3 |  91   | 4.43  | 2.140 | 16.70 | 0     | 1     | 5     | 2     | \n",
       "| Lotus Europa | 30.4  | 4     |  95.1 | 113   | 3.77  | 1.513 | 16.90 | 1     | 1     | 5     | 2     | \n",
       "| Ford Pantera L | 15.8  | 8     | 351.0 | 264   | 4.22  | 3.170 | 14.50 | 0     | 1     | 5     | 4     | \n",
       "| Ferrari Dino | 19.7  | 6     | 145.0 | 175   | 3.62  | 2.770 | 15.50 | 0     | 1     | 5     | 6     | \n",
       "| Maserati Bora | 15.0  | 8     | 301.0 | 335   | 3.54  | 3.570 | 14.60 | 0     | 1     | 5     | 8     | \n",
       "| Volvo 142E | 21.4  | 4     | 121.0 | 109   | 4.11  | 2.780 | 18.60 | 1     | 1     | 4     | 2     | \n",
       "\n",
       "\n"
      ],
      "text/plain": [
       "                    mpg  cyl disp  hp  drat wt    qsec  vs am gear carb\n",
       "Mazda RX4           21.0 6   160.0 110 3.90 2.620 16.46 0  1  4    4   \n",
       "Mazda RX4 Wag       21.0 6   160.0 110 3.90 2.875 17.02 0  1  4    4   \n",
       "Datsun 710          22.8 4   108.0  93 3.85 2.320 18.61 1  1  4    1   \n",
       "Hornet 4 Drive      21.4 6   258.0 110 3.08 3.215 19.44 1  0  3    1   \n",
       "Hornet Sportabout   18.7 8   360.0 175 3.15 3.440 17.02 0  0  3    2   \n",
       "Valiant             18.1 6   225.0 105 2.76 3.460 20.22 1  0  3    1   \n",
       "Duster 360          14.3 8   360.0 245 3.21 3.570 15.84 0  0  3    4   \n",
       "Merc 240D           24.4 4   146.7  62 3.69 3.190 20.00 1  0  4    2   \n",
       "Merc 230            22.8 4   140.8  95 3.92 3.150 22.90 1  0  4    2   \n",
       "Merc 280            19.2 6   167.6 123 3.92 3.440 18.30 1  0  4    4   \n",
       "Merc 280C           17.8 6   167.6 123 3.92 3.440 18.90 1  0  4    4   \n",
       "Merc 450SE          16.4 8   275.8 180 3.07 4.070 17.40 0  0  3    3   \n",
       "Merc 450SL          17.3 8   275.8 180 3.07 3.730 17.60 0  0  3    3   \n",
       "Merc 450SLC         15.2 8   275.8 180 3.07 3.780 18.00 0  0  3    3   \n",
       "Cadillac Fleetwood  10.4 8   472.0 205 2.93 5.250 17.98 0  0  3    4   \n",
       "Lincoln Continental 10.4 8   460.0 215 3.00 5.424 17.82 0  0  3    4   \n",
       "Chrysler Imperial   14.7 8   440.0 230 3.23 5.345 17.42 0  0  3    4   \n",
       "Fiat 128            32.4 4    78.7  66 4.08 2.200 19.47 1  1  4    1   \n",
       "Honda Civic         30.4 4    75.7  52 4.93 1.615 18.52 1  1  4    2   \n",
       "Toyota Corolla      33.9 4    71.1  65 4.22 1.835 19.90 1  1  4    1   \n",
       "Toyota Corona       21.5 4   120.1  97 3.70 2.465 20.01 1  0  3    1   \n",
       "Dodge Challenger    15.5 8   318.0 150 2.76 3.520 16.87 0  0  3    2   \n",
       "AMC Javelin         15.2 8   304.0 150 3.15 3.435 17.30 0  0  3    2   \n",
       "Camaro Z28          13.3 8   350.0 245 3.73 3.840 15.41 0  0  3    4   \n",
       "Pontiac Firebird    19.2 8   400.0 175 3.08 3.845 17.05 0  0  3    2   \n",
       "Fiat X1-9           27.3 4    79.0  66 4.08 1.935 18.90 1  1  4    1   \n",
       "Porsche 914-2       26.0 4   120.3  91 4.43 2.140 16.70 0  1  5    2   \n",
       "Lotus Europa        30.4 4    95.1 113 3.77 1.513 16.90 1  1  5    2   \n",
       "Ford Pantera L      15.8 8   351.0 264 4.22 3.170 14.50 0  1  5    4   \n",
       "Ferrari Dino        19.7 6   145.0 175 3.62 2.770 15.50 0  1  5    6   \n",
       "Maserati Bora       15.0 8   301.0 335 3.54 3.570 14.60 0  1  5    8   \n",
       "Volvo 142E          21.4 4   121.0 109 4.11 2.780 18.60 1  1  4    2   "
      ]
     },
     "metadata": {},
     "output_type": "display_data"
    }
   ],
   "source": [
    "%preview -n mtcars"
   ]
  },
  {
   "cell_type": "markdown",
   "metadata": {},
   "source": [
    "You can also specify expressions to be reviewed, but similar to command line arguments, you will need to quote the expression if it contains spaces. For example,"
   ]
  },
  {
   "cell_type": "code",
   "execution_count": 11,
   "metadata": {
    "kernel": "R",
    "scrolled": false
   },
   "outputs": [
    {
     "data": {
      "text/html": [
       "<div class=\"sos_hint\">> rownames(mtcars):</div>"
      ],
      "text/plain": [
       ">>> rownames(mtcars):\n"
      ]
     },
     "metadata": {},
     "output_type": "display_data"
    },
    {
     "data": {
      "text/html": [
       "<ol class=list-inline>\n",
       "\t<li>'Mazda RX4'</li>\n",
       "\t<li>'Mazda RX4 Wag'</li>\n",
       "\t<li>'Datsun 710'</li>\n",
       "\t<li>'Hornet 4 Drive'</li>\n",
       "\t<li>'Hornet Sportabout'</li>\n",
       "\t<li>'Valiant'</li>\n",
       "\t<li>'Duster 360'</li>\n",
       "\t<li>'Merc 240D'</li>\n",
       "\t<li>'Merc 230'</li>\n",
       "\t<li>'Merc 280'</li>\n",
       "\t<li>'Merc 280C'</li>\n",
       "\t<li>'Merc 450SE'</li>\n",
       "\t<li>'Merc 450SL'</li>\n",
       "\t<li>'Merc 450SLC'</li>\n",
       "\t<li>'Cadillac Fleetwood'</li>\n",
       "\t<li>'Lincoln Continental'</li>\n",
       "\t<li>'Chrysler Imperial'</li>\n",
       "\t<li>'Fiat 128'</li>\n",
       "\t<li>'Honda Civic'</li>\n",
       "\t<li>'Toyota Corolla'</li>\n",
       "\t<li>'Toyota Corona'</li>\n",
       "\t<li>'Dodge Challenger'</li>\n",
       "\t<li>'AMC Javelin'</li>\n",
       "\t<li>'Camaro Z28'</li>\n",
       "\t<li>'Pontiac Firebird'</li>\n",
       "\t<li>'Fiat X1-9'</li>\n",
       "\t<li>'Porsche 914-2'</li>\n",
       "\t<li>'Lotus Europa'</li>\n",
       "\t<li>'Ford Pantera L'</li>\n",
       "\t<li>'Ferrari Dino'</li>\n",
       "\t<li>'Maserati Bora'</li>\n",
       "\t<li>'Volvo 142E'</li>\n",
       "</ol>\n"
      ],
      "text/latex": [
       "\\begin{enumerate*}\n",
       "\\item 'Mazda RX4'\n",
       "\\item 'Mazda RX4 Wag'\n",
       "\\item 'Datsun 710'\n",
       "\\item 'Hornet 4 Drive'\n",
       "\\item 'Hornet Sportabout'\n",
       "\\item 'Valiant'\n",
       "\\item 'Duster 360'\n",
       "\\item 'Merc 240D'\n",
       "\\item 'Merc 230'\n",
       "\\item 'Merc 280'\n",
       "\\item 'Merc 280C'\n",
       "\\item 'Merc 450SE'\n",
       "\\item 'Merc 450SL'\n",
       "\\item 'Merc 450SLC'\n",
       "\\item 'Cadillac Fleetwood'\n",
       "\\item 'Lincoln Continental'\n",
       "\\item 'Chrysler Imperial'\n",
       "\\item 'Fiat 128'\n",
       "\\item 'Honda Civic'\n",
       "\\item 'Toyota Corolla'\n",
       "\\item 'Toyota Corona'\n",
       "\\item 'Dodge Challenger'\n",
       "\\item 'AMC Javelin'\n",
       "\\item 'Camaro Z28'\n",
       "\\item 'Pontiac Firebird'\n",
       "\\item 'Fiat X1-9'\n",
       "\\item 'Porsche 914-2'\n",
       "\\item 'Lotus Europa'\n",
       "\\item 'Ford Pantera L'\n",
       "\\item 'Ferrari Dino'\n",
       "\\item 'Maserati Bora'\n",
       "\\item 'Volvo 142E'\n",
       "\\end{enumerate*}\n"
      ],
      "text/markdown": [
       "1. 'Mazda RX4'\n",
       "2. 'Mazda RX4 Wag'\n",
       "3. 'Datsun 710'\n",
       "4. 'Hornet 4 Drive'\n",
       "5. 'Hornet Sportabout'\n",
       "6. 'Valiant'\n",
       "7. 'Duster 360'\n",
       "8. 'Merc 240D'\n",
       "9. 'Merc 230'\n",
       "10. 'Merc 280'\n",
       "11. 'Merc 280C'\n",
       "12. 'Merc 450SE'\n",
       "13. 'Merc 450SL'\n",
       "14. 'Merc 450SLC'\n",
       "15. 'Cadillac Fleetwood'\n",
       "16. 'Lincoln Continental'\n",
       "17. 'Chrysler Imperial'\n",
       "18. 'Fiat 128'\n",
       "19. 'Honda Civic'\n",
       "20. 'Toyota Corolla'\n",
       "21. 'Toyota Corona'\n",
       "22. 'Dodge Challenger'\n",
       "23. 'AMC Javelin'\n",
       "24. 'Camaro Z28'\n",
       "25. 'Pontiac Firebird'\n",
       "26. 'Fiat X1-9'\n",
       "27. 'Porsche 914-2'\n",
       "28. 'Lotus Europa'\n",
       "29. 'Ford Pantera L'\n",
       "30. 'Ferrari Dino'\n",
       "31. 'Maserati Bora'\n",
       "32. 'Volvo 142E'\n",
       "\n",
       "\n"
      ],
      "text/plain": [
       " [1] \"Mazda RX4\"           \"Mazda RX4 Wag\"       \"Datsun 710\"         \n",
       " [4] \"Hornet 4 Drive\"      \"Hornet Sportabout\"   \"Valiant\"            \n",
       " [7] \"Duster 360\"          \"Merc 240D\"           \"Merc 230\"           \n",
       "[10] \"Merc 280\"            \"Merc 280C\"           \"Merc 450SE\"         \n",
       "[13] \"Merc 450SL\"          \"Merc 450SLC\"         \"Cadillac Fleetwood\" \n",
       "[16] \"Lincoln Continental\" \"Chrysler Imperial\"   \"Fiat 128\"           \n",
       "[19] \"Honda Civic\"         \"Toyota Corolla\"      \"Toyota Corona\"      \n",
       "[22] \"Dodge Challenger\"    \"AMC Javelin\"         \"Camaro Z28\"         \n",
       "[25] \"Pontiac Firebird\"    \"Fiat X1-9\"           \"Porsche 914-2\"      \n",
       "[28] \"Lotus Europa\"        \"Ford Pantera L\"      \"Ferrari Dino\"       \n",
       "[31] \"Maserati Bora\"       \"Volvo 142E\"         "
      ]
     },
     "metadata": {},
     "output_type": "display_data"
    },
    {
     "data": {
      "text/html": [
       "<div class=\"sos_hint\">> mtcars['gear']:</div>"
      ],
      "text/plain": [
       ">>> mtcars['gear']:\n"
      ]
     },
     "metadata": {},
     "output_type": "display_data"
    },
    {
     "data": {
      "text/html": [
       "<table>\n",
       "<thead><tr><th></th><th scope=col>gear</th></tr></thead>\n",
       "<tbody>\n",
       "\t<tr><th scope=row>Mazda RX4</th><td>4</td></tr>\n",
       "\t<tr><th scope=row>Mazda RX4 Wag</th><td>4</td></tr>\n",
       "\t<tr><th scope=row>Datsun 710</th><td>4</td></tr>\n",
       "\t<tr><th scope=row>Hornet 4 Drive</th><td>3</td></tr>\n",
       "\t<tr><th scope=row>Hornet Sportabout</th><td>3</td></tr>\n",
       "\t<tr><th scope=row>Valiant</th><td>3</td></tr>\n",
       "\t<tr><th scope=row>Duster 360</th><td>3</td></tr>\n",
       "\t<tr><th scope=row>Merc 240D</th><td>4</td></tr>\n",
       "\t<tr><th scope=row>Merc 230</th><td>4</td></tr>\n",
       "\t<tr><th scope=row>Merc 280</th><td>4</td></tr>\n",
       "\t<tr><th scope=row>Merc 280C</th><td>4</td></tr>\n",
       "\t<tr><th scope=row>Merc 450SE</th><td>3</td></tr>\n",
       "\t<tr><th scope=row>Merc 450SL</th><td>3</td></tr>\n",
       "\t<tr><th scope=row>Merc 450SLC</th><td>3</td></tr>\n",
       "\t<tr><th scope=row>Cadillac Fleetwood</th><td>3</td></tr>\n",
       "\t<tr><th scope=row>Lincoln Continental</th><td>3</td></tr>\n",
       "\t<tr><th scope=row>Chrysler Imperial</th><td>3</td></tr>\n",
       "\t<tr><th scope=row>Fiat 128</th><td>4</td></tr>\n",
       "\t<tr><th scope=row>Honda Civic</th><td>4</td></tr>\n",
       "\t<tr><th scope=row>Toyota Corolla</th><td>4</td></tr>\n",
       "\t<tr><th scope=row>Toyota Corona</th><td>3</td></tr>\n",
       "\t<tr><th scope=row>Dodge Challenger</th><td>3</td></tr>\n",
       "\t<tr><th scope=row>AMC Javelin</th><td>3</td></tr>\n",
       "\t<tr><th scope=row>Camaro Z28</th><td>3</td></tr>\n",
       "\t<tr><th scope=row>Pontiac Firebird</th><td>3</td></tr>\n",
       "\t<tr><th scope=row>Fiat X1-9</th><td>4</td></tr>\n",
       "\t<tr><th scope=row>Porsche 914-2</th><td>5</td></tr>\n",
       "\t<tr><th scope=row>Lotus Europa</th><td>5</td></tr>\n",
       "\t<tr><th scope=row>Ford Pantera L</th><td>5</td></tr>\n",
       "\t<tr><th scope=row>Ferrari Dino</th><td>5</td></tr>\n",
       "\t<tr><th scope=row>Maserati Bora</th><td>5</td></tr>\n",
       "\t<tr><th scope=row>Volvo 142E</th><td>4</td></tr>\n",
       "</tbody>\n",
       "</table>\n"
      ],
      "text/latex": [
       "\\begin{tabular}{r|l}\n",
       "  & gear\\\\\n",
       "\\hline\n",
       "\tMazda RX4 & 4\\\\\n",
       "\tMazda RX4 Wag & 4\\\\\n",
       "\tDatsun 710 & 4\\\\\n",
       "\tHornet 4 Drive & 3\\\\\n",
       "\tHornet Sportabout & 3\\\\\n",
       "\tValiant & 3\\\\\n",
       "\tDuster 360 & 3\\\\\n",
       "\tMerc 240D & 4\\\\\n",
       "\tMerc 230 & 4\\\\\n",
       "\tMerc 280 & 4\\\\\n",
       "\tMerc 280C & 4\\\\\n",
       "\tMerc 450SE & 3\\\\\n",
       "\tMerc 450SL & 3\\\\\n",
       "\tMerc 450SLC & 3\\\\\n",
       "\tCadillac Fleetwood & 3\\\\\n",
       "\tLincoln Continental & 3\\\\\n",
       "\tChrysler Imperial & 3\\\\\n",
       "\tFiat 128 & 4\\\\\n",
       "\tHonda Civic & 4\\\\\n",
       "\tToyota Corolla & 4\\\\\n",
       "\tToyota Corona & 3\\\\\n",
       "\tDodge Challenger & 3\\\\\n",
       "\tAMC Javelin & 3\\\\\n",
       "\tCamaro Z28 & 3\\\\\n",
       "\tPontiac Firebird & 3\\\\\n",
       "\tFiat X1-9 & 4\\\\\n",
       "\tPorsche 914-2 & 5\\\\\n",
       "\tLotus Europa & 5\\\\\n",
       "\tFord Pantera L & 5\\\\\n",
       "\tFerrari Dino & 5\\\\\n",
       "\tMaserati Bora & 5\\\\\n",
       "\tVolvo 142E & 4\\\\\n",
       "\\end{tabular}\n"
      ],
      "text/markdown": [
       "\n",
       "| <!--/--> | gear | \n",
       "|---|---|---|---|---|---|---|---|---|---|---|---|---|---|---|---|---|---|---|---|---|---|---|---|---|---|---|---|---|---|---|---|\n",
       "| Mazda RX4 | 4 | \n",
       "| Mazda RX4 Wag | 4 | \n",
       "| Datsun 710 | 4 | \n",
       "| Hornet 4 Drive | 3 | \n",
       "| Hornet Sportabout | 3 | \n",
       "| Valiant | 3 | \n",
       "| Duster 360 | 3 | \n",
       "| Merc 240D | 4 | \n",
       "| Merc 230 | 4 | \n",
       "| Merc 280 | 4 | \n",
       "| Merc 280C | 4 | \n",
       "| Merc 450SE | 3 | \n",
       "| Merc 450SL | 3 | \n",
       "| Merc 450SLC | 3 | \n",
       "| Cadillac Fleetwood | 3 | \n",
       "| Lincoln Continental | 3 | \n",
       "| Chrysler Imperial | 3 | \n",
       "| Fiat 128 | 4 | \n",
       "| Honda Civic | 4 | \n",
       "| Toyota Corolla | 4 | \n",
       "| Toyota Corona | 3 | \n",
       "| Dodge Challenger | 3 | \n",
       "| AMC Javelin | 3 | \n",
       "| Camaro Z28 | 3 | \n",
       "| Pontiac Firebird | 3 | \n",
       "| Fiat X1-9 | 4 | \n",
       "| Porsche 914-2 | 5 | \n",
       "| Lotus Europa | 5 | \n",
       "| Ford Pantera L | 5 | \n",
       "| Ferrari Dino | 5 | \n",
       "| Maserati Bora | 5 | \n",
       "| Volvo 142E | 4 | \n",
       "\n",
       "\n"
      ],
      "text/plain": [
       "                    gear\n",
       "Mazda RX4           4   \n",
       "Mazda RX4 Wag       4   \n",
       "Datsun 710          4   \n",
       "Hornet 4 Drive      3   \n",
       "Hornet Sportabout   3   \n",
       "Valiant             3   \n",
       "Duster 360          3   \n",
       "Merc 240D           4   \n",
       "Merc 230            4   \n",
       "Merc 280            4   \n",
       "Merc 280C           4   \n",
       "Merc 450SE          3   \n",
       "Merc 450SL          3   \n",
       "Merc 450SLC         3   \n",
       "Cadillac Fleetwood  3   \n",
       "Lincoln Continental 3   \n",
       "Chrysler Imperial   3   \n",
       "Fiat 128            4   \n",
       "Honda Civic         4   \n",
       "Toyota Corolla      4   \n",
       "Toyota Corona       3   \n",
       "Dodge Challenger    3   \n",
       "AMC Javelin         3   \n",
       "Camaro Z28          3   \n",
       "Pontiac Firebird    3   \n",
       "Fiat X1-9           4   \n",
       "Porsche 914-2       5   \n",
       "Lotus Europa        5   \n",
       "Ford Pantera L      5   \n",
       "Ferrari Dino        5   \n",
       "Maserati Bora       5   \n",
       "Volvo 142E          4   "
      ]
     },
     "metadata": {},
     "output_type": "display_data"
    }
   ],
   "source": [
    "%preview -n rownames(mtcars) mtcars['gear']"
   ]
  },
  {
   "cell_type": "markdown",
   "metadata": {},
   "source": [
    "If option `-w` (`--workflow`) is specified, sos collects workflow steps from the current notebook and preview it. This would give you a better sense of what would be saved with magic `%sossave` or executed with magic `%sosrun`."
   ]
  },
  {
   "cell_type": "code",
   "execution_count": 12,
   "metadata": {
    "kernel": "SoS"
   },
   "outputs": [
    {
     "data": {
      "text/html": [
       "<textarea id=\"preview_wf_98489\">#!/usr/bin/env sos-runner\n",
       "#fileformat=SOS1.0\n",
       "\n",
       "[test_20]\n",
       "print(f\"This is step {step_name} of a workflow\")\n",
       "\n",
       "[wf_20]\n",
       "print(f\"This is step {step_name} of a workflow\")\n",
       "\n",
       "[wf_30]\n",
       "print(f\"This is step {step_name} of a workflow\")\n",
       "\n",
       "[example_step]\n",
       "print(f\"This is {step_name}\")\n",
       "\n",
       "[example_step_1]\n",
       "print(f\"This is {step_name}\")\n",
       "\n",
       "[example_step_10]\n",
       "print(f\"This is {step_name}\")\n",
       "\n",
       "[example_step_20]\n",
       "print(f\"This is {step_name}\")\n",
       "\n",
       "[example_step_15]\n",
       "print(f\"This is {step_name} with option {var}\")\n",
       "\n",
       "[example_step_25]\n",
       "print(f\"This is {step_name}\")\n",
       "\n",
       "[global]\n",
       "var = 'this is global'\n",
       "\n",
       "[stepA]\n",
       "parameter: var = 20\n",
       "print(f\"{step_name} with parameter {var}\")\n",
       "\n",
       "[master]\n",
       "sos_run('stepA', var=30)\n",
       "\n",
       "</textarea>"
      ],
      "text/plain": [
       "#!/usr/bin/env sos-runner\n",
       "#fileformat=SOS1.0\n",
       "\n",
       "[test_20]\n",
       "print(f\"This is step {step_name} of a workflow\")\n",
       "\n",
       "[wf_20]\n",
       "print(f\"This is step {step_name} of a workflow\")\n",
       "\n",
       "[wf_30]\n",
       "print(f\"This is step {step_name} of a workflow\")\n",
       "\n",
       "[example_step]\n",
       "print(f\"This is {step_name}\")\n",
       "\n",
       "[example_step_1]\n",
       "print(f\"This is {step_name}\")\n",
       "\n",
       "[example_step_10]\n",
       "print(f\"This is {step_name}\")\n",
       "\n",
       "[example_step_20]\n",
       "print(f\"This is {step_name}\")\n",
       "\n",
       "[example_step_15]\n",
       "print(f\"This is {step_name} with option {var}\")\n",
       "\n",
       "[example_step_25]\n",
       "print(f\"This is {step_name}\")\n",
       "\n",
       "[global]\n",
       "var = 'this is global'\n",
       "\n",
       "[stepA]\n",
       "parameter: var = 20\n",
       "print(f\"{step_name} with parameter {var}\")\n",
       "\n",
       "[master]\n",
       "sos_run('stepA', var=30)\n",
       "\n"
      ]
     },
     "metadata": {},
     "output_type": "display_data"
    }
   ],
   "source": [
    "%preview --workflow"
   ]
  },
  {
   "cell_type": "markdown",
   "metadata": {},
   "source": [
    "Magic `%preview` also accepts an option `--off`, in which case it turns off the preview of output files from the SoS workflow."
   ]
  },
  {
   "cell_type": "markdown",
   "metadata": {},
   "source": [
    "### Preview variables from another kernel <a id=\"Preview_variables_from_another_kernel\"></a>"
   ]
  },
  {
   "cell_type": "markdown",
   "metadata": {},
   "source": [
    "The `%preview` magic previews the variables with the kernel using which the cell is evaluated. For example, even if you have `var` defined in both SoS and `R` kernel,"
   ]
  },
  {
   "cell_type": "code",
   "execution_count": 13,
   "metadata": {
    "kernel": "SoS"
   },
   "outputs": [],
   "source": [
    "val = [2,3]*2"
   ]
  },
  {
   "cell_type": "code",
   "execution_count": 14,
   "metadata": {
    "kernel": "R"
   },
   "outputs": [],
   "source": [
    "val = rep(c(1, 2), 3)"
   ]
  },
  {
   "cell_type": "code",
   "execution_count": 15,
   "metadata": {
    "kernel": "R"
   },
   "outputs": [
    {
     "data": {
      "text/html": [
       "<div class=\"sos_hint\">> val:</div>"
      ],
      "text/plain": [
       ">>> val:\n"
      ]
     },
     "metadata": {},
     "output_type": "display_data"
    },
    {
     "data": {
      "text/html": [
       "<ol class=list-inline>\n",
       "\t<li>1</li>\n",
       "\t<li>2</li>\n",
       "\t<li>1</li>\n",
       "\t<li>2</li>\n",
       "\t<li>1</li>\n",
       "\t<li>2</li>\n",
       "</ol>\n"
      ],
      "text/latex": [
       "\\begin{enumerate*}\n",
       "\\item 1\n",
       "\\item 2\n",
       "\\item 1\n",
       "\\item 2\n",
       "\\item 1\n",
       "\\item 2\n",
       "\\end{enumerate*}\n"
      ],
      "text/markdown": [
       "1. 1\n",
       "2. 2\n",
       "3. 1\n",
       "4. 2\n",
       "5. 1\n",
       "6. 2\n",
       "\n",
       "\n"
      ],
      "text/plain": [
       "[1] 1 2 1 2 1 2"
      ]
     },
     "metadata": {},
     "output_type": "display_data"
    }
   ],
   "source": [
    "%preview -n val"
   ]
  },
  {
   "cell_type": "code",
   "execution_count": 16,
   "metadata": {
    "kernel": "SoS"
   },
   "outputs": [
    {
     "data": {
      "text/html": [
       "<div class=\"sos_hint\">> val: list of length 4</div>"
      ],
      "text/plain": [
       ">>> val:\n"
      ]
     },
     "metadata": {},
     "output_type": "display_data"
    },
    {
     "data": {
      "text/plain": [
       "[2, 3, 2, 3]"
      ]
     },
     "metadata": {},
     "output_type": "display_data"
    }
   ],
   "source": [
    "%preview -n val"
   ]
  },
  {
   "cell_type": "markdown",
   "metadata": {},
   "source": [
    "Note that SoS also displays type information of variables in the SoS kernel, including row and columns for data frames, but not in subkernels. "
   ]
  },
  {
   "cell_type": "markdown",
   "metadata": {},
   "source": [
    "If you would like to preview variable in another kernel, you can specify it using option `--kernel`, for example, the following cell previews a variable `r.val` in a SoS kernel."
   ]
  },
  {
   "cell_type": "code",
   "execution_count": 17,
   "metadata": {
    "kernel": "SoS"
   },
   "outputs": [
    {
     "data": {
      "text/html": [
       "<div class=\"sos_hint\">> val:</div>"
      ],
      "text/plain": [
       ">>> val:\n"
      ]
     },
     "metadata": {},
     "output_type": "display_data"
    },
    {
     "data": {
      "text/html": [
       "<ol class=list-inline>\n",
       "\t<li>1</li>\n",
       "\t<li>2</li>\n",
       "\t<li>1</li>\n",
       "\t<li>2</li>\n",
       "\t<li>1</li>\n",
       "\t<li>2</li>\n",
       "</ol>\n"
      ],
      "text/latex": [
       "\\begin{enumerate*}\n",
       "\\item 1\n",
       "\\item 2\n",
       "\\item 1\n",
       "\\item 2\n",
       "\\item 1\n",
       "\\item 2\n",
       "\\end{enumerate*}\n"
      ],
      "text/markdown": [
       "1. 1\n",
       "2. 2\n",
       "3. 1\n",
       "4. 2\n",
       "5. 1\n",
       "6. 2\n",
       "\n",
       "\n"
      ],
      "text/plain": [
       "[1] 1 2 1 2 1 2"
      ]
     },
     "metadata": {},
     "output_type": "display_data"
    }
   ],
   "source": [
    "%preview -n val --kernel R"
   ]
  },
  {
   "cell_type": "markdown",
   "metadata": {},
   "source": [
    "### Preview of files <a id=\"Preview_of_files\"></a>"
   ]
  },
  {
   "cell_type": "markdown",
   "metadata": {},
   "source": [
    "The `%preview` magic can be used to preview files in a variety of formats. For example, the following cell download a bam file and use `%preview` magic to preview the content of the file to make sure the file has been downloaded correctly."
   ]
  },
  {
   "cell_type": "code",
   "execution_count": 18,
   "metadata": {
    "kernel": "SoS"
   },
   "outputs": [
    {
     "name": "stderr",
     "output_type": "stream",
     "text": [
      "issue225.bam: \u001b[32m use existing\u001b[0m: \n"
     ]
    },
    {
     "data": {
      "text/plain": [
       "0"
      ]
     },
     "execution_count": 18,
     "metadata": {},
     "output_type": "execute_result"
    },
    {
     "data": {
      "text/html": [
       "<div class=\"sos_hint\">> issue225.bam (4.2 KiB):</div>"
      ],
      "text/plain": [
       "\n",
       "> issue225.bam (4.2 KiB):"
      ]
     },
     "metadata": {},
     "output_type": "display_data"
    },
    {
     "name": "stdout",
     "output_type": "stream",
     "text": [
      "RG:\n",
      "  ID: '16-3584'    PL: 'illumina'    PU: '16-3584'    SM: '16-3584'    \n",
      "SQ:\n",
      "  SN: 'chrM'    LN: 16571    \n"
     ]
    }
   ],
   "source": [
    "%preview -n issue225.bam\n",
    "download:\n",
    "  https://github.com/lomereiter/sambamba/raw/master/test/issue225.bam"
   ]
  },
  {
   "cell_type": "markdown",
   "metadata": {},
   "source": [
    "Similarly, you can preview files produced by another kernel"
   ]
  },
  {
   "cell_type": "code",
   "execution_count": 19,
   "metadata": {
    "kernel": "R"
   },
   "outputs": [
    {
     "data": {
      "text/html": [
       "<strong>pdf:</strong> 2"
      ],
      "text/latex": [
       "\\textbf{pdf:} 2"
      ],
      "text/markdown": [
       "**pdf:** 2"
      ],
      "text/plain": [
       "pdf \n",
       "  2 "
      ]
     },
     "metadata": {},
     "output_type": "display_data"
    },
    {
     "data": {
      "text/html": [
       "<div class=\"sos_hint\">> test.png (20.5 KiB):</div>"
      ],
      "text/plain": [
       "\n",
       "> test.png (20.5 KiB):"
      ]
     },
     "metadata": {},
     "output_type": "display_data"
    },
    {
     "data": {
      "image/png": "[encoded data removed]"
     },
     "metadata": {},
     "output_type": "display_data"
    }
   ],
   "source": [
    "%preview test.png -n -s png\n",
    "%use R\n",
    "png('test.png', width=600, height=400)\n",
    "attach(mtcars)\n",
    "plot(wt, mpg, main=\"Scatterplot Example\", \n",
    "  xlab=\"Car Weight \", ylab=\"Miles Per Gallon \", pch=19)\n",
    "dev.off()"
   ]
  },
  {
   "cell_type": "markdown",
   "metadata": {},
   "source": [
    "Note that SoS by default preview PDF files as an embeded object (iframe), but you can use option `-s png` to convert PDF to png to preview it as a image, if you have imagematick and Python package `wand` installed."
   ]
  },
  {
   "cell_type": "markdown",
   "metadata": {},
   "source": [
    "### Preview options <a id=\"Preview_options\"></a>"
   ]
  },
  {
   "cell_type": "markdown",
   "metadata": {},
   "source": [
    "The `%magic` accepts options that are format dependent. This table lists options that are available to specific file types. Options for previewing dataframes will be described later.\n",
    "\n",
    "|file type| Option | description|\n",
    "|--|--|--|\n",
    "|pdf | `--style png` (`-s png`)| Convert PDF to png before preview. All pages are combined to produce a sngle PNG figure if the pdf file contains multiple pages. This option requires Python module `wand`.|\n",
    "|    | `--pages 2 3 `| With `--style png`, preview specified pages (page numbers starting from 1) from a multi-page PDF file. |\n",
    "|txt | `--limit lines` (`-l`) | Preview number of lines to preview for text files (not limited to files with extension `.txt`), default to `5`|"
   ]
  },
  {
   "cell_type": "markdown",
   "metadata": {},
   "source": [
    "### Automatic preview <a id=\"Automatic_preview\"></a>"
   ]
  },
  {
   "cell_type": "markdown",
   "metadata": {},
   "source": [
    "SoS will automatically preview results of Python assignments when you send statements to the sidepanel for execution. For example, if you do execute the following cell with `Ctrl-Shift-Enter`,"
   ]
  },
  {
   "cell_type": "code",
   "execution_count": 20,
   "metadata": {
    "kernel": "SoS"
   },
   "outputs": [],
   "source": [
    "s='12345'"
   ]
  },
  {
   "cell_type": "markdown",
   "metadata": {},
   "source": [
    "The cell would be executed in the side panel as\n",
    "```\n",
    "%preview s\n",
    "s='12345'\n",
    "```\n",
    "which allows instant feedback when you step through your code."
   ]
  },
  {
   "cell_type": "markdown",
   "metadata": {},
   "source": [
    "SoS would also automatic preview results from SoS workflows that are specified with statement `output:`. For example, the following SoS cell executes a scratch step (step without section head) and generates output `a.png`. The figure would be automatically displayed in the side panel after the step is executed."
   ]
  },
  {
   "cell_type": "code",
   "execution_count": 21,
   "metadata": {
    "kernel": "SoS"
   },
   "outputs": [
    {
     "name": "stdout",
     "output_type": "stream",
     "text": [
      "null device \n",
      "          1 \n"
     ]
    }
   ],
   "source": [
    "output: 'a.png'\n",
    "R: expand=True\n",
    "png(\"{_output}\")\n",
    "plot(seq(1,10, 0.1), sin(seq(1,10, 0.1)))\n",
    "dev.off()   "
   ]
  },
  {
   "cell_type": "markdown",
   "metadata": {
    "kernel": "SoS"
   },
   "source": [
    "### Preview of remote files <a id=\"Preview_of_remote_files\"></a>"
   ]
  },
  {
   "cell_type": "markdown",
   "metadata": {},
   "source": [
    "When a workflow or a task is executed remotely (see [Remote Execution](Remote_Execution.html) for details, result files might be on a remote host that is unavailable for local preview. In this case, you can specify the host with option `-r HOST` and preview files remotely. This essentially executes a command `sos preview -r HOST FILE` on the remote host and allows you to preview content of (large) files without copying them locally.\n",
    "\n",
    "For example, you can execute a workflow on a remote host `dev` to generate a file (`mygraphic.png`) and use `%preview -r dev` to preview it."
   ]
  },
  {
   "cell_type": "code",
   "execution_count": 22,
   "metadata": {
    "kernel": "SoS",
    "scrolled": true
   },
   "outputs": [
    {
     "name": "stdout",
     "output_type": "stream",
     "text": [
      "INFO: Executing \u001b[32mdefault_0\u001b[0m: \n",
      "INFO: input:   \u001b[32m[]\u001b[0m\n",
      "null device \n",
      "          1 \n",
      "INFO: output:   \u001b[32m[]\u001b[0m\n",
      "INFO: Workflow default (ID=66883cd586652ae0) is executed successfully.\n"
     ]
    },
    {
     "data": {
      "text/html": [
       "<div class=\"sos_hint\">%preview mygraphic.png -r dev</div>"
      ]
     },
     "metadata": {},
     "output_type": "display_data"
    },
    {
     "data": {
      "text/html": [
       "<div class=\"sos_hint\">> mygraphic.png (14.0 KiB):</div>"
      ],
      "text/plain": [
       "\n",
       "> mygraphic.png (14.0 KiB):"
      ]
     },
     "metadata": {},
     "output_type": "display_data"
    },
    {
     "data": {
      "image/png": "[encoded data removed]"
     },
     "metadata": {},
     "output_type": "display_data"
    }
   ],
   "source": [
    "%preview -n mygraphic.png -r dev\n",
    "%run -r dev\n",
    "R:\n",
    "  png(file=\"mygraphic.png\",width=400,height=350)\n",
    "  plot(x=rnorm(10),y=rnorm(10),main=\"example\")\n",
    "  dev.off()\n"
   ]
  },
  {
   "cell_type": "markdown",
   "metadata": {},
   "source": [
    "### Preview of tables <a id=\"Preview_of_tables\"></a>"
   ]
  },
  {
   "cell_type": "markdown",
   "metadata": {},
   "source": [
    "If a data to be previewed is a Pandas DataFrame (or a csv or excel file which would be previewed as a DataFrame), SoS will preview it as a sortable and searchable table. For example, the following cell get a data.frame `mtcar` from the R kernel (as a pandas DataFrame) and preview it in the main notebook:"
   ]
  },
  {
   "cell_type": "code",
   "execution_count": 23,
   "metadata": {
    "kernel": "SoS"
   },
   "outputs": [
    {
     "name": "stderr",
     "output_type": "stream",
     "text": [
      "Loading required package: feather\n"
     ]
    },
    {
     "data": {
      "text/html": [
       "<div class=\"sos_hint\">> mtcars: DataFrame of shape (32, 11)</div>"
      ],
      "text/plain": [
       ">>> mtcars:\n"
      ]
     },
     "metadata": {},
     "output_type": "display_data"
    },
    {
     "data": {
      "text/html": [
       "\n",
       "    <div class='dataframe_container' style=\"max-height:400px\">\n",
       "    <input type=\"text\" class='dataframe_input' id=\"search_1\" onkeyup=\"filterDataFrame('1')\" placeholder=\"Search for names..\">\n",
       "    <table border=\"1\" id=\"dataframe_1\" class=\"sos_dataframe dataframe\">\n",
       "  <thead>\n",
       "    <tr style=\"text-align: right;\">\n",
       "      <th> &nbsp; <i class=\"fa fa-sort\" style=\"color:lightgray\" onclick=\"sortDataFrame('1', 0, 'alphabetic')\"></th>\n",
       "      <th>mpg &nbsp; <i class=\"fa fa-sort\" style=\"color:lightgray\" onclick=\"sortDataFrame('1', 1, 'numeric')\"></th>\n",
       "      <th>cyl &nbsp; <i class=\"fa fa-sort\" style=\"color:lightgray\" onclick=\"sortDataFrame('1', 2, 'numeric')\"></th>\n",
       "      <th>disp &nbsp; <i class=\"fa fa-sort\" style=\"color:lightgray\" onclick=\"sortDataFrame('1', 3, 'numeric')\"></th>\n",
       "      <th>hp &nbsp; <i class=\"fa fa-sort\" style=\"color:lightgray\" onclick=\"sortDataFrame('1', 4, 'numeric')\"></th>\n",
       "      <th>drat &nbsp; <i class=\"fa fa-sort\" style=\"color:lightgray\" onclick=\"sortDataFrame('1', 5, 'numeric')\"></th>\n",
       "      <th>wt &nbsp; <i class=\"fa fa-sort\" style=\"color:lightgray\" onclick=\"sortDataFrame('1', 6, 'numeric')\"></th>\n",
       "      <th>qsec &nbsp; <i class=\"fa fa-sort\" style=\"color:lightgray\" onclick=\"sortDataFrame('1', 7, 'numeric')\"></th>\n",
       "      <th>vs &nbsp; <i class=\"fa fa-sort\" style=\"color:lightgray\" onclick=\"sortDataFrame('1', 8, 'numeric')\"></th>\n",
       "      <th>am &nbsp; <i class=\"fa fa-sort\" style=\"color:lightgray\" onclick=\"sortDataFrame('1', 9, 'numeric')\"></th>\n",
       "      <th>gear &nbsp; <i class=\"fa fa-sort\" style=\"color:lightgray\" onclick=\"sortDataFrame('1', 10, 'numeric')\"></th>\n",
       "      <th>carb &nbsp; <i class=\"fa fa-sort\" style=\"color:lightgray\" onclick=\"sortDataFrame('1', 11, 'numeric')\"></th>\n",
       "    </tr>\n",
       "  </thead>\n",
       "  <tbody>\n",
       "    <tr>\n",
       "      <th>Mazda RX4</th>\n",
       "      <td>21.0</td>\n",
       "      <td>6.0</td>\n",
       "      <td>160.0</td>\n",
       "      <td>110.0</td>\n",
       "      <td>3.90</td>\n",
       "      <td>2.620</td>\n",
       "      <td>16.46</td>\n",
       "      <td>0.0</td>\n",
       "      <td>1.0</td>\n",
       "      <td>4.0</td>\n",
       "      <td>4.0</td>\n",
       "    </tr>\n",
       "    <tr>\n",
       "      <th>Mazda RX4 Wag</th>\n",
       "      <td>21.0</td>\n",
       "      <td>6.0</td>\n",
       "      <td>160.0</td>\n",
       "      <td>110.0</td>\n",
       "      <td>3.90</td>\n",
       "      <td>2.875</td>\n",
       "      <td>17.02</td>\n",
       "      <td>0.0</td>\n",
       "      <td>1.0</td>\n",
       "      <td>4.0</td>\n",
       "      <td>4.0</td>\n",
       "    </tr>\n",
       "    <tr>\n",
       "      <th>Datsun 710</th>\n",
       "      <td>22.8</td>\n",
       "      <td>4.0</td>\n",
       "      <td>108.0</td>\n",
       "      <td>93.0</td>\n",
       "      <td>3.85</td>\n",
       "      <td>2.320</td>\n",
       "      <td>18.61</td>\n",
       "      <td>1.0</td>\n",
       "      <td>1.0</td>\n",
       "      <td>4.0</td>\n",
       "      <td>1.0</td>\n",
       "    </tr>\n",
       "    <tr>\n",
       "      <th>Hornet 4 Drive</th>\n",
       "      <td>21.4</td>\n",
       "      <td>6.0</td>\n",
       "      <td>258.0</td>\n",
       "      <td>110.0</td>\n",
       "      <td>3.08</td>\n",
       "      <td>3.215</td>\n",
       "      <td>19.44</td>\n",
       "      <td>1.0</td>\n",
       "      <td>0.0</td>\n",
       "      <td>3.0</td>\n",
       "      <td>1.0</td>\n",
       "    </tr>\n",
       "    <tr>\n",
       "      <th>Hornet Sportabout</th>\n",
       "      <td>18.7</td>\n",
       "      <td>8.0</td>\n",
       "      <td>360.0</td>\n",
       "      <td>175.0</td>\n",
       "      <td>3.15</td>\n",
       "      <td>3.440</td>\n",
       "      <td>17.02</td>\n",
       "      <td>0.0</td>\n",
       "      <td>0.0</td>\n",
       "      <td>3.0</td>\n",
       "      <td>2.0</td>\n",
       "    </tr>\n",
       "    <tr>\n",
       "      <th>Valiant</th>\n",
       "      <td>18.1</td>\n",
       "      <td>6.0</td>\n",
       "      <td>225.0</td>\n",
       "      <td>105.0</td>\n",
       "      <td>2.76</td>\n",
       "      <td>3.460</td>\n",
       "      <td>20.22</td>\n",
       "      <td>1.0</td>\n",
       "      <td>0.0</td>\n",
       "      <td>3.0</td>\n",
       "      <td>1.0</td>\n",
       "    </tr>\n",
       "    <tr>\n",
       "      <th>Duster 360</th>\n",
       "      <td>14.3</td>\n",
       "      <td>8.0</td>\n",
       "      <td>360.0</td>\n",
       "      <td>245.0</td>\n",
       "      <td>3.21</td>\n",
       "      <td>3.570</td>\n",
       "      <td>15.84</td>\n",
       "      <td>0.0</td>\n",
       "      <td>0.0</td>\n",
       "      <td>3.0</td>\n",
       "      <td>4.0</td>\n",
       "    </tr>\n",
       "    <tr>\n",
       "      <th>Merc 240D</th>\n",
       "      <td>24.4</td>\n",
       "      <td>4.0</td>\n",
       "      <td>146.7</td>\n",
       "      <td>62.0</td>\n",
       "      <td>3.69</td>\n",
       "      <td>3.190</td>\n",
       "      <td>20.00</td>\n",
       "      <td>1.0</td>\n",
       "      <td>0.0</td>\n",
       "      <td>4.0</td>\n",
       "      <td>2.0</td>\n",
       "    </tr>\n",
       "    <tr>\n",
       "      <th>Merc 230</th>\n",
       "      <td>22.8</td>\n",
       "      <td>4.0</td>\n",
       "      <td>140.8</td>\n",
       "      <td>95.0</td>\n",
       "      <td>3.92</td>\n",
       "      <td>3.150</td>\n",
       "      <td>22.90</td>\n",
       "      <td>1.0</td>\n",
       "      <td>0.0</td>\n",
       "      <td>4.0</td>\n",
       "      <td>2.0</td>\n",
       "    </tr>\n",
       "    <tr>\n",
       "      <th>Merc 280</th>\n",
       "      <td>19.2</td>\n",
       "      <td>6.0</td>\n",
       "      <td>167.6</td>\n",
       "      <td>123.0</td>\n",
       "      <td>3.92</td>\n",
       "      <td>3.440</td>\n",
       "      <td>18.30</td>\n",
       "      <td>1.0</td>\n",
       "      <td>0.0</td>\n",
       "      <td>4.0</td>\n",
       "      <td>4.0</td>\n",
       "    </tr>\n",
       "    <tr>\n",
       "      <th>Merc 280C</th>\n",
       "      <td>17.8</td>\n",
       "      <td>6.0</td>\n",
       "      <td>167.6</td>\n",
       "      <td>123.0</td>\n",
       "      <td>3.92</td>\n",
       "      <td>3.440</td>\n",
       "      <td>18.90</td>\n",
       "      <td>1.0</td>\n",
       "      <td>0.0</td>\n",
       "      <td>4.0</td>\n",
       "      <td>4.0</td>\n",
       "    </tr>\n",
       "    <tr>\n",
       "      <th>Merc 450SE</th>\n",
       "      <td>16.4</td>\n",
       "      <td>8.0</td>\n",
       "      <td>275.8</td>\n",
       "      <td>180.0</td>\n",
       "      <td>3.07</td>\n",
       "      <td>4.070</td>\n",
       "      <td>17.40</td>\n",
       "      <td>0.0</td>\n",
       "      <td>0.0</td>\n",
       "      <td>3.0</td>\n",
       "      <td>3.0</td>\n",
       "    </tr>\n",
       "    <tr>\n",
       "      <th>Merc 450SL</th>\n",
       "      <td>17.3</td>\n",
       "      <td>8.0</td>\n",
       "      <td>275.8</td>\n",
       "      <td>180.0</td>\n",
       "      <td>3.07</td>\n",
       "      <td>3.730</td>\n",
       "      <td>17.60</td>\n",
       "      <td>0.0</td>\n",
       "      <td>0.0</td>\n",
       "      <td>3.0</td>\n",
       "      <td>3.0</td>\n",
       "    </tr>\n",
       "    <tr>\n",
       "      <th>Merc 450SLC</th>\n",
       "      <td>15.2</td>\n",
       "      <td>8.0</td>\n",
       "      <td>275.8</td>\n",
       "      <td>180.0</td>\n",
       "      <td>3.07</td>\n",
       "      <td>3.780</td>\n",
       "      <td>18.00</td>\n",
       "      <td>0.0</td>\n",
       "      <td>0.0</td>\n",
       "      <td>3.0</td>\n",
       "      <td>3.0</td>\n",
       "    </tr>\n",
       "    <tr>\n",
       "      <th>Cadillac Fleetwood</th>\n",
       "      <td>10.4</td>\n",
       "      <td>8.0</td>\n",
       "      <td>472.0</td>\n",
       "      <td>205.0</td>\n",
       "      <td>2.93</td>\n",
       "      <td>5.250</td>\n",
       "      <td>17.98</td>\n",
       "      <td>0.0</td>\n",
       "      <td>0.0</td>\n",
       "      <td>3.0</td>\n",
       "      <td>4.0</td>\n",
       "    </tr>\n",
       "    <tr>\n",
       "      <th>Lincoln Continental</th>\n",
       "      <td>10.4</td>\n",
       "      <td>8.0</td>\n",
       "      <td>460.0</td>\n",
       "      <td>215.0</td>\n",
       "      <td>3.00</td>\n",
       "      <td>5.424</td>\n",
       "      <td>17.82</td>\n",
       "      <td>0.0</td>\n",
       "      <td>0.0</td>\n",
       "      <td>3.0</td>\n",
       "      <td>4.0</td>\n",
       "    </tr>\n",
       "    <tr>\n",
       "      <th>Chrysler Imperial</th>\n",
       "      <td>14.7</td>\n",
       "      <td>8.0</td>\n",
       "      <td>440.0</td>\n",
       "      <td>230.0</td>\n",
       "      <td>3.23</td>\n",
       "      <td>5.345</td>\n",
       "      <td>17.42</td>\n",
       "      <td>0.0</td>\n",
       "      <td>0.0</td>\n",
       "      <td>3.0</td>\n",
       "      <td>4.0</td>\n",
       "    </tr>\n",
       "    <tr>\n",
       "      <th>Fiat 128</th>\n",
       "      <td>32.4</td>\n",
       "      <td>4.0</td>\n",
       "      <td>78.7</td>\n",
       "      <td>66.0</td>\n",
       "      <td>4.08</td>\n",
       "      <td>2.200</td>\n",
       "      <td>19.47</td>\n",
       "      <td>1.0</td>\n",
       "      <td>1.0</td>\n",
       "      <td>4.0</td>\n",
       "      <td>1.0</td>\n",
       "    </tr>\n",
       "    <tr>\n",
       "      <th>Honda Civic</th>\n",
       "      <td>30.4</td>\n",
       "      <td>4.0</td>\n",
       "      <td>75.7</td>\n",
       "      <td>52.0</td>\n",
       "      <td>4.93</td>\n",
       "      <td>1.615</td>\n",
       "      <td>18.52</td>\n",
       "      <td>1.0</td>\n",
       "      <td>1.0</td>\n",
       "      <td>4.0</td>\n",
       "      <td>2.0</td>\n",
       "    </tr>\n",
       "    <tr>\n",
       "      <th>Toyota Corolla</th>\n",
       "      <td>33.9</td>\n",
       "      <td>4.0</td>\n",
       "      <td>71.1</td>\n",
       "      <td>65.0</td>\n",
       "      <td>4.22</td>\n",
       "      <td>1.835</td>\n",
       "      <td>19.90</td>\n",
       "      <td>1.0</td>\n",
       "      <td>1.0</td>\n",
       "      <td>4.0</td>\n",
       "      <td>1.0</td>\n",
       "    </tr>\n",
       "    <tr>\n",
       "      <th>Toyota Corona</th>\n",
       "      <td>21.5</td>\n",
       "      <td>4.0</td>\n",
       "      <td>120.1</td>\n",
       "      <td>97.0</td>\n",
       "      <td>3.70</td>\n",
       "      <td>2.465</td>\n",
       "      <td>20.01</td>\n",
       "      <td>1.0</td>\n",
       "      <td>0.0</td>\n",
       "      <td>3.0</td>\n",
       "      <td>1.0</td>\n",
       "    </tr>\n",
       "    <tr>\n",
       "      <th>Dodge Challenger</th>\n",
       "      <td>15.5</td>\n",
       "      <td>8.0</td>\n",
       "      <td>318.0</td>\n",
       "      <td>150.0</td>\n",
       "      <td>2.76</td>\n",
       "      <td>3.520</td>\n",
       "      <td>16.87</td>\n",
       "      <td>0.0</td>\n",
       "      <td>0.0</td>\n",
       "      <td>3.0</td>\n",
       "      <td>2.0</td>\n",
       "    </tr>\n",
       "    <tr>\n",
       "      <th>AMC Javelin</th>\n",
       "      <td>15.2</td>\n",
       "      <td>8.0</td>\n",
       "      <td>304.0</td>\n",
       "      <td>150.0</td>\n",
       "      <td>3.15</td>\n",
       "      <td>3.435</td>\n",
       "      <td>17.30</td>\n",
       "      <td>0.0</td>\n",
       "      <td>0.0</td>\n",
       "      <td>3.0</td>\n",
       "      <td>2.0</td>\n",
       "    </tr>\n",
       "    <tr>\n",
       "      <th>Camaro Z28</th>\n",
       "      <td>13.3</td>\n",
       "      <td>8.0</td>\n",
       "      <td>350.0</td>\n",
       "      <td>245.0</td>\n",
       "      <td>3.73</td>\n",
       "      <td>3.840</td>\n",
       "      <td>15.41</td>\n",
       "      <td>0.0</td>\n",
       "      <td>0.0</td>\n",
       "      <td>3.0</td>\n",
       "      <td>4.0</td>\n",
       "    </tr>\n",
       "    <tr>\n",
       "      <th>Pontiac Firebird</th>\n",
       "      <td>19.2</td>\n",
       "      <td>8.0</td>\n",
       "      <td>400.0</td>\n",
       "      <td>175.0</td>\n",
       "      <td>3.08</td>\n",
       "      <td>3.845</td>\n",
       "      <td>17.05</td>\n",
       "      <td>0.0</td>\n",
       "      <td>0.0</td>\n",
       "      <td>3.0</td>\n",
       "      <td>2.0</td>\n",
       "    </tr>\n",
       "    <tr>\n",
       "      <th>Fiat X1-9</th>\n",
       "      <td>27.3</td>\n",
       "      <td>4.0</td>\n",
       "      <td>79.0</td>\n",
       "      <td>66.0</td>\n",
       "      <td>4.08</td>\n",
       "      <td>1.935</td>\n",
       "      <td>18.90</td>\n",
       "      <td>1.0</td>\n",
       "      <td>1.0</td>\n",
       "      <td>4.0</td>\n",
       "      <td>1.0</td>\n",
       "    </tr>\n",
       "    <tr>\n",
       "      <th>Porsche 914-2</th>\n",
       "      <td>26.0</td>\n",
       "      <td>4.0</td>\n",
       "      <td>120.3</td>\n",
       "      <td>91.0</td>\n",
       "      <td>4.43</td>\n",
       "      <td>2.140</td>\n",
       "      <td>16.70</td>\n",
       "      <td>0.0</td>\n",
       "      <td>1.0</td>\n",
       "      <td>5.0</td>\n",
       "      <td>2.0</td>\n",
       "    </tr>\n",
       "    <tr>\n",
       "      <th>Lotus Europa</th>\n",
       "      <td>30.4</td>\n",
       "      <td>4.0</td>\n",
       "      <td>95.1</td>\n",
       "      <td>113.0</td>\n",
       "      <td>3.77</td>\n",
       "      <td>1.513</td>\n",
       "      <td>16.90</td>\n",
       "      <td>1.0</td>\n",
       "      <td>1.0</td>\n",
       "      <td>5.0</td>\n",
       "      <td>2.0</td>\n",
       "    </tr>\n",
       "    <tr>\n",
       "      <th>Ford Pantera L</th>\n",
       "      <td>15.8</td>\n",
       "      <td>8.0</td>\n",
       "      <td>351.0</td>\n",
       "      <td>264.0</td>\n",
       "      <td>4.22</td>\n",
       "      <td>3.170</td>\n",
       "      <td>14.50</td>\n",
       "      <td>0.0</td>\n",
       "      <td>1.0</td>\n",
       "      <td>5.0</td>\n",
       "      <td>4.0</td>\n",
       "    </tr>\n",
       "    <tr>\n",
       "      <th>Ferrari Dino</th>\n",
       "      <td>19.7</td>\n",
       "      <td>6.0</td>\n",
       "      <td>145.0</td>\n",
       "      <td>175.0</td>\n",
       "      <td>3.62</td>\n",
       "      <td>2.770</td>\n",
       "      <td>15.50</td>\n",
       "      <td>0.0</td>\n",
       "      <td>1.0</td>\n",
       "      <td>5.0</td>\n",
       "      <td>6.0</td>\n",
       "    </tr>\n",
       "    <tr>\n",
       "      <th>Maserati Bora</th>\n",
       "      <td>15.0</td>\n",
       "      <td>8.0</td>\n",
       "      <td>301.0</td>\n",
       "      <td>335.0</td>\n",
       "      <td>3.54</td>\n",
       "      <td>3.570</td>\n",
       "      <td>14.60</td>\n",
       "      <td>0.0</td>\n",
       "      <td>1.0</td>\n",
       "      <td>5.0</td>\n",
       "      <td>8.0</td>\n",
       "    </tr>\n",
       "    <tr>\n",
       "      <th>Volvo 142E</th>\n",
       "      <td>21.4</td>\n",
       "      <td>4.0</td>\n",
       "      <td>121.0</td>\n",
       "      <td>109.0</td>\n",
       "      <td>4.11</td>\n",
       "      <td>2.780</td>\n",
       "      <td>18.60</td>\n",
       "      <td>1.0</td>\n",
       "      <td>1.0</td>\n",
       "      <td>4.0</td>\n",
       "      <td>2.0</td>\n",
       "    </tr>\n",
       "  </tbody>\n",
       "</table></div>"
      ]
     },
     "metadata": {},
     "output_type": "display_data"
    }
   ],
   "source": [
    "%get mtcars --from R\n",
    "%preview -n mtcars "
   ]
  },
  {
   "cell_type": "markdown",
   "metadata": {
    "kernel": "R"
   },
   "source": [
    "Compared to previewing the same variable in R, you have the addition features of\n",
    "\n",
    "1. sorting table by clicking the sort icon at the header of each column\n",
    "2. displaying a subset of rows that matches specified text in the input text\n",
    "\n",
    "Note that SoS by default outputs the first 200 rows of the table. You can use option `-l` (`--limit`) to change this threshold.\n",
    "\n",
    "What makes this feature particularly interesting is that the table will be sortable and searchable when you save the jupyter notebook in HTML format (through command `sos convert analysis.ipynb analysis.html --template sos-report` or magic `%sossave --to html`)."
   ]
  },
  {
   "cell_type": "markdown",
   "metadata": {},
   "source": [
    "### Scatter Plot <a id=\"Scatter_Plot\"></a>"
   ]
  },
  {
   "cell_type": "markdown",
   "metadata": {},
   "source": [
    "The tablular preview of Pandas DataFrame is actually using the default `table` style of `%preview`. If you have one or more numeric columns, you can use the `scatterplot` style of `%preview` to view the data. For example, the following command plots `mpg` vs `disp` of the `mtcars` dataset, stratified by `cyl`."
   ]
  },
  {
   "cell_type": "code",
   "execution_count": 24,
   "metadata": {
    "kernel": "SoS"
   },
   "outputs": [
    {
     "data": {
      "text/html": [
       "<div class=\"sos_hint\">> mtcars: DataFrame of shape (32, 11)</div>"
      ],
      "text/plain": [
       ">>> mtcars:\n"
      ]
     },
     "metadata": {},
     "output_type": "display_data"
    },
    {
     "data": {
      "text/html": [
       "\n",
       "<div class='scatterplot_container'>\n",
       "<div class='scatterplot' id='dataframe_scatterplot_1' width='50vw' height='38vw'></div>\n",
       "<script language=\"javascript\" type=\"text/javascript\" src=\"http://www.flotcharts.org/flot/jquery.flot.js\"></script>\n",
       "<script>\n",
       "    var options = {\"xaxis\": {}, \"yaxis\": {}, \"series\": {\"lines\": {\"show\": false}, \"points\": {\"show\": true}}, \"grid\": {\"hoverable\": true, \"clickable\": true}};\n",
       "    function plotScatterPlot1() {\n",
       "        plot = $.plot('#dataframe_scatterplot_1', [{\"label\": \"disp (cyl=4.0)\", \"data\": [[22.8, 108.0, \"index: Datsun&nbsp;710<br>mpg: 22.8\"], [24.4, 146.7, \"index: Merc&nbsp;240D<br>mpg: 24.4\"], [22.8, 140.8, \"index: Merc&nbsp;230<br>mpg: 22.8\"], [32.4, 78.7, \"index: Fiat&nbsp;128<br>mpg: 32.4\"], [30.4, 75.7, \"index: Honda&nbsp;Civic<br>mpg: 30.4\"], [33.9, 71.1, \"index: Toyota&nbsp;Corolla<br>mpg: 33.9\"], [21.5, 120.1, \"index: Toyota&nbsp;Corona<br>mpg: 21.5\"], [27.3, 79.0, \"index: Fiat&nbsp;X1&#8209;9<br>mpg: 27.3\"], [26.0, 120.3, \"index: Porsche&nbsp;914&#8209;2<br>mpg: 26.0\"], [30.4, 95.1, \"index: Lotus&nbsp;Europa<br>mpg: 30.4\"], [21.4, 121.0, \"index: Volvo&nbsp;142E<br>mpg: 21.4\"]]}, {\"label\": \"disp (cyl=6.0)\", \"data\": [[21.0, 160.0, \"index: Mazda&nbsp;RX4<br>mpg: 21.0\"], [21.0, 160.0, \"index: Mazda&nbsp;RX4&nbsp;Wag<br>mpg: 21.0\"], [21.4, 258.0, \"index: Hornet&nbsp;4&nbsp;Drive<br>mpg: 21.4\"], [18.1, 225.0, \"index: Valiant<br>mpg: 18.1\"], [19.2, 167.6, \"index: Merc&nbsp;280<br>mpg: 19.2\"], [17.8, 167.6, \"index: Merc&nbsp;280C<br>mpg: 17.8\"], [19.7, 145.0, \"index: Ferrari&nbsp;Dino<br>mpg: 19.7\"]]}, {\"label\": \"disp (cyl=8.0)\", \"data\": [[18.7, 360.0, \"index: Hornet&nbsp;Sportabout<br>mpg: 18.7\"], [14.3, 360.0, \"index: Duster&nbsp;360<br>mpg: 14.3\"], [16.4, 275.8, \"index: Merc&nbsp;450SE<br>mpg: 16.4\"], [17.3, 275.8, \"index: Merc&nbsp;450SL<br>mpg: 17.3\"], [15.2, 275.8, \"index: Merc&nbsp;450SLC<br>mpg: 15.2\"], [10.4, 472.0, \"index: Cadillac&nbsp;Fleetwood<br>mpg: 10.4\"], [10.4, 460.0, \"index: Lincoln&nbsp;Continental<br>mpg: 10.4\"], [14.7, 440.0, \"index: Chrysler&nbsp;Imperial<br>mpg: 14.7\"], [15.5, 318.0, \"index: Dodge&nbsp;Challenger<br>mpg: 15.5\"], [15.2, 304.0, \"index: AMC&nbsp;Javelin<br>mpg: 15.2\"], [13.3, 350.0, \"index: Camaro&nbsp;Z28<br>mpg: 13.3\"], [19.2, 400.0, \"index: Pontiac&nbsp;Firebird<br>mpg: 19.2\"], [15.8, 351.0, \"index: Ford&nbsp;Pantera&nbsp;L<br>mpg: 15.8\"], [15.0, 301.0, \"index: Maserati&nbsp;Bora<br>mpg: 15.0\"]]}], options)\n",
       "\n",
       "    if ($('#dftooltip').length == 0) {\n",
       "        $(\"<div id='dftooltip'></div>\").css({\n",
       "            position: \"absolute\",\n",
       "            display: \"none\",\n",
       "            border: \"1px solid #fdd\",\n",
       "            padding: \"2px\",\n",
       "            \"background-color\": \"#fee\",\n",
       "            \"z-index\": 1000,\n",
       "            opacity: 0.80\n",
       "            }).appendTo(\"body\");\n",
       "    }\n",
       "    $('#dataframe_scatterplot_1').bind(\"plothover\", function (event, pos, item) {\n",
       "            if (item) {\n",
       "                $(\"#dftooltip\").html((item.series.label + \": \" +\n",
       "                    item.series.data[item.dataIndex][1].toString() + \"<br>\" +\n",
       "                    item.series.data[item.dataIndex][2]).trim()).css({top: item.pageY+5, left: item.pageX+5})\n",
       "                    .fadeIn(200);\n",
       "            } else {\n",
       "                $(\"#dftooltip\").hide();\n",
       "            }\n",
       "    });\n",
       "    }\n",
       "\n",
       "// we will wait for the div to be displayed on the HTML/Jupyter side before we plot\n",
       "// the figure. This might not be necessary but at least this is a chance for us\n",
       "// to resize the div and avoid some flot error\n",
       "\n",
       "var dt = 100;\n",
       "// the frontend might be notified before the table is inserted as results.\n",
       "function showFigure1() {\n",
       "    if ( $('#dataframe_scatterplot_1').length === 0 || $.plot === undefined ) {\n",
       "          dt = dt * 1.5; // slow-down checks for datatable as time goes on;\n",
       "          setTimeout(showFigure1, dt);\n",
       "          return;\n",
       "   } else {\n",
       "        $('#dataframe_scatterplot_1').css('width', '50vw').css('height', '38vw');\n",
       "        plotScatterPlot1();\n",
       "    }\n",
       "}\n",
       "showFigure1()\n",
       "</script>\n",
       "</div>"
      ]
     },
     "metadata": {},
     "output_type": "display_data"
    }
   ],
   "source": [
    "%preview mtcars -n -s scatterplot mpg disp --by cyl"
   ]
  },
  {
   "cell_type": "markdown",
   "metadata": {},
   "source": [
    "The advantage of this scatterplot is that you can see a description of data when you hover over the data points, which can be more informative than static figures produced by, for example, R.\n",
    "\n",
    "The `scatterplot` style provides a number of options and you can use option `-h` with `-s` to display them:"
   ]
  },
  {
   "cell_type": "code",
   "execution_count": 25,
   "metadata": {
    "kernel": "SoS"
   },
   "outputs": [
    {
     "name": "stdout",
     "output_type": "stream",
     "text": [
      "usage: %preview -s scatterplot [-h] [--ylim YLIM YLIM] [--xlim XLIM XLIM]\n",
      "                               [--log {x,y,xy,yx}] [--width WIDTH]\n",
      "                               [--height HEIGHT] [-b BY [BY ...]]\n",
      "                               [--show SHOW [SHOW ...]]\n",
      "                               [-t [TOOLTIP [TOOLTIP ...]]] [-l LIMIT]\n",
      "                               [cols [cols ...]]\n",
      "\n",
      "positional arguments:\n",
      "  cols                  Columns to plot, which should all be numeric. If one\n",
      "                        column is specified, it is assumed to be a x-y plot\n",
      "                        with x being 0, 1, 2, 3, .... If two or more columns\n",
      "                        (n) are specified, n-1 series will be plotted with the\n",
      "                        first column being the x axis, in which case an\n",
      "                        \"_index\" name can be used to specify 0, 1, 2, 3, ....\n",
      "                        This option can be igured if the dataframe has only\n",
      "                        one or two columns.\n",
      "\n",
      "optional arguments:\n",
      "  -h, --help            show this help message and exit\n",
      "  --ylim YLIM YLIM      Range of y-axis\n",
      "  --xlim XLIM XLIM      Range of x-axis\n",
      "  --log {x,y,xy,yx}     Make x-axis, y-axis, or both to logarithmic\n",
      "  --width WIDTH         Width of the plot.\n",
      "  --height HEIGHT       Height of the plot.\n",
      "  -b BY [BY ...], --by BY [BY ...]\n",
      "                        columns by which the data points are stratified.\n",
      "  --show SHOW [SHOW ...]\n",
      "                        What to show in the plot, can be 'lines', 'points' or\n",
      "                        both. Default to points, and lines if x-axis is\n",
      "                        sorted.\n",
      "  -t [TOOLTIP [TOOLTIP ...]], --tooltip [TOOLTIP [TOOLTIP ...]]\n",
      "                        Fields to be shown in tooltip, in addition to the row\n",
      "                        index and point values that would be shown by default.\n",
      "  -l LIMIT, --limit LIMIT\n",
      "                        Maximum number of records to plot.\n"
     ]
    }
   ],
   "source": [
    "%preview mtcars -s scatterplot -h"
   ]
  },
  {
   "cell_type": "markdown",
   "metadata": {},
   "source": [
    "For example, you can show more tooltips and multiple columns as follows:"
   ]
  },
  {
   "cell_type": "code",
   "execution_count": 26,
   "metadata": {
    "kernel": "SoS"
   },
   "outputs": [
    {
     "data": {
      "text/html": [
       "<div class=\"sos_hint\">> mtcars: DataFrame of shape (32, 11)</div>"
      ],
      "text/plain": [
       ">>> mtcars:\n"
      ]
     },
     "metadata": {},
     "output_type": "display_data"
    },
    {
     "data": {
      "text/html": [
       "\n",
       "<div class='scatterplot_container'>\n",
       "<div class='scatterplot_by_rowname' id='dataframe_scatterplot_2' width='50vw' height='38vw'></div>\n",
       "<script language=\"javascript\" type=\"text/javascript\" src=\"http://www.flotcharts.org/flot/jquery.flot.js\"></script>\n",
       "<script>\n",
       "    var options = {\"xaxis\": {\"ticks\": [[0, \"Mazda&nbsp;RX4\"], [1, \"Mazda&nbsp;RX4&nbsp;Wag\"], [2, \"Datsun&nbsp;710\"], [3, \"Hornet&nbsp;4&nbsp;Drive\"], [4, \"Hornet&nbsp;Sportabout\"], [5, \"Valiant\"], [6, \"Duster&nbsp;360\"], [7, \"Merc&nbsp;240D\"], [8, \"Merc&nbsp;230\"], [9, \"Merc&nbsp;280\"], [10, \"Merc&nbsp;280C\"], [11, \"Merc&nbsp;450SE\"], [12, \"Merc&nbsp;450SL\"], [13, \"Merc&nbsp;450SLC\"], [14, \"Cadillac&nbsp;Fleetwood\"], [15, \"Lincoln&nbsp;Continental\"], [16, \"Chrysler&nbsp;Imperial\"], [17, \"Fiat&nbsp;128\"], [18, \"Honda&nbsp;Civic\"], [19, \"Toyota&nbsp;Corolla\"], [20, \"Toyota&nbsp;Corona\"], [21, \"Dodge&nbsp;Challenger\"], [22, \"AMC&nbsp;Javelin\"], [23, \"Camaro&nbsp;Z28\"], [24, \"Pontiac&nbsp;Firebird\"], [25, \"Fiat&nbsp;X1&#8209;9\"], [26, \"Porsche&nbsp;914&#8209;2\"], [27, \"Lotus&nbsp;Europa\"], [28, \"Ford&nbsp;Pantera&nbsp;L\"], [29, \"Ferrari&nbsp;Dino\"], [30, \"Maserati&nbsp;Bora\"], [31, \"Volvo&nbsp;142E\"]]}, \"yaxis\": {}, \"series\": {\"lines\": {\"show\": true}, \"points\": {\"show\": true}}, \"grid\": {\"hoverable\": true, \"clickable\": true}};\n",
       "    function plotScatterPlot2() {\n",
       "        plot = $.plot('#dataframe_scatterplot_2', [{\"clickable\": true, \"hoverable\": true, \"label\": \"disp\", \"data\": [[0, 160.0, \"index: Mazda&nbsp;RX4<br>wt: 2.62<br>qsec: 16.46\"], [1, 160.0, \"index: Mazda&nbsp;RX4&nbsp;Wag<br>wt: 2.875<br>qsec: 17.02\"], [2, 108.0, \"index: Datsun&nbsp;710<br>wt: 2.32<br>qsec: 18.61\"], [3, 258.0, \"index: Hornet&nbsp;4&nbsp;Drive<br>wt: 3.215<br>qsec: 19.44\"], [4, 360.0, \"index: Hornet&nbsp;Sportabout<br>wt: 3.44<br>qsec: 17.02\"], [5, 225.0, \"index: Valiant<br>wt: 3.46<br>qsec: 20.22\"], [6, 360.0, \"index: Duster&nbsp;360<br>wt: 3.57<br>qsec: 15.84\"], [7, 146.7, \"index: Merc&nbsp;240D<br>wt: 3.19<br>qsec: 20.0\"], [8, 140.8, \"index: Merc&nbsp;230<br>wt: 3.15<br>qsec: 22.9\"], [9, 167.6, \"index: Merc&nbsp;280<br>wt: 3.44<br>qsec: 18.3\"], [10, 167.6, \"index: Merc&nbsp;280C<br>wt: 3.44<br>qsec: 18.9\"], [11, 275.8, \"index: Merc&nbsp;450SE<br>wt: 4.07<br>qsec: 17.4\"], [12, 275.8, \"index: Merc&nbsp;450SL<br>wt: 3.73<br>qsec: 17.6\"], [13, 275.8, \"index: Merc&nbsp;450SLC<br>wt: 3.78<br>qsec: 18.0\"], [14, 472.0, \"index: Cadillac&nbsp;Fleetwood<br>wt: 5.25<br>qsec: 17.98\"], [15, 460.0, \"index: Lincoln&nbsp;Continental<br>wt: 5.424<br>qsec: 17.82\"], [16, 440.0, \"index: Chrysler&nbsp;Imperial<br>wt: 5.345<br>qsec: 17.42\"], [17, 78.7, \"index: Fiat&nbsp;128<br>wt: 2.2<br>qsec: 19.47\"], [18, 75.7, \"index: Honda&nbsp;Civic<br>wt: 1.615<br>qsec: 18.52\"], [19, 71.1, \"index: Toyota&nbsp;Corolla<br>wt: 1.835<br>qsec: 19.9\"], [20, 120.1, \"index: Toyota&nbsp;Corona<br>wt: 2.465<br>qsec: 20.01\"], [21, 318.0, \"index: Dodge&nbsp;Challenger<br>wt: 3.52<br>qsec: 16.87\"], [22, 304.0, \"index: AMC&nbsp;Javelin<br>wt: 3.435<br>qsec: 17.3\"], [23, 350.0, \"index: Camaro&nbsp;Z28<br>wt: 3.84<br>qsec: 15.41\"], [24, 400.0, \"index: Pontiac&nbsp;Firebird<br>wt: 3.845<br>qsec: 17.05\"], [25, 79.0, \"index: Fiat&nbsp;X1&#8209;9<br>wt: 1.935<br>qsec: 18.9\"], [26, 120.3, \"index: Porsche&nbsp;914&#8209;2<br>wt: 2.14<br>qsec: 16.7\"], [27, 95.1, \"index: Lotus&nbsp;Europa<br>wt: 1.513<br>qsec: 16.9\"], [28, 351.0, \"index: Ford&nbsp;Pantera&nbsp;L<br>wt: 3.17<br>qsec: 14.5\"], [29, 145.0, \"index: Ferrari&nbsp;Dino<br>wt: 2.77<br>qsec: 15.5\"], [30, 301.0, \"index: Maserati&nbsp;Bora<br>wt: 3.57<br>qsec: 14.6\"], [31, 121.0, \"index: Volvo&nbsp;142E<br>wt: 2.78<br>qsec: 18.6\"]]}, {\"clickable\": true, \"hoverable\": true, \"label\": \"hp\", \"data\": [[0, 110.0, \"index: Mazda&nbsp;RX4<br>wt: 2.62<br>qsec: 16.46\"], [1, 110.0, \"index: Mazda&nbsp;RX4&nbsp;Wag<br>wt: 2.875<br>qsec: 17.02\"], [2, 93.0, \"index: Datsun&nbsp;710<br>wt: 2.32<br>qsec: 18.61\"], [3, 110.0, \"index: Hornet&nbsp;4&nbsp;Drive<br>wt: 3.215<br>qsec: 19.44\"], [4, 175.0, \"index: Hornet&nbsp;Sportabout<br>wt: 3.44<br>qsec: 17.02\"], [5, 105.0, \"index: Valiant<br>wt: 3.46<br>qsec: 20.22\"], [6, 245.0, \"index: Duster&nbsp;360<br>wt: 3.57<br>qsec: 15.84\"], [7, 62.0, \"index: Merc&nbsp;240D<br>wt: 3.19<br>qsec: 20.0\"], [8, 95.0, \"index: Merc&nbsp;230<br>wt: 3.15<br>qsec: 22.9\"], [9, 123.0, \"index: Merc&nbsp;280<br>wt: 3.44<br>qsec: 18.3\"], [10, 123.0, \"index: Merc&nbsp;280C<br>wt: 3.44<br>qsec: 18.9\"], [11, 180.0, \"index: Merc&nbsp;450SE<br>wt: 4.07<br>qsec: 17.4\"], [12, 180.0, \"index: Merc&nbsp;450SL<br>wt: 3.73<br>qsec: 17.6\"], [13, 180.0, \"index: Merc&nbsp;450SLC<br>wt: 3.78<br>qsec: 18.0\"], [14, 205.0, \"index: Cadillac&nbsp;Fleetwood<br>wt: 5.25<br>qsec: 17.98\"], [15, 215.0, \"index: Lincoln&nbsp;Continental<br>wt: 5.424<br>qsec: 17.82\"], [16, 230.0, \"index: Chrysler&nbsp;Imperial<br>wt: 5.345<br>qsec: 17.42\"], [17, 66.0, \"index: Fiat&nbsp;128<br>wt: 2.2<br>qsec: 19.47\"], [18, 52.0, \"index: Honda&nbsp;Civic<br>wt: 1.615<br>qsec: 18.52\"], [19, 65.0, \"index: Toyota&nbsp;Corolla<br>wt: 1.835<br>qsec: 19.9\"], [20, 97.0, \"index: Toyota&nbsp;Corona<br>wt: 2.465<br>qsec: 20.01\"], [21, 150.0, \"index: Dodge&nbsp;Challenger<br>wt: 3.52<br>qsec: 16.87\"], [22, 150.0, \"index: AMC&nbsp;Javelin<br>wt: 3.435<br>qsec: 17.3\"], [23, 245.0, \"index: Camaro&nbsp;Z28<br>wt: 3.84<br>qsec: 15.41\"], [24, 175.0, \"index: Pontiac&nbsp;Firebird<br>wt: 3.845<br>qsec: 17.05\"], [25, 66.0, \"index: Fiat&nbsp;X1&#8209;9<br>wt: 1.935<br>qsec: 18.9\"], [26, 91.0, \"index: Porsche&nbsp;914&#8209;2<br>wt: 2.14<br>qsec: 16.7\"], [27, 113.0, \"index: Lotus&nbsp;Europa<br>wt: 1.513<br>qsec: 16.9\"], [28, 264.0, \"index: Ford&nbsp;Pantera&nbsp;L<br>wt: 3.17<br>qsec: 14.5\"], [29, 175.0, \"index: Ferrari&nbsp;Dino<br>wt: 2.77<br>qsec: 15.5\"], [30, 335.0, \"index: Maserati&nbsp;Bora<br>wt: 3.57<br>qsec: 14.6\"], [31, 109.0, \"index: Volvo&nbsp;142E<br>wt: 2.78<br>qsec: 18.6\"]]}, {\"clickable\": true, \"hoverable\": true, \"label\": \"mpg\", \"data\": [[0, 21.0, \"index: Mazda&nbsp;RX4<br>wt: 2.62<br>qsec: 16.46\"], [1, 21.0, \"index: Mazda&nbsp;RX4&nbsp;Wag<br>wt: 2.875<br>qsec: 17.02\"], [2, 22.8, \"index: Datsun&nbsp;710<br>wt: 2.32<br>qsec: 18.61\"], [3, 21.4, \"index: Hornet&nbsp;4&nbsp;Drive<br>wt: 3.215<br>qsec: 19.44\"], [4, 18.7, \"index: Hornet&nbsp;Sportabout<br>wt: 3.44<br>qsec: 17.02\"], [5, 18.1, \"index: Valiant<br>wt: 3.46<br>qsec: 20.22\"], [6, 14.3, \"index: Duster&nbsp;360<br>wt: 3.57<br>qsec: 15.84\"], [7, 24.4, \"index: Merc&nbsp;240D<br>wt: 3.19<br>qsec: 20.0\"], [8, 22.8, \"index: Merc&nbsp;230<br>wt: 3.15<br>qsec: 22.9\"], [9, 19.2, \"index: Merc&nbsp;280<br>wt: 3.44<br>qsec: 18.3\"], [10, 17.8, \"index: Merc&nbsp;280C<br>wt: 3.44<br>qsec: 18.9\"], [11, 16.4, \"index: Merc&nbsp;450SE<br>wt: 4.07<br>qsec: 17.4\"], [12, 17.3, \"index: Merc&nbsp;450SL<br>wt: 3.73<br>qsec: 17.6\"], [13, 15.2, \"index: Merc&nbsp;450SLC<br>wt: 3.78<br>qsec: 18.0\"], [14, 10.4, \"index: Cadillac&nbsp;Fleetwood<br>wt: 5.25<br>qsec: 17.98\"], [15, 10.4, \"index: Lincoln&nbsp;Continental<br>wt: 5.424<br>qsec: 17.82\"], [16, 14.7, \"index: Chrysler&nbsp;Imperial<br>wt: 5.345<br>qsec: 17.42\"], [17, 32.4, \"index: Fiat&nbsp;128<br>wt: 2.2<br>qsec: 19.47\"], [18, 30.4, \"index: Honda&nbsp;Civic<br>wt: 1.615<br>qsec: 18.52\"], [19, 33.9, \"index: Toyota&nbsp;Corolla<br>wt: 1.835<br>qsec: 19.9\"], [20, 21.5, \"index: Toyota&nbsp;Corona<br>wt: 2.465<br>qsec: 20.01\"], [21, 15.5, \"index: Dodge&nbsp;Challenger<br>wt: 3.52<br>qsec: 16.87\"], [22, 15.2, \"index: AMC&nbsp;Javelin<br>wt: 3.435<br>qsec: 17.3\"], [23, 13.3, \"index: Camaro&nbsp;Z28<br>wt: 3.84<br>qsec: 15.41\"], [24, 19.2, \"index: Pontiac&nbsp;Firebird<br>wt: 3.845<br>qsec: 17.05\"], [25, 27.3, \"index: Fiat&nbsp;X1&#8209;9<br>wt: 1.935<br>qsec: 18.9\"], [26, 26.0, \"index: Porsche&nbsp;914&#8209;2<br>wt: 2.14<br>qsec: 16.7\"], [27, 30.4, \"index: Lotus&nbsp;Europa<br>wt: 1.513<br>qsec: 16.9\"], [28, 15.8, \"index: Ford&nbsp;Pantera&nbsp;L<br>wt: 3.17<br>qsec: 14.5\"], [29, 19.7, \"index: Ferrari&nbsp;Dino<br>wt: 2.77<br>qsec: 15.5\"], [30, 15.0, \"index: Maserati&nbsp;Bora<br>wt: 3.57<br>qsec: 14.6\"], [31, 21.4, \"index: Volvo&nbsp;142E<br>wt: 2.78<br>qsec: 18.6\"]]}], options)\n",
       "\n",
       "    if ($('#dftooltip').length == 0) {\n",
       "        $(\"<div id='dftooltip'></div>\").css({\n",
       "            position: \"absolute\",\n",
       "            display: \"none\",\n",
       "            border: \"1px solid #fdd\",\n",
       "            padding: \"2px\",\n",
       "            \"background-color\": \"#fee\",\n",
       "            \"z-index\": 1000,\n",
       "            opacity: 0.80\n",
       "            }).appendTo(\"body\");\n",
       "    }\n",
       "    $('#dataframe_scatterplot_2').bind(\"plothover\", function (event, pos, item) {\n",
       "            if (item) {\n",
       "                $(\"#dftooltip\").html((item.series.label + \": \" +\n",
       "                    item.series.data[item.dataIndex][1].toString() + \"<br>\" +\n",
       "                    item.series.data[item.dataIndex][2]).trim()).css({top: item.pageY+5, left: item.pageX+5})\n",
       "                    .fadeIn(200);\n",
       "            } else {\n",
       "                $(\"#dftooltip\").hide();\n",
       "            }\n",
       "    });\n",
       "    }\n",
       "\n",
       "// we will wait for the div to be displayed on the HTML/Jupyter side before we plot\n",
       "// the figure. This might not be necessary but at least this is a chance for us\n",
       "// to resize the div and avoid some flot error\n",
       "\n",
       "var dt = 100;\n",
       "// the frontend might be notified before the table is inserted as results.\n",
       "function showFigure2() {\n",
       "    if ( $('#dataframe_scatterplot_2').length === 0 || $.plot === undefined ) {\n",
       "          dt = dt * 1.5; // slow-down checks for datatable as time goes on;\n",
       "          setTimeout(showFigure2, dt);\n",
       "          return;\n",
       "   } else {\n",
       "        $('#dataframe_scatterplot_2').css('width', '50vw').css('height', '38vw');\n",
       "        plotScatterPlot2();\n",
       "    }\n",
       "}\n",
       "showFigure2()\n",
       "</script>\n",
       "</div>"
      ]
     },
     "metadata": {},
     "output_type": "display_data"
    }
   ],
   "source": [
    "%preview mtcars -n -s scatterplot _index disp hp mpg --tooltip wt qsec"
   ]
  },
  {
   "cell_type": "markdown",
   "metadata": {},
   "source": [
    "### Command `sos preview` <a id=\"Command_sos_preview\"></a>"
   ]
  },
  {
   "cell_type": "markdown",
   "metadata": {},
   "source": [
    "The `%preview` magic has a command line counterpart `sos preview`. This command cannot display any figure but can be convenient to preview content of compressed files and files that are not previewed by the operating system (e.g. `bam` files). The `-r` option is especially useful in previewing files on a remote host without logging to the remote host or copying the files to local host."
   ]
  },
  {
   "cell_type": "markdown",
   "metadata": {},
   "source": [
    "## Execution of Workflows <a id=\"Execution_of_Workflows\"></a>"
   ]
  },
  {
   "cell_type": "markdown",
   "metadata": {},
   "source": [
    "We have discussed markdown cells, subkernel cells, and SoS cells, which can be considered as a subkernel cell with SoS (Python) kernel. SoS notebook supports another type of cell, namely **workflow cell**.\n",
    "\n",
    "A workflow cell is a SoS cell with one or more formal **SoS steps**, which are marked by a **section header**. In summary,\n",
    "\n",
    "* A workflow cell can contain a complete workflow and be executed by magic `%run`.\n",
    "* Sections defined in all workflow cells in a notebook form **notebook workflows**, which can be executed by magic `%sosrun` or by command `sos run` (or `sos-runner`) from command line."
   ]
  },
  {
   "cell_type": "markdown",
   "metadata": {},
   "source": [
    "### Magic `%run` <a id=\"Magic_run\"></a>"
   ]
  },
  {
   "cell_type": "markdown",
   "metadata": {},
   "source": [
    "Magic `%sos` executes the content of a cell, prepended with all `[global]` sections defined in the notebook, as a complete SoS workflow in a separate namespace.\n",
    "\n",
    "For example, the following workflow cell defines a SoS step, but SoS Notebook will ignore it when you execute it with `Ctrl-Enter`."
   ]
  },
  {
   "cell_type": "code",
   "execution_count": 27,
   "metadata": {
    "kernel": "SoS"
   },
   "outputs": [],
   "source": [
    "[example_step]\n",
    "print(f\"This is {step_name}\")"
   ]
  },
  {
   "cell_type": "markdown",
   "metadata": {},
   "source": [
    "You can only execute such a cell with magic `%run`:"
   ]
  },
  {
   "cell_type": "code",
   "execution_count": 28,
   "metadata": {
    "kernel": "SoS"
   },
   "outputs": [
    {
     "name": "stdout",
     "output_type": "stream",
     "text": [
      "This is example_step_1\n"
     ]
    }
   ],
   "source": [
    "%run\n",
    "[example_step_1]\n",
    "print(f\"This is {step_name}\")"
   ]
  },
  {
   "cell_type": "markdown",
   "metadata": {},
   "source": [
    "The `%run` magic treats the content of the cell as a SoS workflow so you can put multiple sections in the cell"
   ]
  },
  {
   "cell_type": "code",
   "execution_count": 29,
   "metadata": {
    "kernel": "SoS"
   },
   "outputs": [
    {
     "name": "stdout",
     "output_type": "stream",
     "text": [
      "This is example_step_10\n",
      "This is example_step_20\n"
     ]
    }
   ],
   "source": [
    "%run\n",
    "[example_step_10]\n",
    "print(f\"This is {step_name}\")\n",
    "\n",
    "[example_step_20]\n",
    "print(f\"This is {step_name}\")"
   ]
  },
  {
   "cell_type": "markdown",
   "metadata": {},
   "source": [
    "You can have global section, define parameter, and execute the workflow multiple times with multiple `%run` magics:"
   ]
  },
  {
   "cell_type": "code",
   "execution_count": 30,
   "metadata": {
    "kernel": "SoS"
   },
   "outputs": [
    {
     "name": "stdout",
     "output_type": "stream",
     "text": [
      "This is example_step_15 with option 100\n",
      "This is example_step_25\n",
      "This is example_step_15 with option 200\n",
      "This is example_step_25\n"
     ]
    }
   ],
   "source": [
    "%run\n",
    "%run --var 200\n",
    "\n",
    "parameter: var = 100\n",
    "\n",
    "[example_step_15]\n",
    "print(f\"This is {step_name} with option {var}\")\n",
    "\n",
    "[example_step_25]\n",
    "print(f\"This is {step_name}\")"
   ]
  },
  {
   "cell_type": "markdown",
   "metadata": {},
   "source": [
    "It is important to remember that the workflow is executed in its own namespace so it needs to be self-contained. That is to say, if you define a variable in the SoS namespace,"
   ]
  },
  {
   "cell_type": "code",
   "execution_count": 31,
   "metadata": {
    "kernel": "SoS"
   },
   "outputs": [],
   "source": [
    "var = 500"
   ]
  },
  {
   "cell_type": "markdown",
   "metadata": {},
   "source": [
    "The variable is not available to the workflow"
   ]
  },
  {
   "cell_type": "code",
   "execution_count": 32,
   "metadata": {
    "kernel": "SoS"
   },
   "outputs": [
    {
     "name": "stdout",
     "output_type": "stream",
     "text": [
      "this is global\n"
     ]
    }
   ],
   "source": [
    "%sandbox --expect-error\n",
    "%run\n",
    "print(var)"
   ]
  },
  {
   "cell_type": "markdown",
   "metadata": {},
   "source": [
    "so you will have to pass it to the workflow as command line options"
   ]
  },
  {
   "cell_type": "code",
   "execution_count": 33,
   "metadata": {
    "kernel": "SoS"
   },
   "outputs": [
    {
     "data": {
      "text/html": [
       "<div class=\"sos_hint\">> %run --var 500<br></div>"
      ]
     },
     "metadata": {},
     "output_type": "display_data"
    },
    {
     "name": "stdout",
     "output_type": "stream",
     "text": [
      "500\n"
     ]
    }
   ],
   "source": [
    "%run --var {var}\n",
    "parameter: var = int\n",
    "print(var)"
   ]
  },
  {
   "cell_type": "markdown",
   "metadata": {},
   "source": [
    "If you have multiple such definitions or if you have function definitions, you can define them in a `[global]` section, which will be executed before the cell workflow. "
   ]
  },
  {
   "cell_type": "code",
   "execution_count": 34,
   "metadata": {
    "kernel": "SoS"
   },
   "outputs": [],
   "source": [
    "[global]\n",
    "var = 'this is global'"
   ]
  },
  {
   "cell_type": "code",
   "execution_count": 35,
   "metadata": {
    "kernel": "SoS"
   },
   "outputs": [
    {
     "name": "stdout",
     "output_type": "stream",
     "text": [
      "this is global\n"
     ]
    }
   ],
   "source": [
    "%run\n",
    "print(var)"
   ]
  },
  {
   "cell_type": "markdown",
   "metadata": {},
   "source": [
    "Similar to command line tool `sos run`, magic `%run` accepts a large number of parameters. Please refer to the output of `%run -h` for details."
   ]
  },
  {
   "cell_type": "markdown",
   "metadata": {},
   "source": [
    "### Magic `%sosrun` <a id=\"Magic_sosrun\"></a>"
   ]
  },
  {
   "cell_type": "markdown",
   "metadata": {},
   "source": [
    "Magic `%sosrun` is similar to `%sos` in its ability to execute workflows with many options, with the major difference in that it execute **notebook workflows**, which are defined by all sections defined in the notebook. The notebook workflow can be displayed with magic `%preview --workflow` and is the workflow that will be executed if the notebook is executed from the command line with command `sos run` or `sos-runner`.\n",
    "\n",
    "It is worth noting that magics `%sosrun` and `%run` can be used together, so that you can run single workflows with `%run` and multiple workflows with `%sosrun`. For example, you can debug and execute single workflows with magic %run`"
   ]
  },
  {
   "cell_type": "code",
   "execution_count": 36,
   "metadata": {
    "kernel": "SoS"
   },
   "outputs": [
    {
     "name": "stdout",
     "output_type": "stream",
     "text": [
      "stepA_0 with parameter 10\n"
     ]
    }
   ],
   "source": [
    "%run stepA --var 10\n",
    "\n",
    "[stepA]\n",
    "parameter: var = 20\n",
    "print(f\"{step_name} with parameter {var}\")"
   ]
  },
  {
   "cell_type": "markdown",
   "metadata": {},
   "source": [
    "and execute many such workflows in batch mode with magic `%sosrun`:"
   ]
  },
  {
   "cell_type": "code",
   "execution_count": 37,
   "metadata": {
    "kernel": "SoS"
   },
   "outputs": [
    {
     "name": "stdout",
     "output_type": "stream",
     "text": [
      "stepA_0 with parameter 30\n"
     ]
    }
   ],
   "source": [
    "%sosrun master\n",
    "\n",
    "[master]\n",
    "sos_run('stepA', var=30)"
   ]
  },
  {
   "cell_type": "markdown",
   "metadata": {},
   "source": [
    "## Conversion between `.ipynb` and `.sos` files\n",
    " <a id=\"Conversion between `.ipynb` and `.sos` files\n",
    "\"></a>\n",
    "You can save a Jupyter notebook with SoS kernel to a SoS script using `File -> Download As -> SoS` from the browser, or using command\n",
    "\n",
    "```\n",
    "$ sos convert myscript.ipynb myscript.sos\n",
    "```\n",
    "\n",
    "By default, **only workflow cells will be saved to a `.sos` file to create a SoS script in correct syntax**. You can also save all cells, including cells in other kernels in a '.sos' file using option `--all`, although the resulting `.sos` file might not be executable in bath mode.\n",
    "\n",
    "You can convert an `.sos` script to `.ipynb` format using command\n",
    "\n",
    "```\n",
    "$ sos convert myscript.sos myscript.ipynb\n",
    "```\n",
    "\n",
    "or even to an executed notebook with option `--execute`\n",
    "\n",
    "```\n",
    "$ sos convert myscript.sos myscript.ipynb --execute\n",
    "```\n",
    "\n",
    "and SoS will either assign each SoS step to a cell, or split the workflow according to some cell magic if the `.sos` was exported with the `--all` option.\n",
    "\n",
    "Please refer to the tutorial on [File Conversion](../tutorials/File_Conversion.html) for details of these commands."
   ]
  },
  {
   "cell_type": "markdown",
   "metadata": {},
   "source": [
    "## Convert `.ipynb` to HTML format <a id=\"Convert_ipynb_to_HTML_format\"></a>"
   ]
  },
  {
   "cell_type": "markdown",
   "metadata": {},
   "source": [
    "Because it is not particularly easy to open an `.ipynb` file (a live Jupyter server is required) and because of risk of changing the content of an `.ipynb` file, it is often desired to save an `.ipynb` file in HTML format.\n",
    "\n",
    "Jupyter makes use of a template system to control the content and style of exported HTML file. For example, you can use the default Jupyter template (`File` -> `Save As` -> `HTML`) to save all input and output cells, or you can use the [hide code Jupyter extension](https://github.com/kirbs-/hide_code) to manually hide input or output of each cell and produce a customized .HTML file.\n",
    "\n",
    "SoS provides its own `template` called `sos-report`, which can be used from command line using command\n",
    "\n",
    "```\n",
    "sos convert analysis.ipynb analysis.html --template sos-report\n",
    "```\n",
    "or from within Jupyter with magic `%sossave` with specified filename\n",
    "\n",
    "```\n",
    "%sossave analysis.html -f\n",
    "```\n",
    "or using the same name as the notebook with option `--to html`\n",
    "```\n",
    "%sossave --to html -f\n",
    "```\n",
    "\n",
    "Option `-f` overrides existing file if an output file already exists. You could also use other `sos` based templates such as `sos-full`, which displays all cells.\n",
    "\n",
    "The generated HTML file has the following properties\n",
    "\n",
    "1. It by default only displays markdown cells, input and output cells with tag `report_cell`, and output cells with tag `report_output`.  This is the **report view** that only displays the results of interest.\n",
    "\n",
    "2. If you point your mose to the left top corner of the window, a display control panel will be displayed for you to select additional items to display, including all input and output cells, input and output prompts, and various messages. This is the **notebook view** that displays all the details of the analysis.\n",
    "\n",
    "The `report_output` tag can be toggled using keyboard shortcut `Ctrl-Shift-O` and cells with this tag will be marked by a gray bar to the right of the output area. The `report_cell` and `scratch` tag has to be manually added through the `tag` toolbar (`View` -> `Cell Toolbar` -> `Tags`). Whereas `report_output` only works for output of code cells, the `scratch` tag applies to both markdown and code cells. Finally, if you have created your own customized template, you can define `sos-default-template` in a configuration file (eg. `sos config --set sos-default-template mytemplate.tpl`) instead of specifying it with option `--template` each time.\n"
   ]
  }
 ],
 "metadata": {
  "anaconda-cloud": {},
  "kernelspec": {
   "display_name": "SoS",
   "language": "sos",
   "name": "sos"
  },
  "language_info": {
   "codemirror_mode": "sos",
   "file_extension": ".sos",
   "mimetype": "text/x-sos",
   "name": "sos",
   "nbconvert_exporter": "sos_notebook.converter.SoS_Exporter",
   "pygments_lexer": "sos"
  },
  "sos": {
   "celltoolbar": true,
   "default_kernel": "R",
   "kernels": [
    [
     "SoS",
     "sos",
     "",
     ""
    ],
    [
     "R",
     "ir",
     "R",
     "#DCDCDA"
    ],
    [
     "Bash",
     "bash",
     "Bash",
     "#E6EEFF"
    ],
    [
     "Julia",
     "julia-0.6",
     "Julia",
     "#ebd8eb"
    ],
    [
     "MATLAB",
     "imatlab",
     "MATLAB",
     "#dff8fb"
    ],
    [
     "Python3",
     "python3",
     "Python3",
     "#FFE771"
    ]
   ],
   "panel": {
    "displayed": true,
    "height": "200px",
    "style": "side"
   }
  },
  "toc": {
   "colors": {
    "hover_highlight": "#DAA520",
    "running_highlight": "#FF0000",
    "selected_highlight": "#FFD700"
   },
   "moveMenuLeft": true,
   "nav_menu": {
    "height": "503px",
    "width": "254px"
   },
   "navigate_menu": true,
   "number_sections": true,
   "sideBar": true,
   "threshold": 4,
   "toc_cell": false,
   "toc_position": {
    "height": "923px",
    "left": "0px",
    "right": "1400.4px",
    "top": "107px",
    "width": "262px"
   },
   "toc_section_display": "block",
   "toc_window_display": true
  }
 },
 "nbformat": 4,
 "nbformat_minor": 1
}

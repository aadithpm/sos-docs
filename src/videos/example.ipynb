{
 "cells": [
  {
   "cell_type": "code",
   "execution_count": null,
   "metadata": {
    "kernel": "SoS"
   },
   "outputs": [],
   "source": [
    "[global]\n",
    "parameter: input_file = 'DEG_list.xlsx'\n",
    "\n",
    "[1]\n",
    "input: input_file\n",
    "output: 'DEG_list.csv'\n",
    "python: expand=True\n",
    "    import pandas as pd\n",
    "    data = pd.read_excel('{input}')\n",
    "    data.to_csv('{output}')"
   ]
  },
  {
   "cell_type": "code",
   "execution_count": 11,
   "metadata": {
    "kernel": "SoS"
   },
   "outputs": [
    {
     "name": "stdout",
     "output_type": "stream",
     "text": [
      "null device \n",
      "          1 \n"
     ]
    }
   ],
   "source": [
    "[2]\n",
    "output: 'result.pdf'\n",
    "task:\n",
    "R: expand=True\n",
    "    data = read.csv('{input}')\n",
    "    pdf('{output}')\n",
    "    plot(data$log2FoldChange, data$stat)\n",
    "    dev.off()"
   ]
  },
  {
   "cell_type": "code",
   "execution_count": 16,
   "metadata": {
    "kernel": "SoS"
   },
   "outputs": [
    {
     "name": "stderr",
     "output_type": "stream",
     "text": [
      "\u001b[94mDEBUG\u001b[0m: \u001b[94mWorkflow default created with 2 sections: default_1, default_2\u001b[0m\n",
      "\u001b[94mDEBUG\u001b[0m: \u001b[94mExecuting \u001b[0m\u001b[32mdefault_1\u001b[0m\u001b[94m: \u001b[0m\n",
      "\u001b[94mDEBUG\u001b[0m: \u001b[94minput:    \u001b[0m\u001b[32m[file_target('another.xlsx')]\u001b[0m\u001b[94m\u001b[0m\n",
      "\u001b[94mDEBUG\u001b[0m: \u001b[94moutput:   \u001b[0m\u001b[32m[file_target('DEG_list.csv')]\u001b[0m\u001b[94m\u001b[0m\n",
      "\u001b[94mDEBUG\u001b[0m: \u001b[94mExecuting \u001b[0m\u001b[32mdefault_2\u001b[0m\u001b[94m: \u001b[0m\n",
      "\u001b[94mDEBUG\u001b[0m: \u001b[94minput:    \u001b[0m\u001b[32m[file_target('DEG_list.csv')]\u001b[0m\u001b[94m\u001b[0m\n"
     ]
    },
    {
     "data": {
      "text/html": [
       "<table id=\"table_mini_f4a9bb789ab71c1a841d1edfaa798788\" class=\"task_table\"><tr style=\"border: 0px\">\n",
       "                        <td style=\"border: 0px\">\n",
       "                        <i id=\"status_mini_f4a9bb789ab71c1a841d1edfaa798788\"\n",
       "                            class=\"fa fa-2x fa-fw fa-square-o\"\n",
       "                            onmouseover=\"$('#status_mini_f4a9bb789ab71c1a841d1edfaa798788').addClass('fa-stop task_hover').removeClass('fa-square-o')\"\n",
       "                            onmouseleave=\"$('#status_mini_f4a9bb789ab71c1a841d1edfaa798788').addClass('fa-square-o').removeClass('fa-stop task_hover')\"\n",
       "                            onclick=\"kill_task('f4a9bb789ab71c1a841d1edfaa798788', 'mini')\"\n",
       "                        ></i> </td>\n",
       "                        <td style=\"border:0px\"><a onclick=\"task_info('f4a9bb789ab71c1a841d1edfaa798788', 'mini')\"><pre>f4a9bb789ab71c1a841d1edfaa798788</pre></a></td>\n",
       "                        <td style=\"border:0px\">&nbsp;</td>\n",
       "                        <td style=\"border:0px;text-align=right;\">\n",
       "                        <pre><time id=\"duration_mini_f4a9bb789ab71c1a841d1edfaa798788\" class=\"pending\" datetime=\"1510637352000.0\">2 day 13 hr 40 sec</time></pre></td>\n",
       "                        </tr>\n",
       "                        </table>"
      ]
     },
     "metadata": {},
     "output_type": "display_data"
    }
   ],
   "source": [
    "%sosrun --input-file another.xlsx -v3 -s force"
   ]
  },
  {
   "cell_type": "code",
   "execution_count": null,
   "metadata": {},
   "outputs": [],
   "source": []
  }
 ],
 "metadata": {
  "kernelspec": {
   "display_name": "SoS",
   "language": "sos",
   "name": "sos"
  },
  "language_info": {
   "codemirror_mode": "sos",
   "file_extension": ".sos",
   "mimetype": "text/x-sos",
   "name": "sos",
   "nbconvert_exporter": "sos_notebook.converter.SoS_Exporter",
   "pygments_lexer": "sos"
  },
  "sos": {
   "default_kernel": "SoS",
   "kernels": [
    [
     "Bash",
     "bash",
     "Bash",
     "#E6EEFF"
    ],
    [
     "Julia",
     "julia-0.6",
     "Julia",
     "#ebd8eb"
    ],
    [
     "MATLAB",
     "imatlab",
     "MATLAB",
     "#dff8fb"
    ],
    [
     "Python3",
     "python3",
     "Python3",
     "#FFE771"
    ],
    [
     "R",
     "ir",
     "R",
     "#DCDCDA"
    ],
    [
     "SoS",
     "sos",
     "",
     ""
    ]
   ],
   "panel": {
    "displayed": true,
    "height": 0,
    "style": "side"
   }
  }
 },
 "nbformat": 4,
 "nbformat_minor": 2
}

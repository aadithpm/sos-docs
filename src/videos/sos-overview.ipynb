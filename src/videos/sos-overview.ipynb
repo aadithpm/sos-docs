{
 "cells": [
  {
   "cell_type": "code",
   "execution_count": 1,
   "metadata": {
    "kernel": "SoS"
   },
   "outputs": [],
   "source": [
    "import pandas as pd\n",
    "data = pd.read_excel('DEG_list.xlsx')\n",
    "data.to_csv('DEG_list.csv')"
   ]
  },
  {
   "cell_type": "code",
   "execution_count": 2,
   "metadata": {
    "kernel": "R"
   },
   "outputs": [
    {
     "data": {
      "text/html": [
       "<strong>pdf:</strong> 2"
      ],
      "text/latex": [
       "\\textbf{pdf:} 2"
      ],
      "text/markdown": [
       "**pdf:** 2"
      ],
      "text/plain": [
       "pdf \n",
       "  2 "
      ]
     },
     "metadata": {},
     "output_type": "display_data"
    }
   ],
   "source": [
    "data = read.csv('DEG_list.csv')\n",
    "pdf('result.pdf')\n",
    "plot(data$log2FoldChange, data$stat)\n",
    "dev.off()"
   ]
  },
  {
   "cell_type": "code",
   "execution_count": 1,
   "metadata": {
    "kernel": "SoS"
   },
   "outputs": [
    {
     "name": "stdout",
     "output_type": "stream",
     "text": [
      "Generating myfigure.pdf\r\n"
     ]
    }
   ],
   "source": [
    "%run\n",
    "\n",
    "python:\n",
    "import pandas as pd\n",
    "data = pd.read_excel('DEG_list.xlsx')\n",
    "data.to_csv('DEG_list.csv')\n",
    "\n",
    "R:\n",
    "data = read.csv('DEG_list.csv')\n",
    "pdf('result.pdf')\n",
    "plot(data$log2FoldChange, data$stat)\n",
    "dev.off()"
   ]
  },
  {
   "cell_type": "code",
   "execution_count": 2,
   "metadata": {
    "kernel": "SoS"
   },
   "outputs": [
    {
     "name": "stderr",
     "output_type": "stream",
     "text": [
      "\u001b[94mDEBUG\u001b[0m: \u001b[94mWorkflow default created with 1 sections: default_0\u001b[0m\n",
      "\u001b[94mDEBUG\u001b[0m: \u001b[94mExecuting \u001b[0m\u001b[32mdefault_0\u001b[0m\u001b[94m: \u001b[0m\n",
      "\u001b[94mDEBUG\u001b[0m: \u001b[94minput:    \u001b[0m\u001b[32m[]\u001b[0m\u001b[94m\u001b[0m\n"
     ]
    },
    {
     "name": "stdout",
     "output_type": "stream",
     "text": [
      "Generating myfigure.pdf\r\n"
     ]
    },
    {
     "name": "stderr",
     "output_type": "stream",
     "text": [
      "\u001b[94mDEBUG\u001b[0m: \u001b[94moutput:   \u001b[0m\u001b[32m[]\u001b[0m\u001b[94m\u001b[0m\n",
      "\u001b[94mDEBUG\u001b[0m: \u001b[94mWorkflow default (ID=6617b856ca9d24d6) is executed successfully.\u001b[0m\n"
     ]
    }
   ],
   "source": [
    "%run -v3\n",
    "python:\n",
    "    import pandas as pd\n",
    "    data = pd.read_excel('DEG_list.xlsx')\n",
    "    data.to_csv('DEG_list.csv')\n",
    "\n",
    "R:\n",
    "    data = read.csv('DEG_list.csv')\n",
    "    pdf('result.pdf')\n",
    "    plot(data$log2FoldChange, data$stat)\n",
    "    dev.off()"
   ]
  },
  {
   "cell_type": "code",
   "execution_count": 3,
   "metadata": {
    "kernel": "SoS"
   },
   "outputs": [
    {
     "name": "stderr",
     "output_type": "stream",
     "text": [
      "\u001b[94mDEBUG\u001b[0m: \u001b[94mWorkflow default created with 2 sections: default_1, default_2\u001b[0m\n",
      "\u001b[94mDEBUG\u001b[0m: \u001b[94mExecuting \u001b[0m\u001b[32mdefault_1\u001b[0m\u001b[94m: \u001b[0m\n",
      "\u001b[94mDEBUG\u001b[0m: \u001b[94minput:    \u001b[0m\u001b[32m[]\u001b[0m\u001b[94m\u001b[0m\n",
      "\u001b[94mDEBUG\u001b[0m: \u001b[94moutput:   \u001b[0m\u001b[32m[]\u001b[0m\u001b[94m\u001b[0m\n",
      "\u001b[94mDEBUG\u001b[0m: \u001b[94mExecuting \u001b[0m\u001b[32mdefault_2\u001b[0m\u001b[94m: \u001b[0m\n",
      "\u001b[94mDEBUG\u001b[0m: \u001b[94minput:    \u001b[0m\u001b[32m[]\u001b[0m\u001b[94m\u001b[0m\n"
     ]
    },
    {
     "name": "stdout",
     "output_type": "stream",
     "text": [
      "Generating myfigure.pdf\r\n"
     ]
    },
    {
     "name": "stderr",
     "output_type": "stream",
     "text": [
      "\u001b[94mDEBUG\u001b[0m: \u001b[94moutput:   \u001b[0m\u001b[32m[]\u001b[0m\u001b[94m\u001b[0m\n",
      "\u001b[94mDEBUG\u001b[0m: \u001b[94mWorkflow default (ID=fb42a37536f42059) is executed successfully.\u001b[0m\n"
     ]
    }
   ],
   "source": [
    "%run -v3\n",
    "[1]\n",
    "python:\n",
    "    import pandas as pd\n",
    "    data = pd.read_excel('DEG_list.xlsx')\n",
    "    data.to_csv('DEG_list.csv')\n",
    "\n",
    "[2]\n",
    "R:\n",
    "    data = read.csv('DEG_list.csv')\n",
    "    pdf('result.pdf')\n",
    "    plot(data$log2FoldChange, data$stat)\n",
    "    dev.off()"
   ]
  },
  {
   "cell_type": "code",
   "execution_count": 16,
   "metadata": {
    "kernel": "SoS"
   },
   "outputs": [
    {
     "name": "stderr",
     "output_type": "stream",
     "text": [
      "\u001b[94mDEBUG\u001b[0m: \u001b[94mWorkflow default created with 2 sections: default_1, default_2\u001b[0m\n",
      "\u001b[94mDEBUG\u001b[0m: \u001b[94mExecuting \u001b[0m\u001b[32mdefault_1\u001b[0m\u001b[94m: convert data\u001b[0m\n",
      "\u001b[94mDEBUG\u001b[0m: \u001b[94minput:    \u001b[0m\u001b[32m[]\u001b[0m\u001b[94m\u001b[0m\n",
      "\u001b[94mDEBUG\u001b[0m: \u001b[94moutput:   \u001b[0m\u001b[32m[]\u001b[0m\u001b[94m\u001b[0m\n",
      "\u001b[94mDEBUG\u001b[0m: \u001b[94mExecuting \u001b[0m\u001b[32mdefault_2\u001b[0m\u001b[94m: data analysis\u001b[0m\n",
      "\u001b[94mDEBUG\u001b[0m: \u001b[94minput:    \u001b[0m\u001b[32m[]\u001b[0m\u001b[94m\u001b[0m\n"
     ]
    },
    {
     "name": "stdout",
     "output_type": "stream",
     "text": [
      "null device \n",
      "          1 \n"
     ]
    },
    {
     "name": "stderr",
     "output_type": "stream",
     "text": [
      "\u001b[94mDEBUG\u001b[0m: \u001b[94moutput:   \u001b[0m\u001b[32m[]\u001b[0m\u001b[94m\u001b[0m\n",
      "\u001b[94mDEBUG\u001b[0m: \u001b[94mWorkflow default (ID=777bafb8f17ea45a) is executed successfully.\u001b[0m\n"
     ]
    }
   ],
   "source": [
    "%run -v3\n",
    "[1 (convert data)]\n",
    "# convert data\n",
    "python:\n",
    "    import pandas as pd\n",
    "    data = pd.read_excel('DEG_list.xlsx')\n",
    "    data.to_csv('DEG_list.csv')\n",
    "\n",
    "[2 (data analysis)]\n",
    "# data analysis\n",
    "R:\n",
    "    data = read.csv('DEG_list.csv')\n",
    "    pdf('result.pdf')\n",
    "    plot(data$log2FoldChange, data$stat)\n",
    "    dev.off()"
   ]
  },
  {
   "cell_type": "code",
   "execution_count": 4,
   "metadata": {
    "kernel": "SoS"
   },
   "outputs": [
    {
     "name": "stderr",
     "output_type": "stream",
     "text": [
      "\u001b[94mDEBUG\u001b[0m: \u001b[94mWorkflow proj created with 2 sections: proj_1, proj_2\u001b[0m\n",
      "\u001b[94mDEBUG\u001b[0m: \u001b[94mExecuting \u001b[0m\u001b[32mproj_1\u001b[0m\u001b[94m: convert data\u001b[0m\n",
      "\u001b[94mDEBUG\u001b[0m: \u001b[94minput:    \u001b[0m\u001b[32m[]\u001b[0m\u001b[94m\u001b[0m\n",
      "\u001b[94mDEBUG\u001b[0m: \u001b[94moutput:   \u001b[0m\u001b[32m[]\u001b[0m\u001b[94m\u001b[0m\n",
      "\u001b[94mDEBUG\u001b[0m: \u001b[94mExecuting \u001b[0m\u001b[32mproj_2\u001b[0m\u001b[94m: data analysis\u001b[0m\n",
      "\u001b[94mDEBUG\u001b[0m: \u001b[94minput:    \u001b[0m\u001b[32m[]\u001b[0m\u001b[94m\u001b[0m\n"
     ]
    },
    {
     "name": "stdout",
     "output_type": "stream",
     "text": [
      "Generating myfigure.pdf\r\n"
     ]
    },
    {
     "name": "stderr",
     "output_type": "stream",
     "text": [
      "\u001b[94mDEBUG\u001b[0m: \u001b[94moutput:   \u001b[0m\u001b[32m[]\u001b[0m\u001b[94m\u001b[0m\n",
      "\u001b[94mDEBUG\u001b[0m: \u001b[94mWorkflow proj (ID=ad0d620769cec902) is executed successfully.\u001b[0m\n"
     ]
    }
   ],
   "source": [
    "%run -v3\n",
    "#!/usr/bin/env sos-runner\n",
    "#fileformat=SOS1.0\n",
    "\n",
    "[proj_1 (convert data)]\n",
    "# convert data\n",
    "python:\n",
    "    import pandas as pd\n",
    "    data = pd.read_excel('DEG_list.xlsx')\n",
    "    data.to_csv('DEG_list.csv')\n",
    "\n",
    "[proj_2 (data analysis)]\n",
    "# data analysis\n",
    "R:\n",
    "    data = read.csv('DEG_list.csv')\n",
    "    pdf('result.pdf')\n",
    "    plot(data$log2FoldChange, data$stat)\n",
    "    dev.off()"
   ]
  },
  {
   "cell_type": "code",
   "execution_count": 6,
   "metadata": {
    "kernel": "SoS"
   },
   "outputs": [
    {
     "name": "stderr",
     "output_type": "stream",
     "text": [
      "\u001b[94mDEBUG\u001b[0m: \u001b[94mWorkflow proj created with 2 sections: proj_1, proj_2\u001b[0m\n",
      "\u001b[94mDEBUG\u001b[0m: \u001b[94mExecuting \u001b[0m\u001b[32mproj_1\u001b[0m\u001b[94m: convert data\u001b[0m\n",
      "\u001b[94mDEBUG\u001b[0m: \u001b[94minput:    \u001b[0m\u001b[32m[]\u001b[0m\u001b[94m\u001b[0m\n",
      "\u001b[94mDEBUG\u001b[0m: \u001b[94moutput:   \u001b[0m\u001b[32m[]\u001b[0m\u001b[94m\u001b[0m\n",
      "\u001b[94mDEBUG\u001b[0m: \u001b[94mExecuting \u001b[0m\u001b[32mproj_2\u001b[0m\u001b[94m: data analysis\u001b[0m\n",
      "\u001b[94mDEBUG\u001b[0m: \u001b[94minput:    \u001b[0m\u001b[32m[]\u001b[0m\u001b[94m\u001b[0m\n"
     ]
    },
    {
     "name": "stdout",
     "output_type": "stream",
     "text": [
      "Generating myfigure.pdf\r\n"
     ]
    },
    {
     "name": "stderr",
     "output_type": "stream",
     "text": [
      "\u001b[94mDEBUG\u001b[0m: \u001b[94moutput:   \u001b[0m\u001b[32m[]\u001b[0m\u001b[94m\u001b[0m\n",
      "\u001b[94mDEBUG\u001b[0m: \u001b[94mWorkflow proj (ID=e8c5c2b0b974516c) is executed successfully.\u001b[0m\n"
     ]
    }
   ],
   "source": [
    "%run -v3 --deg-list DEG_list.xlsx\n",
    "\n",
    "parameter: deg_list = 'DEG_list.xslx'\n",
    "\n",
    "[proj_1 (convert data)]\n",
    "# convert data\n",
    "python: expand=True\n",
    "    import pandas as pd\n",
    "    data = pd.read_excel('{deg_list}')\n",
    "    data.to_csv('DEG_list.csv')\n",
    "\n",
    "[proj_2 (data analysis)]\n",
    "# data analysis\n",
    "R: \n",
    "    data = read.csv('DEG_list.csv')\n",
    "    pdf('result.pdf')\n",
    "    plot(data$log2FoldChange, data$stat)\n",
    "    dev.off()"
   ]
  },
  {
   "cell_type": "code",
   "execution_count": 7,
   "metadata": {
    "kernel": "SoS"
   },
   "outputs": [
    {
     "name": "stderr",
     "output_type": "stream",
     "text": [
      "\u001b[94mDEBUG\u001b[0m: \u001b[94mWorkflow proj created with 2 sections: proj_1, proj_2\u001b[0m\n",
      "\u001b[94mDEBUG\u001b[0m: \u001b[94mExecuting \u001b[0m\u001b[32mproj_1\u001b[0m\u001b[94m: \u001b[0m\n",
      "\u001b[94mDEBUG\u001b[0m: \u001b[94minput:    \u001b[0m\u001b[32m[file_target('DEG_list.xlsx')]\u001b[0m\u001b[94m\u001b[0m\n",
      "\u001b[94mDEBUG\u001b[0m: \u001b[94mSignature mismatch: Missing signature file /Users/bpeng1/temp/.sos/.runtime/7fd08d4688687ab65f1ae0e434bc05e9.exe_info\u001b[0m\n",
      "\u001b[94mDEBUG\u001b[0m: \u001b[94moutput:   \u001b[0m\u001b[32m[file_target('DEG_list.csv')]\u001b[0m\u001b[94m\u001b[0m\n",
      "\u001b[94mDEBUG\u001b[0m: \u001b[94mExecuting \u001b[0m\u001b[32mproj_2\u001b[0m\u001b[94m: \u001b[0m\n",
      "\u001b[94mDEBUG\u001b[0m: \u001b[94minput:    \u001b[0m\u001b[32m[file_target('DEG_list.csv')]\u001b[0m\u001b[94m\u001b[0m\n",
      "\u001b[94mDEBUG\u001b[0m: \u001b[94mSignature mismatch: Missing signature file /Users/bpeng1/temp/.sos/.runtime/d0bc2686d09ccb968cf0dc7d73a72693.exe_info\u001b[0m\n"
     ]
    },
    {
     "name": "stdout",
     "output_type": "stream",
     "text": [
      "Generating myfigure.pdf\r\n"
     ]
    },
    {
     "name": "stderr",
     "output_type": "stream",
     "text": [
      "\u001b[94mDEBUG\u001b[0m: \u001b[94moutput:   \u001b[0m\u001b[32m[file_target('result.pdf')]\u001b[0m\u001b[94m\u001b[0m\n",
      "\u001b[94mDEBUG\u001b[0m: \u001b[94mWorkflow proj (ID=b42f85c58a655074) is executed successfully.\u001b[0m\n"
     ]
    }
   ],
   "source": [
    "%run -v3 --deg-list DEG_list.xlsx\n",
    "\n",
    "parameter: deg_list = 'DEG_list.xslx'\n",
    "\n",
    "[proj_1 (convert data)]\n",
    "input: deg_list\n",
    "output: 'DEG_list.csv'\n",
    "# convert data\n",
    "python: expand=True\n",
    "    import pandas as pd\n",
    "    data = pd.read_excel('{input}')\n",
    "    data.to_csv('{output}')\n",
    "\n",
    "[proj_2 (data analysis)]\n",
    "output: 'result.pdf'\n",
    "# data analysis\n",
    "R: expand=True\n",
    "    data = read.csv('{input}')\n",
    "    pdf('{output}')\n",
    "    plot(data$log2FoldChange, data$stat)\n",
    "    dev.off()"
   ]
  },
  {
   "cell_type": "code",
   "execution_count": 8,
   "metadata": {
    "kernel": "SoS"
   },
   "outputs": [
    {
     "name": "stderr",
     "output_type": "stream",
     "text": [
      "\u001b[94mDEBUG\u001b[0m: \u001b[94mWorkflow proj created with 2 sections: proj_1, proj_2\u001b[0m\n",
      "\u001b[94mDEBUG\u001b[0m: \u001b[94mExecuting \u001b[0m\u001b[32mproj_1\u001b[0m\u001b[94m: \u001b[0m\n",
      "\u001b[94mDEBUG\u001b[0m: \u001b[94minput:    \u001b[0m\u001b[32m[file_target('DEG_list.xlsx')]\u001b[0m\u001b[94m\u001b[0m\n",
      "\u001b[94mDEBUG\u001b[0m: \u001b[94mSet \u001b[0m\u001b[32minput\u001b[0m\u001b[94m = \u001b[0m\u001b[32m[file_target('DEG_list.xlsx')]\u001b[0m\u001b[94m\u001b[0m\n",
      "\u001b[94mDEBUG\u001b[0m: \u001b[94mSet \u001b[0m\u001b[32moutput\u001b[0m\u001b[94m = \u001b[0m\u001b[32m[file_target('DEG_list.csv')]\u001b[0m\u001b[94m\u001b[0m\n",
      "INFO: \u001b[32mconvert data\u001b[0m (index=0) is \u001b[32mignored\u001b[0m due to saved signature\n",
      "\u001b[94mDEBUG\u001b[0m: \u001b[94moutput:   \u001b[0m\u001b[32m[file_target('DEG_list.csv')]\u001b[0m\u001b[94m\u001b[0m\n",
      "\u001b[94mDEBUG\u001b[0m: \u001b[94mExecuting \u001b[0m\u001b[32mproj_2\u001b[0m\u001b[94m: \u001b[0m\n",
      "\u001b[94mDEBUG\u001b[0m: \u001b[94minput:    \u001b[0m\u001b[32m[file_target('DEG_list.csv')]\u001b[0m\u001b[94m\u001b[0m\n",
      "\u001b[94mDEBUG\u001b[0m: \u001b[94mSet \u001b[0m\u001b[32minput\u001b[0m\u001b[94m = \u001b[0m\u001b[32m[file_target('DEG_list.csv')]\u001b[0m\u001b[94m\u001b[0m\n",
      "\u001b[94mDEBUG\u001b[0m: \u001b[94mSet \u001b[0m\u001b[32moutput\u001b[0m\u001b[94m = \u001b[0m\u001b[32m[file_target('result.pdf')]\u001b[0m\u001b[94m\u001b[0m\n",
      "INFO: \u001b[32mdata analysis\u001b[0m (index=0) is \u001b[32mignored\u001b[0m due to saved signature\n",
      "\u001b[94mDEBUG\u001b[0m: \u001b[94moutput:   \u001b[0m\u001b[32m[file_target('result.pdf')]\u001b[0m\u001b[94m\u001b[0m\n",
      "\u001b[94mDEBUG\u001b[0m: \u001b[94mWorkflow proj (ID=b42f85c58a655074) is executed successfully.\u001b[0m\n"
     ]
    }
   ],
   "source": [
    "# saved signature\n",
    "%run -v3 --deg-list DEG_list.xlsx\n",
    "\n",
    "parameter: deg_list = 'DEG_list.xslx'\n",
    "\n",
    "[proj_1 (convert data)]\n",
    "input: deg_list\n",
    "output: 'DEG_list.csv'\n",
    "# convert data\n",
    "python: expand=True\n",
    "    import pandas as pd\n",
    "    data = pd.read_excel('{input}')\n",
    "    data.to_csv('{output}')\n",
    "\n",
    "[proj_2 (data analysis)]\n",
    "output: 'result.pdf'\n",
    "# data analysis\n",
    "R: expand=True\n",
    "    data = read.csv('{input}')\n",
    "    pdf('{output}')\n",
    "    plot(data$log2FoldChange, data$stat)\n",
    "    dev.off()"
   ]
  },
  {
   "cell_type": "code",
   "execution_count": 9,
   "metadata": {
    "kernel": "SoS"
   },
   "outputs": [
    {
     "name": "stderr",
     "output_type": "stream",
     "text": [
      "\u001b[94mDEBUG\u001b[0m: \u001b[94mWorkflow analysis created with 1 sections: analysis_0\u001b[0m\n",
      "\u001b[94mDEBUG\u001b[0m: \u001b[94mInput of step convert_None is set to Undertermined: name 'FILENAME' is not defined\u001b[0m\n",
      "\u001b[94mDEBUG\u001b[0m: \u001b[94mExecuting \u001b[0m\u001b[32manalysis_0\u001b[0m\u001b[94m: \u001b[0m\n",
      "\u001b[94mDEBUG\u001b[0m: \u001b[94minput:    \u001b[0m\u001b[32m[file_target('DEG_list.csv')]\u001b[0m\u001b[94m\u001b[0m\n",
      "\u001b[94mDEBUG\u001b[0m: \u001b[94mSet \u001b[0m\u001b[32minput\u001b[0m\u001b[94m = \u001b[0m\u001b[32m[file_target('DEG_list.csv')]\u001b[0m\u001b[94m\u001b[0m\n",
      "\u001b[94mDEBUG\u001b[0m: \u001b[94mSet \u001b[0m\u001b[32moutput\u001b[0m\u001b[94m = \u001b[0m\u001b[32m[file_target('result.pdf')]\u001b[0m\u001b[94m\u001b[0m\n",
      "INFO: \u001b[32mdata analysis\u001b[0m (index=0) is \u001b[32mignored\u001b[0m due to saved signature\n",
      "\u001b[94mDEBUG\u001b[0m: \u001b[94moutput:   \u001b[0m\u001b[32m[file_target('result.pdf')]\u001b[0m\u001b[94m\u001b[0m\n",
      "\u001b[94mDEBUG\u001b[0m: \u001b[94mWorkflow analysis (ID=64c4bbcb9bef3351) is executed successfully.\u001b[0m\n"
     ]
    }
   ],
   "source": [
    "%run -v3 --deg-list DEG_list.csv\n",
    "\n",
    "parameter: deg_list = 'DEG_list.xslx'\n",
    "\n",
    "[convert: provides='{FILENAME}.csv']\n",
    "input: f\"{FILENAME}.xlsx\"\n",
    "# convert data\n",
    "python: expand=True\n",
    "    import pandas as pd\n",
    "    data = pd.read_excel('{input}')\n",
    "    data.to_csv('{output}')\n",
    "\n",
    "[analysis (data analysis)]\n",
    "input: deg_list\n",
    "output: 'result.pdf'\n",
    "# data analysis\n",
    "R: expand=True\n",
    "    data = read.csv('{input}')\n",
    "    pdf('{output}')\n",
    "    plot(data$log2FoldChange, data$stat)\n",
    "    dev.off()"
   ]
  },
  {
   "cell_type": "code",
   "execution_count": 15,
   "metadata": {
    "kernel": "SoS"
   },
   "outputs": [
    {
     "name": "stderr",
     "output_type": "stream",
     "text": [
      "\u001b[94mDEBUG\u001b[0m: \u001b[94mWorkflow analysis created with 1 sections: analysis_0\u001b[0m\n",
      "\u001b[94mDEBUG\u001b[0m: \u001b[94mInput of step convert_None is set to Undertermined: name 'FILENAME' is not defined\u001b[0m\n",
      "\u001b[94mDEBUG\u001b[0m: \u001b[94mExecuting \u001b[0m\u001b[32manalysis_0\u001b[0m\u001b[94m: \u001b[0m\n",
      "\u001b[94mDEBUG\u001b[0m: \u001b[94minput:    \u001b[0m\u001b[32m[file_target('DEG_list.csv')]\u001b[0m\u001b[94m\u001b[0m\n"
     ]
    },
    {
     "data": {
      "text/html": [
       "<table id=\"table_mini_f4a9bb789ab71c1a841d1edfaa798788\" class=\"task_table\"><tr style=\"border: 0px\">\n",
       "                        <td style=\"border: 0px\">\n",
       "                        <i id=\"status_mini_f4a9bb789ab71c1a841d1edfaa798788\"\n",
       "                            class=\"fa fa-2x fa-fw fa-square-o\"\n",
       "                            onmouseover=\"$('#status_mini_f4a9bb789ab71c1a841d1edfaa798788').addClass('fa-stop task_hover').removeClass('fa-square-o')\"\n",
       "                            onmouseleave=\"$('#status_mini_f4a9bb789ab71c1a841d1edfaa798788').addClass('fa-square-o').removeClass('fa-stop task_hover')\"\n",
       "                            onclick=\"kill_task('f4a9bb789ab71c1a841d1edfaa798788', 'mini')\"\n",
       "                        ></i> </td>\n",
       "                        <td style=\"border:0px\"><a onclick=\"task_info('f4a9bb789ab71c1a841d1edfaa798788', 'mini')\"><pre>f4a9bb789ab71c1a841d1edfaa798788</pre></a></td>\n",
       "                        <td style=\"border:0px\">&nbsp;</td>\n",
       "                        <td style=\"border:0px;text-align=right;\">\n",
       "                        <pre><time id=\"duration_mini_f4a9bb789ab71c1a841d1edfaa798788\" class=\"pending\" datetime=\"1510636914589.924\">0 sec</time></pre></td>\n",
       "                        </tr>\n",
       "                        </table>"
      ]
     },
     "metadata": {},
     "output_type": "display_data"
    }
   ],
   "source": [
    "%run -v3 --deg-list DEG_list.csv -s force\n",
    "\n",
    "parameter: deg_list = 'DEG_list.xslx'\n",
    "\n",
    "[convert: provides='{FILENAME}.csv']\n",
    "input: f\"{FILENAME}.xlsx\"\n",
    "# convert data\n",
    "python: expand=True\n",
    "    import pandas as pd\n",
    "    data = pd.read_excel('{input}')\n",
    "    data.to_csv('{output}')\n",
    "\n",
    "[analysis (data analysis)]\n",
    "input: deg_list\n",
    "output: 'result.pdf'\n",
    "# data analysis\n",
    "task:\n",
    "R: expand=True\n",
    "    data = read.csv('{input}')\n",
    "    pdf('{output}')\n",
    "    plot(data$log2FoldChange, data$stat)\n",
    "    dev.off()"
   ]
  },
  {
   "cell_type": "code",
   "execution_count": 2,
   "metadata": {
    "kernel": "SoS"
   },
   "outputs": [
    {
     "name": "stderr",
     "output_type": "stream",
     "text": [
      "\u001b[36mTRACE\u001b[0m: \u001b[36mHeader parsed with names [['convert', None, None]] and options {'provides': \"'{FILENAME}.csv'\"}\u001b[0m\n",
      "\u001b[94mDEBUG\u001b[0m: \u001b[94mWorkflow analysis created with 1 sections: analysis_0\u001b[0m\n",
      "\u001b[36mTRACE\u001b[0m: \u001b[36m/Users/bpeng1/anaconda3/lib/python3.6/site-packages/sos-0.9.10.13-py3.6.egg/sos/site_config.yml does not exist\u001b[0m\n",
      "\u001b[94mDEBUG\u001b[0m: \u001b[94mInput of step convert_None is set to Undertermined: name 'FILENAME' is not defined\u001b[0m\n",
      "\u001b[94mDEBUG\u001b[0m: \u001b[94mExecuting \u001b[0m\u001b[32manalysis_0\u001b[0m\u001b[94m: \u001b[0m\n",
      "\u001b[94mDEBUG\u001b[0m: \u001b[94minput:    \u001b[0m\u001b[32m[file_target('DEG_list.csv')]\u001b[0m\u001b[94m\u001b[0m\n",
      "\u001b[36mTRACE\u001b[0m: \u001b[36mLock acquired for output files [file_target('result.pdf')]\u001b[0m\n",
      "\u001b[36mTRACE\u001b[0m: \u001b[36mLock released for output files [file_target('result.pdf')]\u001b[0m\n"
     ]
    },
    {
     "data": {
      "text/html": [
       "<div class=\"sos_hint\">1 task completed: <a onclick=\"task_info('f4a9bb789ab71c1a841d1edfaa798788', 'pro')\">f4a9</a></div>"
      ]
     },
     "metadata": {},
     "output_type": "display_data"
    },
    {
     "name": "stdout",
     "output_type": "stream",
     "text": [
      "\n"
     ]
    },
    {
     "name": "stderr",
     "output_type": "stream",
     "text": [
      "\u001b[94mDEBUG\u001b[0m: \u001b[94mscp -P 22 -p -q bcbm-bpeng.mdanderson.edu:.sos/tasks/f4a9bb789ab71c1a841d1edfaa798788.* /Users/bpeng1/.sos/tasks\u001b[0m\n",
      "\n",
      "~/.sos/tasks/f4a9bb789ab71c1a841d1edfaa798788.out:\n",
      "null device \n",
      "          1 \n",
      "\n",
      "~/.sos/tasks/f4a9bb789ab71c1a841d1edfaa798788.err:\n",
      "\n",
      "\u001b[94mDEBUG\u001b[0m: \u001b[94mrsync -av -e 'ssh -p 22' bcbm-bpeng.mdanderson.edu:/Users/bpeng1/temp/result.pdf \"/Users/bpeng1/temp\"\u001b[0m\n",
      "INFO: f4a9bb789ab71c1a841d1edfaa798788 \u001b[32mreceived\u001b[0m ['result.pdf']\n",
      "\u001b[94mDEBUG\u001b[0m: \u001b[94mCollect shared result {0: {}}\u001b[0m\n",
      "\u001b[36mTRACE\u001b[0m: \u001b[36mWrite signature /Users/bpeng1/temp/.sos/.runtime/d0bc2686d09ccb968cf0dc7d73a72693.exe_info\u001b[0m\n",
      "\u001b[94mDEBUG\u001b[0m: \u001b[94moutput:   \u001b[0m\u001b[32m[file_target('result.pdf')]\u001b[0m\u001b[94m\u001b[0m\n",
      "\u001b[94mDEBUG\u001b[0m: \u001b[94mWorkflow analysis (ID=71a9881f32c7ab4b) is executed successfully.\u001b[0m\n"
     ]
    }
   ],
   "source": [
    "%run -v4 --deg-list DEG_list.csv -s force -q pro -c ~/.sos/hosts.yml\n",
    "\n",
    "parameter: deg_list = 'DEG_list.xslx'\n",
    "\n",
    "[convert: provides='{FILENAME}.csv']\n",
    "input: f\"{FILENAME}.xlsx\"\n",
    "# convert data\n",
    "python: expand=True\n",
    "    import pandas as pd\n",
    "    data = pd.read_excel('{input}')\n",
    "    data.to_csv('{output}')\n",
    "\n",
    "[analysis (data analysis)]\n",
    "input: deg_list\n",
    "output: 'result.pdf'\n",
    "# data analysis\n",
    "task:\n",
    "R: expand=True\n",
    "    data = read.csv('{input}')\n",
    "    pdf('{output}')\n",
    "    plot(data$log2FoldChange, data$stat)\n",
    "    dev.off()"
   ]
  },
  {
   "cell_type": "code",
   "execution_count": null,
   "metadata": {},
   "outputs": [],
   "source": []
  }
 ],
 "metadata": {
  "kernelspec": {
   "display_name": "SoS",
   "language": "sos",
   "name": "sos"
  },
  "language_info": {
   "codemirror_mode": "sos",
   "file_extension": ".sos",
   "mimetype": "text/x-sos",
   "name": "sos",
   "nbconvert_exporter": "sos_notebook.converter.SoS_Exporter",
   "pygments_lexer": "sos"
  },
  "sos": {
   "default_kernel": "SoS",
   "kernels": [
    [
     "R",
     "ir",
     "R",
     "#DCDCDA"
    ],
    [
     "SoS",
     "sos",
     "",
     ""
    ],
    [
     "Bash",
     "bash",
     "Bash",
     "#E6EEFF"
    ],
    [
     "Python3",
     "python3",
     "Python3",
     "#FFE771"
    ]
   ],
   "panel": {
    "displayed": true,
    "height": 0,
    "style": "side"
   }
  }
 },
 "nbformat": 4,
 "nbformat_minor": 2
}

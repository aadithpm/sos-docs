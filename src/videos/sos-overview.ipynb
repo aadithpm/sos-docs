{
 "cells": [
  {
   "cell_type": "markdown",
   "metadata": {},
   "source": [
    "### Two separate scripts under command line"
   ]
  },
  {
   "cell_type": "code",
   "execution_count": null,
   "metadata": {
    "kernel": "SoS"
   },
   "outputs": [],
   "source": [
    "import pandas as pd\n",
    "data = pd.read_excel('DEG_list.xlsx')\n",
    "data.to_csv('DEG_list.csv')"
   ]
  },
  {
   "cell_type": "code",
   "execution_count": null,
   "metadata": {
    "kernel": "R"
   },
   "outputs": [],
   "source": [
    "data = read.csv('DEG_list.csv')\n",
    "pdf('result.pdf')\n",
    "plot(data$log2FoldChange, data$stat)\n",
    "dev.off()"
   ]
  },
  {
   "cell_type": "markdown",
   "metadata": {},
   "source": [
    "### Step 1: book keeping"
   ]
  },
  {
   "cell_type": "code",
   "execution_count": null,
   "metadata": {
    "kernel": "SoS"
   },
   "outputs": [],
   "source": [
    "%run\n",
    "\n",
    "python:\n",
    "import pandas as pd\n",
    "data = pd.read_excel('DEG_list.xlsx')\n",
    "data.to_csv('DEG_list.csv')\n",
    "\n",
    "R:\n",
    "data = read.csv('DEG_list.csv')\n",
    "pdf('result.pdf')\n",
    "plot(data$log2FoldChange, data$stat)\n",
    "dev.off()"
   ]
  },
  {
   "cell_type": "markdown",
   "metadata": {},
   "source": [
    "### Step 2: indentation"
   ]
  },
  {
   "cell_type": "code",
   "execution_count": null,
   "metadata": {
    "kernel": "SoS"
   },
   "outputs": [],
   "source": [
    "%run -v3\n",
    "python:\n",
    "    import pandas as pd\n",
    "    data = pd.read_excel('DEG_list.xlsx')\n",
    "    data.to_csv('DEG_list.csv')\n",
    "\n",
    "R:\n",
    "    data = read.csv('DEG_list.csv')\n",
    "    pdf('result.pdf')\n",
    "    plot(data$log2FoldChange, data$stat)\n",
    "    dev.off()"
   ]
  },
  {
   "cell_type": "markdown",
   "metadata": {},
   "source": [
    "### Step 3: Separate into two steps"
   ]
  },
  {
   "cell_type": "code",
   "execution_count": null,
   "metadata": {
    "kernel": "SoS"
   },
   "outputs": [],
   "source": [
    "%run -v3\n",
    "[1]\n",
    "python:\n",
    "    import pandas as pd\n",
    "    data = pd.read_excel('DEG_list.xlsx')\n",
    "    data.to_csv('DEG_list.csv')\n",
    "\n",
    "[2]\n",
    "R:\n",
    "    data = read.csv('DEG_list.csv')\n",
    "    pdf('result.pdf')\n",
    "    plot(data$log2FoldChange, data$stat)\n",
    "    dev.off()"
   ]
  },
  {
   "cell_type": "markdown",
   "metadata": {},
   "source": [
    "### Step 4: Add some comments"
   ]
  },
  {
   "cell_type": "code",
   "execution_count": null,
   "metadata": {
    "kernel": "SoS"
   },
   "outputs": [],
   "source": [
    "%run -v3\n",
    "[1 (convert data)]\n",
    "# convert data\n",
    "python:\n",
    "    import pandas as pd\n",
    "    data = pd.read_excel('DEG_list.xlsx')\n",
    "    data.to_csv('DEG_list.csv')\n",
    "\n",
    "[2 (data analysis)]\n",
    "# data analysis\n",
    "R:\n",
    "    data = read.csv('DEG_list.csv')\n",
    "    pdf('result.pdf')\n",
    "    plot(data$log2FoldChange, data$stat)\n",
    "    dev.off()"
   ]
  },
  {
   "cell_type": "markdown",
   "metadata": {},
   "source": [
    "### Step 5: Add parameter (use another file)"
   ]
  },
  {
   "cell_type": "code",
   "execution_count": null,
   "metadata": {
    "kernel": "SoS"
   },
   "outputs": [],
   "source": [
    "%run -v3 --deg-list DEG_list.xlsx\n",
    "\n",
    "parameter: deg_list = 'DEG_list.xslx'\n",
    "\n",
    "[proj_1 (convert data)]\n",
    "# convert data\n",
    "python: expand=True\n",
    "    import pandas as pd\n",
    "    data = pd.read_excel('{deg_list}')\n",
    "    data.to_csv('DEG_list.csv')\n",
    "\n",
    "[proj_2 (data analysis)]\n",
    "# data analysis\n",
    "R: \n",
    "    data = read.csv('DEG_list.csv')\n",
    "    pdf('result.pdf')\n",
    "    plot(data$log2FoldChange, data$stat)\n",
    "    dev.off()"
   ]
  },
  {
   "cell_type": "markdown",
   "metadata": {},
   "source": [
    "### Step 6: add input and output (rerun to skip step)"
   ]
  },
  {
   "cell_type": "code",
   "execution_count": null,
   "metadata": {
    "kernel": "SoS"
   },
   "outputs": [],
   "source": [
    "%run -v3 --deg-list DEG_list.xlsx\n",
    "\n",
    "parameter: deg_list = 'DEG_list.xslx'\n",
    "\n",
    "[proj_1 (convert data)]\n",
    "input: deg_list\n",
    "output: 'DEG_list.csv'\n",
    "# convert data\n",
    "python: expand=True\n",
    "    import pandas as pd\n",
    "    data = pd.read_excel('{_input}')\n",
    "    data.to_csv('{_output}')\n",
    "\n",
    "[proj_2 (data analysis)]\n",
    "output: 'result.pdf'\n",
    "# data analysis\n",
    "R: expand=True\n",
    "    data = read.csv('{_input}')\n",
    "    pdf('{_output}')\n",
    "    plot(data$log2FoldChange, data$stat)\n",
    "    dev.off()"
   ]
  },
  {
   "cell_type": "markdown",
   "metadata": {},
   "source": [
    "### VIDEO TWO: make file style"
   ]
  },
  {
   "cell_type": "code",
   "execution_count": null,
   "metadata": {
    "kernel": "SoS"
   },
   "outputs": [],
   "source": [
    "%run -v3 --deg-list DEG_list.csv\n",
    "\n",
    "parameter: deg_list = 'DEG_list.xslx'\n",
    "\n",
    "[convert: provides='{FILENAME}.csv']\n",
    "input: f\"{FILENAME}.xlsx\"\n",
    "# convert data\n",
    "python: expand=True\n",
    "    import pandas as pd\n",
    "    data = pd.read_excel('{_input}')\n",
    "    data.to_csv('{_output}')\n",
    "\n",
    "[analysis (data analysis)]\n",
    "input: deg_list\n",
    "output: 'result.pdf'\n",
    "# data analysis\n",
    "R: expand=True\n",
    "    data = read.csv('{_input}')\n",
    "    pdf('{_output}')\n",
    "    plot(data$log2FoldChange, data$stat)\n",
    "    dev.off()"
   ]
  },
  {
   "cell_type": "markdown",
   "metadata": {},
   "source": [
    "### VIDEO TWO:  task (sos status)"
   ]
  },
  {
   "cell_type": "code",
   "execution_count": null,
   "metadata": {
    "kernel": "SoS"
   },
   "outputs": [],
   "source": [
    "%run -v3 --deg-list DEG_list.csv -s force\n",
    "\n",
    "parameter: deg_list = 'DEG_list.xslx'\n",
    "\n",
    "[convert: provides='{FILENAME}.csv']\n",
    "input: f\"{FILENAME}.xlsx\"\n",
    "# convert data\n",
    "python: expand=True\n",
    "    import pandas as pd\n",
    "    data = pd.read_excel('{_input}')\n",
    "    data.to_csv('{_output}')\n",
    "\n",
    "[analysis (data analysis)]\n",
    "input: deg_list\n",
    "output: 'result.pdf'\n",
    "# data analysis\n",
    "task:\n",
    "R: expand=True\n",
    "    data = read.csv('{_input}')\n",
    "    pdf('{_output}')\n",
    "    plot(data$log2FoldChange, data$stat)\n",
    "    dev.off()"
   ]
  },
  {
   "cell_type": "markdown",
   "metadata": {},
   "source": [
    "### Video TWO.3: Remote task"
   ]
  },
  {
   "cell_type": "code",
   "execution_count": null,
   "metadata": {
    "kernel": "SoS"
   },
   "outputs": [],
   "source": [
    "%run -v4 --deg-list DEG_list.csv -s force -q pro -c ~/.sos/hosts.yml\n",
    "\n",
    "parameter: deg_list = 'DEG_list.xslx'\n",
    "\n",
    "[convert: provides='{FILENAME}.csv']\n",
    "input: f\"{FILENAME}.xlsx\"\n",
    "# convert data\n",
    "python: expand=True\n",
    "    import pandas as pd\n",
    "    data = pd.read_excel('{input}')\n",
    "    data.to_csv('{output}')\n",
    "\n",
    "[analysis (data analysis)]\n",
    "input: deg_list\n",
    "output: 'result.pdf'\n",
    "# data analysis\n",
    "task:\n",
    "R: expand=True\n",
    "    data = read.csv('{_input}')\n",
    "    pdf('{_output}')\n",
    "    plot(data$log2FoldChange, data$stat)\n",
    "    dev.off()"
   ]
  },
  {
   "cell_type": "code",
   "execution_count": null,
   "metadata": {},
   "outputs": [],
   "source": []
  }
 ],
 "metadata": {
  "kernelspec": {
   "display_name": "SoS",
   "language": "sos",
   "name": "sos"
  },
  "language_info": {
   "codemirror_mode": "sos",
   "file_extension": ".sos",
   "mimetype": "text/x-sos",
   "name": "sos",
   "nbconvert_exporter": "sos_notebook.converter.SoS_Exporter",
   "pygments_lexer": "sos"
  },
  "sos": {
   "default_kernel": "SoS",
   "kernels": [
    [
     "R",
     "ir",
     "R",
     "#DCDCDA"
    ],
    [
     "SoS",
     "sos",
     "",
     ""
    ],
    [
     "Bash",
     "bash",
     "Bash",
     "#E6EEFF"
    ],
    [
     "Julia",
     "julia-0.6",
     "Julia",
     "#ebd8eb"
    ],
    [
     "MATLAB",
     "imatlab",
     "MATLAB",
     "#dff8fb"
    ],
    [
     "Python3",
     "python3",
     "Python3",
     "#FFE771"
    ]
   ],
   "panel": {
    "displayed": true,
    "height": 0,
    "style": "side"
   }
  }
 },
 "nbformat": 4,
 "nbformat_minor": 2
}

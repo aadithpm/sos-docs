{
 "cells": [
  {
   "cell_type": "code",
   "execution_count": 1,
   "metadata": {
    "kernel": "SoS"
   },
   "outputs": [
    {
     "name": "stdout",
     "output_type": "stream",
     "text": [
      "--2017-11-16 13:36:55--  https://github.com/vatlab/sos-docs/raw/master/src/examples/DEG_list.xlsx\n",
      "Resolving github.com... 192.30.253.113, 192.30.253.112\n",
      "Connecting to github.com|192.30.253.113|:443... connected.\n",
      "HTTP request sent, awaiting response... 302 Found\n",
      "Location: https://raw.githubusercontent.com/vatlab/sos-docs/master/src/examples/DEG_list.xlsx [following]\n",
      "--2017-11-16 13:36:55--  https://raw.githubusercontent.com/vatlab/sos-docs/master/src/examples/DEG_list.xlsx\n",
      "Resolving raw.githubusercontent.com... 151.101.0.133, 151.101.64.133, 151.101.128.133, ...\n",
      "Connecting to raw.githubusercontent.com|151.101.0.133|:443... connected.\n",
      "HTTP request sent, awaiting response... 200 OK\n",
      "Length: 110015 (107K) [application/octet-stream]\n",
      "Saving to: ‘DEG_list.xlsx.1’\n",
      "\n",
      "DEG_list.xlsx.1     100%[===================>] 107.44K  --.-KB/s    in 0.05s   \n",
      "\n",
      "2017-11-16 13:36:56 (2.23 MB/s) - ‘DEG_list.xlsx.1’ saved [110015/110015]\n",
      "\n"
     ]
    }
   ],
   "source": [
    "!wget https://github.com/vatlab/sos-docs/raw/master/src/examples/DEG_list.xlsx"
   ]
  },
  {
   "cell_type": "code",
   "execution_count": 2,
   "metadata": {
    "kernel": "SoS"
   },
   "outputs": [],
   "source": [
    "import pandas as pd\n",
    "data = pd.read_excel('DEG_list.xlsx')"
   ]
  },
  {
   "cell_type": "code",
   "execution_count": 3,
   "metadata": {
    "kernel": "R"
   },
   "outputs": [],
   "source": [
    "%get data"
   ]
  },
  {
   "cell_type": "code",
   "execution_count": null,
   "metadata": {
    "kernel": "R"
   },
   "outputs": [],
   "source": [
    "library(biomaRt)\n",
    "ensembl <- useEnsembl(biomart='ensembl')\n",
    "#listDatasets(ensembl)\n",
    "ensembl <- useEnsembl(biomart=\"ensembl\", dataset=\"mmusculus_gene_ensembl\")\n",
    "                     \n",
    "hgnc <- getBM(attributes=c('ensembl_gene_id', 'external_gene_name'),\n",
    "        filters = 'ensembl_gene_id', values = data['ensembl_gene_id'], mart = ensembl)\n",
    "\n",
    "annotated <- merge(data, hgnc, by='ensembl_gene_id', all.x=TRUE)"
   ]
  },
  {
   "cell_type": "code",
   "execution_count": null,
   "metadata": {},
   "outputs": [],
   "source": [
    "%get annotated --from R\n",
    "annotated = annotated.set_index('external_gene_name')\n",
    "annotated.sort_values(by='padj', inplace=True)\n",
    "annotated.to_excel('annotated_DEG_list.xlsx')"
   ]
  },
  {
   "cell_type": "code",
   "execution_count": 4,
   "metadata": {
    "kernel": "Julia"
   },
   "outputs": [],
   "source": [
    "%get data"
   ]
  },
  {
   "cell_type": "code",
   "execution_count": null,
   "metadata": {},
   "outputs": [],
   "source": []
  }
 ],
 "metadata": {
  "kernelspec": {
   "display_name": "SoS",
   "language": "sos",
   "name": "sos"
  },
  "language_info": {
   "codemirror_mode": "sos",
   "file_extension": ".sos",
   "mimetype": "text/x-sos",
   "name": "sos",
   "nbconvert_exporter": "sos_notebook.converter.SoS_Exporter",
   "pygments_lexer": "sos"
  },
  "sos": {
   "default_kernel": "SoS",
   "kernels": [
    [
     "Bash",
     "bash",
     "Bash",
     "#E6EEFF"
    ],
    [
     "Julia",
     "julia-0.6",
     "Julia",
     "#ebd8eb"
    ],
    [
     "MATLAB",
     "imatlab",
     "MATLAB",
     "#dff8fb"
    ],
    [
     "Python3",
     "python3",
     "Python3",
     "#FFE771"
    ],
    [
     "R",
     "ir",
     "R",
     "#DCDCDA"
    ],
    [
     "SoS",
     "sos",
     "",
     ""
    ]
   ],
   "panel": {
    "displayed": true,
    "height": 0,
    "style": "side"
   }
  }
 },
 "nbformat": 4,
 "nbformat_minor": 2
}

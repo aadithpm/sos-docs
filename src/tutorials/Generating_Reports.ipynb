{
 "cells": [
  {
   "cell_type": "markdown",
   "metadata": {},
   "source": [
    "# Generating Reports using SoS"
   ]
  },
  {
   "cell_type": "markdown",
   "metadata": {},
   "source": [
    "There are multiple ways to generate reports from the execution of SoS workflows. This tutorial introduces some basic methods but you can certainly be more creative."
   ]
  },
  {
   "cell_type": "markdown",
   "metadata": {},
   "source": [
    "## A summarization step"
   ]
  },
  {
   "cell_type": "markdown",
   "metadata": {},
   "source": [
    "You can write a report at the end of the workflow that summarizes the results of previous steps. For example, in the following example, the `report` action summarizes previous steps and writes a report to the standard output."
   ]
  },
  {
   "cell_type": "code",
   "execution_count": 1,
   "metadata": {
    "kernel": "SoS"
   },
   "outputs": [
    {
     "name": "stdout",
     "output_type": "stream",
     "text": [
      "echo \"100\" > a.txt\n",
      "\n",
      "* Figure\n",
      "![figure](a.jpg)\n",
      "* result\n",
      "100\n",
      "\n"
     ]
    }
   ],
   "source": [
    "%sandbox\n",
    "%run\n",
    "\n",
    "[10]\n",
    "output: 'a.jpg'\n",
    "R: expand=True\n",
    "    jpeg({output!r})\n",
    "    cars <- c(1, 3, 6, 4, 9)\n",
    "    barplot(cars)\n",
    "\n",
    "[20]\n",
    "output: 'a.txt'\n",
    "run:\n",
    "    echo \"100\" > a.txt\n",
    "\n",
    "[100]\n",
    "input: 'a.jpg', 'a.txt'\n",
    "with open('a.txt') as a:\n",
    "    res = a.read()\n",
    "\n",
    "report: expand=True\n",
    "    * Figure\n",
    "    ![figure](a.jpg)\n",
    "    * result\n",
    "    {res}\n",
    "   "
   ]
  },
  {
   "cell_type": "markdown",
   "metadata": {},
   "source": [
    "It is a pretty bad idea to write report to standard output because other actions can also write to it. You should therefore use the `output` option of the `report` action to specify an output file of the `report` action."
   ]
  },
  {
   "cell_type": "code",
   "execution_count": 2,
   "metadata": {
    "kernel": "SoS"
   },
   "outputs": [
    {
     "name": "stderr",
     "output_type": "stream",
     "text": [
      "INFO: Resolving [sos_variable(\"counts\")] objects from 3 nodes\n"
     ]
    },
    {
     "name": "stdout",
     "output_type": "stream",
     "text": [
      "echo \"100\" > a.txt\n",
      "\n"
     ]
    }
   ],
   "source": [
    "%sandbox\n",
    "%preview summary.md\n",
    "%run\n",
    "\n",
    "[10]\n",
    "output: 'a.jpg'\n",
    "R: expand=True\n",
    "    jpeg({output!r})\n",
    "    cars <- c(1, 3, 6, 4, 9)\n",
    "    barplot(cars)\n",
    "\n",
    "[20]\n",
    "output: 'a.txt'\n",
    "run:\n",
    "    echo \"100\" > a.txt\n",
    "\n",
    "[counts: shared='counts']\n",
    "input: 'a.txt'\n",
    "with open('a.txt') as a:\n",
    "    counts = a.read()\n",
    "\n",
    "[100]\n",
    "input: 'a.jpg'\n",
    "depends: sos_variable('counts')\n",
    "\n",
    "report: output='summary.md', expand=True\n",
    "    * Figure\n",
    "    ![figure](a.jpg)\n",
    "    * result\n",
    "    {counts}\n",
    "   "
   ]
  },
  {
   "cell_type": "markdown",
   "metadata": {},
   "source": [
    "Instead of outputting reports in `.md` format and rendering them outside of SoS, you can also render them inside SoS using action `pandoc` or `Rmarkdown`. For example,"
   ]
  },
  {
   "cell_type": "code",
   "execution_count": 3,
   "metadata": {
    "kernel": "SoS"
   },
   "outputs": [],
   "source": [
    "%sandbox\n",
    "%preview summary.html\n",
    "[10]\n",
    "output: 'a.jpg'\n",
    "R: expand=True\n",
    "    jpeg({output!r})\n",
    "    cars <- c(1, 3, 6, 4, 9)\n",
    "    barplot(cars)\n",
    "\n",
    "[20]\n",
    "output: 'a.txt'\n",
    "run:\n",
    "    echo \"100\" > a.txt\n",
    "\n",
    "[counts: shared='counts']\n",
    "input: 'a.txt'\n",
    "with open('a.txt') as a:\n",
    "    counts = a.read()\n",
    "\n",
    "[100]\n",
    "input: 'a.jpg'\n",
    "depends: sos_variable('counts')\n",
    "\n",
    "pandoc: output='summary.html', expand=True\n",
    "    * Figure\n",
    "    ![figure](a.jpg)\n",
    "    * result\n",
    "    {counts}"
   ]
  },
  {
   "cell_type": "markdown",
   "metadata": {},
   "source": [
    "## Reporting to multiple output files"
   ]
  },
  {
   "cell_type": "markdown",
   "metadata": {},
   "source": [
    "If you have a large workflow with several steps or modules, it makes sense to write several reports and join them at last. For example, in the following example, an output file is specified for each `report` and a summary step is used at the end to collect and process them."
   ]
  },
  {
   "cell_type": "code",
   "execution_count": 4,
   "metadata": {
    "kernel": "SoS"
   },
   "outputs": [],
   "source": [
    "%sandbox --dir ~/tmp\n",
    "%preview summary.html\n",
    "[10]\n",
    "output: 'a.jpg'\n",
    "R: expand=True\n",
    "    jpeg({output!r})\n",
    "    cars <- c(1, 3, 6, 4, 9)\n",
    "    barplot(cars)\n",
    "\n",
    "report: output='figure.md', expand=True\n",
    "    * Figure\n",
    "    ![figure]({output})    \n",
    "\n",
    "[20]\n",
    "output: 'a.txt'\n",
    "counts = 100\n",
    "run: expand=True\n",
    "    echo \"{counts}\" > a.txt\n",
    "\n",
    "report: output='result.md', expand=True\n",
    "    * result\n",
    "    {counts}\n",
    "\n",
    "[100]\n",
    "pandoc: input=['figure.md', 'result.md'], output='summary.html'\n",
    "    Final report"
   ]
  },
  {
   "cell_type": "markdown",
   "metadata": {},
   "source": [
    "You will notice that both `script` and `input` are specified to action `pandoc`. In this case the `script` is put before the content of each `input` files, making it a perfect place to write headers and summaries."
   ]
  }
 ],
 "metadata": {
  "anaconda-cloud": {},
  "kernelspec": {
   "display_name": "SoS",
   "language": "sos",
   "name": "sos"
  },
  "language_info": {
   "codemirror_mode": "sos",
   "file_extension": ".sos",
   "mimetype": "text/x-sos",
   "name": "sos",
   "nbconvert_exporter": "sos_notebook.converter.SoS_Exporter",
   "pygments_lexer": "sos"
  },
  "sos": {
   "celltoolbar": true,
   "default_kernel": "SoS",
   "kernels": [
    [
     "Bash",
     "bash",
     "Bash",
     "#E6EEFF"
    ],
    [
     "SoS",
     "sos",
     "",
     ""
    ],
    [
     "ir",
     "ir",
     "",
     ""
    ],
    [
     "javascript",
     "javascript",
     "",
     ""
    ],
    [
     "julia-0.6",
     "julia-0.6",
     "",
     ""
    ],
    [
     "python2",
     "python2",
     "",
     ""
    ],
    [
     "python3",
     "python3",
     "",
     ""
    ],
    [
     "sas",
     "sas",
     "",
     ""
    ],
    [
     "R",
     "ir",
     "R",
     "#DCDCDA"
    ]
   ],
   "panel": {
    "displayed": true,
    "height": 0,
    "style": "side"
   }
  },
  "toc": {
   "colors": {
    "hover_highlight": "#DAA520",
    "running_highlight": "#FF0000",
    "selected_highlight": "#FFD700"
   },
   "moveMenuLeft": true,
   "nav_menu": {
    "height": "96px",
    "width": "254px"
   },
   "navigate_menu": true,
   "number_sections": true,
   "sideBar": true,
   "threshold": 4,
   "toc_cell": false,
   "toc_section_display": "block",
   "toc_window_display": true
  }
 },
 "nbformat": 4,
 "nbformat_minor": 1
}

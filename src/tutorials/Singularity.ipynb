{
 "cells": [
  {
   "cell_type": "markdown",
   "metadata": {
    "kernel": "SoS"
   },
   "source": [
    "# SoS Singularity Guide"
   ]
  },
  {
   "cell_type": "markdown",
   "metadata": {
    "kernel": "SoS"
   },
   "source": [
    "Before you run any script using singularity, please check if `singularity` is installed. Also, although you can use singularity following this tutorial, it would be really helpful for you to read the [sigularity user's guide](https://www.sylabs.io/docs/) or some online tutorial to understand how singularity works.\n",
    "\n",
    "\n",
    "Although running singularity images does not need root privilege, building singularity images often requires `sudo` access. So before running any `singularity_build` action with `sudo=True`, please run `sudo -i` to enter sudo, or add your user as a sudo user without password (google \"sudo without password\" for instructions). The latter is not safe but can be very convenient if you are use singularity a lot."
   ]
  },
  {
   "cell_type": "code",
   "execution_count": 1,
   "metadata": {
    "kernel": "SoS"
   },
   "outputs": [
    {
     "data": {
      "text/html": [
       "\n",
       "        <table class=\"revision_table\">\n",
       "        <tr>\n",
       "        <th>Revision</th>\n",
       "        <th>Author</th>\n",
       "        <th>Date</th>\n",
       "        <th>Message</th>\n",
       "        <tr>\n",
       "        <tr><td><span class=\"revision_id\">b4a418a<span></td>\n",
       "<td>Bo Peng</td>\n",
       "<td>2018-08-07</td>\n",
       "<td>Updata sos docker guide with information on docker toolbox vatlab/sos#996</td></tr><tr><td><span class=\"revision_id\">14318e8<span></td>\n",
       "<td>Bo Peng</td>\n",
       "<td>2018-06-24</td>\n",
       "<td>Update docker and dryrun related documents</td></tr><tr><td><span class=\"revision_id\">0838fb0<span></td>\n",
       "<td>Bo Peng</td>\n",
       "<td>2018-06-24</td>\n",
       "<td>Update docker toturial on docker build</td></tr><tr><td><span class=\"revision_id\">8dccbc9<span></td>\n",
       "<td>Bo Peng</td>\n",
       "<td>2018-06-11</td>\n",
       "<td>Update tutorials on docker</td></tr><tr><td><span class=\"revision_id\">bd54b04<span></td>\n",
       "<td>Bo Peng</td>\n",
       "<td>2018-05-29</td>\n",
       "<td>Minor update to docker doc</td></tr><tr><td><span class=\"revision_id\">a677605<span></td>\n",
       "<td>Bo Peng</td>\n",
       "<td>2018-05-29</td>\n",
       "<td>Fix new lines in pexpect output vatlab/sos-notebook#82</td></tr><tr><td><span class=\"revision_id\">dd1d51e<span></td>\n",
       "<td>Bo Peng</td>\n",
       "<td>2018-05-29</td>\n",
       "<td>Update docker tutorial</td></tr><tr><td><span class=\"revision_id\">e6d96bb<span></td>\n",
       "<td>Bo Peng</td>\n",
       "<td>2018-05-29</td>\n",
       "<td>Update docker guide</td></tr><tr><td><span class=\"revision_id\">0a5dddc<span></td>\n",
       "<td>Bo Peng</td>\n",
       "<td>2017-10-05</td>\n",
       "<td>Move sos docs from sos to sos-docs repository</td></tr></table>"
      ]
     },
     "metadata": {},
     "output_type": "display_data"
    }
   ],
   "source": [
    "%revisions"
   ]
  },
  {
   "cell_type": "markdown",
   "metadata": {
    "kernel": "SoS"
   },
   "source": [
    "## Running a script using singularity"
   ]
  },
  {
   "cell_type": "markdown",
   "metadata": {
    "kernel": "SoS"
   },
   "source": [
    "SoS executes scripts inside a singularity by calling command `singularity exec` with appropriate parameters. For example, if you specify a container with a `shub:` schema, sos will first pull the image, save it as a local image, and use `singularity exec` to run it:"
   ]
  },
  {
   "cell_type": "code",
   "execution_count": 1,
   "metadata": {
    "kernel": "SoS",
    "scrolled": true
   },
   "outputs": [
    {
     "data": {
      "text/html": [
       "<div class=\"sos_hint\">Pulling singularity image shub://singularityhub/ubuntu</div>"
      ]
     },
     "metadata": {},
     "output_type": "display_data"
    },
    {
     "name": "stdout",
     "output_type": "stream",
     "text": [
      "\n",
      "cat /etc/os-release\n",
      "NAME=\"Ubuntu\"\n",
      "VERSION=\"14.04, Trusty Tahr\"\n",
      "ID=ubuntu\n",
      "ID_LIKE=debian\n",
      "PRETTY_NAME=\"Ubuntu 14.04 LTS\"\n",
      "VERSION_ID=\"14.04\"\n",
      "HOME_URL=\"http://www.ubuntu.com/\"\n",
      "SUPPORT_URL=\"http://help.ubuntu.com/\"\n",
      "BUG_REPORT_URL=\"http://bugs.launchpad.net/ubuntu/\"\n"
     ]
    }
   ],
   "source": [
    "%run\n",
    "run: container='shub://singularityhub/ubuntu'\n",
    "  cat /etc/os-release"
   ]
  },
  {
   "cell_type": "markdown",
   "metadata": {
    "kernel": "SoS"
   },
   "source": [
    "The actual `singularity exec` command executed by SoS can be shown when you execute the script in dryrun mode (with `-n` option). In this mode, SoS would print the interpolated script (if option `expand=True` is set) and the docker command to execute it:"
   ]
  },
  {
   "cell_type": "code",
   "execution_count": 2,
   "metadata": {
    "kernel": "SoS"
   },
   "outputs": [
    {
     "data": {
      "text/html": [
       "<div class=\"sos_hint\">singularity exec  singularityhub-ubuntu.simg /bin/bash -ev /home/bpeng1/sos/sos-docs/src/tutorials/tmpr76ii92q/singularity_run_53574.sh</div>"
      ]
     },
     "metadata": {},
     "output_type": "display_data"
    },
    {
     "name": "stdout",
     "output_type": "stream",
     "text": [
      "\n",
      "cat /etc/os-release\n",
      "\n"
     ]
    }
   ],
   "source": [
    "%rerun -n"
   ]
  },
  {
   "cell_type": "markdown",
   "metadata": {
    "kernel": "SoS"
   },
   "source": [
    "As you can see, the docker command looks similar to\n",
    "\n",
    "```\n",
    "singularity exec singularityhub-ubuntu.simg /bin/bash -ev /home/bpeng1/sos/sos-docs/src/tutorials/tmpr76ii92q/singularity_run_53574.sh\n",
    "```\n",
    "\n",
    "Basically, SoS pulls the image and runs command `singularity exec` to execte the script with `/bin/bash` inside the image."
   ]
  },
  {
   "cell_type": "markdown",
   "metadata": {
    "kernel": "SoS"
   },
   "source": [
    "You can also use a docker image. However, because `docker://` images are by default executed by docker, you will need to specify the use of singularity using parameter `engine='singularity'`:"
   ]
  },
  {
   "cell_type": "code",
   "execution_count": 1,
   "metadata": {
    "kernel": "SoS"
   },
   "outputs": [
    {
     "data": {
      "text/html": [
       "<div class=\"sos_hint\">Pulling image docker://ubuntu</div>"
      ]
     },
     "metadata": {},
     "output_type": "display_data"
    },
    {
     "name": "stdout",
     "output_type": "stream",
     "text": [
      "\n",
      "cat /etc/os-release\n",
      "NAME=\"Ubuntu\"\n",
      "VERSION=\"18.04.1 LTS (Bionic Beaver)\"\n",
      "ID=ubuntu\n",
      "ID_LIKE=debian\n",
      "PRETTY_NAME=\"Ubuntu 18.04.1 LTS\"\n",
      "VERSION_ID=\"18.04\"\n",
      "HOME_URL=\"https://www.ubuntu.com/\"\n",
      "SUPPORT_URL=\"https://help.ubuntu.com/\"\n",
      "BUG_REPORT_URL=\"https://bugs.launchpad.net/ubuntu/\"\n",
      "PRIVACY_POLICY_URL=\"https://www.ubuntu.com/legal/terms-and-policies/privacy-policy\"\n",
      "VERSION_CODENAME=bionic\n",
      "UBUNTU_CODENAME=bionic\n"
     ]
    }
   ],
   "source": [
    "%run\n",
    "run: container='docker://ubuntu', engine='singularity'\n",
    "  cat /etc/os-release"
   ]
  },
  {
   "cell_type": "markdown",
   "metadata": {
    "kernel": "SoS"
   },
   "source": [
    "## Building singularity images"
   ]
  },
  {
   "cell_type": "markdown",
   "metadata": {
    "kernel": "SoS"
   },
   "source": [
    "### Action `singularity_build` <a id=\"singularity_build\"></a>"
   ]
  },
  {
   "cell_type": "markdown",
   "metadata": {
    "kernel": "SoS"
   },
   "source": [
    "Action `singularity_build` calls command `singularity build` with appropriate command line options. The SoS equivalence of the sample command\n",
    "\n",
    "```\n",
    "singularity build lolcow.simg shub://GodloveD/lolcow\n",
    "```\n",
    "is the `singularity_build` action with options `src` and `dest`:"
   ]
  },
  {
   "cell_type": "code",
   "execution_count": 2,
   "metadata": {
    "kernel": "SoS"
   },
   "outputs": [
    {
     "name": "stdout",
     "output_type": "stream",
     "text": [
      "Cache folder set to /home/bpeng1/.singularity/shub\n",
      "Progress |===================================| 100.0% \n",
      "cat: write error: Broken pipe\n",
      "Building from local image: /home/bpeng1/.singularity/shub/GodloveD-lolcow-master-latest.simg\n",
      "\u001b[33mWARNING: Building container as an unprivileged user. If you run this container as root\n",
      "\u001b(B\u001b[m\u001b[33mWARNING: it may be missing some functionality.\n",
      "\u001b(B\u001b[mBuilding Singularity image...\n",
      "Singularity container built: lolcow.simg\n",
      "Cleaning up...\n"
     ]
    },
    {
     "data": {
      "text/plain": [
       "0"
      ]
     },
     "execution_count": 2,
     "metadata": {},
     "output_type": "execute_result"
    }
   ],
   "source": [
    "singularity_build(src='shub://GodloveD/lolcow', dest='lolcow.simg')"
   ]
  },
  {
   "cell_type": "markdown",
   "metadata": {
    "kernel": "SoS"
   },
   "source": [
    "If you need to build the image with root privilege, you can add option `sudo=True` when you are certain that the user is in SUDO (no password) mode:"
   ]
  },
  {
   "cell_type": "code",
   "execution_count": 3,
   "metadata": {
    "kernel": "SoS"
   },
   "outputs": [
    {
     "name": "stdout",
     "output_type": "stream",
     "text": [
      "Cache folder set to /root/.singularity/shub\n",
      "Progress |===================================| 100.0% \n",
      "cat: write error: Broken pipe\n",
      "Building from local image: /root/.singularity/shub/GodloveD-lolcow-master-latest.simg\n",
      "Building Singularity image...\n",
      "Singularity container built: lolcow_sudo.simg\n",
      "Cleaning up...\n"
     ]
    },
    {
     "data": {
      "text/plain": [
       "0"
      ]
     },
     "execution_count": 3,
     "metadata": {},
     "output_type": "execute_result"
    }
   ],
   "source": [
    "singularity_build(src='shub://GodloveD/lolcow', dest='lolcow_sudo.simg', sudo=True)"
   ]
  },
  {
   "cell_type": "markdown",
   "metadata": {
    "kernel": "SoS"
   },
   "source": [
    "You can also use action `singularity_build` to build an image from a singularity definition file. Using the example from the user's guide:"
   ]
  },
  {
   "cell_type": "code",
   "execution_count": 4,
   "metadata": {
    "kernel": "SoS"
   },
   "outputs": [
    {
     "name": "stdout",
     "output_type": "stream",
     "text": [
      "Building into existing container: lolcow.simg\n",
      "Using container recipe deffile: /home/bpeng1/sos/sos-docs/src/tutorials/tmpdv2x3zlv/singularity.def\n",
      "Sanitizing environment\n",
      "\u001b[0mAdding base Singularity environment to container\n",
      "User defined %runscript found! Taking priority.\n",
      "Adding environment to container\n",
      "Running post scriptlet\n",
      "+ apt-get -y update\n",
      "Hit:1 http://archive.ubuntu.com/ubuntu xenial InRelease\n",
      "Get:2 http://security.ubuntu.com/ubuntu xenial-security InRelease [107 kB]\n",
      "Get:3 http://archive.ubuntu.com/ubuntu xenial-updates InRelease [109 kB]       \n",
      "Get:4 http://archive.ubuntu.com/ubuntu xenial-backports InRelease [107 kB]     \n",
      "Get:5 http://security.ubuntu.com/ubuntu xenial-security/universe Sources [90.3 kB]\n",
      "Get:6 http://archive.ubuntu.com/ubuntu xenial-updates/universe Sources [277 kB]\n",
      "Get:7 http://security.ubuntu.com/ubuntu xenial-security/main amd64 Packages [703 kB]\n",
      "Get:8 http://archive.ubuntu.com/ubuntu xenial-updates/main amd64 Packages [1088 kB]\n",
      "Get:9 http://security.ubuntu.com/ubuntu xenial-security/restricted amd64 Packages [12.7 kB]\n",
      "Get:10 http://security.ubuntu.com/ubuntu xenial-security/universe amd64 Packages [468 kB]\n",
      "Get:11 http://security.ubuntu.com/ubuntu xenial-security/multiverse amd64 Packages [3748 B]\n",
      "Get:12 http://archive.ubuntu.com/ubuntu xenial-updates/restricted amd64 Packages [13.1 kB]\n",
      "Get:13 http://archive.ubuntu.com/ubuntu xenial-updates/universe amd64 Packages [878 kB]\n",
      "Get:14 http://archive.ubuntu.com/ubuntu xenial-updates/multiverse amd64 Packages [18.8 kB]\n",
      "Get:15 http://archive.ubuntu.com/ubuntu xenial-backports/main amd64 Packages [7343 B]\n",
      "Get:16 http://archive.ubuntu.com/ubuntu xenial-backports/universe amd64 Packages [8086 B]\n",
      "Fetched 3890 kB in 1s (2041 kB/s)                     \n",
      "Reading package lists... Done\n",
      "+ apt-get -y install fortune cowsay lolcat\n",
      "Reading package lists... Done\n",
      "Building dependency tree       \n",
      "Reading state information... Done\n",
      "Note, selecting 'fortune-mod' instead of 'fortune'\n",
      "cowsay is already the newest version (3.03+dfsg1-15).\n",
      "fortune-mod is already the newest version (1:1.99.1-7).\n",
      "lolcat is already the newest version (42.0.99-1).\n",
      "0 upgraded, 0 newly installed, 0 to remove and 50 not upgraded.\n",
      "Adding runscript\n",
      "Found an existing definition file\n",
      "Adding a bootstrap_history directory\n",
      "Finalizing Singularity container\n",
      "Calculating final size for metadata...\n",
      "Skipping checks\n",
      "Building Singularity image...\n",
      "Singularity container built: lolcow.simg\n",
      "Cleaning up...\n"
     ]
    },
    {
     "data": {
      "text/plain": [
       "0"
      ]
     },
     "execution_count": 4,
     "metadata": {},
     "output_type": "execute_result"
    }
   ],
   "source": [
    "singularity_build: dest='lolcow.simg', sudo=True\n",
    "Bootstrap: docker\n",
    "From: ubuntu:16.04\n",
    "%post\n",
    "    apt-get -y update\n",
    "    apt-get -y install fortune cowsay lolcat\n",
    "%environment\n",
    "    export LC_ALL=C\n",
    "    export PATH=/usr/games:$PATH\n",
    "%runscript\n",
    "    fortune | cowsay | lolcat "
   ]
  },
  {
   "cell_type": "markdown",
   "metadata": {
    "kernel": "SoS"
   },
   "source": [
    "Options such as `notest=True` could be add to the action."
   ]
  },
  {
   "cell_type": "markdown",
   "metadata": {
    "kernel": "SoS"
   },
   "source": [
    "## Running script with singularity image (`singularity exec`)"
   ]
  },
  {
   "cell_type": "markdown",
   "metadata": {
    "kernel": "SoS"
   },
   "source": [
    "### Binding directories (option `bind`)"
   ]
  },
  {
   "cell_type": "markdown",
   "metadata": {
    "kernel": "SoS"
   },
   "source": [
    "## Using singularity image as command (`singularity run`)"
   ]
  },
  {
   "cell_type": "code",
   "execution_count": null,
   "metadata": {
    "kernel": "SoS"
   },
   "outputs": [],
   "source": []
  }
 ],
 "metadata": {
  "anaconda-cloud": {},
  "kernelspec": {
   "display_name": "SoS",
   "language": "sos",
   "name": "sos"
  },
  "language_info": {
   "codemirror_mode": "sos",
   "file_extension": ".sos",
   "mimetype": "text/x-sos",
   "name": "sos",
   "nbconvert_exporter": "sos_notebook.converter.SoS_Exporter",
   "pygments_lexer": "sos"
  },
  "sos": {
   "default_kernel": "SoS",
   "kernels": [
    [
     "SoS",
     "sos",
     "",
     ""
    ]
   ],
   "panel": {
    "displayed": true,
    "height": 0,
    "style": "side"
   },
   "version": "0.16.11"
  }
 },
 "nbformat": 4,
 "nbformat_minor": 1
}

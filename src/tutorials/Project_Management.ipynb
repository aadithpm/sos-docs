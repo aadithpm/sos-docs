{
 "cells": [
  {
   "cell_type": "markdown",
   "metadata": {},
   "source": [
    "# Managing SoS Projects"
   ]
  },
  {
   "cell_type": "markdown",
   "metadata": {},
   "source": [
    "## Tracked and Untracked files"
   ]
  },
  {
   "cell_type": "markdown",
   "metadata": {},
   "source": [
    "The most important concept for managing SoS projects is <font color='red'>tracked files</font>, which are all input, output, and dependent files of steps of an executed workflow. The files are tracked by SoS using a signature system that records the name and content of the files. For a file to be tracked,\n",
    "\n",
    "* the file has to be included in `input`, `output`, or `depends` statements of one of the steps\n",
    "* the workflow has to be executed with [signature](Execution_of_Workflow.html) (namely, not with `-s ignore`, which is the default mode under Jupyter notebook).\n",
    "\n",
    "Let us create a SoS script that generate some tracked and untracked files"
   ]
  },
  {
   "cell_type": "code",
   "execution_count": 1,
   "metadata": {
    "kernel": "SoS"
   },
   "outputs": [
    {
     "name": "stdout",
     "output_type": "stream",
     "text": [
      "Set sos options to \"-s default -v2\"\n",
      "1000+0 records in\n",
      "1000+0 records out\n",
      "512000 bytes transferred in 0.034012 secs (15053475 bytes/sec)\n",
      "5000+0 records in\n",
      "5000+0 records out\n",
      "2560000 bytes transferred in 0.170195 secs (15041561 bytes/sec)\n",
      "50+0 records in\n",
      "50+0 records out\n",
      "25600 bytes transferred in 0.001709 secs (14979657 bytes/sec)\n",
      "600+0 records in\n",
      "600+0 records out\n",
      "307200 bytes transferred in 0.020365 secs (15084704 bytes/sec)\n"
     ]
    }
   ],
   "source": [
    "%sandbox --dir temp\n",
    "%set -s default -v2\n",
    "%run \n",
    "\n",
    "parameter: name='tracked_f1'\n",
    "[0]\n",
    "output:  name\n",
    "sh: expand=True\n",
    "    dd if=/dev/urandom of={name} count=1000\n",
    "\n",
    "[1]\n",
    "output:  'd1/tracked_f2'\n",
    "sh: expand=True\n",
    "    dd if=/dev/urandom of={output} count=5000\n",
    "    dd if=/dev/urandom of=d1/untracked_f4 count=50\n",
    "\n",
    "[2]\n",
    "output:  'd2/d3/tracked_f3'\n",
    "sh: expand=True\n",
    "    dd if=/dev/urandom of={output} count=600"
   ]
  },
  {
   "cell_type": "markdown",
   "metadata": {},
   "source": [
    "This workflow creates three tracked files `tracked_f1`, `d1/tracked_f2`, `d2/d3/tracked_f3`, and as a side effect creates a `d1/untracked_f4` file."
   ]
  },
  {
   "cell_type": "markdown",
   "metadata": {},
   "source": [
    "## Remove tracked or untracked files"
   ]
  },
  {
   "cell_type": "markdown",
   "metadata": {},
   "source": [
    "Subcommand `remove` is used to remove untracked files and directories to keep the project directory clean. It can also be used to remove some files so that it can be re-generated. The latter is needed because SoS would not generate removed intermediate files as long as they are not actually used in a another step."
   ]
  },
  {
   "cell_type": "markdown",
   "metadata": {},
   "source": [
    "When we re-run the workflow, all steps are ignored."
   ]
  },
  {
   "cell_type": "code",
   "execution_count": 2,
   "metadata": {
    "kernel": "SoS"
   },
   "outputs": [
    {
     "name": "stderr",
     "output_type": "stream",
     "text": [
      "INFO: \u001b[32mdefault_0\u001b[0m (index=0) is \u001b[32mignored\u001b[0m due to saved signature\n",
      "INFO: \u001b[32mdefault_1\u001b[0m (index=0) is \u001b[32mignored\u001b[0m due to saved signature\n",
      "INFO: \u001b[32mdefault_2\u001b[0m (index=0) is \u001b[32mignored\u001b[0m due to saved signature\n"
     ]
    }
   ],
   "source": [
    "%sandbox --dir temp\n",
    "%rerun -v2"
   ]
  },
  {
   "cell_type": "markdown",
   "metadata": {},
   "source": [
    "If we remove an intermediate file, the workflow would not complain during re-execution"
   ]
  },
  {
   "cell_type": "code",
   "execution_count": 3,
   "metadata": {
    "kernel": "SoS"
   },
   "outputs": [
    {
     "name": "stderr",
     "output_type": "stream",
     "text": [
      "INFO: \u001b[32mdefault_0\u001b[0m (index=0) is \u001b[32mignored\u001b[0m due to saved signature\n"
     ]
    },
    {
     "name": "stdout",
     "output_type": "stream",
     "text": [
      "5000+0 records in\n",
      "5000+0 records out\n",
      "2560000 bytes transferred in 0.172323 secs (14855824 bytes/sec)\n",
      "50+0 records in\n",
      "50+0 records out\n",
      "25600 bytes transferred in 0.001865 secs (13727203 bytes/sec)\n",
      "600+0 records in\n",
      "600+0 records out\n",
      "307200 bytes transferred in 0.020251 secs (15169595 bytes/sec)\n"
     ]
    }
   ],
   "source": [
    "%sandbox --dir temp\n",
    "!rm -f d1/tracked_f2\n",
    "%rerun -v2"
   ]
  },
  {
   "cell_type": "markdown",
   "metadata": {},
   "source": [
    "You can use option `-s force` to re-generate all files, but it is easier to just remove the intermediate file and its signature using command `remove`. Option `-y` stands for `-yes` and you would be prompted each time for file removal without this option."
   ]
  },
  {
   "cell_type": "code",
   "execution_count": 4,
   "metadata": {
    "kernel": "SoS"
   },
   "outputs": [
    {
     "name": "stdout",
     "output_type": "stream",
     "text": [
      "INFO: 3 tracked files from 1 run are identified.\n",
      "Remove file d1/tracked_f2\n",
      "INFO: 1 file removed\n"
     ]
    },
    {
     "name": "stderr",
     "output_type": "stream",
     "text": [
      "INFO: \u001b[32mdefault_0\u001b[0m (index=0) is \u001b[32mignored\u001b[0m due to saved signature\n"
     ]
    },
    {
     "name": "stdout",
     "output_type": "stream",
     "text": [
      "5000+0 records in\n",
      "5000+0 records out\n",
      "2560000 bytes transferred in 0.171767 secs (14903911 bytes/sec)\n",
      "50+0 records in\n",
      "50+0 records out\n",
      "25600 bytes transferred in 0.001717 secs (14908940 bytes/sec)\n",
      "600+0 records in\n",
      "600+0 records out\n",
      "307200 bytes transferred in 0.020738 secs (14813297 bytes/sec)\n"
     ]
    }
   ],
   "source": [
    "%sandbox --dir temp\n",
    "!sos remove -y d1/tracked_f2\n",
    "%rerun -v2"
   ]
  },
  {
   "cell_type": "markdown",
   "metadata": {},
   "source": [
    "You can use the `sos remove` command to remove all untracked files with option `-u` (untracked)."
   ]
  },
  {
   "cell_type": "code",
   "execution_count": 5,
   "metadata": {
    "kernel": "SoS"
   },
   "outputs": [
    {
     "name": "stdout",
     "output_type": "stream",
     "text": [
      "B2.txt        C2.txt        Source.gv     \u001b[34md2\u001b[m\u001b[m            tracked_f1\n",
      "B3.txt        C3.txt        Source.gv.png result.txt\n",
      "C1.txt        C4.txt        \u001b[34md1\u001b[m\u001b[m            size.txt\n",
      "\n",
      "./d1:\n",
      "tracked_f2   untracked_f4\n",
      "\n",
      "./d2:\n",
      "\u001b[34md3\u001b[m\u001b[m\n",
      "\n",
      "./d2/d3:\n",
      "tracked_f3\n"
     ]
    }
   ],
   "source": [
    "%sandbox --dir temp\n",
    "!ls -R"
   ]
  },
  {
   "cell_type": "code",
   "execution_count": 6,
   "metadata": {
    "kernel": "SoS"
   },
   "outputs": [
    {
     "name": "stdout",
     "output_type": "stream",
     "text": [
      "INFO: 3 tracked files from 1 run are identified.\n",
      "Remove untracked file ./d1/untracked_f4\n",
      "INFO: 1 file removed\n"
     ]
    }
   ],
   "source": [
    "%sandbox --dir temp\n",
    "!sos remove . -u -y"
   ]
  },
  {
   "cell_type": "markdown",
   "metadata": {},
   "source": [
    "or remove all tracked files with option `-t` (tracked)"
   ]
  },
  {
   "cell_type": "code",
   "execution_count": 7,
   "metadata": {
    "kernel": "SoS"
   },
   "outputs": [
    {
     "name": "stdout",
     "output_type": "stream",
     "text": [
      "INFO: 3 tracked files from 1 run are identified.\n",
      "Remove tracked file ./d1/tracked_f2\n",
      "Remove tracked file ./d2/d3/tracked_f3\n",
      "INFO: 2 files removed\n"
     ]
    }
   ],
   "source": [
    "%sandbox --dir temp\n",
    "!sos remove . -t -y"
   ]
  },
  {
   "cell_type": "code",
   "execution_count": 8,
   "metadata": {
    "kernel": "SoS"
   },
   "outputs": [
    {
     "name": "stdout",
     "output_type": "stream",
     "text": [
      "B2.txt        C2.txt        Source.gv     \u001b[34md2\u001b[m\u001b[m            tracked_f1\n",
      "B3.txt        C3.txt        Source.gv.png result.txt\n",
      "C1.txt        C4.txt        \u001b[34md1\u001b[m\u001b[m            size.txt\n",
      "\n",
      "./d1:\n",
      "\n",
      "./d2:\n",
      "\u001b[34md3\u001b[m\u001b[m\n",
      "\n",
      "./d2/d3:\n"
     ]
    }
   ],
   "source": [
    "%sandbox --dir temp\n",
    "!ls -R"
   ]
  },
  {
   "cell_type": "markdown",
   "metadata": {},
   "source": [
    "Because files under the currently directly are often important, they are by default not removed with these global options (`-t` or `-u`). You will have to remove them explicitly if so desired."
   ]
  },
  {
   "cell_type": "code",
   "execution_count": 9,
   "metadata": {
    "kernel": "SoS"
   },
   "outputs": [
    {
     "name": "stdout",
     "output_type": "stream",
     "text": [
      "INFO: 3 tracked files from 1 run are identified.\n",
      "Remove file tracked_f1\n",
      "INFO: 1 file removed\n"
     ]
    }
   ],
   "source": [
    "%sandbox --dir temp\n",
    "!sos remove tracked_f1 -y"
   ]
  },
  {
   "cell_type": "markdown",
   "metadata": {},
   "source": [
    "## Archving a project"
   ]
  },
  {
   "cell_type": "markdown",
   "metadata": {},
   "source": [
    "Let us re-run the project and create all files"
   ]
  },
  {
   "cell_type": "code",
   "execution_count": 10,
   "metadata": {
    "kernel": "SoS"
   },
   "outputs": [
    {
     "name": "stdout",
     "output_type": "stream",
     "text": [
      "1000+0 records in\n",
      "1000+0 records out\n",
      "512000 bytes transferred in 0.034881 secs (14678430 bytes/sec)\n",
      "5000+0 records in\n",
      "5000+0 records out\n",
      "2560000 bytes transferred in 0.168757 secs (15169723 bytes/sec)\n",
      "50+0 records in\n",
      "50+0 records out\n",
      "25600 bytes transferred in 0.001837 secs (13935650 bytes/sec)\n",
      "600+0 records in\n",
      "600+0 records out\n",
      "307200 bytes transferred in 0.020466 secs (15010195 bytes/sec)\n"
     ]
    }
   ],
   "source": [
    "%sandbox --dir temp\n",
    "%rerun"
   ]
  },
  {
   "cell_type": "markdown",
   "metadata": {},
   "source": [
    "For archiving and reproducibility purposes, it is often needed to create an archive for the analysis so that you can refer to it later. This is very easy to do with the `sos pack` command.\n",
    "\n",
    "To use this feature, you first need to get the workflow session that you would like to pack, using the ID that is printed at the end of the execution. You do not have to specify the complete IDs, only the first few characters (even no character) as long as it can be used to identify an unique session. Because we have only executed one workflow, we can run"
   ]
  },
  {
   "cell_type": "code",
   "execution_count": 11,
   "metadata": {
    "kernel": "SoS"
   },
   "outputs": [
    {
     "name": "stdout",
     "output_type": "stream",
     "text": [
      "\u001b[95mWARNING\u001b[0m: \u001b[95mMissing script file __interactive__\u001b[0m\n",
      "INFO: Checking tracked_f1\n",
      "INFO: Checking d1/tracked_f2\n",
      "INFO: Checking d2/d3/tracked_f3\n",
      "INFO: Archiving 3 files (3.2 MiB)...\n",
      "INFO: Adding tracked_f1\n",
      "INFO: Adding d1/tracked_f2\n",
      "INFO: Adding d2/d3/tracked_f3\n",
      "INFO: Adding runtime files\n"
     ]
    }
   ],
   "source": [
    "%sandbox --dir temp\n",
    "!sos pack -o myproj.sar -y"
   ]
  },
  {
   "cell_type": "markdown",
   "metadata": {},
   "source": [
    "You can use options `--include` and `--exclude` to include or exclude specific files or directories to the archive. For example, if you would like to archive the untracked file `d1/untracked_f4`, you can add this file, or the whole directory using command"
   ]
  },
  {
   "cell_type": "code",
   "execution_count": 12,
   "metadata": {
    "kernel": "SoS"
   },
   "outputs": [
    {
     "name": "stdout",
     "output_type": "stream",
     "text": [
      "\u001b[95mWARNING\u001b[0m: \u001b[95mMissing script file __interactive__\u001b[0m\n",
      "INFO: Checking d2/d3/tracked_f3\n",
      "INFO: Checking tracked_f1\n",
      "INFO: Checking d1/tracked_f2\n",
      "INFO: Checking d1/untracked_f4\n",
      "INFO: Archiving 4 files (3.2 MiB)...\n",
      "INFO: Adding d2/d3/tracked_f3\n",
      "INFO: Adding tracked_f1\n",
      "INFO: Adding d1/tracked_f2\n",
      "INFO: Adding d1/untracked_f4\n",
      "INFO: Adding runtime files\n"
     ]
    }
   ],
   "source": [
    "%sandbox --dir temp\n",
    "!sos pack -i d1 -o myproj_all.sar -y"
   ]
  },
  {
   "cell_type": "markdown",
   "metadata": {},
   "source": [
    "## Unpacking an archive"
   ]
  },
  {
   "cell_type": "markdown",
   "metadata": {},
   "source": [
    "Now that we have an archive of the project, we can remove all files under the directory"
   ]
  },
  {
   "cell_type": "code",
   "execution_count": 13,
   "metadata": {
    "kernel": "SoS"
   },
   "outputs": [],
   "source": [
    "%sandbox --dir temp\n",
    "!rm -rf .sos d1 d2 tracked_f1 *.dot *.sos"
   ]
  },
  {
   "cell_type": "code",
   "execution_count": 14,
   "metadata": {
    "kernel": "SoS"
   },
   "outputs": [
    {
     "name": "stdout",
     "output_type": "stream",
     "text": [
      "B2.txt         C2.txt         Source.gv      myproj_all.sar\n",
      "B3.txt         C3.txt         Source.gv.png  result.txt\n",
      "C1.txt         C4.txt         myproj.sar     size.txt\n"
     ]
    }
   ],
   "source": [
    "%sandbox --dir temp\n",
    "!ls"
   ]
  },
  {
   "cell_type": "markdown",
   "metadata": {},
   "source": [
    "We can unpack the archive using command `sos unpack`"
   ]
  },
  {
   "cell_type": "code",
   "execution_count": 15,
   "metadata": {
    "kernel": "SoS"
   },
   "outputs": [
    {
     "name": "stdout",
     "output_type": "stream",
     "text": [
      "INFO: Extracting tracked_f1\n",
      "INFO: Extracting d1/tracked_f2\n",
      "INFO: Extracting d2/d3/tracked_f3\n",
      "INFO: Extracting bae9f8b5ae291ed35320444902c1f323.exe_info\n",
      "INFO: Extracting af18a5b2373f4435.sig\n",
      "INFO: Extracting fbcc51e353626a825a8e0ed6bee26e82.file_info\n",
      "INFO: Extracting 205711fc765ca01e2586f3a6794c3cd2.file_info\n",
      "INFO: Extracting 840d03031bb1511b16f39c4880d45422.exe_info\n",
      "INFO: Extracting ab180a7fd17af770b21db711638a4e44.file_info\n",
      "INFO: Extracting b7484e58bc2bd7f0baaa888f22f816b2.exe_info\n"
     ]
    }
   ],
   "source": [
    "%sandbox --dir temp\n",
    "!sos unpack myproj.sar -y"
   ]
  },
  {
   "cell_type": "code",
   "execution_count": 16,
   "metadata": {
    "kernel": "SoS"
   },
   "outputs": [
    {
     "name": "stdout",
     "output_type": "stream",
     "text": [
      "B2.txt         C2.txt         Source.gv      \u001b[34md2\u001b[m\u001b[m             result.txt\n",
      "B3.txt         C3.txt         Source.gv.png  myproj.sar     size.txt\n",
      "C1.txt         C4.txt         \u001b[34md1\u001b[m\u001b[m             myproj_all.sar tracked_f1\n"
     ]
    }
   ],
   "source": [
    "%sandbox --dir temp\n",
    "!ls"
   ]
  },
  {
   "cell_type": "markdown",
   "metadata": {},
   "source": [
    "As you have noticed, because the script is specified in Jupyter notebook, it is archived in name `__interactive__.sos`, but it is not unpacked. This is because sos script does not have to be in the current directory and it can be dangerous to overwrite a local script with an archived one. To unpack the script, use option `-s`"
   ]
  },
  {
   "cell_type": "code",
   "execution_count": 17,
   "metadata": {
    "kernel": "SoS"
   },
   "outputs": [
    {
     "name": "stdout",
     "output_type": "stream",
     "text": [
      "INFO: Ignore identical tracked_f1\n",
      "INFO: Ignore identical d1/tracked_f2\n",
      "INFO: Ignore identical d2/d3/tracked_f3\n"
     ]
    }
   ],
   "source": [
    "%sandbox --dir temp\n",
    "!sos unpack myproj.sar -y -s"
   ]
  },
  {
   "cell_type": "markdown",
   "metadata": {},
   "source": [
    "and now you can check the script that is used to generate this archive"
   ]
  }
 ],
 "metadata": {
  "kernelspec": {
   "display_name": "SoS",
   "language": "sos",
   "name": "sos"
  },
  "language_info": {
   "codemirror_mode": "sos",
   "file_extension": ".sos",
   "mimetype": "text/x-sos",
   "name": "sos",
   "nbconvert_exporter": "sos_notebook.converter.SoS_Exporter",
   "pygments_lexer": "sos"
  },
  "sos": {
   "default_kernel": "SoS",
   "kernels": [
    [
     "Bash",
     "bash",
     "Bash",
     "#E6EEFF"
    ],
    [
     "R",
     "ir",
     "R",
     "#DCDCDA"
    ],
    [
     "SoS",
     "sos",
     "",
     ""
    ],
    [
     "javascript",
     "javascript",
     "",
     ""
    ],
    [
     "julia-0.6",
     "julia-0.6",
     "",
     ""
    ],
    [
     "python2",
     "python2",
     "",
     ""
    ],
    [
     "python3",
     "python3",
     "",
     ""
    ],
    [
     "sas",
     "sas",
     "",
     ""
    ]
   ],
   "panel": {
    "displayed": true,
    "height": 0,
    "style": "side"
   }
  },
  "toc": {
   "colors": {
    "hover_highlight": "#DAA520",
    "running_highlight": "#FF0000",
    "selected_highlight": "#FFD700"
   },
   "moveMenuLeft": true,
   "nav_menu": {
    "height": "117px",
    "width": "254px"
   },
   "navigate_menu": true,
   "number_sections": true,
   "sideBar": true,
   "threshold": 4,
   "toc_cell": false,
   "toc_section_display": "block",
   "toc_window_display": true
  }
 },
 "nbformat": 4,
 "nbformat_minor": 2
}

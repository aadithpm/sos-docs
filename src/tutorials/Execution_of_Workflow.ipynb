{
 "cells": [
  {
   "cell_type": "markdown",
   "metadata": {
    "kernel": "SoS"
   },
   "source": [
    "# Execution of SoS workflows"
   ]
  },
  {
   "cell_type": "markdown",
   "metadata": {
    "kernel": "SoS"
   },
   "source": [
    "The content of this chapter is largely applicable to batch mode but we represent it in Jupyter notebook for easy reproduction of results. If you are not familiar with Jupyter notebook, please refer to chapter [Notebook Interface](../documentation/Notebook_Interface.html) for details. For the impatience, the magics\n",
    "\n",
    "* `%sandgox` execute the cell in a temporary directory\n",
    "* `!cmd` execute shell command `cmd`\n",
    "* `%run` run the cell as if in command line with specified options\n",
    "* `%rerun` rerun the last executed script (cell content without magics)\n",
    "* `%set` set options that would be included in each `$run` command"
   ]
  },
  {
   "cell_type": "markdown",
   "metadata": {
    "kernel": "SoS"
   },
   "source": [
    "## logging level"
   ]
  },
  {
   "cell_type": "markdown",
   "metadata": {
    "kernel": "SoS"
   },
   "source": [
    "SoS uses a logging system to output all sorts of information during the execution of workflows. The amount of output can be controlled by logging level, which can be `error` (0), `warning` (1), `info` (2), `debug` (3), and `trace` (4). The default logging level for SoS is `info` in batch mode and `warning` in interactive mode.\n",
    "\n",
    "For example, logging at `info` level would produce message indicating the steps executed and input output files, but nothing but warning and errors at the `warning` level."
   ]
  },
  {
   "cell_type": "code",
   "execution_count": 1,
   "metadata": {
    "kernel": "SoS"
   },
   "outputs": [
    {
     "name": "stderr",
     "output_type": "stream",
     "text": [
      "\u001b[94mDEBUG\u001b[0m: \u001b[94mWorkflow default created with 4 sections: default_10, default_20, default_30, default_40\u001b[0m\n",
      "\u001b[94mDEBUG\u001b[0m: \u001b[94mExecuting \u001b[0m\u001b[32mdefault_10\u001b[0m\u001b[94m: \u001b[0m\n",
      "\u001b[94mDEBUG\u001b[0m: \u001b[94minput:    \u001b[0m\u001b[32m[]\u001b[0m\u001b[94m\u001b[0m\n",
      "\u001b[94mDEBUG\u001b[0m: \u001b[94moutput:   \u001b[0m\u001b[32m[]\u001b[0m\u001b[94m\u001b[0m\n",
      "\u001b[94mDEBUG\u001b[0m: \u001b[94mExecuting \u001b[0m\u001b[32mdefault_20\u001b[0m\u001b[94m: \u001b[0m\n",
      "\u001b[94mDEBUG\u001b[0m: \u001b[94minput:    \u001b[0m\u001b[32m[file_target('a.txt')]\u001b[0m\u001b[94m\u001b[0m\n",
      "\u001b[94mDEBUG\u001b[0m: \u001b[94moutput:   \u001b[0m\u001b[32m[]\u001b[0m\u001b[94m\u001b[0m\n",
      "\u001b[94mDEBUG\u001b[0m: \u001b[94mExecuting \u001b[0m\u001b[32mdefault_30\u001b[0m\u001b[94m: \u001b[0m\n",
      "\u001b[94mDEBUG\u001b[0m: \u001b[94minput:    \u001b[0m\u001b[32m[]\u001b[0m\u001b[94m\u001b[0m\n",
      "\u001b[94mDEBUG\u001b[0m: \u001b[94moutput:   \u001b[0m\u001b[32m[]\u001b[0m\u001b[94m\u001b[0m\n",
      "\u001b[94mDEBUG\u001b[0m: \u001b[94mExecuting \u001b[0m\u001b[32mdefault_40\u001b[0m\u001b[94m: \u001b[0m\n",
      "\u001b[94mDEBUG\u001b[0m: \u001b[94minput:    \u001b[0m\u001b[32m[]\u001b[0m\u001b[94m\u001b[0m\n",
      "\u001b[94mDEBUG\u001b[0m: \u001b[94moutput:   \u001b[0m\u001b[32m[]\u001b[0m\u001b[94m\u001b[0m\n",
      "\u001b[94mDEBUG\u001b[0m: \u001b[94mWorkflow default (ID=9ecd6f946ef5282b) is executed successfully.\u001b[0m\n"
     ]
    }
   ],
   "source": [
    "%sandbox\n",
    "!touch a.txt\n",
    "\n",
    "%run -v3\n",
    "[10]\n",
    "[20]\n",
    "input: 'a.txt'\n",
    "[30]\n",
    "[40]"
   ]
  },
  {
   "cell_type": "code",
   "execution_count": 2,
   "metadata": {
    "collapsed": true,
    "kernel": "SoS"
   },
   "outputs": [],
   "source": [
    "%sandbox\n",
    "!touch a.txt\n",
    "\n",
    "%run -v1\n",
    "[10]\n",
    "[20]\n",
    "input: 'a.txt'\n",
    "[30]\n",
    "[40]"
   ]
  },
  {
   "cell_type": "markdown",
   "metadata": {
    "kernel": "SoS"
   },
   "source": [
    "## `dryrun` mode"
   ]
  },
  {
   "cell_type": "markdown",
   "metadata": {
    "kernel": "SoS"
   },
   "source": [
    "The `dryrun` mode is used to check for syntax errors of a SoS script without actually executing any of the actions. It can be specified with option `-n`. For example, running the following script in dryrun mode would produce an error message"
   ]
  },
  {
   "cell_type": "code",
   "execution_count": 3,
   "metadata": {
    "kernel": "SoS"
   },
   "outputs": [
    {
     "name": "stderr",
     "output_type": "stream",
     "text": [
      "File contains parsing errors: \n",
      "\t[line  2]: [10, skip=False]\n",
      "sh:\n",
      "   echo \"I am command echo\"\n",
      "Invalid statements: SyntaxError('invalid syntax', ('<string>', 1, 10, '[10, skip=False]\\n'))\n"
     ]
    }
   ],
   "source": [
    "%sandbox --expect-error\n",
    "%run -n\n",
    "[10, skip=False]\n",
    "sh:\n",
    "   echo \"I am command echo\""
   ]
  },
  {
   "cell_type": "markdown",
   "metadata": {
    "kernel": "SoS"
   },
   "source": [
    "because the header of the step is wrong (should use `:` instead of `,`)."
   ]
  },
  {
   "cell_type": "markdown",
   "metadata": {
    "kernel": "SoS"
   },
   "source": [
    "The dryrun mode would print the commands in a script without actually executing them:"
   ]
  },
  {
   "cell_type": "code",
   "execution_count": 4,
   "metadata": {
    "kernel": "SoS"
   },
   "outputs": [
    {
     "name": "stdout",
     "output_type": "stream",
     "text": [
      "/bin/sh:\n",
      "echo \"I am command echo\"\n",
      "sleep 100000000\n",
      "\n",
      "\n"
     ]
    }
   ],
   "source": [
    "%run -n\n",
    "[10: skip=False]\n",
    "sh:\n",
    "   echo \"I am command echo\"\n",
    "   sleep 100000000"
   ]
  },
  {
   "cell_type": "markdown",
   "metadata": {
    "kernel": "SoS"
   },
   "source": [
    "## Change system $PATH"
   ]
  },
  {
   "cell_type": "markdown",
   "metadata": {
    "kernel": "SoS"
   },
   "source": [
    "There are cases where you would like to use a specific version of programs for your workflow but do not want to change the system `$PATH` because of its global effect. In this case you can prepend pathes to these executables to `$PATH` using option `-b`.\n",
    "\n",
    "The following example first cretes a executable `ls` in `tmp` with an `echo` command. Using the option `-b tmp`, the `tmp` directory is prefixed to the system `$PATH` before the workflow is executed. The consequence is that this fake `ls` supersedes the system `ls` when `ls` is called in `step_10` of the workflow."
   ]
  },
  {
   "cell_type": "code",
   "execution_count": 5,
   "metadata": {
    "kernel": "SoS"
   },
   "outputs": [
    {
     "name": "stdout",
     "output_type": "stream",
     "text": [
      "This is fake ls\r\n"
     ]
    }
   ],
   "source": [
    "%sandbox\n",
    "!mkdir tmp\n",
    "!echo \"#!/bin/bash\" > tmp/ls\n",
    "!echo \"echo This is fake ls\" >> tmp/ls\n",
    "!chmod +x tmp/ls\n",
    "\n",
    "%run -b tmp\n",
    "[10]\n",
    "sh:\n",
    "    ls"
   ]
  },
  {
   "cell_type": "markdown",
   "metadata": {
    "kernel": "SoS"
   },
   "source": [
    "The `-b` option has a default value `~/.sos/bin`, so any command under `~/.sos/bin` would be executed (before system command with the same name) even if the executables are not under system `$PATH`. This feature allows you to create commands that would only be used inside SoS-scripts, and more interestingly, allows you to create executable or install programs on-the-fly.\n",
    "\n",
    "For example, step 20 of the following workflow depends on an executable `lls` that is not a system executable."
   ]
  },
  {
   "cell_type": "code",
   "execution_count": 6,
   "metadata": {
    "collapsed": true,
    "kernel": "SoS"
   },
   "outputs": [],
   "source": [
    "%sandbox\n",
    "!rm -f ~/.sos/bin/lls\n",
    "\n",
    "[install_lls: provides=executable('lls')]\n",
    "run:\n",
    "    echo \"#!/bin/bash\" > ~/.sos/bin/lls\n",
    "    echo \"echo This is lls\" >> ~/.sos/bin/lls\n",
    "    chmod +x ~/.sos/bin/lls\n",
    "\n",
    "[20]\n",
    "depends: executable('lls')\n",
    "run:\n",
    "    lls"
   ]
  },
  {
   "cell_type": "markdown",
   "metadata": {
    "kernel": "SoS"
   },
   "source": [
    "because `lls` is created under `~/.sos/bin`, it would be immediately available to SoS after the `install_lls` step. This works for any program as long as you can create a symbolic link under `~/.sos/bin` after its installation."
   ]
  },
  {
   "cell_type": "markdown",
   "metadata": {
    "kernel": "SoS"
   },
   "source": [
    "You can always disable this behavior by setting option `-b` without value."
   ]
  },
  {
   "cell_type": "markdown",
   "metadata": {
    "kernel": "SoS"
   },
   "source": [
    "## Runtime signature"
   ]
  },
  {
   "cell_type": "markdown",
   "metadata": {
    "kernel": "SoS"
   },
   "source": [
    "One of the most annonying problems with the development and execution of workflows is that it can take very long times to execute then. What makes things worse is that we frequently need to re-run the workflow with different paremeters and even different tools -- it can be really time-consuming to re-execute the whole workflow repeatedly, but it is also very error-prone to repeat selected steps of a workflow. \n",
    "\n",
    "SoS addresses this problem by using <font color='red'>runtime signatures</font> to keep track of <font color='red'>execution units</font>, namely the input, output, and dependent targets, and related SoS variables of a piece of workflow. SoS tracks execution of statements at the step level for each [input group](../documentation/SoS_Step.html) and saves runtime signatures at a folder called `.sos` under the project directory. The runtime signatures are used to\n",
    "\n",
    "1. Avoid repeated execution of identical units, and\n",
    "2. Keep track of workflow related files for project management\n",
    "\n",
    "This tutorial focuses on the first usage. The second one would be described in detail in [Project Management](Project_Management.html)."
   ]
  },
  {
   "cell_type": "markdown",
   "metadata": {
    "kernel": "SoS"
   },
   "source": [
    "### `ignore` mode"
   ]
  },
  {
   "cell_type": "markdown",
   "metadata": {
    "kernel": "SoS"
   },
   "source": [
    "SoS workflows can be executed in batch mode and in interactive mode using the SoS kernel in Jupyter notebook or qtconsole. Because the SoS kernel is mostly used to execute short statements in SOS and other kernels, runtime signatures are by default set to `ignore` in interactive mode (and to `default` in batch mode)."
   ]
  },
  {
   "cell_type": "markdown",
   "metadata": {
    "kernel": "SoS"
   },
   "source": [
    "Let us create a temporary directory and execute a workflow that take a bit of time to execute. This is done in the default `ignore` signature mode of the Jupyter notebook"
   ]
  },
  {
   "cell_type": "code",
   "execution_count": 7,
   "metadata": {
    "collapsed": true,
    "kernel": "SoS"
   },
   "outputs": [],
   "source": [
    "%sandbox --dir tmp\n",
    "\n",
    "!rm -rf .sos/.runtime\n",
    "![ -d temp ] || mkdir temp"
   ]
  },
  {
   "cell_type": "code",
   "execution_count": 8,
   "metadata": {
    "kernel": "SoS"
   },
   "outputs": [
    {
     "name": "stdout",
     "output_type": "stream",
     "text": [
      "1000+0 records in\n",
      "1000+0 records out\n",
      "512000 bytes transferred in 0.041920 secs (12213687 bytes/sec)\n"
     ]
    }
   ],
   "source": [
    "%sandbox --dir tmp\n",
    "%run\n",
    "parameter: size=1000\n",
    "[10]\n",
    "output:  \"temp/result.txt\"\n",
    "sh: expand=True\n",
    "    dd if=/dev/urandom of={_output} count={size}\n",
    "\n",
    "[20]\n",
    "output:  'temp/size.txt'\n",
    "with open(_output[0], 'w') as sz:\n",
    "    sz.write(f\"{_input}: {os.path.getsize(_input[0])}\\n\")"
   ]
  },
  {
   "cell_type": "markdown",
   "metadata": {
    "kernel": "SoS"
   },
   "source": [
    "Now, if we re-run the last script, nothing changes and it takes a bit of time to execute the script."
   ]
  },
  {
   "cell_type": "code",
   "execution_count": 9,
   "metadata": {
    "kernel": "SoS"
   },
   "outputs": [
    {
     "name": "stderr",
     "output_type": "stream",
     "text": [
      "INFO: \u001b[32mdefault_10\u001b[0m (index=0) is \u001b[32mignored\u001b[0m due to saved signature\n",
      "INFO: \u001b[32mdefault_20\u001b[0m (index=0) is \u001b[32mignored\u001b[0m due to saved signature\n"
     ]
    }
   ],
   "source": [
    "%sandbox --dir tmp\n",
    "%rerun"
   ]
  },
  {
   "cell_type": "markdown",
   "metadata": {
    "kernel": "SoS"
   },
   "source": [
    "### `default` mode"
   ]
  },
  {
   "cell_type": "markdown",
   "metadata": {
    "kernel": "SoS"
   },
   "source": [
    "Now let us switch to `default` mode of signature by running the script with option `-s default`. When you run the script for the first time, it would execute normally and save runtime signature of the steps."
   ]
  },
  {
   "cell_type": "code",
   "execution_count": 10,
   "metadata": {
    "kernel": "SoS"
   },
   "outputs": [
    {
     "name": "stderr",
     "output_type": "stream",
     "text": [
      "INFO: \u001b[32mdefault_10\u001b[0m (index=0) is \u001b[32mignored\u001b[0m due to saved signature\n",
      "INFO: \u001b[32mdefault_20\u001b[0m (index=0) is \u001b[32mignored\u001b[0m due to saved signature\n"
     ]
    }
   ],
   "source": [
    "%sandbox --dir tmp\n",
    "%rerun -s default"
   ]
  },
  {
   "cell_type": "markdown",
   "metadata": {
    "kernel": "SoS"
   },
   "source": [
    "but both steps would be ignored. Here we use `-v2` to show the `ignored` message. This time we use magic `%set` to make option `-s default` persistent so that we do not have to specify it each time."
   ]
  },
  {
   "cell_type": "code",
   "execution_count": 11,
   "metadata": {
    "kernel": "SoS"
   },
   "outputs": [
    {
     "name": "stdout",
     "output_type": "stream",
     "text": [
      "Set sos options to \"-s default\"\n"
     ]
    },
    {
     "name": "stderr",
     "output_type": "stream",
     "text": [
      "INFO: \u001b[32mdefault_10\u001b[0m (index=0) is \u001b[32mignored\u001b[0m due to saved signature\n",
      "INFO: \u001b[32mdefault_20\u001b[0m (index=0) is \u001b[32mignored\u001b[0m due to saved signature\n"
     ]
    }
   ],
   "source": [
    "%sandbox --dir tmp\n",
    "%set -s default\n",
    "%rerun -v2"
   ]
  },
  {
   "cell_type": "markdown",
   "metadata": {
    "kernel": "SoS"
   },
   "source": [
    "However, if you use a different parameter (not the default `size=1000`), the steps would be rerun"
   ]
  },
  {
   "cell_type": "code",
   "execution_count": 12,
   "metadata": {
    "kernel": "SoS"
   },
   "outputs": [
    {
     "name": "stdout",
     "output_type": "stream",
     "text": [
      "2000+0 records in\n",
      "2000+0 records out\n",
      "1024000 bytes transferred in 0.085565 secs (11967497 bytes/sec)\n"
     ]
    }
   ],
   "source": [
    "%sandbox --dir tmp\n",
    "%rerun -v2 --size 2000"
   ]
  },
  {
   "cell_type": "markdown",
   "metadata": {
    "kernel": "SoS"
   },
   "source": [
    "The signature is at the step level so if you change the second step of the script, the first step would still be skipped. Note that the step is independent of the script executed so a step would be skipped even if its signature was saved by the execution of another workflow. The signature is clever enough to allow minor changes such as addition of spaces and comments."
   ]
  },
  {
   "cell_type": "code",
   "execution_count": 13,
   "metadata": {
    "kernel": "SoS"
   },
   "outputs": [
    {
     "name": "stderr",
     "output_type": "stream",
     "text": [
      "INFO: \u001b[32mdefault_10\u001b[0m (index=0) is \u001b[32mignored\u001b[0m due to saved signature\n"
     ]
    }
   ],
   "source": [
    "%sandbox --dir tmp\n",
    "%run --size 2000 -v2\n",
    "parameter: size=1000\n",
    "[10]\n",
    "output:  \"temp/result.txt\"\n",
    "# added comment\n",
    "sh: expand=True\n",
    "    dd if=/dev/urandom of={_output} count={size}\n",
    "\n",
    "[20]\n",
    "output:  'temp/size.txt'\n",
    "with open(_output[0], 'w') as sz:\n",
    "    sz.write(f\"Modified {_input}: {os.path.getsize(_input[0])}\\n\")"
   ]
  },
  {
   "cell_type": "markdown",
   "metadata": {
    "kernel": "SoS"
   },
   "source": [
    "### `assert` mode"
   ]
  },
  {
   "cell_type": "markdown",
   "metadata": {
    "kernel": "SoS"
   },
   "source": [
    "The `assert` mode is used to detect if anything has been changed after the execution of a workflow. For example,"
   ]
  },
  {
   "cell_type": "code",
   "execution_count": 14,
   "metadata": {
    "kernel": "SoS"
   },
   "outputs": [
    {
     "name": "stdout",
     "output_type": "stream",
     "text": [
      "Set sos options to \"-s assert\"\n"
     ]
    },
    {
     "name": "stderr",
     "output_type": "stream",
     "text": [
      "INFO: Step \u001b[32mdefault_10\u001b[0m (index=0) is \u001b[32mignored\u001b[0m with matching signature\n",
      "INFO: Step \u001b[32mdefault_20\u001b[0m (index=0) is \u001b[32mignored\u001b[0m with matching signature\n"
     ]
    }
   ],
   "source": [
    "%sandbox --dir tmp\n",
    "%set -s assert\n",
    "%rerun --size 2000 -v2"
   ]
  },
  {
   "cell_type": "markdown",
   "metadata": {
    "kernel": "SoS"
   },
   "source": [
    "Now if you change one of the output files, sos would fail with an error message."
   ]
  },
  {
   "cell_type": "code",
   "execution_count": 15,
   "metadata": {
    "kernel": "sos"
   },
   "outputs": [
    {
     "name": "stderr",
     "output_type": "stream",
     "text": [
      "Failed to process step output: \"temp/result.txt\" (Signature mismatch: File has changed temp/result.txt)\n"
     ]
    }
   ],
   "source": [
    "%sandbox --expect-error --dir tmp\n",
    "!echo \"aaa\" >> temp/result.txt\n",
    "%rerun --size 2000 -v2"
   ]
  },
  {
   "cell_type": "markdown",
   "metadata": {
    "kernel": "SoS"
   },
   "source": [
    "### `force` mode"
   ]
  },
  {
   "cell_type": "markdown",
   "metadata": {
    "kernel": "SoS"
   },
   "source": [
    "The `force` signature mode ignores existing signatures and re-run the workflow. This is needed when you would like to forcefully re-run all the steps to generate another set of output if outcome of some steps is random, or to re-run the workflow because of changes that is not tracked by SoS, for example after you have installed a new version of a program."
   ]
  },
  {
   "cell_type": "code",
   "execution_count": 16,
   "metadata": {
    "kernel": "SoS"
   },
   "outputs": [
    {
     "name": "stdout",
     "output_type": "stream",
     "text": [
      "Reset sos options from \"-s assert\" to \"\"\n",
      "2000+0 records in\n",
      "2000+0 records out\n",
      "1024000 bytes transferred in 0.088850 secs (11525039 bytes/sec)\n"
     ]
    }
   ],
   "source": [
    "%sandbox --dir tmp\n",
    "%set\n",
    "%rerun --size 2000 -s force"
   ]
  },
  {
   "cell_type": "markdown",
   "metadata": {
    "kernel": "SoS"
   },
   "source": [
    "### `build` mode"
   ]
  },
  {
   "cell_type": "markdown",
   "metadata": {
    "kernel": "SoS"
   },
   "source": [
    "The `build` mode is somewhat opposite to the `force` mode in that it creates (or overwrite existing signature if exists) with existing output files. It is useful, for example, if you are adding a step to a workflow that you have tested outside of SoS (without signature) but do not want to rerun it, or if for some reason you have lost your signature files and would like to reconstruct them from existing outputs."
   ]
  },
  {
   "cell_type": "code",
   "execution_count": 17,
   "metadata": {
    "kernel": "SoS"
   },
   "outputs": [
    {
     "name": "stderr",
     "output_type": "stream",
     "text": [
      "INFO: Step \u001b[32mdefault_10\u001b[0m (index=0) is \u001b[32mignored\u001b[0m with signature constructed\n",
      "INFO: Step \u001b[32mdefault_20\u001b[0m (index=0) is \u001b[32mignored\u001b[0m with signature constructed\n"
     ]
    }
   ],
   "source": [
    "%sandbox --dir tmp\n",
    "%rerun --size 2000 -s build -v2"
   ]
  },
  {
   "cell_type": "markdown",
   "metadata": {
    "collapsed": true,
    "kernel": "SoS"
   },
   "source": [
    "This mode can introduce erraneous files to the signatures because it does not check the validity of the incorporated files. For example, SoS would not complain if you change parameter and replace `temp/result.txt` with something else."
   ]
  },
  {
   "cell_type": "code",
   "execution_count": 18,
   "metadata": {
    "kernel": "SoS"
   },
   "outputs": [
    {
     "name": "stderr",
     "output_type": "stream",
     "text": [
      "INFO: Step \u001b[32mdefault_10\u001b[0m (index=0) is \u001b[32mignored\u001b[0m with signature constructed\n",
      "INFO: Step \u001b[32mdefault_20\u001b[0m (index=0) is \u001b[32mignored\u001b[0m with signature constructed\n"
     ]
    }
   ],
   "source": [
    "%sandbox --dir tmp\n",
    "!echo \"something else\" > temp/result.txt\n",
    "%rerun -s build -v2"
   ]
  },
  {
   "cell_type": "code",
   "execution_count": 19,
   "metadata": {
    "collapsed": true,
    "kernel": "SoS"
   },
   "outputs": [],
   "source": [
    "# cleanup\n",
    "!rm -rf tmp"
   ]
  },
  {
   "cell_type": "markdown",
   "metadata": {
    "kernel": "SoS"
   },
   "source": [
    "### Removal of large intermediate files"
   ]
  },
  {
   "cell_type": "markdown",
   "metadata": {
    "kernel": "SoS"
   },
   "source": [
    "SoS keep tracks of all intermediate files and will rerun steps only if any of the tracked files are removed or changed. However, it is often desired to remove some of the large non-essential intemediate files to reduce diskspace used by completed workflows, while allowing the workflow to be re-executed without these files. SoS provides a command\n",
    "\n",
    "```\n",
    "sos remove files --zap\n",
    "```\n",
    "\n",
    "to zap specified file, or for example\n",
    "\n",
    "```\n",
    "sos remove . --size +5G --zap\n",
    "```\n",
    "to zap all files larger than 5G. This command removes specified files but keeps a special `{file}.zapped` file with essential information (e.g. md5 signature, and size). SoS would consider a file exist when a `.zapped` file is present and will only regenerate the file if the actual file is needed for a later step."
   ]
  },
  {
   "cell_type": "markdown",
   "metadata": {
    "kernel": "SoS"
   },
   "source": [
    "For example, let us execute a workflow with output `temp/result.txt`, and `temp/size.txt`."
   ]
  },
  {
   "cell_type": "code",
   "execution_count": 20,
   "metadata": {
    "kernel": "SoS"
   },
   "outputs": [
    {
     "name": "stdout",
     "output_type": "stream",
     "text": [
      "2000+0 records in\n",
      "2000+0 records out\n",
      "1024000 bytes transferred in 0.082577 secs (12400549 bytes/sec)\n"
     ]
    }
   ],
   "source": [
    "%run -s force\n",
    "[10]\n",
    "output:  \"temp/result.txt\"\n",
    "# added comment\n",
    "sh: expand=True\n",
    "    dd if=/dev/urandom of={_output} count=2000\n",
    "\n",
    "[20]\n",
    "output:  'temp/size.txt'\n",
    "with open(_output[0], 'w') as sz:\n",
    "    sz.write(f\"Modified {_input}: {os.path.getsize(_input[0])}\\n\")"
   ]
  },
  {
   "cell_type": "markdown",
   "metadata": {
    "kernel": "SoS"
   },
   "source": [
    "and let us zap the intermediate file `temp/result.txt`,"
   ]
  },
  {
   "cell_type": "code",
   "execution_count": 21,
   "metadata": {
    "kernel": "SoS"
   },
   "outputs": [
    {
     "name": "stdout",
     "output_type": "stream",
     "text": [
      "INFO: No tracked file from 0 run are identified.\n",
      "INFO: 0 file zapped\n",
      "result.txt size.txt\n"
     ]
    }
   ],
   "source": [
    "!sos remove temp/result.txt --zap -y\n",
    "!ls temp"
   ]
  },
  {
   "cell_type": "markdown",
   "metadata": {
    "collapsed": true,
    "kernel": "SoS"
   },
   "source": [
    "As you can see, `temp/result.txt` is replaced with `temp/result.txt.zapped`. Now if you rerun the workflow"
   ]
  },
  {
   "cell_type": "code",
   "execution_count": 22,
   "metadata": {
    "kernel": "SoS"
   },
   "outputs": [
    {
     "name": "stderr",
     "output_type": "stream",
     "text": [
      "INFO: \u001b[32mdefault_10\u001b[0m (index=0) is \u001b[32mignored\u001b[0m due to saved signature\n",
      "INFO: \u001b[32mdefault_20\u001b[0m (index=0) is \u001b[32mignored\u001b[0m due to saved signature\n"
     ]
    }
   ],
   "source": [
    "%rerun -s default -v2"
   ]
  },
  {
   "cell_type": "markdown",
   "metadata": {
    "kernel": "SoS"
   },
   "source": [
    "## Summary Report"
   ]
  },
  {
   "cell_type": "markdown",
   "metadata": {
    "kernel": "SoS"
   },
   "source": [
    "Command `sos run` accepts an option `-p` (rePort) for generating a summary report after the completion of the workflow. This option accepts a name for the generated output but an name containing a timestamp would be generated automatically if it is the parameter is given without value.\n",
    "\n",
    "Using the same example but converting one of the steps as a task, a report named \"test.html\" would be generated with option `-p test.html`, showing summary of steps and tasks."
   ]
  },
  {
   "cell_type": "code",
   "execution_count": 3,
   "metadata": {
    "kernel": "SoS"
   },
   "outputs": [
    {
     "data": {
      "text/html": [
       "<div class=\"sos_hint\">1 task completed: <a onclick=\"task_info('0697bd1b33214b2d', 'mini')\">0697</a></div>"
      ]
     },
     "metadata": {},
     "output_type": "display_data"
    },
    {
     "name": "stdout",
     "output_type": "stream",
     "text": [
      "\n"
     ]
    },
    {
     "name": "stderr",
     "output_type": "stream",
     "text": [
      "INFO: Summary of workflow saved to test.html\n"
     ]
    },
    {
     "data": {
      "text/html": [
       "<div class=\"sos_hint\">> test.html (3.5 KiB):</div>"
      ],
      "text/plain": [
       "\n",
       "> test.html (3.5 KiB):"
      ]
     },
     "metadata": {},
     "output_type": "display_data"
    },
    {
     "data": {
      "text/html": [
       "<!DOCTYPE html>\n",
       "<html lang=\"en\">\n",
       "<head>\n",
       "    <title>default</title>\n",
       "    <style type=\"text/css\">\n",
       "    body {\n",
       "  font-family: \"Helvetica Neue\", Helvetica, Arial, sans-serif;\n",
       "  font-size: 13px;\n",
       "  line-height: 1.42857143;\n",
       "  color: #000;\n",
       "  background-color: #fff;\n",
       "}\n",
       "\n",
       ".code {\n",
       "  font-family: monotone;\n",
       "}\n",
       "h1, h2, h3, h4, h5 {\n",
       " font-family: \"Source Sans Pro\", sans-serif;\n",
       "}\n",
       ".h1:first-child,\n",
       ".h2:first-child,\n",
       ".h3:first-child,\n",
       ".h4:first-child,\n",
       ".h5:first-child,\n",
       ".h6:first-child {\n",
       " margin-top: 0.2em;\n",
       "}\n",
       "\n",
       ".h1 {\n",
       " color: #126dce;\n",
       " font-size: 220%;\n",
       " text-align: center;\n",
       " font-weight: lighter;\n",
       "}\n",
       ".h2 {\n",
       " text-align: left;\n",
       " font-size: 170%;\n",
       " color: #126dce;\n",
       " font-style: normal;\n",
       " font-weight: lighter;\n",
       "}\n",
       ".h3 {\n",
       " font-size: 150%;\n",
       " color: #126dce;\n",
       " font-weight: lighter;\n",
       " text-decoration: italic;\n",
       " font-style: normal;\n",
       "}\n",
       ".h4 {\n",
       " font-size: 120%;\n",
       " color: #126dce;\n",
       " font-weight: underline;\n",
       " font-style: normal;\n",
       "}\n",
       "\n",
       "\n",
       "table {\n",
       "  /* margin-left: auto; */\n",
       "  margin-right: auto;\n",
       "  border: none;\n",
       "  border-collapse: collapse;\n",
       "  border-spacing: 0;\n",
       "  color: black;\n",
       "  font-size: 12px;\n",
       "  table-layout: fixed;\n",
       "}\n",
       "tr,\n",
       "th,\n",
       "td {\n",
       "  text-align: right;\n",
       "  vertical-align: middle;\n",
       "  padding: 0.5em 0.5em;\n",
       "  line-height: normal;\n",
       "  white-space: normal;\n",
       "  max-width: none;\n",
       "  border: none;\n",
       "}\n",
       "td,\n",
       "th {\n",
       "  text-align: left;\n",
       "  vertical-align: middle;\n",
       "  padding: 4px;\n",
       "  display: table-cell;\n",
       "}\n",
       "th {\n",
       "  font-weight: bold;\n",
       "}\n",
       "* + table {\n",
       "  margin-top: 1em;\n",
       "}\n",
       "\n",
       "tbody tr:nth-child(odd) {\n",
       "  background: #f5f5f5;\n",
       "}\n",
       "tbody tr:hover {\n",
       "  background: rgba(66, 165, 245, 0.2);\n",
       "}\n",
       "\n",
       ".dag-image img {\n",
       "  max-width: 80%;\n",
       "}\n",
       "    </style>\n",
       "</head>\n",
       "<body>\n",
       "\n",
       "    <h1>SoS Workflow Report</h1>\n",
       "\n",
       "    <table class='info_table'>\n",
       "    \n",
       "    <tr>\n",
       "    <th> Worklow Name</th><td>default</td>\n",
       "    </tr>\n",
       "    <tr>\n",
       "    <th> Worklow Start Time</th><td>2018-06-04 17:19:15</td>\n",
       "    </tr>\n",
       "    <tr>\n",
       "    <th> Worklow End Time</th><td>2018-06-04 17:19:15</td>\n",
       "    </tr>\n",
       "    <tr>\n",
       "    <th> Worklow Duration</th><td>0 sec</td>\n",
       "    </tr>\n",
       "    </table>\n",
       "\n",
       "    \n",
       "    <h2> Steps </h1>\n",
       "    <table class='task_table'>\n",
       "    <tr>\n",
       "    <th>Step Name</th>\n",
       "    <th>Input</th>\n",
       "    <th>Output</th>\n",
       "    <th>Substeps</th>\n",
       "    <th>Tasks</th>\n",
       "    </tr>\n",
       "\n",
       "    \n",
       "        <tr>\n",
       "        <td>default_10</td>\n",
       "        <td></td>\n",
       "        <td>[temp/result.txt]</td>\n",
       "        <td>\n",
       "             \n",
       "            1 completed &nbsp;\n",
       "            \n",
       "            \n",
       "        </td>\n",
       "        <td>\n",
       "             \n",
       "            1 completed &nbsp;\n",
       "            \n",
       "            \n",
       "        </td>\n",
       "        </tr>\n",
       "    \n",
       "        <tr>\n",
       "        <td>default_20</td>\n",
       "        <td>[temp/result.txt]</td>\n",
       "        <td>[temp/size.txt]</td>\n",
       "        <td>\n",
       "             \n",
       "            1 completed &nbsp;\n",
       "            \n",
       "            \n",
       "        </td>\n",
       "        <td>\n",
       "            \n",
       "            \n",
       "        </td>\n",
       "        </tr>\n",
       "    \n",
       "    </table>\n",
       "    \n",
       "\n",
       "    \n",
       "    <h2> Tasks </h1>\n",
       "    <table class='task_table'>\n",
       "    <tr>\n",
       "    <th>Task ID</th>\n",
       "    <th>Status</th>\n",
       "    <th>Tags</th>\n",
       "    <th>Start Time</th>\n",
       "    <th>Duration</th>\n",
       "    <th>Peak CPU</th>\n",
       "    <th>Peak RAM</th>\n",
       "    </tr>\n",
       "    \n",
       "        <tr>\n",
       "        <td><code>0697bd1b33214b2d</code></td>\n",
       "        <td>Success</td>\n",
       "        <td><code>7d76648698185054 default_10</code></td>\n",
       "        <td>2018-06-04 17:19:14</td>\n",
       "        <td>0 sec</td>\n",
       "        <td>0.0%</td>\n",
       "        <td>61.4Mb</td>\n",
       "        </tr>\n",
       "    \n",
       "    </table>\n",
       "    \n",
       "\n",
       "    \n",
       "\n",
       "    <h2> Summary </h2>\n",
       "    <table class='summary_table'>\n",
       "    <tr>\n",
       "    \n",
       "    <tr>\n",
       "    <th>Completed steps</th><td>2</td>\n",
       "    </tr>\n",
       "    \n",
       "    \n",
       "\n",
       "    \n",
       "    <tr>\n",
       "    <th>Completed substeps</th><td>2</td>\n",
       "    </tr>\n",
       "    \n",
       "    \n",
       "\n",
       "    \n",
       "    <tr>\n",
       "    <th>Completed tasks</th><td>1</td>\n",
       "    </tr>\n",
       "    \n",
       "    \n",
       "    </table>\n",
       "</body>\n",
       "</html>\n",
       "\n"
      ],
      "text/plain": [
       "default body { font-family: \"Helvetica Neue\", Helvetica, Arial, sans-serif; font-size: 13px; line-height: 1.42857143; color: #000; background-color: #fff; } .code { font-family: monotone; } h1, h2, h3, h4, h5 { font-family: \"Source Sans Pro\", sans-serif; } .h1:first-child, .h2:first-child, .h3:first-child, .h4:first-child, .h5:first-child, .h6:first-child { margin-top: 0.2em; } .h1 { color: #126dce; font-size: 220%; text-align: center; font-weight: lighter; } .h2 { text-align: left; font-size: 170%; color: #126dce; font-style: normal; font-weight: lighter; } .h3 { font-size: 150%; color: #126dce; font-weight: lighter; text-decoration: italic; font-style: normal; } .h4 { font-size: 120%; color: #126dce; font-weight: underline; font-style: normal; } table { /* margin-left: auto; */ margin-right: auto; border: none; border-collapse: collapse; border-spacing: 0; color: black; font-size: 12px; table-layout: fixed; } tr, th, td { text-align: right; vertical-align: middle; padding: 0.5em 0.5em; line-height: normal; white-space: normal; max-width: none; border: none; } td, th { text-align: left; vertical-align: middle; padding: 4px; display: table-cell; } th { font-weight: bold; } * + table { margin-top: 1em; } tbody tr:nth-child(odd) { background: #f5f5f5; } tbody tr:hover { background: rgba(66, 165, 245, 0.2); } .dag-image img { max-width: 80%; } SoS Workflow Report Worklow Name default Worklow Start Time 2018-06-04 17:19:15 Worklow End Time 2018-06-04 17:19:15 Worklow Duration 0 sec Steps Step Name Input Output Substeps Tasks default_10 [temp/result.txt] 1 completed 1 completed default_20 [temp/result.txt] [temp/size.txt] 1 completed Tasks Task ID Status Tags Start Time Duration Peak CPU Peak RAM 0697bd1b33214b2d Success 7d76648698185054 default_10 2018-06-04 17:19:14 0 sec 0.0% 61.4Mb Summary Completed steps 2 Completed substeps 2 Completed tasks 1"
      ]
     },
     "metadata": {},
     "output_type": "display_data"
    }
   ],
   "source": [
    "%preview -n test.html\n",
    "%run -p test.html -s force\n",
    "parameter: size=1000\n",
    "[10]\n",
    "output:  \"temp/result.txt\"\n",
    "task:\n",
    "sh: expand=True\n",
    "    dd if=/dev/urandom of={_output} count={size}\n",
    "\n",
    "[20]\n",
    "output:  'temp/size.txt'\n",
    "with open(_output[0], 'w') as sz:\n",
    "    sz.write(f\"{_input}: {os.path.getsize(_input[0])}\\n\")"
   ]
  },
  {
   "cell_type": "markdown",
   "metadata": {
    "kernel": "SoS"
   },
   "source": [
    "A DAG would be generated and included in the report if option `-d` is specified."
   ]
  },
  {
   "cell_type": "code",
   "execution_count": 5,
   "metadata": {
    "kernel": "SoS"
   },
   "outputs": [
    {
     "data": {
      "text/html": [
       "<div class=\"sos_hint\">1 task completed: <a onclick=\"task_info('0697bd1b33214b2d', 'mini')\">0697</a></div>"
      ]
     },
     "metadata": {},
     "output_type": "display_data"
    },
    {
     "name": "stdout",
     "output_type": "stream",
     "text": [
      "\n"
     ]
    },
    {
     "name": "stderr",
     "output_type": "stream",
     "text": [
      "INFO: Summary of workflow saved to test_dag.html\n"
     ]
    },
    {
     "data": {
      "text/html": [
       "<div class=\"sos_hint\">> test_dag.html (54.7 KiB):</div>"
      ],
      "text/plain": [
       "\n",
       "> test_dag.html (54.7 KiB):"
      ]
     },
     "metadata": {},
     "output_type": "display_data"
    },
    {
     "data": {
      "text/html": [
       "<!DOCTYPE html>\n",
       "<html lang=\"en\">\n",
       "<head>\n",
       "    <title>default</title>\n",
       "    <style type=\"text/css\">\n",
       "    body {\n",
       "  font-family: \"Helvetica Neue\", Helvetica, Arial, sans-serif;\n",
       "  font-size: 13px;\n",
       "  line-height: 1.42857143;\n",
       "  color: #000;\n",
       "  background-color: #fff;\n",
       "}\n",
       "\n",
       ".code {\n",
       "  font-family: monotone;\n",
       "}\n",
       "h1, h2, h3, h4, h5 {\n",
       " font-family: \"Source Sans Pro\", sans-serif;\n",
       "}\n",
       ".h1:first-child,\n",
       ".h2:first-child,\n",
       ".h3:first-child,\n",
       ".h4:first-child,\n",
       ".h5:first-child,\n",
       ".h6:first-child {\n",
       " margin-top: 0.2em;\n",
       "}\n",
       "\n",
       ".h1 {\n",
       " color: #126dce;\n",
       " font-size: 220%;\n",
       " text-align: center;\n",
       " font-weight: lighter;\n",
       "}\n",
       ".h2 {\n",
       " text-align: left;\n",
       " font-size: 170%;\n",
       " color: #126dce;\n",
       " font-style: normal;\n",
       " font-weight: lighter;\n",
       "}\n",
       ".h3 {\n",
       " font-size: 150%;\n",
       " color: #126dce;\n",
       " font-weight: lighter;\n",
       " text-decoration: italic;\n",
       " font-style: normal;\n",
       "}\n",
       ".h4 {\n",
       " font-size: 120%;\n",
       " color: #126dce;\n",
       " font-weight: underline;\n",
       " font-style: normal;\n",
       "}\n",
       "\n",
       "\n",
       "table {\n",
       "  /* margin-left: auto; */\n",
       "  margin-right: auto;\n",
       "  border: none;\n",
       "  border-collapse: collapse;\n",
       "  border-spacing: 0;\n",
       "  color: black;\n",
       "  font-size: 12px;\n",
       "  table-layout: fixed;\n",
       "}\n",
       "tr,\n",
       "th,\n",
       "td {\n",
       "  text-align: right;\n",
       "  vertical-align: middle;\n",
       "  padding: 0.5em 0.5em;\n",
       "  line-height: normal;\n",
       "  white-space: normal;\n",
       "  max-width: none;\n",
       "  border: none;\n",
       "}\n",
       "td,\n",
       "th {\n",
       "  text-align: left;\n",
       "  vertical-align: middle;\n",
       "  padding: 4px;\n",
       "  display: table-cell;\n",
       "}\n",
       "th {\n",
       "  font-weight: bold;\n",
       "}\n",
       "* + table {\n",
       "  margin-top: 1em;\n",
       "}\n",
       "\n",
       "tbody tr:nth-child(odd) {\n",
       "  background: #f5f5f5;\n",
       "}\n",
       "tbody tr:hover {\n",
       "  background: rgba(66, 165, 245, 0.2);\n",
       "}\n",
       "\n",
       ".dag-image img {\n",
       "  max-width: 80%;\n",
       "}\n",
       "    </style>\n",
       "</head>\n",
       "<body>\n",
       "\n",
       "    <h1>SoS Workflow Report</h1>\n",
       "\n",
       "    <table class='info_table'>\n",
       "    \n",
       "    <tr>\n",
       "    <th> Worklow Name</th><td>default</td>\n",
       "    </tr>\n",
       "    <tr>\n",
       "    <th> Worklow Start Time</th><td>2018-06-04 17:21:16</td>\n",
       "    </tr>\n",
       "    <tr>\n",
       "    <th> Worklow End Time</th><td>2018-06-04 17:21:16</td>\n",
       "    </tr>\n",
       "    <tr>\n",
       "    <th> Worklow Duration</th><td>0 sec</td>\n",
       "    </tr>\n",
       "    </table>\n",
       "\n",
       "    \n",
       "    <h2> Steps </h1>\n",
       "    <table class='task_table'>\n",
       "    <tr>\n",
       "    <th>Step Name</th>\n",
       "    <th>Input</th>\n",
       "    <th>Output</th>\n",
       "    <th>Substeps</th>\n",
       "    <th>Tasks</th>\n",
       "    </tr>\n",
       "\n",
       "    \n",
       "        <tr>\n",
       "        <td>default_10</td>\n",
       "        <td></td>\n",
       "        <td>[temp/result.txt]</td>\n",
       "        <td>\n",
       "             \n",
       "            1 completed &nbsp;\n",
       "            \n",
       "            \n",
       "        </td>\n",
       "        <td>\n",
       "             \n",
       "            1 completed &nbsp;\n",
       "            \n",
       "            \n",
       "        </td>\n",
       "        </tr>\n",
       "    \n",
       "        <tr>\n",
       "        <td>default_20</td>\n",
       "        <td>[temp/result.txt]</td>\n",
       "        <td>[temp/size.txt]</td>\n",
       "        <td>\n",
       "             \n",
       "            1 completed &nbsp;\n",
       "            \n",
       "            \n",
       "        </td>\n",
       "        <td>\n",
       "            \n",
       "            \n",
       "        </td>\n",
       "        </tr>\n",
       "    \n",
       "    </table>\n",
       "    \n",
       "\n",
       "    \n",
       "    <h2> Tasks </h1>\n",
       "    <table class='task_table'>\n",
       "    <tr>\n",
       "    <th>Task ID</th>\n",
       "    <th>Status</th>\n",
       "    <th>Tags</th>\n",
       "    <th>Start Time</th>\n",
       "    <th>Duration</th>\n",
       "    <th>Peak CPU</th>\n",
       "    <th>Peak RAM</th>\n",
       "    </tr>\n",
       "    \n",
       "        <tr>\n",
       "        <td><code>0697bd1b33214b2d</code></td>\n",
       "        <td>Success</td>\n",
       "        <td><code>7d76648698185054 default_10</code></td>\n",
       "        <td>2018-06-04 17:21:15</td>\n",
       "        <td>0 sec</td>\n",
       "        <td>0.0%</td>\n",
       "        <td>61.5Mb</td>\n",
       "        </tr>\n",
       "    \n",
       "    </table>\n",
       "    \n",
       "\n",
       "    \n",
       "    <h2> Execution DAG </h2>\n",
       "\n",
       "    <img class=\"dag-image\" src=\"data:image/png;base64,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\">\n",
       "\n",
       "    \n",
       "\n",
       "    <h2> Summary </h2>\n",
       "    <table class='summary_table'>\n",
       "    <tr>\n",
       "    \n",
       "    <tr>\n",
       "    <th>Completed steps</th><td>2</td>\n",
       "    </tr>\n",
       "    \n",
       "    \n",
       "\n",
       "    \n",
       "    <tr>\n",
       "    <th>Completed substeps</th><td>2</td>\n",
       "    </tr>\n",
       "    \n",
       "    \n",
       "\n",
       "    \n",
       "    <tr>\n",
       "    <th>Completed tasks</th><td>1</td>\n",
       "    </tr>\n",
       "    \n",
       "    \n",
       "    </table>\n",
       "</body>\n",
       "</html>\n",
       "\n"
      ],
      "text/plain": [
       "default body { font-family: \"Helvetica Neue\", Helvetica, Arial, sans-serif; font-size: 13px; line-height: 1.42857143; color: #000; background-color: #fff; } .code { font-family: monotone; } h1, h2, h3, h4, h5 { font-family: \"Source Sans Pro\", sans-serif; } .h1:first-child, .h2:first-child, .h3:first-child, .h4:first-child, .h5:first-child, .h6:first-child { margin-top: 0.2em; } .h1 { color: #126dce; font-size: 220%; text-align: center; font-weight: lighter; } .h2 { text-align: left; font-size: 170%; color: #126dce; font-style: normal; font-weight: lighter; } .h3 { font-size: 150%; color: #126dce; font-weight: lighter; text-decoration: italic; font-style: normal; } .h4 { font-size: 120%; color: #126dce; font-weight: underline; font-style: normal; } table { /* margin-left: auto; */ margin-right: auto; border: none; border-collapse: collapse; border-spacing: 0; color: black; font-size: 12px; table-layout: fixed; } tr, th, td { text-align: right; vertical-align: middle; padding: 0.5em 0.5em; line-height: normal; white-space: normal; max-width: none; border: none; } td, th { text-align: left; vertical-align: middle; padding: 4px; display: table-cell; } th { font-weight: bold; } * + table { margin-top: 1em; } tbody tr:nth-child(odd) { background: #f5f5f5; } tbody tr:hover { background: rgba(66, 165, 245, 0.2); } .dag-image img { max-width: 80%; } SoS Workflow Report Worklow Name default Worklow Start Time 2018-06-04 17:21:16 Worklow End Time 2018-06-04 17:21:16 Worklow Duration 0 sec Steps Step Name Input Output Substeps Tasks default_10 [temp/result.txt] 1 completed 1 completed default_20 [temp/result.txt] [temp/size.txt] 1 completed Tasks Task ID Status Tags Start Time Duration Peak CPU Peak RAM 0697bd1b33214b2d Success 7d76648698185054 default_10 2018-06-04 17:21:15 0 sec 0.0% 61.5Mb Execution DAG Summary Completed steps 2 Completed substeps 2 Completed tasks 1"
      ]
     },
     "metadata": {},
     "output_type": "display_data"
    }
   ],
   "source": [
    "%preview -n test_dag.html\n",
    "%rerun -p test_dag.html -d -s force"
   ]
  }
 ],
 "metadata": {
  "anaconda-cloud": {},
  "kernelspec": {
   "display_name": "SoS",
   "language": "sos",
   "name": "sos"
  },
  "language_info": {
   "codemirror_mode": "sos",
   "file_extension": ".sos",
   "mimetype": "text/x-sos",
   "name": "sos",
   "nbconvert_exporter": "sos_notebook.converter.SoS_Exporter",
   "pygments_lexer": "sos"
  },
  "sos": {
   "celltoolbar": true,
   "default_kernel": "SoS",
   "kernels": [
    [
     "SoS",
     "sos",
     "",
     ""
    ],
    [
     "SoS",
     "sos",
     "",
     ""
    ]
   ],
   "panel": {
    "displayed": true,
    "height": 0,
    "style": "side"
   },
   "version": "0.9.14.6"
  },
  "toc": {
   "colors": {
    "hover_highlight": "#DAA520",
    "running_highlight": "#FF0000",
    "selected_highlight": "#FFD700"
   },
   "moveMenuLeft": true,
   "nav_menu": {
    "height": "111px",
    "width": "254px"
   },
   "navigate_menu": true,
   "number_sections": true,
   "sideBar": true,
   "threshold": 4,
   "toc_cell": false,
   "toc_section_display": "block",
   "toc_window_display": true
  }
 },
 "nbformat": 4,
 "nbformat_minor": 2
}

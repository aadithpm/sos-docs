{
 "cells": [
  {
   "cell_type": "markdown",
   "metadata": {},
   "source": [
    "# Testing SoS with our live server"
   ]
  },
  {
   "cell_type": "markdown",
   "metadata": {},
   "source": [
    "If you are curious on what SoS and SoS Notebook are, you can try it out by clicking [this link](http://128.135.144.117:8000/). This will lead you to our live SoS server from which you can click `New` -> `SoS` and create a SoS Notebook with all supported languages except for two proprietary ones (`MATLAB` and `SAS`)."
   ]
  },
  {
   "cell_type": "markdown",
   "metadata": {},
   "source": [
    "# Running SoS in Docker "
   ]
  },
  {
   "cell_type": "markdown",
   "metadata": {},
   "source": [
    "If you are using docker, you can run SoS directly using command\n",
    "\n",
    "```\n",
    "% docker run -it mdabioinfo/sos:latest /bin/bash\n",
    "```\n",
    "\n",
    "to enter a command prompt with sos command. More usefully, you can start a Jupyter server with [R](https://www.r-project.org/) and [IRkernel](https://github.com/IRkernel/IRkernel), Julia, Python, and SoS kernels, and many Python and R modules for data sciencists using command\n",
    "\n",
    "```\n",
    "% docker run -d -p 8888:8888 mdabioinfo/sos-notebook\n",
    "```\n",
    "\n",
    "After the docker is running in the background, you will need to find the name of the instance from the last column of the output of command `docker ps` and get the log message of the docker instance with `docker logs` followed by the name of your docker instance, e.g.\n",
    "\n",
    "```\n",
    "% docker logs eager_volhard\n",
    "Execute the command: jupyter notebook\n",
    "...\n",
    "    Copy/paste this URL into your browser when you connect for the first time,\n",
    "    to login with a token:\n",
    "        http://localhost:8888/?token=754a646651c82657725be887a1a2579ab69a702ba80ae4b3\n",
    "```\n",
    "\n",
    "You can then enter the URL in the log message to a browser and start working with a complete SoS environment. You could also set up the docker image to disable password as discussed [here](https://github.com/jupyter/docker-stacks/tree/master/scipy-notebook) but using a Jupyter server without password is strongly discouraged.\n",
    "\n",
    "You can even use this docker image for your daily data analysis if you make your local directory available to the Jupyter server using command \n",
    "\n",
    "```\n",
    "% docker run -d -p 8888:8888 -v $HOME:/home/jovyan/work  mdabioinfo/sos-notebook\n",
    "```\n",
    "\n",
    "This command mounts your home directory (`$HOME`) to directory `work` under the home directory of the docker machine but you can mount any local directory to the docker image. This container is hosted at [our public Jupyter\n",
    "server](http://ec2-34-192-184-206.compute-1.amazonaws.com:8000/) from which you can open our sample notebooks and create your own notebooks without installing anything.\n",
    "\n",
    "**Note**: If you get an error message stating `Bind for 0.0.0.0:8888 failed: port is already allocated`, your local port `8888` is already taken by some other processes and you can use options such as `-p 9999:8888` to use another local port. Using a different port actually allows you to execute multiple instances of the docker image."
   ]
  },
  {
   "cell_type": "markdown",
   "metadata": {},
   "source": [
    "# Installing SoS locally"
   ]
  },
  {
   "cell_type": "markdown",
   "metadata": {},
   "source": [
    "SoS supports Linux, Mac OSX, and Windows systems and requires [Python 3](https://www.python.org/) (version 3.5 or later) so you will need to install Python 3 if you do not have it installed locally. We recommend [anaconda Python](https://www.continuum.io/downloads) because it is a complete Python environment with many packages for scientific computing.\n",
    "\n",
    "<p>SoS consists of two major parts, the <code>SoS</code> workflow engine and <code>SoS Notebook</code>, each with a number of extension modules:\n",
    "\n",
    "<div class=\"container\">\n",
    "<div class=\"row\">\n",
    "<div class=\"col col-sm-6\">\n",
    "        <img src=\"doc/media/components.png\" style=\"width:100%;\">\n",
    " </div>\n",
    "  <div class=\"col col-sm-6\">\n",
    "  <h4> Core modules </h4>\n",
    "<ul>\n",
    "<li><a href=\"https://pypi.python.org/pypi/sos/\"><strong><code>sos</code></strong></a>: SoS workflow engine with its command line interface</li>\n",
    "<li><a href=\"https://pypi.python.org/pypi/sos-notebook/\"><strong><code>sos-notebook</code></strong></a>: Multi-language notebook based on <a href=\"http://jupyter.org/\">Jupyter</a></li>\n",
    "</ul>\n",
    "<h4> Task Engines </h4>\n",
    "<ul>\n",
    "<li><a href=\"https://pypi.python.org/pypi/sos-pbs/\"><strong><code>sos-pbs</code></strong></a>: PBS task engine for Torch, Slurm, IBM LSF etc</li>\n",
    "<li><a href=\"https://pypi.python.org/pypi/sos-rq/\"><strong><code>sos-rq</code></strong></a>: <a href=\"http://python-rq.org/\"><code>rq</code></a> task engine for SoS</li>\n",
    "</ul>\n",
    "<h4> Language Extensions </h4> \n",
    "<ul>\n",
    "<li><a href=\"https://pypi.python.org/pypi/sos-bash/\"><strong><code>sos-bash</code></strong></a>: SoS extension for shell scripts</li>\n",
    "<li><a href=\"https://pypi.python.org/pypi/sos-javascript/\"><strong><code>sos-javascript</code></strong></a>: SoS extension for <code>JavaScript</code> and <code>Node.js</code></li>\n",
    "<li><a href=\"https://pypi.python.org/pypi/sos-julia/\"><strong><code>sos-julia</code></strong></a>: SoS extension for <code>Julia</code></li>\n",
    "<li><a href=\"https://pypi.python.org/pypi/sos-matlab/\"><strong><code>sos-matlab</code></strong></a>: SoS extension for <code>MATLAB</code> and <code>Octave</code></li>\n",
    "<li><a href=\"https://pypi.python.org/pypi/sos-python/\"><strong><code>sos-python</code></strong></a>: SoS extension for <code>Python2</code> and <code>Python3</code></li>\n",
    "<li><a href=\"https://pypi.python.org/pypi/sos-r/\"><strong><code>sos-r</code></strong></a>: SoS extension for R</li>\n",
    "<li><a href=\"https://pypi.python.org/pypi/sos-sas/\"><strong><code>sos-sas</code></strong></a>: SoS extension for SAS</li>\n",
    "</ul>\n",
    "    </div>\n",
    "</div>\n",
    "</div>\n",
    "\n",
    "In addition to these packages,\n",
    "<ul>\n",
    "<li>Package <a href=\"https://pypi.python.org/pypi/sos-bioinfo/\"><strong><code>sos-bioinfo</code></strong></a> provides previewers for common bioinformatics formats, and</li>\n",
    "<li>Package <a href=\"https://pypi.python.org/pypi/sos-essentials/\"><strong><code>sos-essentials</code></strong></a> provides a shortcut to install <code>sos</code>, <code>sos-pbs</code>, <code>sos-notebook</code>, <code>sos-bash</code>, <code>sos-python</code>, and <code>sos-r</code> to set up a working SoS environment with Bash, Python and R.</li>\n",
    "</ul>\n"
   ]
  },
  {
   "cell_type": "markdown",
   "metadata": {},
   "source": [
    "After the installation of Python 3.6+, you can install <code>sos</code>, <code>sos-notebook</code>, and selected task engines and language modules with commands such as\n",
    "\n",
    "```\n",
    "% pip install sos sos-notebook\n",
    "```\n",
    "or\n",
    "```\n",
    "% pip install sos-essentials\n",
    "```\n",
    "to install `sos`, `sos-notebook`, `sos-pbs`, and language modules for `Bash`, `Python` and `R`.\n",
    "\n",
    "You do not need to install all modules on all systems. More specifically, you will need to install\n",
    "\n",
    "* **`sos`** to use the SoS workflow engine from command line.\n",
    "* **`sos`** on remote hosts that executes SoS tasks or workflows remotely.\n",
    "* **`sos-pbs`** on hosts that you plan to submit tasks to PBS (or Moab, LSF, ...) systems.\n",
    "* **`sos-notebook` and selected language modules** on hosts that will server a Jupyter server with SoS kernel (which can be a remote host). Note that it is almost trivial to install sos language modules but it can be troublesome to set up the kernels themselves. Please follow the instructions for each language below for details.\n",
    "\n",
    "After the installation of `sos-notebook`, you will need to register the sos kernel to Jupyter using command\n",
    "\n",
    "```\n",
    "% python -m sos_notebook.install\n",
    "```\n",
    "\n",
    "You should verify if the `sos` kernel is properly installed using command\n",
    "\n",
    "```\n",
    "% jupyter kernelspec list\n",
    "```\n",
    "\n",
    "Note that if you are using virtualenv, you might need to remove the `sos` kernel installed globally with command\n",
    "\n",
    "```\n",
    "% jupyter kernelspec remove sos\n",
    "% python -m sos_notebook.install\n",
    "```\n",
    "to install sos for the particular `python` interpreter of the virtual env.\n",
    "\n",
    "Finally, if you are using `vim`, you can use command\n",
    "```\n",
    "% python -m sos.install\n",
    "```\n",
    "to install a vim extension of sos to enable syntax highlighting when editing `.sos` files."
   ]
  },
  {
   "cell_type": "markdown",
   "metadata": {},
   "source": [
    "## Note for Windows Users"
   ]
  },
  {
   "cell_type": "markdown",
   "metadata": {},
   "source": [
    "Windows systems lack native support for some of the tools that SoS uses and it is generally more difficult to set up Jupyter kernels for different languages. We therefore do not recommend the use of SoS and SoS Notebook under windows for novice users.\n",
    "\n",
    "The best way to use SoS under windows is to use a Linux subsystem. You could enable [Linux subsystem for windows](https://msdn.microsoft.com/en-us/commandline/wsl/about) if you have a Windows 10 system with Developer Mode enabled, or use one of the Linux subsystems such as [Cygwin](https://www.cygwin.com/), [MinGW](http://www.mingw.org/), or [MSYS2](http://www.msys2.org/). We generally recommend the use of MSYS2 because of its pacman package manage system.\n",
    "\n",
    "To install MSYS2,\n",
    "\n",
    "* Install MSYS2 from [MSYS2 homepage](http://www.msys2.org/)\n",
    "* Start MSYS2, run\n",
    "  ```\n",
    "  $ pacman -S openssh rsync git\n",
    "  ```\n",
    "* Add `c:\\msys64\\usr\\bin` (adapt to your installation) to environment variable `$PATH` so that commands `rsync`, `rcp`, `ssh`, and `git` are available to sos.\n",
    "\n",
    "Note that\n",
    "* This configuration allows executing tasks generated from a windows localhost on remote Linux and Mac OSX hosts (task queues). **Remote execution on a windows host is not yet supported**. \n",
    "* Installation of `git` is optional especially if you already have [git for windows](https://git-scm.com/downloads) installed (which is also based on msys2).\n",
    "* You might want to install [ConEmu](https://conemu.github.io/) as a (much better) replacement for Windows command console.\n",
    "* You will need to set up `$HOME` properly to use ssh and public key authentication with other machines. [This page](https://github.com/valtron/llvm-stuff/wiki/Set-up-Windows-dev-environment-with-MSYS2) provides a nice summary of the steps.\n"
   ]
  },
  {
   "cell_type": "markdown",
   "metadata": {},
   "source": [
    "##  Supported Languages"
   ]
  },
  {
   "cell_type": "markdown",
   "metadata": {
    "kernel": "sos"
   },
   "source": [
    "### <img src=\"img/Bash.png\" style=\"width:32pt;height:32pt;margin-right:15pt;\">Bash"
   ]
  },
  {
   "cell_type": "markdown",
   "metadata": {},
   "source": [
    "Install Bash Jupyter kernel using command\n",
    "\n",
    "```\n",
    "pip install bash_kernel\n",
    "python -m bash_kernel.install\n",
    "```\n",
    "\n",
    "or following instructions from [Jupyter Bash Kernel homepage](https://github.com/takluyver/bash_kernel). You then need to install the `sos-bash` module to connect the kernel to SoS\n",
    "\n",
    "```\n",
    "pip install sos-bash\n",
    "```\n",
    "\n",
    "Understandably, it can be tricky to use bash under windows."
   ]
  },
  {
   "cell_type": "markdown",
   "metadata": {},
   "source": [
    "### <img src=\"img/JavaScript.png\" style=\"width:32pt;height:32pt;margin-right:15pt;\">JavaScript"
   ]
  },
  {
   "cell_type": "markdown",
   "metadata": {},
   "source": [
    "Although there appears to be several Jupyter Kernels, SoS is only tested with the [iJavaScript kernel](https://github.com/n-riesco/ijavascript). To use this kernel, you will need to have `node.js`, `npm` installed, run\n",
    "\n",
    "```\n",
    "npm install -g ijavascript\n",
    "```\n",
    "and then install the kernelspec with command\n",
    "```\n",
    "ijsinstall\n",
    "```\n",
    "\n",
    "After you verify that `ijavascript` is working (e.g. can start a new notebook with this kernel), you will need to install the `sos-javascript` module with command\n",
    "\n",
    "```\n",
    "pip install sos-javascript\n",
    "```"
   ]
  },
  {
   "cell_type": "markdown",
   "metadata": {},
   "source": [
    "### <img src=\"img/Julia.png\" style=\"width:32pt;height:32pt;margin-right:15pt;\">Julia"
   ]
  },
  {
   "cell_type": "markdown",
   "metadata": {},
   "source": [
    "After [installing Julia](https://julialang.org/downloads/), you will need to start Julia and install [iJulia](https://github.com/JuliaLang/IJulia.jl) and [feather.jl](https://github.com/JuliaStats/Feather.jl) with commands\n",
    "\n",
    "```\n",
    "ENV[\"JUPYTER\"] = \"/path/to/jupyter\"\n",
    "Pkg.add(\"IJulia\")\n",
    "Pkg.add(\"Feather\")\n",
    "Pkg.add(\"DataFrames\")\n",
    "Pkg.add(\"NamedArrays\")\n",
    "```\n",
    "\n",
    "You then need to install the `sos-julia` module with command\n",
    "\n",
    "```\n",
    "pip install sos-julia\n",
    "```\n",
    "to connect `ijulia` to `SoS`."
   ]
  },
  {
   "cell_type": "markdown",
   "metadata": {},
   "source": [
    "### <img src=\"img/Matlab.png\" style=\"width:32pt;height:32pt;margin-right:15pt;\"> MATLAB"
   ]
  },
  {
   "cell_type": "markdown",
   "metadata": {},
   "source": [
    "Because SoS requires Python 3.6 and only MATLAB version 2017b+ supports this version of Python, you will need to have a working version of MATLAB 2017b or later installed on your system. Then, you will need to install [matlab engine for Python](https://www.mathworks.com/help/matlab/matlab_external/install-the-matlab-engine-for-python.html), which \n",
    "typically involves the execution of command `python setup.py install`  under `matlabroot\\extern\\engines\\python`.\n",
    "\n",
    "Because of [a bug with usage statistics collection in MATLAB 2017b](https://mathworksservicerequest.secure.force.com/apex/cp_case_detail?cc=us&id=5000Z00000tgPA0), you will need to turn off MATLAB's usage statistics collection system before you use MATLAB 2017b with SoS. To resolve this issue, You can opt-out of usage statistics collection by using the following steps: On the `Home` tab, in the `Environment` section, click `Preferences`, then select `MATLAB` > `General` in the `Preferences` window. Uncheck the box `Improve MATLAB by sending user experience information to MathWorks`.\n",
    "\n",
    "There are two different implementations of MATLAB kernels for Jupyter [`matlab_kernel`](https://github.com/Calysto/matlab_kernel) and [imatlab](https://github.com/imatlab/imatlab). Because of [a bug with `matlab_kernel`](https://github.com/vatlab/sos-matlab/issues/2), you should install the `imatlab` kernel using the following commands\n",
    "\n",
    "```\n",
    "pip install imatlab\n",
    "python -mimatlab install --user\n",
    "```\n",
    "where the `--user` flag is not required if you have administrator rights to your Python installation. After the installation of `imatlab`, you can use command\n",
    "\n",
    "```\n",
    "jupyter kernelspec list\n",
    "```\n",
    "to verify if you have a working matlab kernel for Jupyter, and you can try to use the MATLAB kernel in Jupyter by itself (not through SoS).\n",
    "\n",
    "\n",
    "Finally, install the SoS language module for MATLAB with the following command\n",
    "```\n",
    "pip install sos-matlab\n",
    "```\n",
    "An option `--upgrade` can be used to make sure you have the latest version of `sos-matlab` installed.\n",
    "\n",
    "Because MATLAB is among the most difficult languages to configure, we have recorded a video [Using MATLAB with SoS Notebook](https://youtu.be/t9ohJZnuanc) with detailed instructions on how to configure SoS Notebook to work with MATLAB.\n",
    "\n",
    "<div class=\"container\">\n",
    "    <div class=\"row\">\n",
    "        <div class=\"col-sm-3\">\n",
    "              <div class=\"embed-responsive embed-responsive-16by9\">\n",
    "                   <iframe width=\"560\" height=\"315\" src=\"https://www.youtube.com/embed/t9ohJZnuanc\" frameborder=\"0\" allowfullscreen></iframe>\n",
    "              </div>\n",
    "        </div>\n",
    "    </div>\n",
    "</div>"
   ]
  },
  {
   "cell_type": "markdown",
   "metadata": {},
   "source": [
    "### <img src=\"img/Octave.png\" style=\"width:32pt;height:32pt;margin-right:15pt;\"> Octave"
   ]
  },
  {
   "cell_type": "markdown",
   "metadata": {},
   "source": [
    "After installing [GNU Octave](https://www.gnu.org/software/octave/), you can install the [octave kernel](https://github.com/Calysto/octave_kernel) with the following commands\n",
    "\n",
    "```\n",
    "pip install octave_kernel\n",
    "python -m octave_kernel install\n",
    "```\n",
    "\n",
    "For transferring Python's DataFrame and its equivalences in other languages, you will need to install the [dataframe](https://octave.sourceforge.io/dataframe/index.html) package using the following command:\n",
    "\n",
    "```\n",
    "octave --eval 'pkg install -forge dataframe'\n",
    "```\n",
    "\n",
    "You then need to install the `sos-matlab` module with command\n",
    "\n",
    "```\n",
    "pip install sos-matlab\n",
    "```\n",
    "to add Octave support to `SoS`."
   ]
  },
  {
   "cell_type": "markdown",
   "metadata": {},
   "source": [
    "### <img src=\"img/Python.png\" style=\"width:32pt;height:32pt;margin-right:15pt;\"> Python 2"
   ]
  },
  {
   "cell_type": "markdown",
   "metadata": {},
   "source": [
    "If you still have Python 2.x installed on your system and would like to use it with SoS, you will need to\n",
    "* Place executable `python2` or `python2.7` in your `$PATH` and use action `python2` for python2 scripts.\n",
    "* Install python2 kernel following directions [here](http://ipython.readthedocs.io/en/stable/install/kernel_install.html). Baiscally, if you have an existing installation of Python 2, you can run commands \n",
    "    ```bash\n",
    "    python2 -m pip install ipykernel\n",
    "    python2 -m ipykernel install --user\n",
    "    ```\n",
    "to install `ipykernel` kernel. Otherwise you can install python 2 and all needed packages in a separate conda environment using commands\n",
    "  ```bash\n",
    "  conda create -n ipykernel_py2 python=2 ipykernel\n",
    "  source activate ipykernel_py2    # On Windows, remove the word 'source'\n",
    "  python -m ipykernel install --user\n",
    "  ```  \n",
    "  \n",
    "You then need to install the `sos-python` module with command\n",
    "\n",
    "```\n",
    "pip install sos-python\n",
    "```\n",
    "to add Python2 support to `SoS`.  "
   ]
  },
  {
   "cell_type": "markdown",
   "metadata": {},
   "source": [
    "### <img src=\"img/Python3.png\" style=\"width:32pt;height:32pt;margin-right:15pt;\">Python 3"
   ]
  },
  {
   "cell_type": "markdown",
   "metadata": {},
   "source": [
    "Jupyter comes with working Python3 kernel so you only need to install the `sos-python` module with command\n",
    "\n",
    "```\n",
    "pip install sos-python\n",
    "```"
   ]
  },
  {
   "cell_type": "markdown",
   "metadata": {},
   "source": [
    "### <img src=\"img/R.png\" style=\"width:32pt;height:32pt;margin-right:15pt;\">R"
   ]
  },
  {
   "cell_type": "markdown",
   "metadata": {},
   "source": [
    "To use R with SoS, you will need to install the following components:\n",
    "\n",
    "* [R](https://www.r-project.org/) version 3.2 or later.\n",
    "* [IRKernel](https://github.com/IRkernel/IRkernel) kernel for Jupyter.\n",
    "* R [feather](https://cran.r-project.org/web/packages/feather/index.html) library.\n",
    "* Python [feather-format](https://github.com/wesm/feather) module, which can be installed with command\n",
    "   ```\n",
    "   conda install -c conda-forge feather-format\n",
    "   ```\n",
    "\n",
    "If you have a working R installation, you can install `irkernel` and `feather` in R with commands\n",
    "\n",
    "```\n",
    "install.packages('devtools')\n",
    "devtools::install_github('IRkernel/IRkernel')\n",
    "IRkernel::installspec()\n",
    "install.packages('feather')\n",
    "```\n",
    "\n",
    "If you are using anaconda and do not have R installed, you can install R and required packages using commands\n",
    "\n",
    "```\n",
    "conda install -c r r-essentials r-feather\n",
    "conda install -c conda-forge feather-format\n",
    "```\n",
    "\n",
    "although there have been several issues with recent versions of conda (e.g. ([libgcc_s_seh-1.dll under windows](https://github.com/ContinuumIO/anaconda-issues/issues/777) and [missing libreadline under mac](https://github.com/ContinuumIO/anaconda-issues/issues/6312)).\n",
    "\n",
    "After you verify that the `ir` kernel works (e.g. can start a notebook with `ir` kernel, you will need to install the `sos-r` module to enable `R` support with SoS:\n",
    "\n",
    "```\n",
    "pip install sos-r\n",
    "```"
   ]
  },
  {
   "cell_type": "markdown",
   "metadata": {},
   "source": [
    "### <img src=\"img/SAS.png\" style=\"width:32pt;height:32pt;margin-right:15pt;\">SAS"
   ]
  },
  {
   "cell_type": "markdown",
   "metadata": {},
   "source": [
    "With a local or remote SAS installation of version 9.4 or higher, you will first need to install `sas-kernel` [homepage](https://github.com/sassoftware/sas_kernel) and connect it to SAS. If you have a local installation of SAS, the config file (e.g. `~/anaconda3/lib/python3.6/site-packages/saspy/sascfg.py`) should look similar to\n",
    "\n",
    "```\n",
    "SAS_config_names=['default']\n",
    "SAS_config_options = {'lock_down': True}\n",
    "default  = {'saspath'  : '/usr/local/data/SASHome/SASFoundation/9.4/sas' }\n",
    "```\n",
    "\n",
    "For more complicated cases, you would have to configure your SAS connection as instructed in the [saspy manual](https://sassoftware.github.io/saspy/install.html).\n",
    "\n",
    "After installation of `sas-kernel`, you can check if the kernel is properly installed by checking the output of command\n",
    "\n",
    "```\n",
    "jupyter kernelspec list\n",
    "```\n",
    "\n",
    "and use the `SAS` kernel with jupyter notebook.\n",
    "\n",
    "You can then install the `sos-sas` module with command\n",
    "\n",
    "```\n",
    "pip install sos-sas\n",
    "```\n",
    "to enable `SAS` support in `SoS`.\n",
    "\n",
    "**Note:**\n",
    "1. You will need SAS version 9.4 or higher to use `sas_kernel`, and as of July 2017, `sas_kernel` only supports Linux system, so Windows and MacOSX systems are not supported.\n",
    "2. The SAS Unversity Edition runs a jupyter server inside a Virtual Machine without ssh access. Although you can use this version to learn SAS and Jupyter, it is not possible to use it with SoS."
   ]
  },
  {
   "cell_type": "markdown",
   "metadata": {},
   "source": [
    "### <img src=\"img/TypeScript.png\" style=\"width:32pt;height:32pt;margin-right:15pt;\">TypeScript"
   ]
  },
  {
   "cell_type": "markdown",
   "metadata": {},
   "source": [
    "After installing [`npm`](https://www.npmjs.com/), [`typescript`](https://www.typescriptlang.org/), you should install the [iTypeScript kernel](https://github.com/nearbydelta/itypescript) with commands\n",
    "\n",
    "```\n",
    "npm install -g itypescript\n",
    "its --ts-install=local\n",
    "```\n",
    "\n",
    "(use `sudo` if needed, check [iTypeScript website](https://github.com/nearbydelta/itypescript) for details).\n",
    "\n",
    "After you verify that `iTypeScript` is working (e.g. can start a new notebook with this kernel), you will need to install the `sos-javascript` module with command\n",
    "\n",
    "```\n",
    "pip install sos-javascript\n",
    "```\n",
    "\n",
    "to connect `iTypeScript` to `SoS`. Note that `typescript` and `javascript` share the same language module."
   ]
  },
  {
   "cell_type": "markdown",
   "metadata": {},
   "source": [
    "# Testing the Cutting-Edge\n",
    "\n",
    "You can get the latest git version of SoS with commands\n",
    "\n",
    "```\n",
    "% git clone https://github.com/vatlab/SoS.git\n",
    "% cd SoS\n",
    "% python setup.py install\n",
    "```\n",
    "\n",
    "You will need to do the same for other SoS modules such as `sos-notebook`, `sos-pbs` to test the latest version of these modules."
   ]
  },
  {
   "cell_type": "markdown",
   "metadata": {},
   "source": [
    "# Running SoS workflow engine"
   ]
  },
  {
   "cell_type": "markdown",
   "metadata": {},
   "source": [
    "SoS can be executed in batch mode from command line or in interactive mode in [Jupyter Notebook](http://jupyter.org/). \n",
    "\n",
    "SoS uses a subcommand system with subcommands such as `run`, `dryrun`, `convert`, `pack`, `unpack`. You can get a list of subcommands using command\n",
    "\n",
    "```\n",
    "% sos -h\n",
    "```\n",
    "\n",
    "and usage of a particular subcomand using commands such as\n",
    "\n",
    "```\n",
    "% sos run -h\n",
    "```\n",
    "\n",
    "You can execute a SoS script `myscript` (or `myscript.sos`) in batch mode using command\n",
    "\n",
    "```\n",
    "% sos run myscript [options]\n",
    "```\n",
    "\n",
    "directly using command\n",
    "\n",
    "```\n",
    "% myscript [options]\n",
    "```\n",
    "\n",
    "if the script has shebang line \n",
    "\n",
    "```\n",
    "#!/usr/bin/env sos-runner\n",
    "```\n",
    "\n",
    "Please refer to chapter [Command Line Interface](doc/documentation/User_Interface.html) of the SoS documentation for more details."
   ]
  },
  {
   "cell_type": "markdown",
   "metadata": {},
   "source": [
    "# Running SoS Notebook"
   ]
  },
  {
   "cell_type": "markdown",
   "metadata": {},
   "source": [
    "To use SoS Notebook with Jupyter, you need to first verify if the sos kernel is properly installed, by checking if `sos` is listed in the output of command\n",
    "\n",
    "```\n",
    "% jupyter kernelspec list\n",
    "```\n",
    "\n",
    "Then you can start a Jupyter server with commnad\n",
    "\n",
    "```\n",
    "% jupyter notebook\n",
    "```\n",
    "\n",
    "and choose `SoS` as the kernel for a new notebook. Please refer to [Notebook Interface](doc/documentation/Notebook_Interface.html) of the SoS documentation for details."
   ]
  },
  {
   "cell_type": "markdown",
   "metadata": {},
   "source": [
    "One of the advantages of using a Jupyter notebook is the ability to access the notebook remotely. For example, you can start a Jupyter server from your office computer and connect to it from you home (as long as there is no firewall that blocks the assigned port).\n",
    "\n",
    "[The jupyter documentation](http://jupyter-notebook.readthedocs.io/en/latest/public_server.html) provides detailed instructions on how to start a Jupyter notebook server that accepts external connection. Generally speaking, you should run command\n",
    "\n",
    "```python\n",
    ">>> from notebook.auth import passwd\n",
    ">>> passwd()\n",
    "```\n",
    "\n",
    "from a Python shell to get `sha` presentation of a password. Generate a new configuration file (`~/.jupyter/jupyter_notebook_config.py`) with command\n",
    "\n",
    "```\n",
    "jupyter notebook --generate-config\n",
    "```\n",
    "\n",
    "and modify it with lines such as\n",
    "\n",
    "```python\n",
    "c.NotebookApp.ip = '*'\n",
    "c.NotebookApp.password = u'sha1:...<your hashed password here>'\n",
    "c.NotebookApp.open_browser = False\n",
    "c.NotebookApp.port = 8888\n",
    "```\n",
    "\n",
    "Then, after you start your notebook server using command\n",
    "\n",
    "```\n",
    "% jupyter notebook\n",
    "```\n",
    "\n",
    "You should be able to access it remotely with URL\n",
    "\n",
    "```\n",
    "http://url-or-ip-of-notebook-server:8888/\n",
    "```"
   ]
  }
 ],
 "metadata": {
  "anaconda-cloud": {},
  "kernelspec": {
   "display_name": "SoS",
   "language": "sos",
   "name": "sos"
  },
  "language_info": {
   "codemirror_mode": "sos",
   "file_extension": ".sos",
   "mimetype": "text/x-sos",
   "name": "sos",
   "nbconvert_exporter": "sos_notebook.converter.SoS_Exporter",
   "pygments_lexer": "sos"
  },
  "sos": {
   "celltoolbar": true,
   "default_kernel": "SoS",
   "kernels": [],
   "panel": {
    "displayed": true,
    "height": 0,
    "style": "side"
   },
   "version": "0.9.12.7"
  },
  "toc": {
   "colors": {
    "hover_highlight": "#DAA520",
    "running_highlight": "#FF0000",
    "selected_highlight": "#FFD700"
   },
   "moveMenuLeft": true,
   "nav_menu": {
    "height": "128px",
    "width": "254px"
   },
   "navigate_menu": true,
   "number_sections": true,
   "sideBar": true,
   "threshold": 4,
   "toc_cell": false,
   "toc_section_display": "block",
   "toc_window_display": false
  }
 },
 "nbformat": 4,
 "nbformat_minor": 2
}

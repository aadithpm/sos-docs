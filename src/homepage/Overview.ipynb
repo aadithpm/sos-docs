{
 "cells": [
  {
   "cell_type": "markdown",
   "metadata": {
    "collapsed": true
   },
   "source": [
    "# A Multi-Language Notebook ... <small><a href=\"https://vatlab.github.io/blog/post/sos-notebook/\" target=\"_blank\"> <i class=\"fa fa-external-link\" aria-hidden=\"true\"></i></a></small>"
   ]
  },
  {
   "cell_type": "markdown",
   "metadata": {},
   "source": [
    "<div class=\"row\">\n",
    "    <a href=\"https://vatlab.github.io/blog/post/sos-notebook/\" target=\"_blank\"> <img width=\"100%\" style=\"max-width:800px;\" class=\"center-block\"  src=\"doc/media/SoS_Notebook.gif\">\n",
    "       </a>\n",
    "</div>\n"
   ]
  },
  {
   "cell_type": "markdown",
   "metadata": {},
   "source": [
    "# ... that Transforms ... <small> <a href=\"https://vatlab.github.io/blog/post/power-of-sos-plus-sos-notebook/\" target=\"_blank\"><i class=\"fa fa-external-link\" aria-hidden=\"true\"></i></a></small>"
   ]
  },
  {
   "cell_type": "markdown",
   "metadata": {},
   "source": [
    "<div class=\"row\">\n",
    "        <a href=\"https://vatlab.github.io/blog/post/power-of-sos-plus-sos-notebook/\" target=\"_blank\"><img width=\"100%\" style=\"max-width:800px;\" class=\"center-block\" src=\"doc/media/SoS_Workflow.gif\">\n",
    "        </a>\n",
    "    </div>\n"
   ]
  },
  {
   "cell_type": "markdown",
   "metadata": {},
   "source": [
    "# ... to a Workflow Engine <small> <a href=\"https://vatlab.github.io/blog/post/sos-workflow-engine/\" target=\"_blank\"><i class=\"fa fa-external-link\" aria-hidden=\"true\"></i></a></small>"
   ]
  },
  {
   "cell_type": "markdown",
   "metadata": {},
   "source": [
    "\n",
    "<div class=\"row\">\n",
    "        <a href=\"https://vatlab.github.io/blog/post/sos-workflow-engine/\" target=\"_blank\"><img width=\"100%\" style=\"max-width:800px;\" class=\"center-block\" src=\"doc/media/signature_and_task.gif\">\n",
    "        </a>\n",
    "    </div>"
   ]
  }
 ],
 "metadata": {
  "anaconda-cloud": {},
  "kernelspec": {
   "display_name": "SoS",
   "language": "sos",
   "name": "sos"
  },
  "language_info": {
   "codemirror_mode": "sos",
   "file_extension": ".sos",
   "mimetype": "text/x-sos",
   "name": "sos",
   "nbconvert_exporter": "sos_notebook.converter.SoS_Exporter",
   "pygments_lexer": "sos"
  },
  "sos": {
   "default_kernel": "SoS",
   "kernels": [
    [
     "Bash",
     "bash",
     "Bash",
     "#E6EEFF"
    ],
    [
     "Julia",
     "julia-0.6",
     "Julia",
     "#ebd8eb"
    ],
    [
     "MATLAB",
     "imatlab",
     "MATLAB",
     "#dff8fb"
    ],
    [
     "Python3",
     "python3",
     "Python3",
     "#FFE771"
    ],
    [
     "R",
     "ir",
     "R",
     "#DCDCDA"
    ],
    [
     "SoS",
     "sos",
     "",
     ""
    ]
   ],
   "panel": {
    "displayed": true,
    "height": 0,
    "style": "side"
   }
  },
  "toc": {
   "colors": {
    "hover_highlight": "#DAA520",
    "running_highlight": "#FF0000",
    "selected_highlight": "#FFD700"
   },
   "moveMenuLeft": true,
   "nav_menu": {
    "height": "45px",
    "width": "254px"
   },
   "navigate_menu": true,
   "number_sections": true,
   "sideBar": true,
   "threshold": 4,
   "toc_cell": false,
   "toc_section_display": "block",
   "toc_window_display": false
  }
 },
 "nbformat": 4,
 "nbformat_minor": 2
}

{
 "cells": [
  {
   "cell_type": "markdown",
   "metadata": {
    "collapsed": true
   },
   "source": [
    "# A Multi-Language Notebook ... <small><a href=\"https://vatlab.github.io/blog/post/sos-notebook/\" target=\"_blank\"> <i class=\"fas fa-external-link-alt\"></i></a></small>"
   ]
  },
  {
   "cell_type": "markdown",
   "metadata": {},
   "source": [
    "<div class=\"row\">\n",
    "    <a href=\"https://vatlab.github.io/blog/post/sos-notebook/\" target=\"_blank\"> <img width=\"100%\" style=\"max-width:800px;\" class=\"center-block\"  src=\"doc/media/SoS_Notebook.gif\">\n",
    "       </a>\n",
    "</div>\n"
   ]
  },
  {
   "cell_type": "markdown",
   "metadata": {},
   "source": [
    "# ... that Transforms ... <small> <a href=\"https://vatlab.github.io/blog/post/power-of-sos-plus-sos-notebook/\" target=\"_blank\"><i class=\"fas fa-external-link-alt\"></i></a></small>"
   ]
  },
  {
   "cell_type": "markdown",
   "metadata": {},
   "source": [
    "<div class=\"row\">\n",
    "        <a href=\"https://vatlab.github.io/blog/post/power-of-sos-plus-sos-notebook/\" target=\"_blank\"><img width=\"100%\" style=\"max-width:800px;\" class=\"center-block\" src=\"doc/media/SoS_Workflow.gif\">\n",
    "        </a>\n",
    "    </div>\n"
   ]
  },
  {
   "cell_type": "markdown",
   "metadata": {},
   "source": [
    "# ... to a Workflow Engine <small> <a href=\"https://vatlab.github.io/blog/post/sos-workflow-engine/\" target=\"_blank\"><i class=\"fas fa-external-link-alt\"></i></a></small>"
   ]
  },
  {
   "cell_type": "markdown",
   "metadata": {},
   "source": [
    "\n",
    "<div class=\"row\">\n",
    "        <a href=\"https://vatlab.github.io/blog/post/sos-workflow-engine/\" target=\"_blank\"><img width=\"100%\" style=\"max-width:800px;\" class=\"center-block\" src=\"doc/media/signature_and_task.gif\">\n",
    "        </a>\n",
    "    </div>"
   ]
  },
  {
   "cell_type": "markdown",
   "metadata": {},
   "source": [
    "<br>\n",
    "<p align=\"center\"><b>NOTE</b>: Notebooks for these three animations are available under directory examples in our <a href=\"http://128.135.144.117:8000/\" target=\"_blank\">live SoS server</a>.</p>"
   ]
  }
 ],
 "metadata": {
  "anaconda-cloud": {},
  "kernelspec": {
   "display_name": "SoS",
   "language": "sos",
   "name": "sos"
  },
  "language_info": {
   "codemirror_mode": "sos",
   "file_extension": ".sos",
   "mimetype": "text/x-sos",
   "name": "sos",
   "nbconvert_exporter": "sos_notebook.converter.SoS_Exporter",
   "pygments_lexer": "sos"
  },
  "sos": {
   "default_kernel": "SoS",
   "kernels": [],
   "panel": {
    "displayed": true,
    "height": 0,
    "style": "side"
   },
   "version": "0.9.12.7"
  },
  "toc": {
   "colors": {
    "hover_highlight": "#DAA520",
    "running_highlight": "#FF0000",
    "selected_highlight": "#FFD700"
   },
   "moveMenuLeft": true,
   "nav_menu": {
    "height": "45px",
    "width": "254px"
   },
   "navigate_menu": true,
   "number_sections": true,
   "sideBar": true,
   "threshold": 4,
   "toc_cell": false,
   "toc_section_display": "block",
   "toc_window_display": false
  }
 },
 "nbformat": 4,
 "nbformat_minor": 2
}

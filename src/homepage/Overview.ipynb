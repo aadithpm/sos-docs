{
 "cells": [
  {
   "cell_type": "markdown",
   "metadata": {
    "collapsed": true
   },
   "source": [
    "# A Multi-Language Notebook  <small><a href=\"https://vatlab.github.io/blog/post/sos-notebook/\" target=\"_blank\"> <i class=\"fa fa-external-link\" aria-hidden=\"true\"></i></a></small>"
   ]
  },
  {
   "cell_type": "markdown",
   "metadata": {},
   "source": [
    "<div class=\"container\">\n",
    "<div class=\"row\">\n",
    "  <div class=\"col col-md-12 col-xs-12 col-centered\">\n",
    "    <a href=\"https://vatlab.github.io/blog/post/sos-notebook/\" target=\"_blank\"> <img width=\"100%\" src=\"doc/media/SoS_Notebook.gif\">\n",
    "       </a>\n",
    "    </div>\n",
    "</div>\n",
    "</div>"
   ]
  },
  {
   "cell_type": "markdown",
   "metadata": {},
   "source": [
    "# that Transforms to <small> <a href=\"https://vatlab.github.io/blog/post/power-of-sos-plus-sos-notebook/\" target=\"_blank\"><i class=\"fa fa-external-link\" aria-hidden=\"true\"></i></a></small>\n",
    "\n",
    "\n",
    "<div class=\"container\">\n",
    "<div class=\"row\">\n",
    "<div class=\"col col-md-12 col-xs-12 col-centered\">\n",
    "        <a href=\"https://vatlab.github.io/blog/post/power-of-sos-plus-sos-notebook/\" target=\"_blank\"><img width=\"100%\" class=\"img-fluid\" src=\"doc/media/SoS_Workflow.gif\">\n",
    "        </a>\n",
    "        </div>\n",
    "</div>\n",
    "</div>"
   ]
  },
  {
   "cell_type": "markdown",
   "metadata": {},
   "source": [
    "# a Workflow Engine\n",
    "\n",
    "<div class=\"container\">\n",
    "<div class=\"row\">\n",
    "<div class=\"col col-md-12 col-xs-12 col-centered\">\n",
    "        <img width=\"100%\" src=\"doc/media/example_dag.png\">\n",
    "        </div>\n",
    "</div>\n",
    "</div>"
   ]
  }
 ],
 "metadata": {
  "anaconda-cloud": {},
  "kernelspec": {
   "display_name": "SoS",
   "language": "sos",
   "name": "sos"
  },
  "language_info": {
   "codemirror_mode": "sos",
   "file_extension": ".sos",
   "mimetype": "text/x-sos",
   "name": "sos",
   "nbconvert_exporter": "sos_notebook.converter.SoS_Exporter",
   "pygments_lexer": "sos"
  },
  "sos": {
   "default_kernel": "SoS",
   "kernels": [
    [
     "Bash",
     "bash",
     "Bash",
     "#E6EEFF"
    ],
    [
     "Julia",
     "julia-0.6",
     "Julia",
     "#ebd8eb"
    ],
    [
     "MATLAB",
     "imatlab",
     "MATLAB",
     "#dff8fb"
    ],
    [
     "Octave",
     "octave",
     "Octave",
     "#dff8fb"
    ],
    [
     "Python2",
     "python2",
     "Python2",
     "#FFE771"
    ],
    [
     "Python3",
     "python3",
     "Python3",
     "#FFE771"
    ],
    [
     "SoS",
     "sos",
     "",
     ""
    ],
    [
     "javascript",
     "javascript",
     "",
     ""
    ]
   ],
   "panel": {
    "displayed": true,
    "height": 0,
    "style": "side"
   }
  },
  "toc": {
   "colors": {
    "hover_highlight": "#DAA520",
    "running_highlight": "#FF0000",
    "selected_highlight": "#FFD700"
   },
   "moveMenuLeft": true,
   "nav_menu": {
    "height": "45px",
    "width": "254px"
   },
   "navigate_menu": true,
   "number_sections": true,
   "sideBar": true,
   "threshold": 4,
   "toc_cell": false,
   "toc_section_display": "block",
   "toc_window_display": false
  }
 },
 "nbformat": 4,
 "nbformat_minor": 2
}

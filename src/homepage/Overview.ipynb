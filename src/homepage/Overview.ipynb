{
 "cells": [
  {
   "cell_type": "markdown",
   "metadata": {
    "collapsed": true
   },
   "source": [
    "# A Multi-Language Notebook"
   ]
  },
  {
   "cell_type": "markdown",
   "metadata": {},
   "source": [
    "<div class=\"container\">\n",
    "<div class=\"row\">\n",
    "<div class=\"col col-sm-4\">\n",
    "<large>A <b>Multi-language Notebook</b> with\n",
    "    <ul>\n",
    "    <li>Multiple languages in a single [Jupyter](http://jupyter.org/) notebook</li>\n",
    "    <li>Magics to exchange variables among live kernels</li>\n",
    "    <li>Line-by-line execution of cells</li>\n",
    "    <li>Preview of variables and files</li>\n",
    "    <li>And more [@magics](https://vatlab.github.io/sos-docs/doc/documentation/SoS_Magics.html)</li>\n",
    "    </ul>\n",
    "</large>    \n",
    "        </div>\n",
    "  <div class=\"col col-sm-8\">\n",
    "    <td width=\"90%\" style=\"text-align: center;\">\n",
    "        <img width=\"100%\" src=\"doc/media/SoS_Notebook.gif\"></td>\n",
    "    </div>\n",
    "</div>\n",
    "</div>"
   ]
  },
  {
   "cell_type": "markdown",
   "metadata": {},
   "source": [
    "# that Transforms to\n",
    "\n",
    "<div class=\"container\">\n",
    "<div class=\"row\">\n",
    "<div class=\"col col-sm-8\">\n",
    "        <img width=\"90%\" src=\"doc/media/SoS_Workflow.gif\">\n",
    "        </div>\n",
    "  <div class=\"col col-sm-4\">\n",
    "  <large>\n",
    "  An <b>interactive environment</b> that supports the transition from\n",
    "    <ul>\n",
    "    <li>Interactive data analysis</li>\n",
    "    <li>to scratch workflow steps</li>\n",
    "    <li>to complete workflow</li>\n",
    "    </ul>\n",
    "    all in one environment\n",
    "    </large>\n",
    "    </div>\n",
    "</div>\n",
    "</div>"
   ]
  },
  {
   "cell_type": "markdown",
   "metadata": {},
   "source": [
    "# a Workflow Engine\n",
    "\n",
    "<div class=\"container\">\n",
    "<div class=\"row\">\n",
    "  <div class=\"col col-sm-4\">\n",
    "  <large>\n",
    "  A workflow engine that\n",
    "    <ul>\n",
    "    <li>extremely easy to read and write</li>\n",
    "    <li>in both forward and makefile styles</li>\n",
    "    <li>with runtime signature<li>\n",
    "    <li>and execute both locally and remotely</li>\n",
    "    </ul>\n",
    "   </large>\n",
    " </div>\n",
    "<div class=\"col col-sm-8\">\n",
    "        <img width=\"90%\" src=\"doc/media/example_dag.png\">\n",
    "        </div>\n",
    "</div>\n",
    "</div>"
   ]
  }
 ],
 "metadata": {
  "anaconda-cloud": {},
  "kernelspec": {
   "display_name": "SoS",
   "language": "sos",
   "name": "sos"
  },
  "language_info": {
   "codemirror_mode": "sos",
   "file_extension": ".sos",
   "mimetype": "text/x-sos",
   "name": "sos",
   "nbconvert_exporter": "sos_notebook.converter.SoS_Exporter",
   "pygments_lexer": "sos"
  },
  "sos": {
   "default_kernel": "SoS",
   "kernels": [
    [
     "Bash",
     "bash",
     "Bash",
     "#E6EEFF"
    ],
    [
     "JavaScript",
     "javascript",
     "JavaScript",
     "#c8e1ae"
    ],
    [
     "Julia",
     "julia-0.6",
     "Julia",
     "#ebd8eb"
    ],
    [
     "Python2",
     "python2",
     "Python2",
     "#FFE771"
    ],
    [
     "Python3",
     "python3",
     "Python3",
     "#FFE771"
    ],
    [
     "R",
     "ir",
     "R",
     "#DCDCDA"
    ],
    [
     "SoS",
     "sos",
     "",
     ""
    ],
    [
     "sas",
     "sas",
     "",
     ""
    ]
   ],
   "panel": {
    "displayed": true,
    "height": 0,
    "style": "side"
   }
  },
  "toc": {
   "colors": {
    "hover_highlight": "#DAA520",
    "running_highlight": "#FF0000",
    "selected_highlight": "#FFD700"
   },
   "moveMenuLeft": true,
   "nav_menu": {
    "height": "45px",
    "width": "254px"
   },
   "navigate_menu": true,
   "number_sections": true,
   "sideBar": true,
   "threshold": 4,
   "toc_cell": false,
   "toc_section_display": "block",
   "toc_window_display": false
  }
 },
 "nbformat": 4,
 "nbformat_minor": 2
}

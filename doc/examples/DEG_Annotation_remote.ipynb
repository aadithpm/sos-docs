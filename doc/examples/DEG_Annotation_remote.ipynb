{
 "cells": [
  {
   "cell_type": "code",
   "execution_count": 1,
   "metadata": {
    "collapsed": true,
    "kernel": "SoS"
   },
   "outputs": [],
   "source": [
    "import pandas as pd\n",
    "data = pd.read_excel('DEG_list.xlsx')\n",
    "data.to_csv('DEG_list.csv')"
   ]
  },
  {
   "cell_type": "code",
   "execution_count": null,
   "metadata": {
    "kernel": "SoS"
   },
   "outputs": [],
   "source": [
    "%run -q shark\n",
    "input: 'DEG_list.csv'\n",
    "output: 'annotated_DEG_list.csv'\n",
    "task:\n",
    "R: expand=True\n",
    "    data <- read.csv('{input}')\n",
    "    library(biomaRt)\n",
    "    ensembl <- useEnsembl(biomart='ensembl')\n",
    "    ensembl <- useEnsembl(biomart=\"ensembl\", dataset=\"mmusculus_gene_ensembl\")\n",
    "                     \n",
    "    hgnc <- getBM(attributes=c('ensembl_gene_id', 'external_gene_name'),\n",
    "        filters = 'ensembl_gene_id', values = data['ensembl_gene_id'], mart = ensembl)\n",
    "\n",
    "    annotated <- merge(data, hgnc, by='ensembl_gene_id', all.x=TRUE)\n",
    "    write.csv(annotated, '{output}', row.names=FALSE)"
   ]
  },
  {
   "cell_type": "code",
   "execution_count": 3,
   "metadata": {
    "collapsed": true,
    "kernel": "SoS"
   },
   "outputs": [],
   "source": [
    "annotated = pd.read_csv('annotated_DEG_list.csv')\n",
    "annotated = annotated.set_index('external_gene_name')\n",
    "annotated.sort_values(by='padj', inplace=True)\n",
    "annotated.to_excel('annotated_DEG_list.xlsx')"
   ]
  }
 ],
 "metadata": {
  "anaconda-cloud": {},
  "kernelspec": {
   "display_name": "SoS",
   "language": "sos",
   "name": "sos"
  },
  "language_info": {
   "codemirror_mode": "sos",
   "file_extension": ".sos",
   "mimetype": "text/x-sos",
   "name": "sos",
   "nbconvert_exporter": "sos_notebook.converter.SoS_Exporter",
   "pygments_lexer": "sos"
  },
  "sos": {
   "default_kernel": "SoS",
   "kernels": [
    [
     "SoS",
     "sos",
     "",
     ""
    ],
    [
     "Bash",
     "bash",
     "Bash",
     "#E6EEFF"
    ],
    [
     "R",
     "ir",
     "R",
     "#DCDCDA"
    ],
    [
     "javascript",
     "javascript",
     "",
     ""
    ],
    [
     "julia-0.6",
     "julia-0.6",
     "",
     ""
    ],
    [
     "python2",
     "python2",
     "",
     ""
    ],
    [
     "python3",
     "python3",
     "",
     ""
    ],
    [
     "sas",
     "sas",
     "",
     ""
    ]
   ],
   "panel": {
    "displayed": true,
    "height": 0,
    "style": "side"
   }
  }
 },
 "nbformat": 4,
 "nbformat_minor": 2
}

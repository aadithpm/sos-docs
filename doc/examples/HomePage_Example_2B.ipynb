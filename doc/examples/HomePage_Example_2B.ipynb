{
 "cells": [
  {
   "cell_type": "code",
   "execution_count": 1,
   "metadata": {
    "collapsed": true,
    "kernel": "SoS"
   },
   "outputs": [],
   "source": [
    "[global]\n",
    "fastq_file = 'raw_data.fastq'\n",
    "count_file = 'aligned.csv'\n",
    "output_pdf = 'myfigure.pdf'"
   ]
  },
  {
   "cell_type": "code",
   "execution_count": 2,
   "metadata": {
    "collapsed": true,
    "kernel": "SoS"
   },
   "outputs": [],
   "source": [
    "[analysis_10 (align)]\n",
    "sh:\n",
    "    echo count_reads --infile {fastq_file} --outfile {count_file}\n",
    "    echo \"A,B\" > {count_file}\n",
    "    echo \"1,2\" >> {count_file}"
   ]
  },
  {
   "cell_type": "code",
   "execution_count": 3,
   "metadata": {
    "collapsed": true,
    "kernel": "SoS"
   },
   "outputs": [],
   "source": [
    "[analysis_20 (plot)]\n",
    "R:\n",
    "    count.data <- read.csv('{count_file}')\n",
    "    pdf('{output_pdf}')\n",
    "    plot(count.data)\n",
    "    dev.off()"
   ]
  },
  {
   "cell_type": "code",
   "execution_count": 4,
   "metadata": {
    "kernel": "SoS"
   },
   "outputs": [
    {
     "data": {
      "text/html": [
       "<textarea id=\"preview_wf_308254\">#!/usr/bin/env sos-runner\n",
       "#fileformat=SOS1.0\n",
       "\n",
       "[global]\n",
       "fastq_file = 'raw_data.fastq'\n",
       "count_file = 'aligned.csv'\n",
       "output_pdf = 'myfigure.pdf'\n",
       "\n",
       "[analysis_10 (align)]\n",
       "sh:\n",
       "    echo count_reads --infile {fastq_file} --outfile {count_file}\n",
       "    echo \"A,B\" > {count_file}\n",
       "    echo \"1,2\" >> {count_file}\n",
       "\n",
       "[analysis_20 (plot)]\n",
       "R:\n",
       "    count.data <- read.csv('{count_file}')\n",
       "    pdf('{output_pdf}')\n",
       "    plot(count.data)\n",
       "    dev.off()\n",
       "\n",
       "</textarea>"
      ],
      "text/plain": [
       "#!/usr/bin/env sos-runner\n",
       "#fileformat=SOS1.0\n",
       "\n",
       "[global]\n",
       "fastq_file = 'raw_data.fastq'\n",
       "count_file = 'aligned.csv'\n",
       "output_pdf = 'myfigure.pdf'\n",
       "\n",
       "[analysis_10 (align)]\n",
       "sh:\n",
       "    echo count_reads --infile {fastq_file} --outfile {count_file}\n",
       "    echo \"A,B\" > {count_file}\n",
       "    echo \"1,2\" >> {count_file}\n",
       "\n",
       "[analysis_20 (plot)]\n",
       "R:\n",
       "    count.data <- read.csv('{count_file}')\n",
       "    pdf('{output_pdf}')\n",
       "    plot(count.data)\n",
       "    dev.off()\n",
       "\n"
      ]
     },
     "metadata": {},
     "output_type": "display_data"
    }
   ],
   "source": [
    "%preview --workflow -n"
   ]
  },
  {
   "cell_type": "code",
   "execution_count": 5,
   "metadata": {
    "kernel": "SoS"
   },
   "outputs": [
    {
     "name": "stdout",
     "output_type": "stream",
     "text": [
      "count_reads --infile {fastq_file} --outfile {count_file}\n",
      "null device \n",
      "          1 \n"
     ]
    }
   ],
   "source": [
    "%sosrun"
   ]
  },
  {
   "cell_type": "code",
   "execution_count": null,
   "metadata": {
    "collapsed": true
   },
   "outputs": [],
   "source": []
  }
 ],
 "metadata": {
  "kernelspec": {
   "display_name": "SoS",
   "language": "sos",
   "name": "sos"
  },
  "language_info": {
   "codemirror_mode": "sos",
   "file_extension": ".sos",
   "mimetype": "text/x-sos",
   "name": "sos",
   "nbconvert_exporter": "sos_notebook.converter.SoS_Exporter",
   "pygments_lexer": "sos"
  },
  "sos": {
   "default_kernel": "SoS",
   "kernels": [
    [
     "SoS",
     "sos",
     "",
     ""
    ],
    [
     "Bash",
     "bash",
     "Bash",
     "#E6EEFF"
    ],
    [
     "JavaScript",
     "javascript",
     "JavaScript",
     "#c8e1ae"
    ],
    [
     "Julia",
     "julia-0.6",
     "Julia",
     "#ebd8eb"
    ],
    [
     "Python2",
     "python2",
     "Python2",
     "#FFE771"
    ],
    [
     "Python3",
     "python3",
     "Python3",
     "#FFE771"
    ],
    [
     "R",
     "ir",
     "R",
     "#DCDCDA"
    ],
    [
     "TypeScript",
     "typescript",
     "TypeScript",
     "#c8e1ae"
    ],
    [
     "sas",
     "sas",
     "",
     ""
    ]
   ],
   "panel": {
    "displayed": true,
    "height": 0,
    "style": "side"
   }
  }
 },
 "nbformat": 4,
 "nbformat_minor": 2
}

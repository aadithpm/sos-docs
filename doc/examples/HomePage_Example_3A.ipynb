{
 "cells": [
  {
   "cell_type": "code",
   "execution_count": 1,
   "metadata": {
    "collapsed": true,
    "kernel": "SoS"
   },
   "outputs": [],
   "source": [
    "[100]\n",
    "parameter: num = 2\n",
    "\n",
    "input: for_each = {'i': range(num)}\n",
    "output: f'test_{i}.txt'\n",
    "\n",
    "sh: expand=True\n",
    "    sleep {5*i}\n",
    "    echo test_{i} > test_{i}.txt\n",
    "    echo \"Test_{i}.txt generated\""
   ]
  },
  {
   "cell_type": "code",
   "execution_count": 2,
   "metadata": {
    "kernel": "SoS"
   },
   "outputs": [
    {
     "name": "stdout",
     "output_type": "stream",
     "text": [
      "Test_0.txt generated\n",
      "Test_1.txt generated\n",
      "Test_2.txt generated\n"
     ]
    }
   ],
   "source": [
    "%sosrun --num 3"
   ]
  },
  {
   "cell_type": "code",
   "execution_count": null,
   "metadata": {
    "collapsed": true
   },
   "outputs": [],
   "source": []
  }
 ],
 "metadata": {
  "kernelspec": {
   "display_name": "SoS",
   "language": "sos",
   "name": "sos"
  },
  "language_info": {
   "codemirror_mode": "sos",
   "file_extension": ".sos",
   "mimetype": "text/x-sos",
   "name": "sos",
   "nbconvert_exporter": "sos_notebook.converter.SoS_Exporter",
   "pygments_lexer": "sos"
  },
  "sos": {
   "default_kernel": "SoS",
   "kernels": [
    [
     "Bash",
     "bash",
     "Bash",
     "#E6EEFF"
    ],
    [
     "JavaScript",
     "javascript",
     "JavaScript",
     "#c8e1ae"
    ],
    [
     "Julia",
     "julia-0.6",
     "Julia",
     "#ebd8eb"
    ],
    [
     "Python2",
     "python2",
     "Python2",
     "#FFE771"
    ],
    [
     "Python3",
     "python3",
     "Python3",
     "#FFE771"
    ],
    [
     "R",
     "ir",
     "R",
     "#DCDCDA"
    ],
    [
     "SoS",
     "sos",
     "",
     ""
    ],
    [
     "TypeScript",
     "typescript",
     "TypeScript",
     "#c8e1ae"
    ],
    [
     "sas",
     "sas",
     "",
     ""
    ]
   ],
   "panel": {
    "displayed": true,
    "height": 0,
    "style": "side"
   }
  }
 },
 "nbformat": 4,
 "nbformat_minor": 2
}

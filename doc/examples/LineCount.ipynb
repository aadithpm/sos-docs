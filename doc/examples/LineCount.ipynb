{
 "cells": [
  {
   "cell_type": "code",
   "execution_count": null,
   "metadata": {
    "kernel": "SoS",
    "scrolled": true
   },
   "outputs": [],
   "source": [
    "%run -s force\n",
    "[10: shared='line_count']\n",
    "input: '~/sos/src/sos/*.py', group_by=1\n",
    "task: shared='line_count', trunk_size=10\n",
    "\n",
    "import time\n",
    "time.sleep(2)\n",
    "with open(f\"{_input}\") as ifile:\n",
    "    line_count = ifile.read().count('\\n')\n",
    "\n",
    "[20]\n",
    "print(f\"Line count of files are: {line_count}\")\n",
    "print(f\"Total lines of SoS source code is: {sum(line_count.values())}\")"
   ]
  },
  {
   "cell_type": "code",
   "execution_count": 3,
   "metadata": {
    "kernel": "SoS"
   },
   "outputs": [
    {
     "name": "stdout",
     "output_type": "stream",
     "text": [
      "This generation has 1 babies\n",
      "This generation has 2 babies\n",
      "This generation has 3 babies\n",
      "This generation has 5 babies\n",
      "This generation has 8 babies\n",
      "This generation has 13 babies\n",
      "This generation has 21 babies\n",
      "This generation has 34 babies\n",
      "This generation has 55 babies\n",
      "This generation has 89 babies\n",
      "This generation has 144 babies\n",
      "This generation has 233 babies\n",
      "This generation has 377 babies\n",
      "This generation has 610 babies\n",
      "This generation has 987 babies\n"
     ]
    }
   ],
   "source": [
    "parents, babies = (1, 1)\n",
    "while babies < 1000:\n",
    "    print(f\"This generation has {babies} babies\")\n",
    "    parents, babies = (babies, parents + babies)"
   ]
  },
  {
   "cell_type": "code",
   "execution_count": null,
   "metadata": {
    "collapsed": true
   },
   "outputs": [],
   "source": []
  }
 ],
 "metadata": {
  "kernelspec": {
   "display_name": "SoS",
   "language": "sos",
   "name": "sos"
  },
  "language_info": {
   "codemirror_mode": "sos",
   "file_extension": ".sos",
   "mimetype": "text/x-sos",
   "name": "sos",
   "nbconvert_exporter": "sos_notebook.converter.SoS_Exporter",
   "pygments_lexer": "sos"
  },
  "sos": {
   "default_kernel": "SoS",
   "kernels": [
    [
     "SoS",
     "sos",
     "",
     ""
    ],
    [
     "Bash",
     "bash",
     "Bash",
     "#E6EEFF"
    ],
    [
     "R",
     "ir",
     "R",
     "#DCDCDA"
    ],
    [
     "javascript",
     "javascript",
     "",
     ""
    ],
    [
     "julia-0.6",
     "julia-0.6",
     "",
     ""
    ],
    [
     "python2",
     "python2",
     "",
     ""
    ],
    [
     "python3",
     "python3",
     "",
     ""
    ],
    [
     "sas",
     "sas",
     "",
     ""
    ]
   ],
   "panel": {
    "displayed": true,
    "height": 0,
    "style": "side"
   }
  }
 },
 "nbformat": 4,
 "nbformat_minor": 2
}

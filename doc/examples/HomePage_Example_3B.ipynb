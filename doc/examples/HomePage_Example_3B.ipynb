{
 "cells": [
  {
   "cell_type": "code",
   "execution_count": 1,
   "metadata": {
    "collapsed": true,
    "kernel": "SoS"
   },
   "outputs": [],
   "source": [
    "[100]\n",
    "parameter: num = 2\n",
    "\n",
    "input: for_each = {'i': range(num)}\n",
    "output: f'test_{i}.txt'\n",
    "\n",
    "task:\n",
    "sh: expand=True\n",
    "    sleep {5*i}\n",
    "    echo test_{i} > test_{i}.txt\n",
    "    echo \"Test_{i}.txt generated\""
   ]
  },
  {
   "cell_type": "code",
   "execution_count": 1,
   "metadata": {
    "kernel": "SoS"
   },
   "outputs": [
    {
     "data": {
      "text/html": [
       "<table id=\"table_mac_pro_87c6103417cf5aa9\" class=\"task_table\"><tr style=\"border: 0px\">\n",
       "                        <td style=\"border: 0px\">\n",
       "                        <i id=\"status_mac_pro_87c6103417cf5aa9\"\n",
       "                            class=\"fa fa-2x fa-fw fa-square-o\"\n",
       "                            onmouseover=\"$('#status_mac_pro_87c6103417cf5aa9').addClass('fa-stop task_hover').removeClass('fa-square-o')\"\n",
       "                            onmouseleave=\"$('#status_mac_pro_87c6103417cf5aa9').addClass('fa-square-o').removeClass('fa-stop task_hover')\"\n",
       "                            onclick=\"kill_task('87c6103417cf5aa9', 'mac_pro')\"\n",
       "                        ></i> </td>\n",
       "                        <td style=\"border:0px\"><a onclick=\"task_info('87c6103417cf5aa9', 'mac_pro')\"><pre>87c6103417cf5aa9</pre></a></td>\n",
       "                        <td style=\"border:0px\">&nbsp;</td>\n",
       "                        <td style=\"border:0px;text-align=right;\">\n",
       "                        <pre><time id=\"duration_mac_pro_87c6103417cf5aa9\" class=\"pending\" datetime=\"1520023616599.812\">0 sec</time></pre></td>\n",
       "                        </tr>\n",
       "                        </table>"
      ]
     },
     "metadata": {},
     "output_type": "display_data"
    },
    {
     "data": {
      "text/html": [
       "<table id=\"table_mac_pro_f63bb533fed2d90d\" class=\"task_table\"><tr style=\"border: 0px\">\n",
       "                        <td style=\"border: 0px\">\n",
       "                        <i id=\"status_mac_pro_f63bb533fed2d90d\"\n",
       "                            class=\"fa fa-2x fa-fw fa-square-o\"\n",
       "                            onmouseover=\"$('#status_mac_pro_f63bb533fed2d90d').addClass('fa-stop task_hover').removeClass('fa-square-o')\"\n",
       "                            onmouseleave=\"$('#status_mac_pro_f63bb533fed2d90d').addClass('fa-square-o').removeClass('fa-stop task_hover')\"\n",
       "                            onclick=\"kill_task('f63bb533fed2d90d', 'mac_pro')\"\n",
       "                        ></i> </td>\n",
       "                        <td style=\"border:0px\"><a onclick=\"task_info('f63bb533fed2d90d', 'mac_pro')\"><pre>f63bb533fed2d90d</pre></a></td>\n",
       "                        <td style=\"border:0px\">&nbsp;</td>\n",
       "                        <td style=\"border:0px;text-align=right;\">\n",
       "                        <pre><time id=\"duration_mac_pro_f63bb533fed2d90d\" class=\"pending\" datetime=\"1520023616610.504\">0 sec</time></pre></td>\n",
       "                        </tr>\n",
       "                        </table>"
      ]
     },
     "metadata": {},
     "output_type": "display_data"
    },
    {
     "data": {
      "text/html": [
       "<table id=\"table_mac_pro_fba6baba1b7ca760\" class=\"task_table\"><tr style=\"border: 0px\">\n",
       "                        <td style=\"border: 0px\">\n",
       "                        <i id=\"status_mac_pro_fba6baba1b7ca760\"\n",
       "                            class=\"fa fa-2x fa-fw fa-square-o\"\n",
       "                            onmouseover=\"$('#status_mac_pro_fba6baba1b7ca760').addClass('fa-stop task_hover').removeClass('fa-square-o')\"\n",
       "                            onmouseleave=\"$('#status_mac_pro_fba6baba1b7ca760').addClass('fa-square-o').removeClass('fa-stop task_hover')\"\n",
       "                            onclick=\"kill_task('fba6baba1b7ca760', 'mac_pro')\"\n",
       "                        ></i> </td>\n",
       "                        <td style=\"border:0px\"><a onclick=\"task_info('fba6baba1b7ca760', 'mac_pro')\"><pre>fba6baba1b7ca760</pre></a></td>\n",
       "                        <td style=\"border:0px\">&nbsp;</td>\n",
       "                        <td style=\"border:0px;text-align=right;\">\n",
       "                        <pre><time id=\"duration_mac_pro_fba6baba1b7ca760\" class=\"pending\" datetime=\"1520023616620.146\">0 sec</time></pre></td>\n",
       "                        </tr>\n",
       "                        </table>"
      ]
     },
     "metadata": {},
     "output_type": "display_data"
    }
   ],
   "source": [
    "%sosrun --num 3"
   ]
  },
  {
   "cell_type": "code",
   "execution_count": null,
   "metadata": {
    "collapsed": true
   },
   "outputs": [],
   "source": []
  }
 ],
 "metadata": {
  "kernelspec": {
   "display_name": "SoS",
   "language": "sos",
   "name": "sos"
  },
  "language_info": {
   "codemirror_mode": "sos",
   "file_extension": ".sos",
   "mimetype": "text/x-sos",
   "name": "sos",
   "nbconvert_exporter": "sos_notebook.converter.SoS_Exporter",
   "pygments_lexer": "sos"
  },
  "sos": {
   "default_kernel": "SoS",
   "kernels": [
    [
     "SoS",
     "sos",
     "",
     ""
    ],
    [
     "Bash",
     "bash",
     "Bash",
     "#E6EEFF"
    ],
    [
     "JavaScript",
     "javascript",
     "JavaScript",
     "#c8e1ae"
    ],
    [
     "Julia",
     "julia-0.6",
     "Julia",
     "#ebd8eb"
    ],
    [
     "Python2",
     "python2",
     "Python2",
     "#FFE771"
    ],
    [
     "Python3",
     "python3",
     "Python3",
     "#FFE771"
    ],
    [
     "R",
     "ir",
     "R",
     "#DCDCDA"
    ],
    [
     "TypeScript",
     "typescript",
     "TypeScript",
     "#c8e1ae"
    ],
    [
     "sas",
     "sas",
     "",
     ""
    ]
   ],
   "panel": {
    "displayed": true,
    "height": 0,
    "style": "side"
   }
  }
 },
 "nbformat": 4,
 "nbformat_minor": 2
}
